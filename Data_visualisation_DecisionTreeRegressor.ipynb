{
  "nbformat": 4,
  "nbformat_minor": 0,
  "metadata": {
    "colab": {
      "provenance": []
    },
    "kernelspec": {
      "name": "python3",
      "display_name": "Python 3"
    },
    "language_info": {
      "name": "python"
    }
  },
  "cells": [
    {
      "cell_type": "code",
      "execution_count": null,
      "metadata": {
        "id": "jdB-_SLJOTeG"
      },
      "outputs": [],
      "source": [
        "import pandas as pd\n",
        "import numpy as np\n",
        "import plotly.express as px"
      ]
    },
    {
      "cell_type": "code",
      "source": [
        "df = pd.read_csv('/content/drive/MyDrive/EWD/Projekt/CAR DETAILS FROM CAR DEKHO.csv')"
      ],
      "metadata": {
        "id": "XuUu21C1OdTp"
      },
      "execution_count": null,
      "outputs": []
    },
    {
      "cell_type": "code",
      "source": [
        "df.iloc[1541]"
      ],
      "metadata": {
        "colab": {
          "base_uri": "https://localhost:8080/"
        },
        "id": "WpLLj2ncUhGc",
        "outputId": "c58ae81f-6006-4962-cfc4-d282bc475bf7"
      },
      "execution_count": null,
      "outputs": [
        {
          "output_type": "execute_result",
          "data": {
            "text/plain": [
              "name             Force One EX\n",
              "year                     2014\n",
              "selling_price          346000\n",
              "km_driven               37516\n",
              "fuel                   Diesel\n",
              "seller_type        Individual\n",
              "transmission           Manual\n",
              "owner             First Owner\n",
              "Name: 1541, dtype: object"
            ]
          },
          "metadata": {},
          "execution_count": 70
        }
      ]
    },
    {
      "cell_type": "code",
      "source": [
        "pd.options.display.max_rows = 99"
      ],
      "metadata": {
        "id": "jw2uLubZS_is"
      },
      "execution_count": null,
      "outputs": []
    },
    {
      "cell_type": "code",
      "source": [
        "def producent(line):\n",
        "  split = line.split(' ')\n",
        "  return split[0]"
      ],
      "metadata": {
        "id": "J6WN_Tq_QK89"
      },
      "execution_count": null,
      "outputs": []
    },
    {
      "cell_type": "code",
      "source": [
        "df['producent'] = df['name'].apply(lambda x: producent(x))"
      ],
      "metadata": {
        "id": "5NDwqYcyQiNk"
      },
      "execution_count": null,
      "outputs": []
    },
    {
      "cell_type": "code",
      "source": [
        "df['name'] = df['producent']"
      ],
      "metadata": {
        "id": "Bid4fHZQO8TS"
      },
      "execution_count": null,
      "outputs": []
    },
    {
      "cell_type": "code",
      "source": [
        "df['name'].unique()"
      ],
      "metadata": {
        "colab": {
          "base_uri": "https://localhost:8080/"
        },
        "id": "wsEn0cHOO9B4",
        "outputId": "f8d20b85-3b42-41b0-9392-9e7c149cc603"
      },
      "execution_count": null,
      "outputs": [
        {
          "output_type": "execute_result",
          "data": {
            "text/plain": [
              "array(['Maruti', 'Hyundai', 'Datsun', 'Honda', 'Tata', 'Chevrolet',\n",
              "       'Toyota', 'Jaguar', 'Mercedes-Benz', 'Audi', 'Skoda', 'Jeep',\n",
              "       'BMW', 'Mahindra', 'Ford', 'Nissan', 'Renault', 'Fiat',\n",
              "       'Volkswagen', 'Volvo', 'Mitsubishi', 'Land', 'Daewoo', 'MG',\n",
              "       'Force', 'Isuzu', 'OpelCorsa', 'Ambassador', 'Kia'], dtype=object)"
            ]
          },
          "metadata": {},
          "execution_count": 75
        }
      ]
    },
    {
      "cell_type": "code",
      "source": [
        "df.head()"
      ],
      "metadata": {
        "colab": {
          "base_uri": "https://localhost:8080/",
          "height": 206
        },
        "id": "ZiQQWGLgPEAz",
        "outputId": "0170c49b-8b05-4b0d-818a-102059baa03f"
      },
      "execution_count": null,
      "outputs": [
        {
          "output_type": "execute_result",
          "data": {
            "text/plain": [
              "      name  year  selling_price  km_driven    fuel seller_type transmission  \\\n",
              "0   Maruti  2007          60000      70000  Petrol  Individual       Manual   \n",
              "1   Maruti  2007         135000      50000  Petrol  Individual       Manual   \n",
              "2  Hyundai  2012         600000     100000  Diesel  Individual       Manual   \n",
              "3   Datsun  2017         250000      46000  Petrol  Individual       Manual   \n",
              "4    Honda  2014         450000     141000  Diesel  Individual       Manual   \n",
              "\n",
              "          owner producent  \n",
              "0   First Owner    Maruti  \n",
              "1   First Owner    Maruti  \n",
              "2   First Owner   Hyundai  \n",
              "3   First Owner    Datsun  \n",
              "4  Second Owner     Honda  "
            ],
            "text/html": [
              "\n",
              "  <div id=\"df-9a6ca1d0-c0d3-4f69-81f1-47037b1bda50\">\n",
              "    <div class=\"colab-df-container\">\n",
              "      <div>\n",
              "<style scoped>\n",
              "    .dataframe tbody tr th:only-of-type {\n",
              "        vertical-align: middle;\n",
              "    }\n",
              "\n",
              "    .dataframe tbody tr th {\n",
              "        vertical-align: top;\n",
              "    }\n",
              "\n",
              "    .dataframe thead th {\n",
              "        text-align: right;\n",
              "    }\n",
              "</style>\n",
              "<table border=\"1\" class=\"dataframe\">\n",
              "  <thead>\n",
              "    <tr style=\"text-align: right;\">\n",
              "      <th></th>\n",
              "      <th>name</th>\n",
              "      <th>year</th>\n",
              "      <th>selling_price</th>\n",
              "      <th>km_driven</th>\n",
              "      <th>fuel</th>\n",
              "      <th>seller_type</th>\n",
              "      <th>transmission</th>\n",
              "      <th>owner</th>\n",
              "      <th>producent</th>\n",
              "    </tr>\n",
              "  </thead>\n",
              "  <tbody>\n",
              "    <tr>\n",
              "      <th>0</th>\n",
              "      <td>Maruti</td>\n",
              "      <td>2007</td>\n",
              "      <td>60000</td>\n",
              "      <td>70000</td>\n",
              "      <td>Petrol</td>\n",
              "      <td>Individual</td>\n",
              "      <td>Manual</td>\n",
              "      <td>First Owner</td>\n",
              "      <td>Maruti</td>\n",
              "    </tr>\n",
              "    <tr>\n",
              "      <th>1</th>\n",
              "      <td>Maruti</td>\n",
              "      <td>2007</td>\n",
              "      <td>135000</td>\n",
              "      <td>50000</td>\n",
              "      <td>Petrol</td>\n",
              "      <td>Individual</td>\n",
              "      <td>Manual</td>\n",
              "      <td>First Owner</td>\n",
              "      <td>Maruti</td>\n",
              "    </tr>\n",
              "    <tr>\n",
              "      <th>2</th>\n",
              "      <td>Hyundai</td>\n",
              "      <td>2012</td>\n",
              "      <td>600000</td>\n",
              "      <td>100000</td>\n",
              "      <td>Diesel</td>\n",
              "      <td>Individual</td>\n",
              "      <td>Manual</td>\n",
              "      <td>First Owner</td>\n",
              "      <td>Hyundai</td>\n",
              "    </tr>\n",
              "    <tr>\n",
              "      <th>3</th>\n",
              "      <td>Datsun</td>\n",
              "      <td>2017</td>\n",
              "      <td>250000</td>\n",
              "      <td>46000</td>\n",
              "      <td>Petrol</td>\n",
              "      <td>Individual</td>\n",
              "      <td>Manual</td>\n",
              "      <td>First Owner</td>\n",
              "      <td>Datsun</td>\n",
              "    </tr>\n",
              "    <tr>\n",
              "      <th>4</th>\n",
              "      <td>Honda</td>\n",
              "      <td>2014</td>\n",
              "      <td>450000</td>\n",
              "      <td>141000</td>\n",
              "      <td>Diesel</td>\n",
              "      <td>Individual</td>\n",
              "      <td>Manual</td>\n",
              "      <td>Second Owner</td>\n",
              "      <td>Honda</td>\n",
              "    </tr>\n",
              "  </tbody>\n",
              "</table>\n",
              "</div>\n",
              "      <button class=\"colab-df-convert\" onclick=\"convertToInteractive('df-9a6ca1d0-c0d3-4f69-81f1-47037b1bda50')\"\n",
              "              title=\"Convert this dataframe to an interactive table.\"\n",
              "              style=\"display:none;\">\n",
              "        \n",
              "  <svg xmlns=\"http://www.w3.org/2000/svg\" height=\"24px\"viewBox=\"0 0 24 24\"\n",
              "       width=\"24px\">\n",
              "    <path d=\"M0 0h24v24H0V0z\" fill=\"none\"/>\n",
              "    <path d=\"M18.56 5.44l.94 2.06.94-2.06 2.06-.94-2.06-.94-.94-2.06-.94 2.06-2.06.94zm-11 1L8.5 8.5l.94-2.06 2.06-.94-2.06-.94L8.5 2.5l-.94 2.06-2.06.94zm10 10l.94 2.06.94-2.06 2.06-.94-2.06-.94-.94-2.06-.94 2.06-2.06.94z\"/><path d=\"M17.41 7.96l-1.37-1.37c-.4-.4-.92-.59-1.43-.59-.52 0-1.04.2-1.43.59L10.3 9.45l-7.72 7.72c-.78.78-.78 2.05 0 2.83L4 21.41c.39.39.9.59 1.41.59.51 0 1.02-.2 1.41-.59l7.78-7.78 2.81-2.81c.8-.78.8-2.07 0-2.86zM5.41 20L4 18.59l7.72-7.72 1.47 1.35L5.41 20z\"/>\n",
              "  </svg>\n",
              "      </button>\n",
              "      \n",
              "  <style>\n",
              "    .colab-df-container {\n",
              "      display:flex;\n",
              "      flex-wrap:wrap;\n",
              "      gap: 12px;\n",
              "    }\n",
              "\n",
              "    .colab-df-convert {\n",
              "      background-color: #E8F0FE;\n",
              "      border: none;\n",
              "      border-radius: 50%;\n",
              "      cursor: pointer;\n",
              "      display: none;\n",
              "      fill: #1967D2;\n",
              "      height: 32px;\n",
              "      padding: 0 0 0 0;\n",
              "      width: 32px;\n",
              "    }\n",
              "\n",
              "    .colab-df-convert:hover {\n",
              "      background-color: #E2EBFA;\n",
              "      box-shadow: 0px 1px 2px rgba(60, 64, 67, 0.3), 0px 1px 3px 1px rgba(60, 64, 67, 0.15);\n",
              "      fill: #174EA6;\n",
              "    }\n",
              "\n",
              "    [theme=dark] .colab-df-convert {\n",
              "      background-color: #3B4455;\n",
              "      fill: #D2E3FC;\n",
              "    }\n",
              "\n",
              "    [theme=dark] .colab-df-convert:hover {\n",
              "      background-color: #434B5C;\n",
              "      box-shadow: 0px 1px 3px 1px rgba(0, 0, 0, 0.15);\n",
              "      filter: drop-shadow(0px 1px 2px rgba(0, 0, 0, 0.3));\n",
              "      fill: #FFFFFF;\n",
              "    }\n",
              "  </style>\n",
              "\n",
              "      <script>\n",
              "        const buttonEl =\n",
              "          document.querySelector('#df-9a6ca1d0-c0d3-4f69-81f1-47037b1bda50 button.colab-df-convert');\n",
              "        buttonEl.style.display =\n",
              "          google.colab.kernel.accessAllowed ? 'block' : 'none';\n",
              "\n",
              "        async function convertToInteractive(key) {\n",
              "          const element = document.querySelector('#df-9a6ca1d0-c0d3-4f69-81f1-47037b1bda50');\n",
              "          const dataTable =\n",
              "            await google.colab.kernel.invokeFunction('convertToInteractive',\n",
              "                                                     [key], {});\n",
              "          if (!dataTable) return;\n",
              "\n",
              "          const docLinkHtml = 'Like what you see? Visit the ' +\n",
              "            '<a target=\"_blank\" href=https://colab.research.google.com/notebooks/data_table.ipynb>data table notebook</a>'\n",
              "            + ' to learn more about interactive tables.';\n",
              "          element.innerHTML = '';\n",
              "          dataTable['output_type'] = 'display_data';\n",
              "          await google.colab.output.renderOutput(dataTable, element);\n",
              "          const docLink = document.createElement('div');\n",
              "          docLink.innerHTML = docLinkHtml;\n",
              "          element.appendChild(docLink);\n",
              "        }\n",
              "      </script>\n",
              "    </div>\n",
              "  </div>\n",
              "  "
            ]
          },
          "metadata": {},
          "execution_count": 76
        }
      ]
    },
    {
      "cell_type": "code",
      "source": [
        "df = df.drop(columns='producent')"
      ],
      "metadata": {
        "id": "RkBZctsUTJqq"
      },
      "execution_count": null,
      "outputs": []
    },
    {
      "cell_type": "code",
      "source": [
        "df"
      ],
      "metadata": {
        "colab": {
          "base_uri": "https://localhost:8080/",
          "height": 424
        },
        "id": "-cE146W-TSNy",
        "outputId": "4134ab91-d48a-4b3d-e34c-06aa81817e80"
      },
      "execution_count": null,
      "outputs": [
        {
          "output_type": "execute_result",
          "data": {
            "text/plain": [
              "         name  year  selling_price  km_driven    fuel seller_type  \\\n",
              "0      Maruti  2007          60000      70000  Petrol  Individual   \n",
              "1      Maruti  2007         135000      50000  Petrol  Individual   \n",
              "2     Hyundai  2012         600000     100000  Diesel  Individual   \n",
              "3      Datsun  2017         250000      46000  Petrol  Individual   \n",
              "4       Honda  2014         450000     141000  Diesel  Individual   \n",
              "...       ...   ...            ...        ...     ...         ...   \n",
              "4335  Hyundai  2014         409999      80000  Diesel  Individual   \n",
              "4336  Hyundai  2014         409999      80000  Diesel  Individual   \n",
              "4337   Maruti  2009         110000      83000  Petrol  Individual   \n",
              "4338  Hyundai  2016         865000      90000  Diesel  Individual   \n",
              "4339  Renault  2016         225000      40000  Petrol  Individual   \n",
              "\n",
              "     transmission         owner  \n",
              "0          Manual   First Owner  \n",
              "1          Manual   First Owner  \n",
              "2          Manual   First Owner  \n",
              "3          Manual   First Owner  \n",
              "4          Manual  Second Owner  \n",
              "...           ...           ...  \n",
              "4335       Manual  Second Owner  \n",
              "4336       Manual  Second Owner  \n",
              "4337       Manual  Second Owner  \n",
              "4338       Manual   First Owner  \n",
              "4339       Manual   First Owner  \n",
              "\n",
              "[4340 rows x 8 columns]"
            ],
            "text/html": [
              "\n",
              "  <div id=\"df-1ae4650a-e270-4dcf-8e38-9965e570b907\">\n",
              "    <div class=\"colab-df-container\">\n",
              "      <div>\n",
              "<style scoped>\n",
              "    .dataframe tbody tr th:only-of-type {\n",
              "        vertical-align: middle;\n",
              "    }\n",
              "\n",
              "    .dataframe tbody tr th {\n",
              "        vertical-align: top;\n",
              "    }\n",
              "\n",
              "    .dataframe thead th {\n",
              "        text-align: right;\n",
              "    }\n",
              "</style>\n",
              "<table border=\"1\" class=\"dataframe\">\n",
              "  <thead>\n",
              "    <tr style=\"text-align: right;\">\n",
              "      <th></th>\n",
              "      <th>name</th>\n",
              "      <th>year</th>\n",
              "      <th>selling_price</th>\n",
              "      <th>km_driven</th>\n",
              "      <th>fuel</th>\n",
              "      <th>seller_type</th>\n",
              "      <th>transmission</th>\n",
              "      <th>owner</th>\n",
              "    </tr>\n",
              "  </thead>\n",
              "  <tbody>\n",
              "    <tr>\n",
              "      <th>0</th>\n",
              "      <td>Maruti</td>\n",
              "      <td>2007</td>\n",
              "      <td>60000</td>\n",
              "      <td>70000</td>\n",
              "      <td>Petrol</td>\n",
              "      <td>Individual</td>\n",
              "      <td>Manual</td>\n",
              "      <td>First Owner</td>\n",
              "    </tr>\n",
              "    <tr>\n",
              "      <th>1</th>\n",
              "      <td>Maruti</td>\n",
              "      <td>2007</td>\n",
              "      <td>135000</td>\n",
              "      <td>50000</td>\n",
              "      <td>Petrol</td>\n",
              "      <td>Individual</td>\n",
              "      <td>Manual</td>\n",
              "      <td>First Owner</td>\n",
              "    </tr>\n",
              "    <tr>\n",
              "      <th>2</th>\n",
              "      <td>Hyundai</td>\n",
              "      <td>2012</td>\n",
              "      <td>600000</td>\n",
              "      <td>100000</td>\n",
              "      <td>Diesel</td>\n",
              "      <td>Individual</td>\n",
              "      <td>Manual</td>\n",
              "      <td>First Owner</td>\n",
              "    </tr>\n",
              "    <tr>\n",
              "      <th>3</th>\n",
              "      <td>Datsun</td>\n",
              "      <td>2017</td>\n",
              "      <td>250000</td>\n",
              "      <td>46000</td>\n",
              "      <td>Petrol</td>\n",
              "      <td>Individual</td>\n",
              "      <td>Manual</td>\n",
              "      <td>First Owner</td>\n",
              "    </tr>\n",
              "    <tr>\n",
              "      <th>4</th>\n",
              "      <td>Honda</td>\n",
              "      <td>2014</td>\n",
              "      <td>450000</td>\n",
              "      <td>141000</td>\n",
              "      <td>Diesel</td>\n",
              "      <td>Individual</td>\n",
              "      <td>Manual</td>\n",
              "      <td>Second Owner</td>\n",
              "    </tr>\n",
              "    <tr>\n",
              "      <th>...</th>\n",
              "      <td>...</td>\n",
              "      <td>...</td>\n",
              "      <td>...</td>\n",
              "      <td>...</td>\n",
              "      <td>...</td>\n",
              "      <td>...</td>\n",
              "      <td>...</td>\n",
              "      <td>...</td>\n",
              "    </tr>\n",
              "    <tr>\n",
              "      <th>4335</th>\n",
              "      <td>Hyundai</td>\n",
              "      <td>2014</td>\n",
              "      <td>409999</td>\n",
              "      <td>80000</td>\n",
              "      <td>Diesel</td>\n",
              "      <td>Individual</td>\n",
              "      <td>Manual</td>\n",
              "      <td>Second Owner</td>\n",
              "    </tr>\n",
              "    <tr>\n",
              "      <th>4336</th>\n",
              "      <td>Hyundai</td>\n",
              "      <td>2014</td>\n",
              "      <td>409999</td>\n",
              "      <td>80000</td>\n",
              "      <td>Diesel</td>\n",
              "      <td>Individual</td>\n",
              "      <td>Manual</td>\n",
              "      <td>Second Owner</td>\n",
              "    </tr>\n",
              "    <tr>\n",
              "      <th>4337</th>\n",
              "      <td>Maruti</td>\n",
              "      <td>2009</td>\n",
              "      <td>110000</td>\n",
              "      <td>83000</td>\n",
              "      <td>Petrol</td>\n",
              "      <td>Individual</td>\n",
              "      <td>Manual</td>\n",
              "      <td>Second Owner</td>\n",
              "    </tr>\n",
              "    <tr>\n",
              "      <th>4338</th>\n",
              "      <td>Hyundai</td>\n",
              "      <td>2016</td>\n",
              "      <td>865000</td>\n",
              "      <td>90000</td>\n",
              "      <td>Diesel</td>\n",
              "      <td>Individual</td>\n",
              "      <td>Manual</td>\n",
              "      <td>First Owner</td>\n",
              "    </tr>\n",
              "    <tr>\n",
              "      <th>4339</th>\n",
              "      <td>Renault</td>\n",
              "      <td>2016</td>\n",
              "      <td>225000</td>\n",
              "      <td>40000</td>\n",
              "      <td>Petrol</td>\n",
              "      <td>Individual</td>\n",
              "      <td>Manual</td>\n",
              "      <td>First Owner</td>\n",
              "    </tr>\n",
              "  </tbody>\n",
              "</table>\n",
              "<p>4340 rows × 8 columns</p>\n",
              "</div>\n",
              "      <button class=\"colab-df-convert\" onclick=\"convertToInteractive('df-1ae4650a-e270-4dcf-8e38-9965e570b907')\"\n",
              "              title=\"Convert this dataframe to an interactive table.\"\n",
              "              style=\"display:none;\">\n",
              "        \n",
              "  <svg xmlns=\"http://www.w3.org/2000/svg\" height=\"24px\"viewBox=\"0 0 24 24\"\n",
              "       width=\"24px\">\n",
              "    <path d=\"M0 0h24v24H0V0z\" fill=\"none\"/>\n",
              "    <path d=\"M18.56 5.44l.94 2.06.94-2.06 2.06-.94-2.06-.94-.94-2.06-.94 2.06-2.06.94zm-11 1L8.5 8.5l.94-2.06 2.06-.94-2.06-.94L8.5 2.5l-.94 2.06-2.06.94zm10 10l.94 2.06.94-2.06 2.06-.94-2.06-.94-.94-2.06-.94 2.06-2.06.94z\"/><path d=\"M17.41 7.96l-1.37-1.37c-.4-.4-.92-.59-1.43-.59-.52 0-1.04.2-1.43.59L10.3 9.45l-7.72 7.72c-.78.78-.78 2.05 0 2.83L4 21.41c.39.39.9.59 1.41.59.51 0 1.02-.2 1.41-.59l7.78-7.78 2.81-2.81c.8-.78.8-2.07 0-2.86zM5.41 20L4 18.59l7.72-7.72 1.47 1.35L5.41 20z\"/>\n",
              "  </svg>\n",
              "      </button>\n",
              "      \n",
              "  <style>\n",
              "    .colab-df-container {\n",
              "      display:flex;\n",
              "      flex-wrap:wrap;\n",
              "      gap: 12px;\n",
              "    }\n",
              "\n",
              "    .colab-df-convert {\n",
              "      background-color: #E8F0FE;\n",
              "      border: none;\n",
              "      border-radius: 50%;\n",
              "      cursor: pointer;\n",
              "      display: none;\n",
              "      fill: #1967D2;\n",
              "      height: 32px;\n",
              "      padding: 0 0 0 0;\n",
              "      width: 32px;\n",
              "    }\n",
              "\n",
              "    .colab-df-convert:hover {\n",
              "      background-color: #E2EBFA;\n",
              "      box-shadow: 0px 1px 2px rgba(60, 64, 67, 0.3), 0px 1px 3px 1px rgba(60, 64, 67, 0.15);\n",
              "      fill: #174EA6;\n",
              "    }\n",
              "\n",
              "    [theme=dark] .colab-df-convert {\n",
              "      background-color: #3B4455;\n",
              "      fill: #D2E3FC;\n",
              "    }\n",
              "\n",
              "    [theme=dark] .colab-df-convert:hover {\n",
              "      background-color: #434B5C;\n",
              "      box-shadow: 0px 1px 3px 1px rgba(0, 0, 0, 0.15);\n",
              "      filter: drop-shadow(0px 1px 2px rgba(0, 0, 0, 0.3));\n",
              "      fill: #FFFFFF;\n",
              "    }\n",
              "  </style>\n",
              "\n",
              "      <script>\n",
              "        const buttonEl =\n",
              "          document.querySelector('#df-1ae4650a-e270-4dcf-8e38-9965e570b907 button.colab-df-convert');\n",
              "        buttonEl.style.display =\n",
              "          google.colab.kernel.accessAllowed ? 'block' : 'none';\n",
              "\n",
              "        async function convertToInteractive(key) {\n",
              "          const element = document.querySelector('#df-1ae4650a-e270-4dcf-8e38-9965e570b907');\n",
              "          const dataTable =\n",
              "            await google.colab.kernel.invokeFunction('convertToInteractive',\n",
              "                                                     [key], {});\n",
              "          if (!dataTable) return;\n",
              "\n",
              "          const docLinkHtml = 'Like what you see? Visit the ' +\n",
              "            '<a target=\"_blank\" href=https://colab.research.google.com/notebooks/data_table.ipynb>data table notebook</a>'\n",
              "            + ' to learn more about interactive tables.';\n",
              "          element.innerHTML = '';\n",
              "          dataTable['output_type'] = 'display_data';\n",
              "          await google.colab.output.renderOutput(dataTable, element);\n",
              "          const docLink = document.createElement('div');\n",
              "          docLink.innerHTML = docLinkHtml;\n",
              "          element.appendChild(docLink);\n",
              "        }\n",
              "      </script>\n",
              "    </div>\n",
              "  </div>\n",
              "  "
            ]
          },
          "metadata": {},
          "execution_count": 78
        }
      ]
    },
    {
      "cell_type": "code",
      "source": [
        "df['name'].unique()"
      ],
      "metadata": {
        "colab": {
          "base_uri": "https://localhost:8080/"
        },
        "id": "XrE_-vhPTUOw",
        "outputId": "5efb1ca4-c30b-461e-84e8-b9c4d3e802f0"
      },
      "execution_count": null,
      "outputs": [
        {
          "output_type": "execute_result",
          "data": {
            "text/plain": [
              "array(['Maruti', 'Hyundai', 'Datsun', 'Honda', 'Tata', 'Chevrolet',\n",
              "       'Toyota', 'Jaguar', 'Mercedes-Benz', 'Audi', 'Skoda', 'Jeep',\n",
              "       'BMW', 'Mahindra', 'Ford', 'Nissan', 'Renault', 'Fiat',\n",
              "       'Volkswagen', 'Volvo', 'Mitsubishi', 'Land', 'Daewoo', 'MG',\n",
              "       'Force', 'Isuzu', 'OpelCorsa', 'Ambassador', 'Kia'], dtype=object)"
            ]
          },
          "metadata": {},
          "execution_count": 79
        }
      ]
    },
    {
      "cell_type": "code",
      "source": [
        "values_update = {'name':{'OpelCorsa':'Opel', 'Land': 'Land Rover', 'Force':'Force One EX' }}\n",
        "df = df.replace(values_update)"
      ],
      "metadata": {
        "id": "d29Sx9IiTZBF"
      },
      "execution_count": null,
      "outputs": []
    },
    {
      "cell_type": "code",
      "source": [
        "df['name'].unique()"
      ],
      "metadata": {
        "colab": {
          "base_uri": "https://localhost:8080/"
        },
        "id": "3KwR8AIAU9fB",
        "outputId": "fdcb4988-2280-44f8-ba60-8ec1420de582"
      },
      "execution_count": null,
      "outputs": [
        {
          "output_type": "execute_result",
          "data": {
            "text/plain": [
              "array(['Maruti', 'Hyundai', 'Datsun', 'Honda', 'Tata', 'Chevrolet',\n",
              "       'Toyota', 'Jaguar', 'Mercedes-Benz', 'Audi', 'Skoda', 'Jeep',\n",
              "       'BMW', 'Mahindra', 'Ford', 'Nissan', 'Renault', 'Fiat',\n",
              "       'Volkswagen', 'Volvo', 'Mitsubishi', 'Land Rover', 'Daewoo', 'MG',\n",
              "       'Force One EX', 'Isuzu', 'Opel', 'Ambassador', 'Kia'], dtype=object)"
            ]
          },
          "metadata": {},
          "execution_count": 81
        }
      ]
    },
    {
      "cell_type": "code",
      "source": [
        "df.head()"
      ],
      "metadata": {
        "colab": {
          "base_uri": "https://localhost:8080/",
          "height": 206
        },
        "id": "bpqVyaVEVANn",
        "outputId": "9158a701-97a7-4b55-ab48-93dac3586d9e"
      },
      "execution_count": null,
      "outputs": [
        {
          "output_type": "execute_result",
          "data": {
            "text/plain": [
              "      name  year  selling_price  km_driven    fuel seller_type transmission  \\\n",
              "0   Maruti  2007          60000      70000  Petrol  Individual       Manual   \n",
              "1   Maruti  2007         135000      50000  Petrol  Individual       Manual   \n",
              "2  Hyundai  2012         600000     100000  Diesel  Individual       Manual   \n",
              "3   Datsun  2017         250000      46000  Petrol  Individual       Manual   \n",
              "4    Honda  2014         450000     141000  Diesel  Individual       Manual   \n",
              "\n",
              "          owner  \n",
              "0   First Owner  \n",
              "1   First Owner  \n",
              "2   First Owner  \n",
              "3   First Owner  \n",
              "4  Second Owner  "
            ],
            "text/html": [
              "\n",
              "  <div id=\"df-5e2f0340-7e65-4252-bb17-53921ed274c1\">\n",
              "    <div class=\"colab-df-container\">\n",
              "      <div>\n",
              "<style scoped>\n",
              "    .dataframe tbody tr th:only-of-type {\n",
              "        vertical-align: middle;\n",
              "    }\n",
              "\n",
              "    .dataframe tbody tr th {\n",
              "        vertical-align: top;\n",
              "    }\n",
              "\n",
              "    .dataframe thead th {\n",
              "        text-align: right;\n",
              "    }\n",
              "</style>\n",
              "<table border=\"1\" class=\"dataframe\">\n",
              "  <thead>\n",
              "    <tr style=\"text-align: right;\">\n",
              "      <th></th>\n",
              "      <th>name</th>\n",
              "      <th>year</th>\n",
              "      <th>selling_price</th>\n",
              "      <th>km_driven</th>\n",
              "      <th>fuel</th>\n",
              "      <th>seller_type</th>\n",
              "      <th>transmission</th>\n",
              "      <th>owner</th>\n",
              "    </tr>\n",
              "  </thead>\n",
              "  <tbody>\n",
              "    <tr>\n",
              "      <th>0</th>\n",
              "      <td>Maruti</td>\n",
              "      <td>2007</td>\n",
              "      <td>60000</td>\n",
              "      <td>70000</td>\n",
              "      <td>Petrol</td>\n",
              "      <td>Individual</td>\n",
              "      <td>Manual</td>\n",
              "      <td>First Owner</td>\n",
              "    </tr>\n",
              "    <tr>\n",
              "      <th>1</th>\n",
              "      <td>Maruti</td>\n",
              "      <td>2007</td>\n",
              "      <td>135000</td>\n",
              "      <td>50000</td>\n",
              "      <td>Petrol</td>\n",
              "      <td>Individual</td>\n",
              "      <td>Manual</td>\n",
              "      <td>First Owner</td>\n",
              "    </tr>\n",
              "    <tr>\n",
              "      <th>2</th>\n",
              "      <td>Hyundai</td>\n",
              "      <td>2012</td>\n",
              "      <td>600000</td>\n",
              "      <td>100000</td>\n",
              "      <td>Diesel</td>\n",
              "      <td>Individual</td>\n",
              "      <td>Manual</td>\n",
              "      <td>First Owner</td>\n",
              "    </tr>\n",
              "    <tr>\n",
              "      <th>3</th>\n",
              "      <td>Datsun</td>\n",
              "      <td>2017</td>\n",
              "      <td>250000</td>\n",
              "      <td>46000</td>\n",
              "      <td>Petrol</td>\n",
              "      <td>Individual</td>\n",
              "      <td>Manual</td>\n",
              "      <td>First Owner</td>\n",
              "    </tr>\n",
              "    <tr>\n",
              "      <th>4</th>\n",
              "      <td>Honda</td>\n",
              "      <td>2014</td>\n",
              "      <td>450000</td>\n",
              "      <td>141000</td>\n",
              "      <td>Diesel</td>\n",
              "      <td>Individual</td>\n",
              "      <td>Manual</td>\n",
              "      <td>Second Owner</td>\n",
              "    </tr>\n",
              "  </tbody>\n",
              "</table>\n",
              "</div>\n",
              "      <button class=\"colab-df-convert\" onclick=\"convertToInteractive('df-5e2f0340-7e65-4252-bb17-53921ed274c1')\"\n",
              "              title=\"Convert this dataframe to an interactive table.\"\n",
              "              style=\"display:none;\">\n",
              "        \n",
              "  <svg xmlns=\"http://www.w3.org/2000/svg\" height=\"24px\"viewBox=\"0 0 24 24\"\n",
              "       width=\"24px\">\n",
              "    <path d=\"M0 0h24v24H0V0z\" fill=\"none\"/>\n",
              "    <path d=\"M18.56 5.44l.94 2.06.94-2.06 2.06-.94-2.06-.94-.94-2.06-.94 2.06-2.06.94zm-11 1L8.5 8.5l.94-2.06 2.06-.94-2.06-.94L8.5 2.5l-.94 2.06-2.06.94zm10 10l.94 2.06.94-2.06 2.06-.94-2.06-.94-.94-2.06-.94 2.06-2.06.94z\"/><path d=\"M17.41 7.96l-1.37-1.37c-.4-.4-.92-.59-1.43-.59-.52 0-1.04.2-1.43.59L10.3 9.45l-7.72 7.72c-.78.78-.78 2.05 0 2.83L4 21.41c.39.39.9.59 1.41.59.51 0 1.02-.2 1.41-.59l7.78-7.78 2.81-2.81c.8-.78.8-2.07 0-2.86zM5.41 20L4 18.59l7.72-7.72 1.47 1.35L5.41 20z\"/>\n",
              "  </svg>\n",
              "      </button>\n",
              "      \n",
              "  <style>\n",
              "    .colab-df-container {\n",
              "      display:flex;\n",
              "      flex-wrap:wrap;\n",
              "      gap: 12px;\n",
              "    }\n",
              "\n",
              "    .colab-df-convert {\n",
              "      background-color: #E8F0FE;\n",
              "      border: none;\n",
              "      border-radius: 50%;\n",
              "      cursor: pointer;\n",
              "      display: none;\n",
              "      fill: #1967D2;\n",
              "      height: 32px;\n",
              "      padding: 0 0 0 0;\n",
              "      width: 32px;\n",
              "    }\n",
              "\n",
              "    .colab-df-convert:hover {\n",
              "      background-color: #E2EBFA;\n",
              "      box-shadow: 0px 1px 2px rgba(60, 64, 67, 0.3), 0px 1px 3px 1px rgba(60, 64, 67, 0.15);\n",
              "      fill: #174EA6;\n",
              "    }\n",
              "\n",
              "    [theme=dark] .colab-df-convert {\n",
              "      background-color: #3B4455;\n",
              "      fill: #D2E3FC;\n",
              "    }\n",
              "\n",
              "    [theme=dark] .colab-df-convert:hover {\n",
              "      background-color: #434B5C;\n",
              "      box-shadow: 0px 1px 3px 1px rgba(0, 0, 0, 0.15);\n",
              "      filter: drop-shadow(0px 1px 2px rgba(0, 0, 0, 0.3));\n",
              "      fill: #FFFFFF;\n",
              "    }\n",
              "  </style>\n",
              "\n",
              "      <script>\n",
              "        const buttonEl =\n",
              "          document.querySelector('#df-5e2f0340-7e65-4252-bb17-53921ed274c1 button.colab-df-convert');\n",
              "        buttonEl.style.display =\n",
              "          google.colab.kernel.accessAllowed ? 'block' : 'none';\n",
              "\n",
              "        async function convertToInteractive(key) {\n",
              "          const element = document.querySelector('#df-5e2f0340-7e65-4252-bb17-53921ed274c1');\n",
              "          const dataTable =\n",
              "            await google.colab.kernel.invokeFunction('convertToInteractive',\n",
              "                                                     [key], {});\n",
              "          if (!dataTable) return;\n",
              "\n",
              "          const docLinkHtml = 'Like what you see? Visit the ' +\n",
              "            '<a target=\"_blank\" href=https://colab.research.google.com/notebooks/data_table.ipynb>data table notebook</a>'\n",
              "            + ' to learn more about interactive tables.';\n",
              "          element.innerHTML = '';\n",
              "          dataTable['output_type'] = 'display_data';\n",
              "          await google.colab.output.renderOutput(dataTable, element);\n",
              "          const docLink = document.createElement('div');\n",
              "          docLink.innerHTML = docLinkHtml;\n",
              "          element.appendChild(docLink);\n",
              "        }\n",
              "      </script>\n",
              "    </div>\n",
              "  </div>\n",
              "  "
            ]
          },
          "metadata": {},
          "execution_count": 82
        }
      ]
    },
    {
      "cell_type": "code",
      "source": [
        "df['age'] = 2023 - df['year']"
      ],
      "metadata": {
        "id": "v_AlRMpCVRiQ"
      },
      "execution_count": null,
      "outputs": []
    },
    {
      "cell_type": "code",
      "source": [
        "df.head()"
      ],
      "metadata": {
        "colab": {
          "base_uri": "https://localhost:8080/",
          "height": 206
        },
        "id": "jvEzy_R_Vmw7",
        "outputId": "1505668e-bd8e-487b-cdfc-096f1ef38bc7"
      },
      "execution_count": null,
      "outputs": [
        {
          "output_type": "execute_result",
          "data": {
            "text/plain": [
              "      name  year  selling_price  km_driven    fuel seller_type transmission  \\\n",
              "0   Maruti  2007          60000      70000  Petrol  Individual       Manual   \n",
              "1   Maruti  2007         135000      50000  Petrol  Individual       Manual   \n",
              "2  Hyundai  2012         600000     100000  Diesel  Individual       Manual   \n",
              "3   Datsun  2017         250000      46000  Petrol  Individual       Manual   \n",
              "4    Honda  2014         450000     141000  Diesel  Individual       Manual   \n",
              "\n",
              "          owner  age  \n",
              "0   First Owner   16  \n",
              "1   First Owner   16  \n",
              "2   First Owner   11  \n",
              "3   First Owner    6  \n",
              "4  Second Owner    9  "
            ],
            "text/html": [
              "\n",
              "  <div id=\"df-202a0fdd-8209-48ad-955f-ca093302ff9f\">\n",
              "    <div class=\"colab-df-container\">\n",
              "      <div>\n",
              "<style scoped>\n",
              "    .dataframe tbody tr th:only-of-type {\n",
              "        vertical-align: middle;\n",
              "    }\n",
              "\n",
              "    .dataframe tbody tr th {\n",
              "        vertical-align: top;\n",
              "    }\n",
              "\n",
              "    .dataframe thead th {\n",
              "        text-align: right;\n",
              "    }\n",
              "</style>\n",
              "<table border=\"1\" class=\"dataframe\">\n",
              "  <thead>\n",
              "    <tr style=\"text-align: right;\">\n",
              "      <th></th>\n",
              "      <th>name</th>\n",
              "      <th>year</th>\n",
              "      <th>selling_price</th>\n",
              "      <th>km_driven</th>\n",
              "      <th>fuel</th>\n",
              "      <th>seller_type</th>\n",
              "      <th>transmission</th>\n",
              "      <th>owner</th>\n",
              "      <th>age</th>\n",
              "    </tr>\n",
              "  </thead>\n",
              "  <tbody>\n",
              "    <tr>\n",
              "      <th>0</th>\n",
              "      <td>Maruti</td>\n",
              "      <td>2007</td>\n",
              "      <td>60000</td>\n",
              "      <td>70000</td>\n",
              "      <td>Petrol</td>\n",
              "      <td>Individual</td>\n",
              "      <td>Manual</td>\n",
              "      <td>First Owner</td>\n",
              "      <td>16</td>\n",
              "    </tr>\n",
              "    <tr>\n",
              "      <th>1</th>\n",
              "      <td>Maruti</td>\n",
              "      <td>2007</td>\n",
              "      <td>135000</td>\n",
              "      <td>50000</td>\n",
              "      <td>Petrol</td>\n",
              "      <td>Individual</td>\n",
              "      <td>Manual</td>\n",
              "      <td>First Owner</td>\n",
              "      <td>16</td>\n",
              "    </tr>\n",
              "    <tr>\n",
              "      <th>2</th>\n",
              "      <td>Hyundai</td>\n",
              "      <td>2012</td>\n",
              "      <td>600000</td>\n",
              "      <td>100000</td>\n",
              "      <td>Diesel</td>\n",
              "      <td>Individual</td>\n",
              "      <td>Manual</td>\n",
              "      <td>First Owner</td>\n",
              "      <td>11</td>\n",
              "    </tr>\n",
              "    <tr>\n",
              "      <th>3</th>\n",
              "      <td>Datsun</td>\n",
              "      <td>2017</td>\n",
              "      <td>250000</td>\n",
              "      <td>46000</td>\n",
              "      <td>Petrol</td>\n",
              "      <td>Individual</td>\n",
              "      <td>Manual</td>\n",
              "      <td>First Owner</td>\n",
              "      <td>6</td>\n",
              "    </tr>\n",
              "    <tr>\n",
              "      <th>4</th>\n",
              "      <td>Honda</td>\n",
              "      <td>2014</td>\n",
              "      <td>450000</td>\n",
              "      <td>141000</td>\n",
              "      <td>Diesel</td>\n",
              "      <td>Individual</td>\n",
              "      <td>Manual</td>\n",
              "      <td>Second Owner</td>\n",
              "      <td>9</td>\n",
              "    </tr>\n",
              "  </tbody>\n",
              "</table>\n",
              "</div>\n",
              "      <button class=\"colab-df-convert\" onclick=\"convertToInteractive('df-202a0fdd-8209-48ad-955f-ca093302ff9f')\"\n",
              "              title=\"Convert this dataframe to an interactive table.\"\n",
              "              style=\"display:none;\">\n",
              "        \n",
              "  <svg xmlns=\"http://www.w3.org/2000/svg\" height=\"24px\"viewBox=\"0 0 24 24\"\n",
              "       width=\"24px\">\n",
              "    <path d=\"M0 0h24v24H0V0z\" fill=\"none\"/>\n",
              "    <path d=\"M18.56 5.44l.94 2.06.94-2.06 2.06-.94-2.06-.94-.94-2.06-.94 2.06-2.06.94zm-11 1L8.5 8.5l.94-2.06 2.06-.94-2.06-.94L8.5 2.5l-.94 2.06-2.06.94zm10 10l.94 2.06.94-2.06 2.06-.94-2.06-.94-.94-2.06-.94 2.06-2.06.94z\"/><path d=\"M17.41 7.96l-1.37-1.37c-.4-.4-.92-.59-1.43-.59-.52 0-1.04.2-1.43.59L10.3 9.45l-7.72 7.72c-.78.78-.78 2.05 0 2.83L4 21.41c.39.39.9.59 1.41.59.51 0 1.02-.2 1.41-.59l7.78-7.78 2.81-2.81c.8-.78.8-2.07 0-2.86zM5.41 20L4 18.59l7.72-7.72 1.47 1.35L5.41 20z\"/>\n",
              "  </svg>\n",
              "      </button>\n",
              "      \n",
              "  <style>\n",
              "    .colab-df-container {\n",
              "      display:flex;\n",
              "      flex-wrap:wrap;\n",
              "      gap: 12px;\n",
              "    }\n",
              "\n",
              "    .colab-df-convert {\n",
              "      background-color: #E8F0FE;\n",
              "      border: none;\n",
              "      border-radius: 50%;\n",
              "      cursor: pointer;\n",
              "      display: none;\n",
              "      fill: #1967D2;\n",
              "      height: 32px;\n",
              "      padding: 0 0 0 0;\n",
              "      width: 32px;\n",
              "    }\n",
              "\n",
              "    .colab-df-convert:hover {\n",
              "      background-color: #E2EBFA;\n",
              "      box-shadow: 0px 1px 2px rgba(60, 64, 67, 0.3), 0px 1px 3px 1px rgba(60, 64, 67, 0.15);\n",
              "      fill: #174EA6;\n",
              "    }\n",
              "\n",
              "    [theme=dark] .colab-df-convert {\n",
              "      background-color: #3B4455;\n",
              "      fill: #D2E3FC;\n",
              "    }\n",
              "\n",
              "    [theme=dark] .colab-df-convert:hover {\n",
              "      background-color: #434B5C;\n",
              "      box-shadow: 0px 1px 3px 1px rgba(0, 0, 0, 0.15);\n",
              "      filter: drop-shadow(0px 1px 2px rgba(0, 0, 0, 0.3));\n",
              "      fill: #FFFFFF;\n",
              "    }\n",
              "  </style>\n",
              "\n",
              "      <script>\n",
              "        const buttonEl =\n",
              "          document.querySelector('#df-202a0fdd-8209-48ad-955f-ca093302ff9f button.colab-df-convert');\n",
              "        buttonEl.style.display =\n",
              "          google.colab.kernel.accessAllowed ? 'block' : 'none';\n",
              "\n",
              "        async function convertToInteractive(key) {\n",
              "          const element = document.querySelector('#df-202a0fdd-8209-48ad-955f-ca093302ff9f');\n",
              "          const dataTable =\n",
              "            await google.colab.kernel.invokeFunction('convertToInteractive',\n",
              "                                                     [key], {});\n",
              "          if (!dataTable) return;\n",
              "\n",
              "          const docLinkHtml = 'Like what you see? Visit the ' +\n",
              "            '<a target=\"_blank\" href=https://colab.research.google.com/notebooks/data_table.ipynb>data table notebook</a>'\n",
              "            + ' to learn more about interactive tables.';\n",
              "          element.innerHTML = '';\n",
              "          dataTable['output_type'] = 'display_data';\n",
              "          await google.colab.output.renderOutput(dataTable, element);\n",
              "          const docLink = document.createElement('div');\n",
              "          docLink.innerHTML = docLinkHtml;\n",
              "          element.appendChild(docLink);\n",
              "        }\n",
              "      </script>\n",
              "    </div>\n",
              "  </div>\n",
              "  "
            ]
          },
          "metadata": {},
          "execution_count": 84
        }
      ]
    },
    {
      "cell_type": "code",
      "source": [
        "df = df.iloc[:,[0,8,2,3,4,5,6,7]]"
      ],
      "metadata": {
        "id": "1PaAV9gpVoON"
      },
      "execution_count": null,
      "outputs": []
    },
    {
      "cell_type": "code",
      "source": [
        "df.columns\n"
      ],
      "metadata": {
        "colab": {
          "base_uri": "https://localhost:8080/"
        },
        "id": "8VRExXCGWFax",
        "outputId": "244330ac-077a-4cb7-f1ce-c26c8536588b"
      },
      "execution_count": null,
      "outputs": [
        {
          "output_type": "execute_result",
          "data": {
            "text/plain": [
              "Index(['name', 'age', 'selling_price', 'km_driven', 'fuel', 'seller_type',\n",
              "       'transmission', 'owner'],\n",
              "      dtype='object')"
            ]
          },
          "metadata": {},
          "execution_count": 86
        }
      ]
    },
    {
      "cell_type": "code",
      "source": [
        "for column in df.columns:\n",
        "  print(column)\n",
        "  print(df[column].unique())"
      ],
      "metadata": {
        "colab": {
          "base_uri": "https://localhost:8080/"
        },
        "id": "ZuUBIbtzWqUf",
        "outputId": "30e9fa0e-9575-4443-875b-acb69db22124"
      },
      "execution_count": null,
      "outputs": [
        {
          "output_type": "stream",
          "name": "stdout",
          "text": [
            "name\n",
            "['Maruti' 'Hyundai' 'Datsun' 'Honda' 'Tata' 'Chevrolet' 'Toyota' 'Jaguar'\n",
            " 'Mercedes-Benz' 'Audi' 'Skoda' 'Jeep' 'BMW' 'Mahindra' 'Ford' 'Nissan'\n",
            " 'Renault' 'Fiat' 'Volkswagen' 'Volvo' 'Mitsubishi' 'Land Rover' 'Daewoo'\n",
            " 'MG' 'Force One EX' 'Isuzu' 'Opel' 'Ambassador' 'Kia']\n",
            "age\n",
            "[16 11  6  9  7  8  5  4 10 12 13 14 17 27 18 15 19 25 20 21  3 23 24 22\n",
            " 28 26 31]\n",
            "selling_price\n",
            "[  60000  135000  600000  250000  450000  140000  550000  240000  850000\n",
            "  365000  260000 1650000  585000 1195000  390000 1964999 1425000  975000\n",
            " 1190000  930000  525000 1735000 1375000  900000 1300000 1400000  229999\n",
            " 1550000 1250000  625000 1050000  560000  290000  275000  411000  150000\n",
            "  500000  100000  725000  401000  750000  310000  665000  465000  160000\n",
            "  675000  300000   70000  151000  280000  350000  570000  125000  130000\n",
            "  925000  200000  248000   80000  650000  495000  371000 1025000 8150000\n",
            "  325000 1470000 2800000  210000 1150000 4500000 2750000 1975000  175000\n",
            " 2500000  628000  399000  315000  780000  434000  690000  555000  120000\n",
            "  165000   95000  800000  840000  490000  400000 1000000  530000   40000\n",
            "   75000  540000  700000  430000   65000  195000  170000  225000   99000\n",
            "  620000 2550000  320000  810000  282000   72000  640000  380000 1500000\n",
            "  434999  190000 2900000  425000  265000  890000  685000  940000  590000\n",
            "  385000 2000000  235000   52000   89999  180000  285000 1075000   90000\n",
            "  220000  110000  880000  115999  360000  680000  860000  270000  395000\n",
            "  624000  345000  106000 1800000  575000  370000   50000   55000  755000\n",
            "  720000 1100000  159000  335000  185000  470000  145000  595000 1600000\n",
            "  105000  409999  215000  475000  330000 1044999 1350000  420000  760000\n",
            "   43000 1850000 1125000  133000  352000  520000  509999  556000  484999\n",
            "  565000  295000 2050000 1475000 4400000  670000  770000  775000 1725000\n",
            " 2150000 3800000 1580000 4950000  535000  239000 2600000  114999  200999\n",
            "  710000  969999  155000  138000  311000   58000  183000  825000  299000\n",
            "  639000  415000 1199000  699000  269000  249000 1549000  254999  211000\n",
            "  599000 4000000 1200000   98000  790000 1700000   68000  875000 1330000\n",
            "  919999  611000  711000  851000  610000  744000  480000  950000   85000\n",
            "  615000  227000  222000  735000  271000 1490000  455000  421000 2700000\n",
            " 4700000 1900000 1770000  660000  716000  147000 1140000 3050000  375000\n",
            " 1950000  340000 3100000  245000  715000 1750000 3500000  835000 2490000\n",
            " 1015000   91200 2400000  635000  302000  204999  341000  819999  351000\n",
            "  630000 1085000  580000   78000 3200000  695000  355000  619000   81000\n",
            "  486000  802000 2300000  287000  250999   45000 1485000 1825000 3256000\n",
            "  451000  149000  163000  419000  990000  346000  509000   69000 1380000\n",
            "  256000   97000  199000 2595000  730000  368000  545000  641000  784000\n",
            "  324000 2100000  305000  221000  828999 1119000  746000 1030000 1334000\n",
            "  811999 1331000  852000  830000  213000   35000  869999  178000  515000\n",
            "  312000  111000  774000  148000   57000  284000  349000  458000  381000\n",
            "  751000  782000  321000   92800  291000   73000  655000  263000  217000\n",
            "  539000  142000  910000  740000  164000  999000   56000 3899000  440000\n",
            "  238000 1295000  541000  894999  844999  288000 1225000 1010000   30000\n",
            "  396000  281000   93000  459999   88000   22000   79000  198000  182000\n",
            "  861999  836000  696000  596000  612000   20000   61000  511000 1230000\n",
            "  426000   62000 1450000   71000 2200000 1249000 1240000 1068000 1189000\n",
            "  363000  821000  815000  738000  765000  516000  134000  347000 2650000\n",
            " 2675000  359000  980000  707000  471000  377000  763000  701000  277000\n",
            "  936999   82000  799000 1451000 1575000   78692  479000   48000  121000\n",
            "  785000  173000 4800000  587000  123000 1290000  193000  721000 1040000\n",
            " 2349000 1165000   42000 1680000  231999  841000 1280000 1090000  449000\n",
            "  724000  126000  795000 2575000 1035000 1260000 8900000 1860000 4200000\n",
            " 5500000  430999 1151000  927999   51111  212000  428000  219000  749000\n",
            "  233000  614000   37500  865000]\n",
            "km_driven\n",
            "[ 70000  50000 100000  46000 141000 125000  25000  60000  78000  35000\n",
            "  24000   5000  33000  28000  59000   4500 175900  14500  15000  33800\n",
            " 130400  80000  10000 119000  75800  40000  74000  64000 120000  79000\n",
            "  18500  10200  29000  90000  73300  92000  66764 350000 230000  31000\n",
            "  39000 166000 110000  54000  63000  76000  11958  20000   9000   6500\n",
            "  58000  62200  34000  53000  49000  63500   9800  13000  21000  29173\n",
            "  48000  30000  87000  16000  79350  81000   3600  14272  49213  57000\n",
            "   3240 114000  53772 140000 175000  36000 155500  23000  22155  78380\n",
            " 150000  80362  55000   1136  43000   2650 115962  65000  56000 213000\n",
            " 139000 160000 163000  32000  52000  11240  66000  26500  72000  44000\n",
            " 130000 195000 155000   4000  41000  10832  14681  51000 200000  19600\n",
            "  46730  21170 167223 141440 212814  88635 149674   8000  68000  38000\n",
            "  75000  98000  81925  82080  97000  52047  62009  33100 220000  45000\n",
            " 180000  22000  80577 127500  40903  22288  61690  64484  75976  85962\n",
            "  57035  72104 164000 124439  77000   1250  17152  24005 149000  19000\n",
            " 109000  61000  27633  12586  38083  55328  81632 155201  93283 217871\n",
            "  90165 101504  86017  85036  91086 160254 125531  82000  84000 560000\n",
            "  14365  61083  66363  11700   7104  45974  55340  61585  39415  29654\n",
            "  64672  54634  66521  23974   1000  86000  52600  19890  11918  10510\n",
            "  47162  49824  58500  56580  46507  11451 172000  66508  29900   3000\n",
            "  85000   7900  17500 206500  88600 186000  11000 138000  27974  18000\n",
            "   1400 124000  42000  28205  32670  30093  56228  59319  39503  35299\n",
            "  51687  76259  44049  45087  41125  42215  54206  52547  59110  54565\n",
            "  47564  45143  61624 132000  10980  20629  69782  63654  59385  70378\n",
            "  55425  78413  40890  34823  55545  56541  43700  27483  56207   1440\n",
            "  91195  63657  97248  89000  12000  12997  26430  24600  28481  41988\n",
            "  30375   7658  34400  28942  53600  53652 106000 205000  79500 197000\n",
            "   9161  19077 128000  21302  10500 107000  55300  74300  48781  87620\n",
            "  40219  11473   8352   9745   9748  20694  31080  37605  55850  58850\n",
            "  23839  45454  46957 190000   1500  47000 116000  26350  71042 167870\n",
            " 133564  23038  43608  11212  49217  28838 135000  19571  29600  13500\n",
            "  48600 127643 102354  62237  21394  32686   1001  53261  14000  39895\n",
            "  73000  17000  18591  26766 300000  27620 223000 161327   6000  71000\n",
            " 144000  37000  26000  27000  13250 101000   8500  90246  60400  70950\n",
            "   1100  31491 107143  46412 107500  43826  55838 112880  30300  80659\n",
            "  81324 127884  66755 123084 806599  95851 234000 170000  96000  19014\n",
            "  23262  35925  40771  30500  55800  66569  81358  82695  68293 190621\n",
            "  64700  88470 126000  74183      1 192000  83411  13270  88000   7000\n",
            "  13770 102000 143000 115000 136906 133000  28689  80322  61658 185000\n",
            "  30600 235000  67000  74500 118700 223660   2000  73756  16400  41395\n",
            "  71014 181000  89550 149500  83000  44800 156000 146000  99000  37516\n",
            "  25880 136000   2020  94000  88500  52536   1950 118400   6480  32077\n",
            "  19107  18469  28217  72787  31063  79641  58692  54784  64156   9500\n",
            "  81366 244000 312000 145000   7300  72539    101  52328  91505  20500\n",
            " 154000  41723  68745  27289  24662  28245  27005  39227  31367  35008\n",
            " 100005  45264  39093  45241   2769  43128  22255  59213   1010   1111\n",
            "  48965   5166  76290  45766  78771  79357  76736  92645 101849 155836\n",
            "  63230   1758   1452  35122  92621  92198 152000  78322  54309  34600\n",
            "  38217  77073  16584  81257   3917  69069  59059  39039  33033  55168\n",
            "  41041  67067  66066  82082  70070  63063   9528 135200  50300 151624\n",
            "  74820 129000  66778  63400 157000  38500 103921  14825  43377 102307\n",
            " 245244  68500   5007  49600  43100  10171  41123  20118  52517  99117\n",
            "   3700  43500 137250   5400  11200  93000  62000   5800 267000 250000\n",
            "  28635  32114  95149  68458 105546 104000 132343  26134  52895  42324\n",
            "  60236  10300 142000  28643   7600  47253   4432  68523  80251  34500\n",
            "  42743  93900  55766 113600 138925 121764 105429  23122  44500  13599\n",
            "   5200  12700  95000  45839  74510  87293 156040  93415 101159  68519\n",
            "  55130  65239  58182  91245 102989 108000 178000  75118   4637  42655\n",
            "  69000 117000 105000 182000  24585  13900  17563 173000 151000 117780\n",
            "  81595   9700 221000  28740  48500 148620 270000  41090 296823  89255\n",
            " 168000   5550   1700  45217  44440  91365  90010  31800  59100  31200\n",
            "  22700  50900   2417  65500 140300  10211 260000  32933  54551  57112\n",
            "  41025  53122  64111  78892  74113  84775  20778  64441  43192  44416\n",
            "  79991  62601  89600  60800  69111  20969  20194  34982  44588  57904\n",
            "  59258  60826   1300  31707 115992 109052  90658  25552  40700  11174\n",
            "  72500  76600  97700  37500  23800  44077 210000   9422 240000  17100\n",
            " 224642 222435 159000 101100   1200 134444 238000 165000  63700  74800\n",
            "  60516  76731  63840  76400  31489 295000 158000 400000  19495  62668\n",
            "  85710  63356 129627   4400  14987  25061  42494  44875  89741 347089\n",
            " 222252  55250  12500 162000  22038   2500  89126 134000  42500 131365\n",
            "  48980  98900  13800  99700  49654  45457  39221  48220  11114  60208\n",
            "  98600  85441  64541  16267  71500  12999  14700  92686  49359 108731\n",
            "  29976  30646  23600  71318  78098  18054  38406  54350  32260  58231\n",
            "  59858  73350  88473  96987  77350  61187  68350  81150 280000 105700\n",
            "  37091  38900   9400  14100  37555  56600  67580  48238  38365  23670\n",
            "  49834  57353  68308  63240  64916  37161 118000  50852  53500  51500\n",
            "  79800   6590  49957  43235  50699 140730 256000 218000  66782 112198]\n",
            "fuel\n",
            "['Petrol' 'Diesel' 'CNG' 'LPG' 'Electric']\n",
            "seller_type\n",
            "['Individual' 'Dealer' 'Trustmark Dealer']\n",
            "transmission\n",
            "['Manual' 'Automatic']\n",
            "owner\n",
            "['First Owner' 'Second Owner' 'Fourth & Above Owner' 'Third Owner'\n",
            " 'Test Drive Car']\n"
          ]
        }
      ]
    },
    {
      "cell_type": "code",
      "source": [
        "df.isnull().sum()"
      ],
      "metadata": {
        "colab": {
          "base_uri": "https://localhost:8080/"
        },
        "id": "0FkmphBQW4O2",
        "outputId": "a0b87774-402d-4a51-9ba7-14a2b5948e8e"
      },
      "execution_count": null,
      "outputs": [
        {
          "output_type": "execute_result",
          "data": {
            "text/plain": [
              "name             0\n",
              "age              0\n",
              "selling_price    0\n",
              "km_driven        0\n",
              "fuel             0\n",
              "seller_type      0\n",
              "transmission     0\n",
              "owner            0\n",
              "dtype: int64"
            ]
          },
          "metadata": {},
          "execution_count": 88
        }
      ]
    },
    {
      "cell_type": "code",
      "source": [
        "df[~df.duplicated(subset=['selling_price', 'km_driven'])]"
      ],
      "metadata": {
        "colab": {
          "base_uri": "https://localhost:8080/",
          "height": 424
        },
        "id": "LUJrlg2WnjfZ",
        "outputId": "b72e5a6b-af17-49af-fdc8-77422ffd0d33"
      },
      "execution_count": null,
      "outputs": [
        {
          "output_type": "execute_result",
          "data": {
            "text/plain": [
              "         name  age  selling_price  km_driven    fuel seller_type transmission  \\\n",
              "0      Maruti   16          60000      70000  Petrol  Individual       Manual   \n",
              "1      Maruti   16         135000      50000  Petrol  Individual       Manual   \n",
              "2     Hyundai   11         600000     100000  Diesel  Individual       Manual   \n",
              "3      Datsun    6         250000      46000  Petrol  Individual       Manual   \n",
              "4       Honda    9         450000     141000  Diesel  Individual       Manual   \n",
              "...       ...  ...            ...        ...     ...         ...          ...   \n",
              "4334   Toyota   11         600000     170000  Diesel  Individual       Manual   \n",
              "4335  Hyundai    9         409999      80000  Diesel  Individual       Manual   \n",
              "4337   Maruti   14         110000      83000  Petrol  Individual       Manual   \n",
              "4338  Hyundai    7         865000      90000  Diesel  Individual       Manual   \n",
              "4339  Renault    7         225000      40000  Petrol  Individual       Manual   \n",
              "\n",
              "             owner  \n",
              "0      First Owner  \n",
              "1      First Owner  \n",
              "2      First Owner  \n",
              "3      First Owner  \n",
              "4     Second Owner  \n",
              "...            ...  \n",
              "4334   First Owner  \n",
              "4335  Second Owner  \n",
              "4337  Second Owner  \n",
              "4338   First Owner  \n",
              "4339   First Owner  \n",
              "\n",
              "[2584 rows x 8 columns]"
            ],
            "text/html": [
              "\n",
              "  <div id=\"df-ed15b9bd-661f-4151-b20e-cb09ae3a6c76\">\n",
              "    <div class=\"colab-df-container\">\n",
              "      <div>\n",
              "<style scoped>\n",
              "    .dataframe tbody tr th:only-of-type {\n",
              "        vertical-align: middle;\n",
              "    }\n",
              "\n",
              "    .dataframe tbody tr th {\n",
              "        vertical-align: top;\n",
              "    }\n",
              "\n",
              "    .dataframe thead th {\n",
              "        text-align: right;\n",
              "    }\n",
              "</style>\n",
              "<table border=\"1\" class=\"dataframe\">\n",
              "  <thead>\n",
              "    <tr style=\"text-align: right;\">\n",
              "      <th></th>\n",
              "      <th>name</th>\n",
              "      <th>age</th>\n",
              "      <th>selling_price</th>\n",
              "      <th>km_driven</th>\n",
              "      <th>fuel</th>\n",
              "      <th>seller_type</th>\n",
              "      <th>transmission</th>\n",
              "      <th>owner</th>\n",
              "    </tr>\n",
              "  </thead>\n",
              "  <tbody>\n",
              "    <tr>\n",
              "      <th>0</th>\n",
              "      <td>Maruti</td>\n",
              "      <td>16</td>\n",
              "      <td>60000</td>\n",
              "      <td>70000</td>\n",
              "      <td>Petrol</td>\n",
              "      <td>Individual</td>\n",
              "      <td>Manual</td>\n",
              "      <td>First Owner</td>\n",
              "    </tr>\n",
              "    <tr>\n",
              "      <th>1</th>\n",
              "      <td>Maruti</td>\n",
              "      <td>16</td>\n",
              "      <td>135000</td>\n",
              "      <td>50000</td>\n",
              "      <td>Petrol</td>\n",
              "      <td>Individual</td>\n",
              "      <td>Manual</td>\n",
              "      <td>First Owner</td>\n",
              "    </tr>\n",
              "    <tr>\n",
              "      <th>2</th>\n",
              "      <td>Hyundai</td>\n",
              "      <td>11</td>\n",
              "      <td>600000</td>\n",
              "      <td>100000</td>\n",
              "      <td>Diesel</td>\n",
              "      <td>Individual</td>\n",
              "      <td>Manual</td>\n",
              "      <td>First Owner</td>\n",
              "    </tr>\n",
              "    <tr>\n",
              "      <th>3</th>\n",
              "      <td>Datsun</td>\n",
              "      <td>6</td>\n",
              "      <td>250000</td>\n",
              "      <td>46000</td>\n",
              "      <td>Petrol</td>\n",
              "      <td>Individual</td>\n",
              "      <td>Manual</td>\n",
              "      <td>First Owner</td>\n",
              "    </tr>\n",
              "    <tr>\n",
              "      <th>4</th>\n",
              "      <td>Honda</td>\n",
              "      <td>9</td>\n",
              "      <td>450000</td>\n",
              "      <td>141000</td>\n",
              "      <td>Diesel</td>\n",
              "      <td>Individual</td>\n",
              "      <td>Manual</td>\n",
              "      <td>Second Owner</td>\n",
              "    </tr>\n",
              "    <tr>\n",
              "      <th>...</th>\n",
              "      <td>...</td>\n",
              "      <td>...</td>\n",
              "      <td>...</td>\n",
              "      <td>...</td>\n",
              "      <td>...</td>\n",
              "      <td>...</td>\n",
              "      <td>...</td>\n",
              "      <td>...</td>\n",
              "    </tr>\n",
              "    <tr>\n",
              "      <th>4334</th>\n",
              "      <td>Toyota</td>\n",
              "      <td>11</td>\n",
              "      <td>600000</td>\n",
              "      <td>170000</td>\n",
              "      <td>Diesel</td>\n",
              "      <td>Individual</td>\n",
              "      <td>Manual</td>\n",
              "      <td>First Owner</td>\n",
              "    </tr>\n",
              "    <tr>\n",
              "      <th>4335</th>\n",
              "      <td>Hyundai</td>\n",
              "      <td>9</td>\n",
              "      <td>409999</td>\n",
              "      <td>80000</td>\n",
              "      <td>Diesel</td>\n",
              "      <td>Individual</td>\n",
              "      <td>Manual</td>\n",
              "      <td>Second Owner</td>\n",
              "    </tr>\n",
              "    <tr>\n",
              "      <th>4337</th>\n",
              "      <td>Maruti</td>\n",
              "      <td>14</td>\n",
              "      <td>110000</td>\n",
              "      <td>83000</td>\n",
              "      <td>Petrol</td>\n",
              "      <td>Individual</td>\n",
              "      <td>Manual</td>\n",
              "      <td>Second Owner</td>\n",
              "    </tr>\n",
              "    <tr>\n",
              "      <th>4338</th>\n",
              "      <td>Hyundai</td>\n",
              "      <td>7</td>\n",
              "      <td>865000</td>\n",
              "      <td>90000</td>\n",
              "      <td>Diesel</td>\n",
              "      <td>Individual</td>\n",
              "      <td>Manual</td>\n",
              "      <td>First Owner</td>\n",
              "    </tr>\n",
              "    <tr>\n",
              "      <th>4339</th>\n",
              "      <td>Renault</td>\n",
              "      <td>7</td>\n",
              "      <td>225000</td>\n",
              "      <td>40000</td>\n",
              "      <td>Petrol</td>\n",
              "      <td>Individual</td>\n",
              "      <td>Manual</td>\n",
              "      <td>First Owner</td>\n",
              "    </tr>\n",
              "  </tbody>\n",
              "</table>\n",
              "<p>2584 rows × 8 columns</p>\n",
              "</div>\n",
              "      <button class=\"colab-df-convert\" onclick=\"convertToInteractive('df-ed15b9bd-661f-4151-b20e-cb09ae3a6c76')\"\n",
              "              title=\"Convert this dataframe to an interactive table.\"\n",
              "              style=\"display:none;\">\n",
              "        \n",
              "  <svg xmlns=\"http://www.w3.org/2000/svg\" height=\"24px\"viewBox=\"0 0 24 24\"\n",
              "       width=\"24px\">\n",
              "    <path d=\"M0 0h24v24H0V0z\" fill=\"none\"/>\n",
              "    <path d=\"M18.56 5.44l.94 2.06.94-2.06 2.06-.94-2.06-.94-.94-2.06-.94 2.06-2.06.94zm-11 1L8.5 8.5l.94-2.06 2.06-.94-2.06-.94L8.5 2.5l-.94 2.06-2.06.94zm10 10l.94 2.06.94-2.06 2.06-.94-2.06-.94-.94-2.06-.94 2.06-2.06.94z\"/><path d=\"M17.41 7.96l-1.37-1.37c-.4-.4-.92-.59-1.43-.59-.52 0-1.04.2-1.43.59L10.3 9.45l-7.72 7.72c-.78.78-.78 2.05 0 2.83L4 21.41c.39.39.9.59 1.41.59.51 0 1.02-.2 1.41-.59l7.78-7.78 2.81-2.81c.8-.78.8-2.07 0-2.86zM5.41 20L4 18.59l7.72-7.72 1.47 1.35L5.41 20z\"/>\n",
              "  </svg>\n",
              "      </button>\n",
              "      \n",
              "  <style>\n",
              "    .colab-df-container {\n",
              "      display:flex;\n",
              "      flex-wrap:wrap;\n",
              "      gap: 12px;\n",
              "    }\n",
              "\n",
              "    .colab-df-convert {\n",
              "      background-color: #E8F0FE;\n",
              "      border: none;\n",
              "      border-radius: 50%;\n",
              "      cursor: pointer;\n",
              "      display: none;\n",
              "      fill: #1967D2;\n",
              "      height: 32px;\n",
              "      padding: 0 0 0 0;\n",
              "      width: 32px;\n",
              "    }\n",
              "\n",
              "    .colab-df-convert:hover {\n",
              "      background-color: #E2EBFA;\n",
              "      box-shadow: 0px 1px 2px rgba(60, 64, 67, 0.3), 0px 1px 3px 1px rgba(60, 64, 67, 0.15);\n",
              "      fill: #174EA6;\n",
              "    }\n",
              "\n",
              "    [theme=dark] .colab-df-convert {\n",
              "      background-color: #3B4455;\n",
              "      fill: #D2E3FC;\n",
              "    }\n",
              "\n",
              "    [theme=dark] .colab-df-convert:hover {\n",
              "      background-color: #434B5C;\n",
              "      box-shadow: 0px 1px 3px 1px rgba(0, 0, 0, 0.15);\n",
              "      filter: drop-shadow(0px 1px 2px rgba(0, 0, 0, 0.3));\n",
              "      fill: #FFFFFF;\n",
              "    }\n",
              "  </style>\n",
              "\n",
              "      <script>\n",
              "        const buttonEl =\n",
              "          document.querySelector('#df-ed15b9bd-661f-4151-b20e-cb09ae3a6c76 button.colab-df-convert');\n",
              "        buttonEl.style.display =\n",
              "          google.colab.kernel.accessAllowed ? 'block' : 'none';\n",
              "\n",
              "        async function convertToInteractive(key) {\n",
              "          const element = document.querySelector('#df-ed15b9bd-661f-4151-b20e-cb09ae3a6c76');\n",
              "          const dataTable =\n",
              "            await google.colab.kernel.invokeFunction('convertToInteractive',\n",
              "                                                     [key], {});\n",
              "          if (!dataTable) return;\n",
              "\n",
              "          const docLinkHtml = 'Like what you see? Visit the ' +\n",
              "            '<a target=\"_blank\" href=https://colab.research.google.com/notebooks/data_table.ipynb>data table notebook</a>'\n",
              "            + ' to learn more about interactive tables.';\n",
              "          element.innerHTML = '';\n",
              "          dataTable['output_type'] = 'display_data';\n",
              "          await google.colab.output.renderOutput(dataTable, element);\n",
              "          const docLink = document.createElement('div');\n",
              "          docLink.innerHTML = docLinkHtml;\n",
              "          element.appendChild(docLink);\n",
              "        }\n",
              "      </script>\n",
              "    </div>\n",
              "  </div>\n",
              "  "
            ]
          },
          "metadata": {},
          "execution_count": 89
        }
      ]
    },
    {
      "cell_type": "code",
      "source": [
        "fig = px.histogram(df, 'name', facet_col='fuel', facet_col_wrap=2, facet_col_spacing=0.1)\n",
        "fig.show()"
      ],
      "metadata": {
        "colab": {
          "base_uri": "https://localhost:8080/",
          "height": 542
        },
        "id": "KyyDK_VxnnYS",
        "outputId": "38c6a024-f4d7-4a57-96d8-785a6b580428"
      },
      "execution_count": null,
      "outputs": [
        {
          "output_type": "display_data",
          "data": {
            "text/html": [
              "<html>\n",
              "<head><meta charset=\"utf-8\" /></head>\n",
              "<body>\n",
              "    <div>            <script src=\"https://cdnjs.cloudflare.com/ajax/libs/mathjax/2.7.5/MathJax.js?config=TeX-AMS-MML_SVG\"></script><script type=\"text/javascript\">if (window.MathJax) {MathJax.Hub.Config({SVG: {font: \"STIX-Web\"}});}</script>                <script type=\"text/javascript\">window.PlotlyConfig = {MathJaxConfig: 'local'};</script>\n",
              "        <script src=\"https://cdn.plot.ly/plotly-2.8.3.min.js\"></script>                <div id=\"de61a506-2cdc-4f2d-9841-03ea95b8fd0b\" class=\"plotly-graph-div\" style=\"height:525px; width:100%;\"></div>            <script type=\"text/javascript\">                                    window.PLOTLYENV=window.PLOTLYENV || {};                                    if (document.getElementById(\"de61a506-2cdc-4f2d-9841-03ea95b8fd0b\")) {                    Plotly.newPlot(                        \"de61a506-2cdc-4f2d-9841-03ea95b8fd0b\",                        [{\"alignmentgroup\":\"True\",\"bingroup\":\"x\",\"hovertemplate\":\"fuel=Petrol<br>name=%{x}<br>count=%{y}<extra></extra>\",\"legendgroup\":\"\",\"marker\":{\"color\":\"#636efa\",\"pattern\":{\"shape\":\"\"}},\"name\":\"\",\"offsetgroup\":\"\",\"orientation\":\"v\",\"showlegend\":false,\"x\":[\"Maruti\",\"Maruti\",\"Datsun\",\"Maruti\",\"Hyundai\",\"Tata\",\"Hyundai\",\"Chevrolet\",\"Tata\",\"Toyota\",\"Maruti\",\"Maruti\",\"Datsun\",\"Maruti\",\"Hyundai\",\"Tata\",\"Hyundai\",\"Chevrolet\",\"Tata\",\"Toyota\",\"Maruti\",\"Honda\",\"Tata\",\"Toyota\",\"Jeep\",\"Mercedes-Benz\",\"Hyundai\",\"Maruti\",\"Maruti\",\"Hyundai\",\"Hyundai\",\"Maruti\",\"Maruti\",\"Maruti\",\"Maruti\",\"Maruti\",\"Hyundai\",\"Maruti\",\"Maruti\",\"Hyundai\",\"Maruti\",\"Honda\",\"Hyundai\",\"Hyundai\",\"Nissan\",\"Honda\",\"Honda\",\"Hyundai\",\"Hyundai\",\"Datsun\",\"Volkswagen\",\"Honda\",\"Mercedes-Benz\",\"Maruti\",\"Nissan\",\"Hyundai\",\"Renault\",\"Maruti\",\"Maruti\",\"Renault\",\"Hyundai\",\"Maruti\",\"Maruti\",\"Maruti\",\"Tata\",\"Honda\",\"Ford\",\"Hyundai\",\"Maruti\",\"Chevrolet\",\"Hyundai\",\"Hyundai\",\"Maruti\",\"Hyundai\",\"Hyundai\",\"Hyundai\",\"Hyundai\",\"Hyundai\",\"Hyundai\",\"Hyundai\",\"Renault\",\"Maruti\",\"Chevrolet\",\"Honda\",\"Jaguar\",\"Honda\",\"Maruti\",\"Hyundai\",\"Chevrolet\",\"Maruti\",\"Chevrolet\",\"Hyundai\",\"Maruti\",\"Maruti\",\"Maruti\",\"Tata\",\"Hyundai\",\"Skoda\",\"Maruti\",\"Maruti\",\"Maruti\",\"Hyundai\",\"Tata\",\"Maruti\",\"Honda\",\"Maruti\",\"Maruti\",\"Hyundai\",\"Nissan\",\"Hyundai\",\"Fiat\",\"Renault\",\"Ford\",\"Mahindra\",\"Hyundai\",\"Maruti\",\"Maruti\",\"Hyundai\",\"Hyundai\",\"Hyundai\",\"Maruti\",\"Maruti\",\"Hyundai\",\"Maruti\",\"Ford\",\"Datsun\",\"Hyundai\",\"Maruti\",\"Maruti\",\"Hyundai\",\"Hyundai\",\"Renault\",\"Maruti\",\"Honda\",\"Maruti\",\"Maruti\",\"Maruti\",\"Hyundai\",\"Maruti\",\"Hyundai\",\"Maruti\",\"Maruti\",\"Hyundai\",\"Hyundai\",\"Maruti\",\"Honda\",\"Toyota\",\"Maruti\",\"Maruti\",\"Tata\",\"Hyundai\",\"Maruti\",\"Chevrolet\",\"Maruti\",\"Hyundai\",\"Ford\",\"Hyundai\",\"Hyundai\",\"Chevrolet\",\"Hyundai\",\"Hyundai\",\"Maruti\",\"Tata\",\"Maruti\",\"Maruti\",\"Datsun\",\"Maruti\",\"Mitsubishi\",\"Hyundai\",\"Maruti\",\"Maruti\",\"Tata\",\"Tata\",\"Hyundai\",\"Volkswagen\",\"Maruti\",\"Maruti\",\"Maruti\",\"Maruti\",\"Maruti\",\"Maruti\",\"Renault\",\"Hyundai\",\"Renault\",\"Chevrolet\",\"Maruti\",\"Ford\",\"Maruti\",\"Hyundai\",\"Hyundai\",\"Maruti\",\"Tata\",\"Maruti\",\"Maruti\",\"Maruti\",\"Maruti\",\"Hyundai\",\"Hyundai\",\"Hyundai\",\"Maruti\",\"Mahindra\",\"Datsun\",\"Maruti\",\"Maruti\",\"Maruti\",\"Maruti\",\"Maruti\",\"Honda\",\"Honda\",\"Chevrolet\",\"Tata\",\"Hyundai\",\"Hyundai\",\"Hyundai\",\"Ford\",\"Maruti\",\"Hyundai\",\"Hyundai\",\"Honda\",\"Maruti\",\"Honda\",\"Honda\",\"Ford\",\"Tata\",\"Hyundai\",\"Maruti\",\"Maruti\",\"Renault\",\"Chevrolet\",\"Maruti\",\"Maruti\",\"Tata\",\"Maruti\",\"Maruti\",\"Hyundai\",\"Tata\",\"Chevrolet\",\"Hyundai\",\"Hyundai\",\"Maruti\",\"Maruti\",\"Maruti\",\"Datsun\",\"Chevrolet\",\"Maruti\",\"Maruti\",\"Maruti\",\"Honda\",\"Hyundai\",\"Hyundai\",\"Ford\",\"Ford\",\"Maruti\",\"Maruti\",\"Maruti\",\"Renault\",\"Hyundai\",\"Jaguar\",\"Hyundai\",\"Hyundai\",\"Maruti\",\"Hyundai\",\"Volkswagen\",\"Maruti\",\"Honda\",\"Honda\",\"Maruti\",\"Hyundai\",\"Maruti\",\"Maruti\",\"Hyundai\",\"Chevrolet\",\"Hyundai\",\"Hyundai\",\"Hyundai\",\"Maruti\",\"Hyundai\",\"Maruti\",\"Maruti\",\"Hyundai\",\"Chevrolet\",\"Hyundai\",\"Hyundai\",\"Hyundai\",\"Maruti\",\"Hyundai\",\"Maruti\",\"Maruti\",\"Hyundai\",\"Chevrolet\",\"Hyundai\",\"Hyundai\",\"Hyundai\",\"Maruti\",\"Hyundai\",\"Maruti\",\"Maruti\",\"Hyundai\",\"Chevrolet\",\"Hyundai\",\"Hyundai\",\"Hyundai\",\"Hyundai\",\"Maruti\",\"Hyundai\",\"Maruti\",\"Chevrolet\",\"Maruti\",\"Maruti\",\"Maruti\",\"Honda\",\"Tata\",\"Maruti\",\"Maruti\",\"Honda\",\"Datsun\",\"Maruti\",\"Maruti\",\"Maruti\",\"Mahindra\",\"Chevrolet\",\"Maruti\",\"Hyundai\",\"Maruti\",\"Maruti\",\"Maruti\",\"Honda\",\"Maruti\",\"Maruti\",\"Honda\",\"Skoda\",\"Maruti\",\"Tata\",\"Maruti\",\"Maruti\",\"Maruti\",\"Maruti\",\"Tata\",\"Maruti\",\"Honda\",\"Chevrolet\",\"Maruti\",\"Maruti\",\"Hyundai\",\"Hyundai\",\"Hyundai\",\"Honda\",\"Maruti\",\"Hyundai\",\"Hyundai\",\"Toyota\",\"Volkswagen\",\"Toyota\",\"Volkswagen\",\"Skoda\",\"Maruti\",\"Hyundai\",\"Volkswagen\",\"Skoda\",\"Maruti\",\"Maruti\",\"Hyundai\",\"Maruti\",\"Maruti\",\"Maruti\",\"Maruti\",\"Tata\",\"Hyundai\",\"Hyundai\",\"Maruti\",\"Maruti\",\"Hyundai\",\"Maruti\",\"Honda\",\"Hyundai\",\"Tata\",\"Hyundai\",\"Maruti\",\"Hyundai\",\"Maruti\",\"Maruti\",\"Honda\",\"Maruti\",\"Volkswagen\",\"Hyundai\",\"Maruti\",\"Maruti\",\"Hyundai\",\"Maruti\",\"Maruti\",\"Hyundai\",\"Maruti\",\"Maruti\",\"Maruti\",\"Ford\",\"Maruti\",\"Renault\",\"Renault\",\"Hyundai\",\"Maruti\",\"Maruti\",\"Maruti\",\"Mahindra\",\"Chevrolet\",\"Renault\",\"Maruti\",\"Hyundai\",\"Hyundai\",\"Maruti\",\"Hyundai\",\"Honda\",\"Tata\",\"Tata\",\"Ford\",\"Tata\",\"Ford\",\"Maruti\",\"Toyota\",\"Maruti\",\"Maruti\",\"Toyota\",\"Maruti\",\"Hyundai\",\"Hyundai\",\"Maruti\",\"Tata\",\"Maruti\",\"Honda\",\"Hyundai\",\"Hyundai\",\"Maruti\",\"Hyundai\",\"Tata\",\"Hyundai\",\"Hyundai\",\"Hyundai\",\"Hyundai\",\"Maruti\",\"Maruti\",\"Tata\",\"Maruti\",\"Hyundai\",\"Maruti\",\"Hyundai\",\"Renault\",\"Hyundai\",\"Hyundai\",\"Maruti\",\"Maruti\",\"Maruti\",\"Hyundai\",\"Maruti\",\"Maruti\",\"Hyundai\",\"Chevrolet\",\"Hyundai\",\"Hyundai\",\"Hyundai\",\"Maruti\",\"Hyundai\",\"Maruti\",\"Maruti\",\"Hyundai\",\"Chevrolet\",\"Hyundai\",\"Hyundai\",\"Hyundai\",\"Honda\",\"Honda\",\"Maruti\",\"Maruti\",\"Hyundai\",\"Volkswagen\",\"Hyundai\",\"Hyundai\",\"Tata\",\"Toyota\",\"Hyundai\",\"Hyundai\",\"Renault\",\"Mahindra\",\"Maruti\",\"Maruti\",\"Toyota\",\"Hyundai\",\"Maruti\",\"Hyundai\",\"Maruti\",\"Land Rover\",\"Maruti\",\"Hyundai\",\"Hyundai\",\"Hyundai\",\"Tata\",\"Hyundai\",\"Hyundai\",\"Hyundai\",\"Maruti\",\"Hyundai\",\"Hyundai\",\"Maruti\",\"Honda\",\"Tata\",\"Skoda\",\"Maruti\",\"Tata\",\"Maruti\",\"Maruti\",\"Ford\",\"Honda\",\"Hyundai\",\"Maruti\",\"Hyundai\",\"Chevrolet\",\"Hyundai\",\"Maruti\",\"Maruti\",\"Maruti\",\"Hyundai\",\"Honda\",\"Maruti\",\"Hyundai\",\"Tata\",\"Maruti\",\"Honda\",\"Maruti\",\"Maruti\",\"Audi\",\"Toyota\",\"Honda\",\"Maruti\",\"Honda\",\"Hyundai\",\"Mahindra\",\"Maruti\",\"Tata\",\"Audi\",\"Hyundai\",\"Datsun\",\"Hyundai\",\"Renault\",\"Volkswagen\",\"Honda\",\"Volkswagen\",\"Hyundai\",\"Ford\",\"Honda\",\"Maruti\",\"Maruti\",\"Tata\",\"Hyundai\",\"Hyundai\",\"Hyundai\",\"Hyundai\",\"Maruti\",\"Maruti\",\"Maruti\",\"Datsun\",\"Hyundai\",\"Maruti\",\"Maruti\",\"Hyundai\",\"Maruti\",\"Maruti\",\"Honda\",\"Maruti\",\"Hyundai\",\"Hyundai\",\"Hyundai\",\"Maruti\",\"Maruti\",\"Maruti\",\"Maruti\",\"Maruti\",\"Maruti\",\"Maruti\",\"Maruti\",\"Maruti\",\"Hyundai\",\"Renault\",\"Hyundai\",\"Tata\",\"Maruti\",\"Maruti\",\"Maruti\",\"Maruti\",\"Hyundai\",\"Maruti\",\"Hyundai\",\"Maruti\",\"Maruti\",\"Hyundai\",\"Hyundai\",\"Maruti\",\"Hyundai\",\"Maruti\",\"Hyundai\",\"Maruti\",\"Maruti\",\"Tata\",\"Tata\",\"Hyundai\",\"Maruti\",\"Maruti\",\"Chevrolet\",\"Maruti\",\"Maruti\",\"Hyundai\",\"Nissan\",\"Hyundai\",\"Renault\",\"Maruti\",\"Chevrolet\",\"Chevrolet\",\"Chevrolet\",\"Honda\",\"Maruti\",\"Maruti\",\"Maruti\",\"Maruti\",\"Maruti\",\"Datsun\",\"Hyundai\",\"Datsun\",\"Maruti\",\"Ford\",\"Hyundai\",\"Volkswagen\",\"Ford\",\"Toyota\",\"Hyundai\",\"Maruti\",\"Toyota\",\"Maruti\",\"Toyota\",\"Toyota\",\"Honda\",\"Maruti\",\"Maruti\",\"Maruti\",\"Tata\",\"Maruti\",\"Honda\",\"Chevrolet\",\"Maruti\",\"Maruti\",\"Tata\",\"Maruti\",\"Maruti\",\"Maruti\",\"Tata\",\"Maruti\",\"Maruti\",\"Ford\",\"Ford\",\"Hyundai\",\"Hyundai\",\"Ford\",\"Maruti\",\"Maruti\",\"Maruti\",\"Maruti\",\"Maruti\",\"Maruti\",\"Maruti\",\"Renault\",\"Hyundai\",\"Maruti\",\"Maruti\",\"Maruti\",\"Maruti\",\"Maruti\",\"Honda\",\"Maruti\",\"Honda\",\"Renault\",\"Honda\",\"Honda\",\"Maruti\",\"Tata\",\"Hyundai\",\"Hyundai\",\"Maruti\",\"Hyundai\",\"Maruti\",\"Maruti\",\"Ford\",\"Maruti\",\"Maruti\",\"Maruti\",\"Honda\",\"Hyundai\",\"Maruti\",\"Volkswagen\",\"Hyundai\",\"Maruti\",\"Ford\",\"Maruti\",\"Chevrolet\",\"Hyundai\",\"Hyundai\",\"Nissan\",\"Toyota\",\"Hyundai\",\"Maruti\",\"Maruti\",\"Hyundai\",\"Hyundai\",\"Hyundai\",\"Hyundai\",\"Maruti\",\"Chevrolet\",\"Hyundai\",\"Maruti\",\"Maruti\",\"Renault\",\"Daewoo\",\"Honda\",\"Maruti\",\"Hyundai\",\"Chevrolet\",\"Hyundai\",\"Datsun\",\"Tata\",\"Honda\",\"Honda\",\"Maruti\",\"Maruti\",\"Maruti\",\"Chevrolet\",\"Chevrolet\",\"Hyundai\",\"Maruti\",\"Datsun\",\"Maruti\",\"Tata\",\"Maruti\",\"Tata\",\"Tata\",\"Maruti\",\"Maruti\",\"Chevrolet\",\"Hyundai\",\"Hyundai\",\"Maruti\",\"Maruti\",\"Maruti\",\"Maruti\",\"Chevrolet\",\"Honda\",\"Maruti\",\"Tata\",\"Maruti\",\"Hyundai\",\"Maruti\",\"Hyundai\",\"Maruti\",\"Chevrolet\",\"Maruti\",\"Maruti\",\"Honda\",\"Honda\",\"Hyundai\",\"Honda\",\"Maruti\",\"Maruti\",\"Hyundai\",\"Fiat\",\"Maruti\",\"Hyundai\",\"Volkswagen\",\"Maruti\",\"Renault\",\"Maruti\",\"Maruti\",\"Hyundai\",\"Ford\",\"Maruti\",\"Maruti\",\"Maruti\",\"Maruti\",\"Maruti\",\"Renault\",\"Tata\",\"Maruti\",\"Honda\",\"Hyundai\",\"Maruti\",\"Maruti\",\"Maruti\",\"Honda\",\"Hyundai\",\"Toyota\",\"Toyota\",\"Hyundai\",\"Maruti\",\"Maruti\",\"Toyota\",\"Maruti\",\"Maruti\",\"Hyundai\",\"Maruti\",\"Chevrolet\",\"Ford\",\"Honda\",\"Maruti\",\"Maruti\",\"Maruti\",\"Maruti\",\"Hyundai\",\"Hyundai\",\"Chevrolet\",\"Hyundai\",\"Hyundai\",\"Toyota\",\"Datsun\",\"Skoda\",\"Maruti\",\"Maruti\",\"Volkswagen\",\"Fiat\",\"Renault\",\"Maruti\",\"Maruti\",\"Maruti\",\"Hyundai\",\"Maruti\",\"Maruti\",\"Hyundai\",\"Maruti\",\"Hyundai\",\"Datsun\",\"Maruti\",\"Hyundai\",\"Maruti\",\"Hyundai\",\"Maruti\",\"Hyundai\",\"Maruti\",\"Hyundai\",\"Maruti\",\"Maruti\",\"Ford\",\"Hyundai\",\"Maruti\",\"Hyundai\",\"Toyota\",\"Maruti\",\"Hyundai\",\"Maruti\",\"Honda\",\"Hyundai\",\"Hyundai\",\"Maruti\",\"Maruti\",\"Maruti\",\"Hyundai\",\"Hyundai\",\"Maruti\",\"Hyundai\",\"Hyundai\",\"Maruti\",\"Honda\",\"Hyundai\",\"Datsun\",\"Hyundai\",\"Maruti\",\"Hyundai\",\"Chevrolet\",\"Hyundai\",\"Honda\",\"Ford\",\"Ford\",\"Ford\",\"Ford\",\"Ford\",\"Ford\",\"Honda\",\"Hyundai\",\"Maruti\",\"Nissan\",\"Ford\",\"Maruti\",\"Hyundai\",\"Maruti\",\"Maruti\",\"Chevrolet\",\"Renault\",\"Tata\",\"Maruti\",\"Hyundai\",\"Maruti\",\"Maruti\",\"Hyundai\",\"Chevrolet\",\"Hyundai\",\"Hyundai\",\"Hyundai\",\"Maruti\",\"Maruti\",\"Maruti\",\"Maruti\",\"Maruti\",\"Maruti\",\"Maruti\",\"Maruti\",\"Maruti\",\"Maruti\",\"Maruti\",\"Maruti\",\"Tata\",\"Maruti\",\"Maruti\",\"Maruti\",\"Datsun\",\"Maruti\",\"Maruti\",\"Tata\",\"Hyundai\",\"Ford\",\"Ford\",\"Datsun\",\"Chevrolet\",\"Maruti\",\"Renault\",\"Tata\",\"Maruti\",\"Maruti\",\"Maruti\",\"Renault\",\"Hyundai\",\"Maruti\",\"Fiat\",\"Hyundai\",\"Hyundai\",\"Maruti\",\"Maruti\",\"Mahindra\",\"Maruti\",\"Hyundai\",\"Maruti\",\"Maruti\",\"Honda\",\"Maruti\",\"Maruti\",\"Honda\",\"Maruti\",\"Hyundai\",\"Chevrolet\",\"Maruti\",\"Volkswagen\",\"Hyundai\",\"Chevrolet\",\"Tata\",\"Maruti\",\"Ford\",\"Hyundai\",\"Hyundai\",\"Mahindra\",\"Renault\",\"Maruti\",\"Hyundai\",\"Maruti\",\"Maruti\",\"Chevrolet\",\"Chevrolet\",\"Tata\",\"Toyota\",\"Maruti\",\"Chevrolet\",\"Hyundai\",\"Tata\",\"Maruti\",\"Chevrolet\",\"Maruti\",\"Maruti\",\"Maruti\",\"Hyundai\",\"Toyota\",\"Maruti\",\"Chevrolet\",\"Tata\",\"Volkswagen\",\"Hyundai\",\"Chevrolet\",\"Skoda\",\"Maruti\",\"Maruti\",\"Maruti\",\"Hyundai\",\"Hyundai\",\"Maruti\",\"Tata\",\"Maruti\",\"Mercedes-Benz\",\"Maruti\",\"Maruti\",\"Maruti\",\"Maruti\",\"Renault\",\"Hyundai\",\"Maruti\",\"Maruti\",\"Maruti\",\"Hyundai\",\"Tata\",\"Tata\",\"Renault\",\"Maruti\",\"Hyundai\",\"Maruti\",\"Hyundai\",\"Chevrolet\",\"Maruti\",\"Hyundai\",\"Maruti\",\"Hyundai\",\"Honda\",\"Honda\",\"Hyundai\",\"Hyundai\",\"Hyundai\",\"Hyundai\",\"Hyundai\",\"Hyundai\",\"Renault\",\"Maruti\",\"Hyundai\",\"Hyundai\",\"Maruti\",\"Hyundai\",\"Hyundai\",\"Chevrolet\",\"Hyundai\",\"Datsun\",\"Maruti\",\"Maruti\",\"Renault\",\"Hyundai\",\"Hyundai\",\"Maruti\",\"Maruti\",\"Ford\",\"Tata\",\"Hyundai\",\"Tata\",\"Hyundai\",\"Honda\",\"Honda\",\"Maruti\",\"Skoda\",\"Maruti\",\"Maruti\",\"Maruti\",\"Chevrolet\",\"Ford\",\"Hyundai\",\"Hyundai\",\"Hyundai\",\"Hyundai\",\"Renault\",\"Hyundai\",\"Jaguar\",\"Hyundai\",\"Hyundai\",\"Maruti\",\"Hyundai\",\"Volkswagen\",\"Maruti\",\"Honda\",\"Honda\",\"Hyundai\",\"Tata\",\"Maruti\",\"Maruti\",\"Opel\",\"Hyundai\",\"Hyundai\",\"Honda\",\"Datsun\",\"Hyundai\",\"Maruti\",\"Hyundai\",\"Maruti\",\"Renault\",\"Maruti\",\"Chevrolet\",\"Hyundai\",\"Honda\",\"Maruti\",\"Renault\",\"Maruti\",\"Honda\",\"Honda\",\"Hyundai\",\"Maruti\",\"Maruti\",\"Maruti\",\"Maruti\",\"Toyota\",\"Maruti\",\"Hyundai\",\"Maruti\",\"Maruti\",\"Hyundai\",\"Chevrolet\",\"Hyundai\",\"Hyundai\",\"Hyundai\",\"Maruti\",\"Hyundai\",\"Maruti\",\"Maruti\",\"Hyundai\",\"Chevrolet\",\"Hyundai\",\"Hyundai\",\"Hyundai\",\"Chevrolet\",\"Maruti\",\"Datsun\",\"Renault\",\"Tata\",\"Maruti\",\"Tata\",\"Hyundai\",\"Hyundai\",\"Hyundai\",\"Nissan\",\"Honda\",\"Maruti\",\"Hyundai\",\"Hyundai\",\"Datsun\",\"Toyota\",\"Chevrolet\",\"Maruti\",\"Hyundai\",\"Maruti\",\"Honda\",\"Renault\",\"Renault\",\"Honda\",\"Maruti\",\"Maruti\",\"Audi\",\"Toyota\",\"Honda\",\"Maruti\",\"Honda\",\"Hyundai\",\"Mahindra\",\"Maruti\",\"Maruti\",\"Mercedes-Benz\",\"Maruti\",\"Maruti\",\"Renault\",\"Maruti\",\"Maruti\",\"Maruti\",\"Hyundai\",\"Maruti\",\"Mercedes-Benz\",\"Hyundai\",\"Renault\",\"Hyundai\",\"Maruti\",\"Nissan\",\"Maruti\",\"Toyota\",\"Maruti\",\"Maruti\",\"Toyota\",\"Maruti\",\"Hyundai\",\"Maruti\",\"Tata\",\"Maruti\",\"Maruti\",\"Maruti\",\"Maruti\",\"Maruti\",\"Hyundai\",\"Chevrolet\",\"Maruti\",\"Maruti\",\"Hyundai\",\"Maruti\",\"Maruti\",\"Honda\",\"Honda\",\"Honda\",\"Maruti\",\"Maruti\",\"Honda\",\"Maruti\",\"Hyundai\",\"Maruti\",\"Hyundai\",\"Hyundai\",\"Toyota\",\"Hyundai\",\"Hyundai\",\"Renault\",\"Maruti\",\"Honda\",\"Maruti\",\"Maruti\",\"Honda\",\"Maruti\",\"Maruti\",\"Mahindra\",\"Maruti\",\"Maruti\",\"Maruti\",\"Ford\",\"Maruti\",\"Renault\",\"Renault\",\"Maruti\",\"Maruti\",\"Maruti\",\"Maruti\",\"Renault\",\"Tata\",\"Hyundai\",\"Maruti\",\"Hyundai\",\"Maruti\",\"Maruti\",\"Tata\",\"Hyundai\",\"Hyundai\",\"Hyundai\",\"Tata\",\"Hyundai\",\"Ford\",\"Maruti\",\"Maruti\",\"Chevrolet\",\"Hyundai\",\"Mahindra\",\"Maruti\",\"Hyundai\",\"Nissan\",\"Maruti\",\"Maruti\",\"Maruti\",\"Maruti\",\"Hyundai\",\"Maruti\",\"Tata\",\"Hyundai\",\"Hyundai\",\"Maruti\",\"Hyundai\",\"Maruti\",\"Hyundai\",\"Hyundai\",\"Ford\",\"Honda\",\"Honda\",\"Maruti\",\"Maruti\",\"Chevrolet\",\"Maruti\",\"Tata\",\"Hyundai\",\"Honda\",\"Hyundai\",\"Hyundai\",\"Hyundai\",\"Datsun\",\"Volkswagen\",\"Honda\",\"Mercedes-Benz\",\"Volkswagen\",\"Maruti\",\"Tata\",\"Maruti\",\"Mahindra\",\"Maruti\",\"Hyundai\",\"Hyundai\",\"Chevrolet\",\"Hyundai\",\"Tata\",\"Hyundai\",\"Hyundai\",\"Renault\",\"Ford\",\"Skoda\",\"Ford\",\"Chevrolet\",\"Chevrolet\",\"Ford\",\"Hyundai\",\"Tata\",\"Maruti\",\"Chevrolet\",\"Ford\",\"Volkswagen\",\"Honda\",\"Maruti\",\"Maruti\",\"Maruti\",\"Maruti\",\"Maruti\",\"Maruti\",\"Ford\",\"Tata\",\"Maruti\",\"Hyundai\",\"Chevrolet\",\"Ford\",\"Hyundai\",\"Hyundai\",\"Maruti\",\"Ford\",\"Renault\",\"Ford\",\"Mahindra\",\"Renault\",\"Hyundai\",\"Renault\",\"Hyundai\",\"Audi\",\"Hyundai\",\"Tata\",\"Skoda\",\"Maruti\",\"Hyundai\",\"Nissan\",\"Maruti\",\"Maruti\",\"Renault\",\"Maruti\",\"Maruti\",\"Maruti\",\"Maruti\",\"Hyundai\",\"Honda\",\"Honda\",\"Hyundai\",\"Hyundai\",\"Honda\",\"Hyundai\",\"Hyundai\",\"Tata\",\"Maruti\",\"Hyundai\",\"Tata\",\"Honda\",\"Maruti\",\"Ford\",\"Hyundai\",\"Maruti\",\"Hyundai\",\"Maruti\",\"Maruti\",\"Hyundai\",\"Chevrolet\",\"Hyundai\",\"Hyundai\",\"Hyundai\",\"Maruti\",\"Maruti\",\"Tata\",\"Tata\",\"Maruti\",\"Hyundai\",\"Hyundai\",\"Maruti\",\"Maruti\",\"Maruti\",\"Honda\",\"Maruti\",\"Maruti\",\"Maruti\",\"Maruti\",\"Fiat\",\"Maruti\",\"Maruti\",\"Tata\",\"Tata\",\"Honda\",\"Honda\",\"Maruti\",\"Hyundai\",\"Hyundai\",\"Hyundai\",\"Hyundai\",\"Maruti\",\"Hyundai\",\"Hyundai\",\"Tata\",\"Nissan\",\"Maruti\",\"Hyundai\",\"Hyundai\",\"Maruti\",\"Maruti\",\"Honda\",\"Honda\",\"Volkswagen\",\"Tata\",\"Honda\",\"Hyundai\",\"Maruti\",\"Hyundai\",\"Maruti\",\"Nissan\",\"Maruti\",\"Nissan\",\"Maruti\",\"Maruti\",\"Maruti\",\"Maruti\",\"Maruti\",\"Maruti\",\"Hyundai\",\"Maruti\",\"Maruti\",\"Maruti\",\"Hyundai\",\"Hyundai\",\"Chevrolet\",\"Chevrolet\",\"Ford\",\"Hyundai\",\"Chevrolet\",\"Volkswagen\",\"Ford\",\"Honda\",\"Maruti\",\"Honda\",\"Honda\",\"Honda\",\"Hyundai\",\"Maruti\",\"Maruti\",\"Maruti\",\"Maruti\",\"Maruti\",\"Maruti\",\"Hyundai\",\"Maruti\",\"Maruti\",\"Hyundai\",\"Tata\",\"Hyundai\",\"Maruti\",\"Honda\",\"Honda\",\"Maruti\",\"Maruti\",\"Hyundai\",\"Volkswagen\",\"Hyundai\",\"Hyundai\",\"Tata\",\"Toyota\",\"Hyundai\",\"Hyundai\",\"Maruti\",\"Hyundai\",\"Maruti\",\"Maruti\",\"Maruti\",\"Maruti\",\"Toyota\",\"Ford\",\"Maruti\",\"Maruti\",\"Tata\",\"Skoda\",\"Hyundai\",\"Hyundai\",\"Tata\",\"Maruti\",\"Maruti\",\"Hyundai\",\"Hyundai\",\"Hyundai\",\"Tata\",\"Hyundai\",\"Maruti\",\"Maruti\",\"Hyundai\",\"Maruti\",\"Maruti\",\"Hyundai\",\"Maruti\",\"Honda\",\"Hyundai\",\"Maruti\",\"Maruti\",\"Renault\",\"Maruti\",\"Hyundai\",\"Hyundai\",\"Chevrolet\",\"Volkswagen\",\"Maruti\",\"Hyundai\",\"Maruti\",\"Honda\",\"Maruti\",\"Renault\",\"Maruti\",\"Maruti\",\"Hyundai\",\"Maruti\",\"Hyundai\",\"Maruti\",\"Maruti\",\"Hyundai\",\"Toyota\",\"Maruti\",\"Hyundai\",\"Maruti\",\"Maruti\",\"Maruti\",\"Maruti\",\"Tata\",\"Honda\",\"Honda\",\"Maruti\",\"Ford\",\"Hyundai\",\"Hyundai\",\"Ford\",\"Tata\",\"Maruti\",\"Honda\",\"Maruti\",\"Hyundai\",\"Maruti\",\"Hyundai\",\"Tata\",\"Hyundai\",\"Hyundai\",\"Hyundai\",\"Maruti\",\"Maruti\",\"Maruti\",\"Toyota\",\"Ford\",\"Chevrolet\",\"Hyundai\",\"Volkswagen\",\"BMW\",\"Maruti\",\"Maruti\",\"Maruti\",\"Maruti\",\"Maruti\",\"Honda\",\"Maruti\",\"Maruti\",\"Maruti\",\"Maruti\",\"Maruti\",\"Maruti\",\"Maruti\",\"Ford\",\"Renault\",\"Maruti\",\"Renault\",\"Hyundai\",\"Maruti\",\"Maruti\",\"Maruti\",\"Maruti\",\"Ford\",\"Hyundai\",\"Maruti\",\"Datsun\",\"Hyundai\",\"Maruti\",\"Maruti\",\"Volkswagen\",\"Maruti\",\"Maruti\",\"Maruti\",\"Hyundai\",\"Hyundai\",\"Maruti\",\"Hyundai\",\"Maruti\",\"Maruti\",\"Volkswagen\",\"Tata\",\"Honda\",\"Tata\",\"Maruti\",\"Opel\",\"Maruti\",\"Volkswagen\",\"Maruti\",\"Maruti\",\"Tata\",\"Maruti\",\"Ford\",\"Honda\",\"Ford\",\"Hyundai\",\"Maruti\",\"Chevrolet\",\"Hyundai\",\"Hyundai\",\"Maruti\",\"Hyundai\",\"Hyundai\",\"Hyundai\",\"Ford\",\"Ford\",\"Nissan\",\"Maruti\",\"Maruti\",\"Maruti\",\"Maruti\",\"Maruti\",\"Nissan\",\"Hyundai\",\"Tata\",\"Hyundai\",\"Maruti\",\"Renault\",\"Maruti\",\"Ford\",\"Hyundai\",\"Maruti\",\"Ford\",\"Maruti\",\"Tata\",\"Maruti\",\"Hyundai\",\"Datsun\",\"Datsun\",\"Hyundai\",\"Maruti\",\"Hyundai\",\"Maruti\",\"Tata\",\"Maruti\",\"Hyundai\",\"Tata\",\"Maruti\",\"Hyundai\",\"Hyundai\",\"Maruti\",\"Maruti\",\"Hyundai\",\"Hyundai\",\"Volkswagen\",\"Maruti\",\"Maruti\",\"Maruti\",\"Hyundai\",\"Renault\",\"Datsun\",\"Maruti\",\"Skoda\",\"Maruti\",\"Honda\",\"Hyundai\",\"Hyundai\",\"Honda\",\"Tata\",\"Honda\",\"Maruti\",\"Chevrolet\",\"Maruti\",\"Hyundai\",\"Maruti\",\"Tata\",\"Maruti\",\"Hyundai\",\"Hyundai\",\"Honda\",\"Maruti\",\"Maruti\",\"Maruti\",\"Honda\",\"Datsun\",\"Chevrolet\",\"Maruti\",\"Hyundai\",\"Maruti\",\"Tata\",\"Datsun\",\"Maruti\",\"Maruti\",\"Mahindra\",\"Hyundai\",\"Maruti\",\"Maruti\",\"Hyundai\",\"Tata\",\"Hyundai\",\"Hyundai\",\"Maruti\",\"Hyundai\",\"Maruti\",\"Toyota\",\"Fiat\",\"Honda\",\"Honda\",\"Hyundai\",\"Hyundai\",\"Maruti\",\"Maruti\",\"Maruti\",\"Hyundai\",\"Maruti\",\"Maruti\",\"Maruti\",\"Maruti\",\"Hyundai\",\"Maruti\",\"Maruti\",\"Maruti\",\"Ford\",\"Maruti\",\"Maruti\",\"Maruti\",\"Maruti\",\"Maruti\",\"Maruti\",\"Toyota\",\"Maruti\",\"Maruti\",\"Audi\",\"Maruti\",\"Hyundai\",\"Datsun\",\"Ambassador\",\"Hyundai\",\"Maruti\",\"Hyundai\",\"Maruti\",\"Volkswagen\",\"Maruti\",\"Hyundai\",\"Maruti\",\"Chevrolet\",\"Hyundai\",\"Hyundai\",\"Chevrolet\",\"Renault\",\"Renault\",\"Hyundai\",\"Hyundai\",\"Maruti\",\"Hyundai\",\"Honda\",\"Maruti\",\"Maruti\",\"Maruti\",\"Tata\",\"Hyundai\",\"Hyundai\",\"Hyundai\",\"Tata\",\"Maruti\",\"Hyundai\",\"Maruti\",\"Ford\",\"Maruti\",\"Ford\",\"Hyundai\",\"Maruti\",\"Datsun\",\"Maruti\",\"Ford\",\"Hyundai\",\"Maruti\",\"Renault\",\"Maruti\",\"Hyundai\",\"Renault\",\"Honda\",\"Honda\",\"Hyundai\",\"Renault\",\"Hyundai\",\"Maruti\",\"Maruti\",\"Honda\",\"Tata\",\"Maruti\",\"Maruti\",\"Maruti\",\"Maruti\",\"Hyundai\",\"Maruti\",\"Honda\",\"Hyundai\",\"Nissan\",\"Tata\",\"Maruti\",\"Maruti\",\"Fiat\",\"Hyundai\",\"Maruti\",\"Renault\",\"Maruti\",\"Maruti\",\"Maruti\",\"Maruti\",\"Hyundai\",\"Honda\",\"Hyundai\",\"Hyundai\",\"Maruti\",\"Maruti\",\"Hyundai\",\"Maruti\",\"Maruti\",\"Maruti\",\"Maruti\",\"Maruti\",\"Maruti\",\"Tata\",\"Maruti\",\"Honda\",\"Renault\",\"Maruti\",\"Renault\",\"Hyundai\",\"Hyundai\",\"Maruti\",\"Maruti\",\"Hyundai\",\"Maruti\",\"Maruti\",\"Tata\",\"Ford\",\"Hyundai\",\"Nissan\",\"Chevrolet\",\"Tata\",\"Toyota\",\"Maruti\",\"Chevrolet\",\"Hyundai\",\"Maruti\",\"Datsun\",\"Hyundai\",\"Hyundai\",\"Hyundai\",\"Chevrolet\",\"Hyundai\",\"Hyundai\",\"Maruti\",\"Hyundai\",\"Volkswagen\",\"Maruti\",\"Hyundai\",\"Maruti\",\"Maruti\",\"Maruti\",\"Hyundai\",\"Maruti\",\"Maruti\",\"Hyundai\",\"Ford\",\"Honda\",\"Maruti\",\"Renault\",\"Tata\",\"Maruti\",\"Maruti\",\"Maruti\",\"Maruti\",\"Renault\",\"Hyundai\",\"Ford\",\"Audi\",\"Honda\",\"Maruti\",\"Maruti\",\"Hyundai\",\"Maruti\",\"Hyundai\",\"Maruti\",\"Skoda\",\"Maruti\",\"Honda\",\"Honda\",\"Chevrolet\",\"Hyundai\",\"Hyundai\",\"Hyundai\",\"Datsun\",\"Tata\",\"Maruti\",\"Honda\",\"Audi\",\"Hyundai\",\"Maruti\",\"Honda\",\"Maruti\",\"Hyundai\",\"Datsun\",\"Hyundai\",\"Hyundai\",\"Hyundai\",\"Audi\",\"MG\",\"Honda\",\"Maruti\",\"Nissan\",\"Chevrolet\",\"Maruti\",\"Chevrolet\",\"Hyundai\",\"Maruti\",\"Maruti\",\"Hyundai\",\"Volkswagen\",\"Hyundai\",\"Tata\",\"Datsun\",\"Tata\",\"Volkswagen\",\"Hyundai\",\"Maruti\",\"Honda\",\"Maruti\",\"Maruti\",\"Hyundai\",\"Hyundai\",\"Maruti\",\"Skoda\",\"Fiat\",\"Tata\",\"Maruti\",\"Maruti\",\"Maruti\",\"Maruti\",\"Hyundai\",\"Maruti\",\"Honda\",\"Maruti\",\"Honda\",\"Honda\",\"Honda\",\"Maruti\",\"Maruti\",\"Hyundai\",\"Hyundai\",\"Hyundai\",\"Hyundai\",\"Ford\",\"Hyundai\",\"Maruti\",\"Hyundai\",\"Maruti\",\"Maruti\",\"Maruti\",\"Honda\",\"Hyundai\",\"Maruti\",\"Fiat\",\"Maruti\",\"Hyundai\",\"Maruti\",\"Maruti\",\"Maruti\",\"Chevrolet\",\"Maruti\",\"Tata\",\"Tata\",\"Hyundai\",\"Hyundai\",\"Hyundai\",\"Chevrolet\",\"Tata\",\"Tata\",\"Maruti\",\"Honda\",\"Maruti\",\"Maruti\",\"Hyundai\",\"Hyundai\",\"Maruti\",\"Skoda\",\"Fiat\",\"Tata\",\"Maruti\",\"Maruti\",\"Maruti\",\"Maruti\",\"Maruti\",\"Toyota\",\"Hyundai\",\"Hyundai\",\"Maruti\",\"Maruti\",\"Chevrolet\",\"Maruti\",\"Maruti\",\"Maruti\",\"Maruti\",\"Maruti\",\"Maruti\",\"Maruti\",\"Maruti\",\"Renault\",\"Tata\",\"Honda\",\"Hyundai\",\"Hyundai\",\"Maruti\",\"Hyundai\",\"Maruti\",\"Hyundai\",\"Ford\",\"Hyundai\",\"Maruti\",\"Maruti\",\"Chevrolet\",\"Maruti\",\"Hyundai\",\"Maruti\",\"Maruti\",\"Hyundai\",\"Ford\",\"Hyundai\",\"Maruti\",\"Honda\",\"Maruti\",\"Tata\",\"Ford\",\"Maruti\",\"Hyundai\",\"Hyundai\",\"Hyundai\",\"Maruti\",\"Maruti\",\"Honda\",\"Tata\",\"Maruti\",\"Hyundai\",\"Hyundai\",\"Hyundai\",\"Maruti\",\"Maruti\",\"Maruti\",\"Hyundai\",\"Hyundai\",\"Honda\",\"Tata\",\"Maruti\",\"Maruti\",\"Tata\",\"Hyundai\",\"Maruti\",\"Renault\",\"Renault\",\"Nissan\",\"Honda\",\"Hyundai\",\"Maruti\",\"Maruti\",\"Maruti\",\"Renault\",\"Honda\",\"Tata\",\"Maruti\",\"Hyundai\",\"Hyundai\",\"Maruti\",\"Toyota\",\"Hyundai\",\"Mahindra\",\"Maruti\",\"Hyundai\",\"Honda\",\"Honda\",\"Maruti\",\"Hyundai\",\"Honda\",\"Honda\",\"Ford\",\"Honda\",\"Hyundai\",\"Hyundai\",\"Maruti\",\"Maruti\",\"Maruti\",\"Hyundai\",\"Maruti\",\"Hyundai\",\"Maruti\",\"Maruti\",\"Hyundai\",\"Hyundai\",\"Hyundai\",\"Nissan\",\"Honda\",\"Maruti\",\"Hyundai\",\"Hyundai\",\"Maruti\",\"Datsun\",\"Toyota\",\"Maruti\",\"Chevrolet\",\"Maruti\",\"Maruti\",\"Maruti\",\"Maruti\",\"Maruti\",\"Maruti\",\"Honda\",\"Tata\",\"Tata\",\"Maruti\",\"Renault\"],\"xaxis\":\"x5\",\"yaxis\":\"y5\",\"type\":\"histogram\"},{\"alignmentgroup\":\"True\",\"bingroup\":\"x\",\"hovertemplate\":\"fuel=Diesel<br>name=%{x}<br>count=%{y}<extra></extra>\",\"legendgroup\":\"\",\"marker\":{\"color\":\"#636efa\",\"pattern\":{\"shape\":\"\"}},\"name\":\"\",\"offsetgroup\":\"\",\"orientation\":\"v\",\"showlegend\":false,\"x\":[\"Hyundai\",\"Honda\",\"Hyundai\",\"Honda\",\"Hyundai\",\"Chevrolet\",\"Jaguar\",\"Mercedes-Benz\",\"Maruti\",\"Audi\",\"Audi\",\"Mercedes-Benz\",\"Skoda\",\"Toyota\",\"BMW\",\"Audi\",\"Hyundai\",\"Mahindra\",\"Honda\",\"Mahindra\",\"Maruti\",\"Hyundai\",\"Maruti\",\"Hyundai\",\"Mahindra\",\"Honda\",\"Tata\",\"Toyota\",\"Chevrolet\",\"Toyota\",\"Mahindra\",\"Tata\",\"Toyota\",\"Tata\",\"Ford\",\"Maruti\",\"Skoda\",\"Hyundai\",\"Hyundai\",\"Mercedes-Benz\",\"Mahindra\",\"Renault\",\"Mahindra\",\"Audi\",\"Fiat\",\"Audi\",\"Audi\",\"BMW\",\"Volvo\",\"BMW\",\"Mahindra\",\"Hyundai\",\"Mahindra\",\"Mahindra\",\"Hyundai\",\"Maruti\",\"Mahindra\",\"Maruti\",\"Chevrolet\",\"Maruti\",\"Toyota\",\"Maruti\",\"Hyundai\",\"Tata\",\"Chevrolet\",\"Chevrolet\",\"Ford\",\"Tata\",\"Tata\",\"Maruti\",\"Hyundai\",\"Maruti\",\"Mahindra\",\"Chevrolet\",\"Chevrolet\",\"Honda\",\"Tata\",\"Maruti\",\"Renault\",\"Mahindra\",\"Maruti\",\"Volkswagen\",\"Mercedes-Benz\",\"Renault\",\"Ford\",\"Ford\",\"Maruti\",\"Mahindra\",\"Maruti\",\"Chevrolet\",\"Chevrolet\",\"BMW\",\"Chevrolet\",\"Maruti\",\"Skoda\",\"Mahindra\",\"Maruti\",\"Nissan\",\"Maruti\",\"Hyundai\",\"Mercedes-Benz\",\"Volkswagen\",\"Mahindra\",\"Chevrolet\",\"Mahindra\",\"Maruti\",\"Toyota\",\"Honda\",\"Toyota\",\"Tata\",\"Tata\",\"Chevrolet\",\"Tata\",\"Skoda\",\"Toyota\",\"Honda\",\"Hyundai\",\"Chevrolet\",\"Ford\",\"Hyundai\",\"Maruti\",\"Tata\",\"Maruti\",\"Hyundai\",\"Maruti\",\"Tata\",\"Mahindra\",\"Maruti\",\"Hyundai\",\"Mahindra\",\"Hyundai\",\"Mahindra\",\"Mahindra\",\"Mahindra\",\"Mahindra\",\"Mahindra\",\"Mahindra\",\"Renault\",\"Ford\",\"Mahindra\",\"Honda\",\"Mahindra\",\"Chevrolet\",\"Skoda\",\"Hyundai\",\"Ford\",\"BMW\",\"Maruti\",\"BMW\",\"Toyota\",\"Chevrolet\",\"Mahindra\",\"Maruti\",\"Ford\",\"Maruti\",\"Renault\",\"Maruti\",\"Ford\",\"Mahindra\",\"Tata\",\"Hyundai\",\"Maruti\",\"Toyota\",\"Hyundai\",\"Maruti\",\"Mahindra\",\"Mahindra\",\"Hyundai\",\"Chevrolet\",\"Maruti\",\"Tata\",\"Maruti\",\"Mahindra\",\"Chevrolet\",\"Ford\",\"Maruti\",\"Mahindra\",\"Skoda\",\"Mahindra\",\"Chevrolet\",\"Maruti\",\"Tata\",\"Toyota\",\"Maruti\",\"Maruti\",\"Tata\",\"Mahindra\",\"Toyota\",\"Ford\",\"Mahindra\",\"Mahindra\",\"Ford\",\"Mahindra\",\"Tata\",\"Maruti\",\"Toyota\",\"Chevrolet\",\"Maruti\",\"Maruti\",\"Ford\",\"Honda\",\"Hyundai\",\"Ford\",\"Volkswagen\",\"Volkswagen\",\"Audi\",\"Renault\",\"Ford\",\"Honda\",\"Mahindra\",\"Mahindra\",\"Tata\",\"Tata\",\"Maruti\",\"Maruti\",\"Maruti\",\"Mahindra\",\"Mahindra\",\"Volkswagen\",\"Hyundai\",\"Toyota\",\"Tata\",\"Maruti\",\"Renault\",\"Maruti\",\"Renault\",\"Ford\",\"Maruti\",\"Volkswagen\",\"Maruti\",\"Volkswagen\",\"Maruti\",\"Mahindra\",\"Honda\",\"Toyota\",\"Maruti\",\"Fiat\",\"Ford\",\"Ford\",\"Ford\",\"Ford\",\"Maruti\",\"Ford\",\"Ford\",\"Ford\",\"Mahindra\",\"Fiat\",\"Ford\",\"Honda\",\"Skoda\",\"Maruti\",\"Mahindra\",\"Honda\",\"Mahindra\",\"Tata\",\"Honda\",\"Maruti\",\"Hyundai\",\"Toyota\",\"Maruti\",\"Maruti\",\"Toyota\",\"Hyundai\",\"Maruti\",\"Maruti\",\"Toyota\",\"Mahindra\",\"Renault\",\"Hyundai\",\"Mercedes-Benz\",\"Maruti\",\"Renault\",\"Maruti\",\"Hyundai\",\"Toyota\",\"BMW\",\"Renault\",\"Mercedes-Benz\",\"Audi\",\"BMW\",\"Hyundai\",\"Toyota\",\"Maruti\",\"Audi\",\"Skoda\",\"Maruti\",\"Renault\",\"Mercedes-Benz\",\"Audi\",\"BMW\",\"Hyundai\",\"Toyota\",\"Maruti\",\"Audi\",\"Skoda\",\"Maruti\",\"Renault\",\"Mercedes-Benz\",\"Audi\",\"BMW\",\"Hyundai\",\"Toyota\",\"Maruti\",\"Audi\",\"Skoda\",\"Maruti\",\"Renault\",\"Mercedes-Benz\",\"Audi\",\"BMW\",\"Hyundai\",\"Toyota\",\"Maruti\",\"Audi\",\"Skoda\",\"Maruti\",\"Mahindra\",\"Tata\",\"Mahindra\",\"Maruti\",\"Chevrolet\",\"Chevrolet\",\"Tata\",\"Tata\",\"Mahindra\",\"Tata\",\"Tata\",\"Tata\",\"Chevrolet\",\"Ford\",\"Tata\",\"Hyundai\",\"Mahindra\",\"Hyundai\",\"Toyota\",\"Hyundai\",\"Mahindra\",\"Mahindra\",\"Hyundai\",\"Skoda\",\"Mahindra\",\"Toyota\",\"Hyundai\",\"Volkswagen\",\"Hyundai\",\"Renault\",\"Hyundai\",\"Maruti\",\"Chevrolet\",\"Hyundai\",\"Hyundai\",\"Maruti\",\"Volkswagen\",\"Mahindra\",\"Audi\",\"Maruti\",\"Tata\",\"Hyundai\",\"Land Rover\",\"Tata\",\"Maruti\",\"Hyundai\",\"Toyota\",\"Mahindra\",\"Renault\",\"Mahindra\",\"Maruti\",\"Mahindra\",\"Mahindra\",\"Toyota\",\"Maruti\",\"Honda\",\"Honda\",\"Toyota\",\"Toyota\",\"Volkswagen\",\"Mahindra\",\"Toyota\",\"Maruti\",\"Maruti\",\"Tata\",\"Maruti\",\"Mahindra\",\"Maruti\",\"Fiat\",\"Maruti\",\"Toyota\",\"Honda\",\"Mahindra\",\"Mahindra\",\"Hyundai\",\"Mahindra\",\"Maruti\",\"Mahindra\",\"Mahindra\",\"Toyota\",\"Toyota\",\"Mahindra\",\"Hyundai\",\"Maruti\",\"Fiat\",\"Hyundai\",\"Fiat\",\"Tata\",\"Mahindra\",\"Hyundai\",\"Mercedes-Benz\",\"Hyundai\",\"Toyota\",\"Tata\",\"Mahindra\",\"Renault\",\"Mahindra\",\"Hyundai\",\"Tata\",\"Maruti\",\"Ford\",\"Maruti\",\"Maruti\",\"Nissan\",\"Tata\",\"Mahindra\",\"Chevrolet\",\"Mahindra\",\"Maruti\",\"Toyota\",\"Nissan\",\"Maruti\",\"Nissan\",\"Toyota\",\"Mahindra\",\"Toyota\",\"Renault\",\"Mercedes-Benz\",\"Audi\",\"BMW\",\"Hyundai\",\"Toyota\",\"Maruti\",\"Audi\",\"Skoda\",\"Maruti\",\"Renault\",\"Mercedes-Benz\",\"Audi\",\"BMW\",\"Hyundai\",\"Toyota\",\"Maruti\",\"Audi\",\"Skoda\",\"Maruti\",\"Volkswagen\",\"Tata\",\"Volkswagen\",\"Volkswagen\",\"Hyundai\",\"Hyundai\",\"Maruti\",\"Volkswagen\",\"Skoda\",\"Mahindra\",\"Ford\",\"Audi\",\"Maruti\",\"Audi\",\"Maruti\",\"Chevrolet\",\"Hyundai\",\"BMW\",\"Hyundai\",\"Mahindra\",\"Mahindra\",\"Toyota\",\"Mahindra\",\"Maruti\",\"Tata\",\"Honda\",\"Maruti\",\"Mahindra\",\"Fiat\",\"Hyundai\",\"Ford\",\"Tata\",\"Maruti\",\"Mahindra\",\"Ford\",\"Tata\",\"Mahindra\",\"Hyundai\",\"Hyundai\",\"Hyundai\",\"Tata\",\"Mahindra\",\"Mitsubishi\",\"Ford\",\"Mercedes-Benz\",\"BMW\",\"BMW\",\"Chevrolet\",\"BMW\",\"Toyota\",\"Audi\",\"Hyundai\",\"Mahindra\",\"Maruti\",\"Ford\",\"Tata\",\"Nissan\",\"Maruti\",\"Ford\",\"Skoda\",\"Tata\",\"Mahindra\",\"Mahindra\",\"Mahindra\",\"Mahindra\",\"Skoda\",\"Chevrolet\",\"Honda\",\"Maruti\",\"Renault\",\"Honda\",\"Honda\",\"Maruti\",\"Renault\",\"Audi\",\"Audi\",\"Audi\",\"Ford\",\"Mahindra\",\"Renault\",\"Land Rover\",\"Maruti\",\"Toyota\",\"Chevrolet\",\"Tata\",\"Tata\",\"Honda\",\"Tata\",\"Tata\",\"Tata\",\"Ford\",\"Maruti\",\"Mercedes-Benz\",\"Toyota\",\"Maruti\",\"Mahindra\",\"Toyota\",\"Hyundai\",\"Toyota\",\"Maruti\",\"Mahindra\",\"Mahindra\",\"Chevrolet\",\"Mahindra\",\"Maruti\",\"Honda\",\"Mahindra\",\"Hyundai\",\"Skoda\",\"Hyundai\",\"Ford\",\"Volkswagen\",\"Honda\",\"Hyundai\",\"Nissan\",\"Tata\",\"Mahindra\",\"BMW\",\"Mahindra\",\"Maruti\",\"Chevrolet\",\"Tata\",\"Renault\",\"Maruti\",\"Toyota\",\"Mahindra\",\"Mahindra\",\"Maruti\",\"Volkswagen\",\"Renault\",\"Tata\",\"Hyundai\",\"Hyundai\",\"Hyundai\",\"Maruti\",\"Hyundai\",\"Maruti\",\"Toyota\",\"Mahindra\",\"Maruti\",\"Maruti\",\"Mahindra\",\"Mahindra\",\"Toyota\",\"Mahindra\",\"Mahindra\",\"Tata\",\"Ford\",\"Maruti\",\"Tata\",\"Tata\",\"Tata\",\"Maruti\",\"Tata\",\"Volkswagen\",\"Honda\",\"Honda\",\"Honda\",\"Mahindra\",\"Hyundai\",\"Chevrolet\",\"Toyota\",\"Hyundai\",\"Tata\",\"Nissan\",\"Tata\",\"Toyota\",\"Chevrolet\",\"Ford\",\"Ford\",\"Renault\",\"Volkswagen\",\"Volkswagen\",\"Ford\",\"Maruti\",\"Hyundai\",\"Tata\",\"Hyundai\",\"Volkswagen\",\"Mercedes-Benz\",\"Toyota\",\"Toyota\",\"Mahindra\",\"Volkswagen\",\"Maruti\",\"Volkswagen\",\"Tata\",\"Volkswagen\",\"Mahindra\",\"Mahindra\",\"Mahindra\",\"Maruti\",\"Maruti\",\"Tata\",\"Toyota\",\"Mahindra\",\"Toyota\",\"Mahindra\",\"Tata\",\"Tata\",\"Mahindra\",\"Skoda\",\"Jeep\",\"Tata\",\"Volkswagen\",\"Skoda\",\"Maruti\",\"Mahindra\",\"Mahindra\",\"Mahindra\",\"Maruti\",\"Hyundai\",\"Maruti\",\"Ford\",\"Hyundai\",\"Hyundai\",\"Mahindra\",\"Maruti\",\"Nissan\",\"Nissan\",\"Honda\",\"Toyota\",\"Maruti\",\"Maruti\",\"Tata\",\"Maruti\",\"Mahindra\",\"Honda\",\"Maruti\",\"Nissan\",\"Maruti\",\"Toyota\",\"Mahindra\",\"Maruti\",\"Hyundai\",\"Honda\",\"Tata\",\"Tata\",\"Ford\",\"Mahindra\",\"Hyundai\",\"Maruti\",\"Mahindra\",\"Maruti\",\"Honda\",\"Audi\",\"Hyundai\",\"Mahindra\",\"Skoda\",\"Jaguar\",\"Toyota\",\"Maruti\",\"Hyundai\",\"Mahindra\",\"Chevrolet\",\"Tata\",\"Tata\",\"Mahindra\",\"Toyota\",\"Hyundai\",\"Toyota\",\"Mahindra\",\"Toyota\",\"Ford\",\"Tata\",\"Toyota\",\"Mahindra\",\"Tata\",\"Tata\",\"Skoda\",\"Audi\",\"Mahindra\",\"Mahindra\",\"Skoda\",\"Nissan\",\"BMW\",\"Chevrolet\",\"Honda\",\"Mahindra\",\"MG\",\"Audi\",\"Renault\",\"Chevrolet\",\"Skoda\",\"Hyundai\",\"Mahindra\",\"Maruti\",\"Renault\",\"Ford\",\"Skoda\",\"Nissan\",\"Tata\",\"Tata\",\"Mahindra\",\"Toyota\",\"Mercedes-Benz\",\"Ford\",\"Maruti\",\"Volkswagen\",\"Maruti\",\"Renault\",\"Ford\",\"Renault\",\"Skoda\",\"Hyundai\",\"Mahindra\",\"Renault\",\"Mahindra\",\"Honda\",\"Toyota\",\"Mahindra\",\"Jaguar\",\"Maruti\",\"Mahindra\",\"Honda\",\"Hyundai\",\"Force One EX\",\"Mahindra\",\"Hyundai\",\"Maruti\",\"Skoda\",\"Tata\",\"Hyundai\",\"Tata\",\"Tata\",\"Mahindra\",\"Mahindra\",\"Toyota\",\"Maruti\",\"Tata\",\"Volkswagen\",\"Maruti\",\"Maruti\",\"Mahindra\",\"Mahindra\",\"Hyundai\",\"Toyota\",\"Honda\",\"Chevrolet\",\"Honda\",\"Mahindra\",\"Mahindra\",\"Maruti\",\"Tata\",\"Tata\",\"Hyundai\",\"Mahindra\",\"Hyundai\",\"Volkswagen\",\"Ford\",\"Maruti\",\"Maruti\",\"Maruti\",\"Toyota\",\"Hyundai\",\"Hyundai\",\"Volkswagen\",\"Maruti\",\"Mahindra\",\"Tata\",\"Tata\",\"BMW\",\"Mahindra\",\"Chevrolet\",\"Mahindra\",\"Chevrolet\",\"Toyota\",\"Mahindra\",\"Renault\",\"Renault\",\"Toyota\",\"Mahindra\",\"Ford\",\"Mahindra\",\"Volkswagen\",\"Maruti\",\"Tata\",\"Toyota\",\"Honda\",\"Maruti\",\"Maruti\",\"Maruti\",\"Ford\",\"Toyota\",\"Tata\",\"Mahindra\",\"Maruti\",\"Mahindra\",\"Maruti\",\"Toyota\",\"Audi\",\"Mahindra\",\"Maruti\",\"Maruti\",\"Ford\",\"Ford\",\"Ford\",\"Ford\",\"Maruti\",\"Tata\",\"Toyota\",\"Maruti\",\"Mahindra\",\"Maruti\",\"Maruti\",\"Maruti\",\"Tata\",\"Renault\",\"Renault\",\"Maruti\",\"Tata\",\"Mahindra\",\"Maruti\",\"Nissan\",\"Hyundai\",\"Mahindra\",\"Hyundai\",\"Tata\",\"Mahindra\",\"Mahindra\",\"Ford\",\"Ford\",\"Renault\",\"Mahindra\",\"Tata\",\"Ford\",\"Ford\",\"Tata\",\"Renault\",\"Tata\",\"Mahindra\",\"Mahindra\",\"Maruti\",\"Mahindra\",\"Tata\",\"Volkswagen\",\"Mahindra\",\"Mahindra\",\"Mahindra\",\"Maruti\",\"Maruti\",\"Maruti\",\"Mahindra\",\"Tata\",\"Maruti\",\"Ford\",\"Hyundai\",\"Ford\",\"Renault\",\"Volkswagen\",\"Ford\",\"Mercedes-Benz\",\"Mahindra\",\"Mahindra\",\"Maruti\",\"Maruti\",\"Tata\",\"Hyundai\",\"Ford\",\"Mahindra\",\"Volkswagen\",\"Mahindra\",\"Toyota\",\"Maruti\",\"Mahindra\",\"Renault\",\"Mercedes-Benz\",\"Audi\",\"BMW\",\"Hyundai\",\"Toyota\",\"Maruti\",\"Audi\",\"Skoda\",\"Maruti\",\"Chevrolet\",\"Tata\",\"Tata\",\"Fiat\",\"Maruti\",\"Volkswagen\",\"Mahindra\",\"Tata\",\"Mitsubishi\",\"Mahindra\",\"Hyundai\",\"Mahindra\",\"Tata\",\"Tata\",\"Tata\",\"Fiat\",\"Maruti\",\"Volkswagen\",\"Mahindra\",\"Tata\",\"Toyota\",\"Mitsubishi\",\"Mahindra\",\"Hyundai\",\"Maruti\",\"Renault\",\"Hyundai\",\"Maruti\",\"Maruti\",\"Ford\",\"Ford\",\"Maruti\",\"Maruti\",\"Hyundai\",\"Skoda\",\"Maruti\",\"Tata\",\"Ford\",\"Tata\",\"Maruti\",\"Mahindra\",\"Tata\",\"Tata\",\"Mahindra\",\"Tata\",\"Tata\",\"Tata\",\"Maruti\",\"Hyundai\",\"Ford\",\"Tata\",\"Ford\",\"Tata\",\"Mahindra\",\"Hyundai\",\"Honda\",\"Hyundai\",\"Maruti\",\"Maruti\",\"Mahindra\",\"Tata\",\"Tata\",\"Nissan\",\"Ford\",\"Tata\",\"Hyundai\",\"Tata\",\"Maruti\",\"Tata\",\"Maruti\",\"Ford\",\"Toyota\",\"Mahindra\",\"Mahindra\",\"Maruti\",\"Maruti\",\"Ford\",\"Ford\",\"Mahindra\",\"Mahindra\",\"Tata\",\"Tata\",\"Tata\",\"Skoda\",\"Maruti\",\"Mahindra\",\"Tata\",\"Mahindra\",\"Mahindra\",\"Hyundai\",\"Hyundai\",\"Volkswagen\",\"Hyundai\",\"Tata\",\"Hyundai\",\"Ford\",\"Ford\",\"Tata\",\"Toyota\",\"Mahindra\",\"Maruti\",\"Maruti\",\"Maruti\",\"Mahindra\",\"Tata\",\"Mahindra\",\"Hyundai\",\"Maruti\",\"Chevrolet\",\"Honda\",\"Hyundai\",\"Maruti\",\"Mahindra\",\"Toyota\",\"Hyundai\",\"Hyundai\",\"Toyota\",\"Hyundai\",\"Ford\",\"Mahindra\",\"Mahindra\",\"Maruti\",\"Mahindra\",\"Ford\",\"Chevrolet\",\"Tata\",\"Tata\",\"Tata\",\"Maruti\",\"Isuzu\",\"Nissan\",\"Maruti\",\"Mahindra\",\"Volkswagen\",\"Maruti\",\"Mahindra\",\"Renault\",\"Maruti\",\"Mahindra\",\"Hyundai\",\"Tata\",\"Ford\",\"Maruti\",\"Hyundai\",\"Honda\",\"Hyundai\",\"Maruti\",\"Nissan\",\"Mahindra\",\"Tata\",\"Hyundai\",\"Hyundai\",\"Hyundai\",\"Mercedes-Benz\",\"Maruti\",\"Renault\",\"Maruti\",\"Hyundai\",\"Toyota\",\"Chevrolet\",\"Mahindra\",\"Tata\",\"Mahindra\",\"Hyundai\",\"Honda\",\"Ford\",\"Skoda\",\"Chevrolet\",\"Chevrolet\",\"Chevrolet\",\"Honda\",\"Ford\",\"Hyundai\",\"Maruti\",\"Renault\",\"Renault\",\"Renault\",\"Mercedes-Benz\",\"Audi\",\"BMW\",\"Hyundai\",\"Toyota\",\"Maruti\",\"Audi\",\"Skoda\",\"Maruti\",\"Renault\",\"Mercedes-Benz\",\"Audi\",\"BMW\",\"Hyundai\",\"Toyota\",\"Maruti\",\"Audi\",\"Skoda\",\"Maruti\",\"Maruti\",\"Hyundai\",\"Hyundai\",\"Nissan\",\"Mahindra\",\"Mercedes-Benz\",\"BMW\",\"Audi\",\"Renault\",\"Honda\",\"Volkswagen\",\"Mahindra\",\"Ford\",\"Tata\",\"Ford\",\"Tata\",\"Maruti\",\"Skoda\",\"Chevrolet\",\"Honda\",\"Maruti\",\"Renault\",\"Honda\",\"Honda\",\"Maruti\",\"Renault\",\"Hyundai\",\"Tata\",\"Maruti\",\"Hyundai\",\"Toyota\",\"Mahindra\",\"Skoda\",\"Toyota\",\"Toyota\",\"Toyota\",\"Mahindra\",\"Hyundai\",\"Volkswagen\",\"Ford\",\"Renault\",\"Tata\",\"Maruti\",\"Renault\",\"Tata\",\"Maruti\",\"Mahindra\",\"Chevrolet\",\"Renault\",\"Maruti\",\"Maruti\",\"Toyota\",\"Maruti\",\"Ford\",\"Toyota\",\"Mahindra\",\"Mahindra\",\"Honda\",\"Honda\",\"Toyota\",\"Nissan\",\"Maruti\",\"Nissan\",\"Toyota\",\"Hyundai\",\"Mahindra\",\"Toyota\",\"Toyota\",\"Toyota\",\"Maruti\",\"Mahindra\",\"Honda\",\"Maruti\",\"Honda\",\"Hyundai\",\"Honda\",\"Tata\",\"Mahindra\",\"Toyota\",\"Honda\",\"Hyundai\",\"Mahindra\",\"Maruti\",\"Mahindra\",\"Toyota\",\"Maruti\",\"Hyundai\",\"Mahindra\",\"Mahindra\",\"Mahindra\",\"Fiat\",\"Fiat\",\"Tata\",\"Mahindra\",\"Hyundai\",\"Honda\",\"Mahindra\",\"Chevrolet\",\"Tata\",\"Hyundai\",\"Chevrolet\",\"Chevrolet\",\"BMW\",\"Chevrolet\",\"Chevrolet\",\"Ford\",\"Honda\",\"Maruti\",\"Maruti\",\"Mitsubishi\",\"Tata\",\"Hyundai\",\"Hyundai\",\"Ford\",\"Maruti\",\"Renault\",\"Maruti\",\"Tata\",\"Mahindra\",\"Mahindra\",\"Tata\",\"Tata\",\"Maruti\",\"Nissan\",\"Hyundai\",\"Mahindra\",\"Maruti\",\"Maruti\",\"Tata\",\"Maruti\",\"Fiat\",\"Ford\",\"Ford\",\"Honda\",\"Tata\",\"Maruti\",\"Volkswagen\",\"Mahindra\",\"Renault\",\"Mahindra\",\"Audi\",\"Fiat\",\"Audi\",\"Chevrolet\",\"Audi\",\"BMW\",\"Chevrolet\",\"Mahindra\",\"Toyota\",\"Mahindra\",\"Chevrolet\",\"Hyundai\",\"Maruti\",\"Honda\",\"Toyota\",\"BMW\",\"Mahindra\",\"Honda\",\"Hyundai\",\"Hyundai\",\"Volkswagen\",\"Hyundai\",\"Maruti\",\"Mahindra\",\"Fiat\",\"BMW\",\"Volkswagen\",\"Ford\",\"Ford\",\"Chevrolet\",\"Ford\",\"Mahindra\",\"Maruti\",\"Maruti\",\"Tata\",\"Maruti\",\"Mahindra\",\"Maruti\",\"Volkswagen\",\"Maruti\",\"Hyundai\",\"Ford\",\"Hyundai\",\"Mahindra\",\"Mahindra\",\"Mahindra\",\"Toyota\",\"Maruti\",\"Tata\",\"Maruti\",\"Maruti\",\"Tata\",\"Maruti\",\"Maruti\",\"Fiat\",\"Tata\",\"Toyota\",\"Fiat\",\"Maruti\",\"Renault\",\"Hyundai\",\"Ford\",\"Maruti\",\"Toyota\",\"Mahindra\",\"Maruti\",\"Hyundai\",\"Toyota\",\"Mahindra\",\"Hyundai\",\"Volkswagen\",\"Maruti\",\"Toyota\",\"Maruti\",\"Mahindra\",\"Mahindra\",\"Tata\",\"Chevrolet\",\"Hyundai\",\"Renault\",\"Mercedes-Benz\",\"Audi\",\"BMW\",\"Hyundai\",\"Toyota\",\"Maruti\",\"Audi\",\"Skoda\",\"Maruti\",\"Maruti\",\"Tata\",\"Ford\",\"Toyota\",\"Nissan\",\"Nissan\",\"Toyota\",\"Toyota\",\"Hyundai\",\"Chevrolet\",\"Hyundai\",\"Toyota\",\"Hyundai\",\"Honda\",\"Toyota\",\"Ford\",\"Ford\",\"Honda\",\"Volkswagen\",\"Ford\",\"Toyota\",\"Mahindra\",\"Honda\",\"BMW\",\"Tata\",\"Hyundai\",\"Maruti\",\"Toyota\",\"Hyundai\",\"Maruti\",\"Skoda\",\"Audi\",\"Mahindra\",\"Mahindra\",\"Mahindra\",\"Maruti\",\"Mahindra\",\"Nissan\",\"Mahindra\",\"Tata\",\"Nissan\",\"Maruti\",\"Hyundai\",\"Hyundai\",\"Ford\",\"Mahindra\",\"Nissan\",\"BMW\",\"Maruti\",\"Honda\",\"Honda\",\"Honda\",\"Mahindra\",\"Hyundai\",\"Maruti\",\"Toyota\",\"Tata\",\"Volvo\",\"Toyota\",\"Hyundai\",\"Maruti\",\"Maruti\",\"Ambassador\",\"Ford\",\"Fiat\",\"Skoda\",\"Tata\",\"Chevrolet\",\"Hyundai\",\"Chevrolet\",\"Mahindra\",\"Ford\",\"BMW\",\"Mahindra\",\"Honda\",\"Tata\",\"Mahindra\",\"Ford\",\"Maruti\",\"Hyundai\",\"Hyundai\",\"Chevrolet\",\"Maruti\",\"Mahindra\",\"Mahindra\",\"Tata\",\"Volkswagen\",\"Volkswagen\",\"Tata\",\"Volkswagen\",\"Volkswagen\",\"Hyundai\",\"Hyundai\",\"Maruti\",\"Volkswagen\",\"Skoda\",\"Tata\",\"Toyota\",\"Volkswagen\",\"Maruti\",\"Mahindra\",\"Skoda\",\"Maruti\",\"Hyundai\",\"Maruti\",\"Maruti\",\"Mahindra\",\"Maruti\",\"Maruti\",\"Maruti\",\"Hyundai\",\"Tata\",\"Tata\",\"Honda\",\"Ford\",\"Honda\",\"Maruti\",\"Maruti\",\"Mahindra\",\"Mahindra\",\"Tata\",\"Toyota\",\"Maruti\",\"Tata\",\"Tata\",\"Toyota\",\"Chevrolet\",\"Fiat\",\"Mahindra\",\"Mahindra\",\"Tata\",\"Tata\",\"Skoda\",\"Mahindra\",\"Maruti\",\"Kia\",\"Ford\",\"Volkswagen\",\"Maruti\",\"Tata\",\"Mahindra\",\"Maruti\",\"Ford\",\"Ford\",\"Ford\",\"Ford\",\"Maruti\",\"Hyundai\",\"Volkswagen\",\"Maruti\",\"Hyundai\",\"Maruti\",\"Hyundai\",\"Skoda\",\"Audi\",\"Chevrolet\",\"Maruti\",\"Maruti\",\"Maruti\",\"Maruti\",\"Maruti\",\"Hyundai\",\"Audi\",\"Maruti\",\"Maruti\",\"Chevrolet\",\"Maruti\",\"Chevrolet\",\"Tata\",\"Renault\",\"Ford\",\"Mahindra\",\"Tata\",\"Maruti\",\"Maruti\",\"Hyundai\",\"Volkswagen\",\"Tata\",\"Hyundai\",\"Maruti\",\"Skoda\",\"Chevrolet\",\"Mahindra\",\"Toyota\",\"Honda\",\"Mahindra\",\"Hyundai\",\"Mahindra\",\"Maruti\",\"Mahindra\",\"Mahindra\",\"Toyota\",\"Mahindra\",\"Maruti\",\"Hyundai\",\"Nissan\",\"Maruti\",\"Mahindra\",\"Ford\",\"Toyota\",\"Toyota\",\"Tata\",\"Mahindra\",\"Maruti\",\"Maruti\",\"Maruti\",\"Maruti\",\"Nissan\",\"Ford\",\"Volkswagen\",\"Renault\",\"Mahindra\",\"Maruti\",\"Maruti\",\"Toyota\",\"Honda\",\"Volkswagen\",\"Toyota\",\"Mahindra\",\"Tata\",\"Tata\",\"Tata\",\"Toyota\",\"Toyota\",\"Toyota\",\"Maruti\",\"Hyundai\",\"Tata\",\"Chevrolet\",\"Chevrolet\",\"Ford\",\"Tata\",\"Tata\",\"Maruti\",\"Honda\",\"Tata\",\"Nissan\",\"Skoda\",\"Chevrolet\",\"Tata\",\"Chevrolet\",\"Chevrolet\",\"Mahindra\",\"BMW\",\"Hyundai\",\"Chevrolet\",\"Chevrolet\",\"Chevrolet\",\"Tata\",\"Chevrolet\",\"Ford\",\"Mahindra\",\"Mahindra\",\"Hyundai\",\"Honda\",\"Maruti\",\"Chevrolet\",\"Mahindra\",\"Tata\",\"Maruti\",\"Mahindra\",\"Hyundai\",\"Honda\",\"Hyundai\",\"Toyota\",\"Mahindra\",\"Mahindra\",\"Hyundai\",\"Renault\",\"Volvo\",\"Toyota\",\"Tata\",\"Maruti\",\"Tata\",\"Tata\",\"Hyundai\",\"Hyundai\",\"Maruti\",\"Maruti\",\"Hyundai\",\"Maruti\",\"Renault\",\"Hyundai\",\"Maruti\",\"Honda\",\"Mercedes-Benz\",\"Tata\",\"Hyundai\",\"Hyundai\",\"Mahindra\",\"Nissan\",\"Hyundai\",\"Maruti\",\"Hyundai\",\"Chevrolet\",\"Hyundai\",\"Volkswagen\",\"Hyundai\",\"Hyundai\",\"Honda\",\"Tata\",\"Volkswagen\",\"Maruti\",\"Tata\",\"Tata\",\"Nissan\",\"Tata\",\"Toyota\",\"Ford\",\"Maruti\",\"Ford\",\"Ford\",\"Renault\",\"Maruti\",\"Maruti\",\"Chevrolet\",\"Toyota\",\"Mahindra\",\"Toyota\",\"Tata\",\"Chevrolet\",\"BMW\",\"Volkswagen\",\"Mahindra\",\"Toyota\",\"Skoda\",\"Tata\",\"Mahindra\",\"Hyundai\",\"Maruti\",\"Volkswagen\",\"Maruti\",\"Maruti\",\"Maruti\",\"Hyundai\",\"Skoda\",\"Hyundai\",\"Tata\",\"Ford\",\"Mahindra\",\"Ford\",\"Ford\",\"Mahindra\",\"Maruti\",\"Mahindra\",\"Maruti\",\"Nissan\",\"Hyundai\",\"Mahindra\",\"Toyota\",\"Mahindra\",\"Skoda\",\"Ford\",\"Ford\",\"Ford\",\"Mahindra\",\"Mahindra\",\"Renault\",\"Tata\",\"Mahindra\",\"Maruti\",\"Mahindra\",\"Maruti\",\"Hyundai\",\"Mahindra\",\"Mahindra\",\"Ford\",\"Honda\",\"Skoda\",\"Toyota\",\"Ford\",\"Ford\",\"Tata\",\"Mahindra\",\"Volkswagen\",\"Maruti\",\"Mahindra\",\"Tata\",\"Nissan\",\"Mahindra\",\"Mahindra\",\"Mahindra\",\"Honda\",\"Hyundai\",\"Volkswagen\",\"Volkswagen\",\"Tata\",\"Toyota\",\"Ford\",\"Honda\",\"Ford\",\"Renault\",\"Maruti\",\"Toyota\",\"Maruti\",\"Mahindra\",\"Mahindra\",\"Land Rover\",\"Hyundai\",\"Maruti\",\"Hyundai\",\"BMW\",\"Tata\",\"Maruti\",\"Toyota\",\"Mahindra\",\"Mahindra\",\"Hyundai\",\"Maruti\",\"Hyundai\",\"Mercedes-Benz\",\"Maruti\",\"Maruti\",\"Ford\",\"Tata\",\"Fiat\",\"Ford\",\"Hyundai\",\"Tata\",\"Chevrolet\",\"Renault\",\"Hyundai\",\"Mahindra\",\"Tata\",\"Toyota\",\"Hyundai\",\"Ford\",\"Ford\",\"Tata\",\"Maruti\",\"Chevrolet\",\"Renault\",\"Nissan\",\"Tata\",\"Tata\",\"Chevrolet\",\"Maruti\",\"Toyota\",\"Mahindra\",\"Mahindra\",\"Tata\",\"Toyota\",\"Renault\",\"Mahindra\",\"Ford\",\"Ford\",\"Toyota\",\"Mahindra\",\"Renault\",\"Ford\",\"Ford\",\"Toyota\",\"Chevrolet\",\"Ford\",\"Ford\",\"Honda\",\"Ford\",\"Honda\",\"Honda\",\"Toyota\",\"Tata\",\"BMW\",\"Ford\",\"Maruti\",\"Mahindra\",\"Mahindra\",\"Maruti\",\"Fiat\",\"Mahindra\",\"Fiat\",\"Hyundai\",\"Toyota\",\"Honda\",\"Volkswagen\",\"Maruti\",\"Maruti\",\"Maruti\",\"Ford\",\"Ford\",\"Mahindra\",\"Ford\",\"Mahindra\",\"Tata\",\"Mahindra\",\"Chevrolet\",\"Tata\",\"Nissan\",\"Mitsubishi\",\"Tata\",\"Tata\",\"Ford\",\"Maruti\",\"Toyota\",\"Toyota\",\"Hyundai\",\"Mahindra\",\"Toyota\",\"Hyundai\",\"Toyota\",\"Jeep\",\"Nissan\",\"Tata\",\"Mahindra\",\"Maruti\",\"Chevrolet\",\"Tata\",\"Toyota\",\"Maruti\",\"Mahindra\",\"Toyota\",\"Honda\",\"Chevrolet\",\"Skoda\",\"Nissan\",\"Chevrolet\",\"Renault\",\"Skoda\",\"Ford\",\"Mahindra\",\"Volkswagen\",\"Hyundai\",\"Chevrolet\",\"Mahindra\",\"Fiat\",\"Volkswagen\",\"Maruti\",\"Maruti\",\"Chevrolet\",\"Chevrolet\",\"Mahindra\",\"Mahindra\",\"Mahindra\",\"Ford\",\"Mahindra\",\"Tata\",\"Renault\",\"Audi\",\"Audi\",\"Tata\",\"Mahindra\",\"Audi\",\"Nissan\",\"Audi\",\"Tata\",\"Ford\",\"Mahindra\",\"Toyota\",\"Honda\",\"Hyundai\",\"Hyundai\",\"Volkswagen\",\"Mercedes-Benz\",\"Audi\",\"Land Rover\",\"Mahindra\",\"Mahindra\",\"Maruti\",\"Volkswagen\",\"BMW\",\"Mahindra\",\"Tata\",\"Hyundai\",\"Mahindra\",\"Chevrolet\",\"Ford\",\"Ambassador\",\"Renault\",\"Toyota\",\"Toyota\",\"Tata\",\"Mahindra\",\"Toyota\",\"Nissan\",\"Renault\",\"Tata\",\"Chevrolet\",\"Ford\",\"Honda\",\"Honda\",\"Honda\",\"Honda\",\"Honda\",\"Ford\",\"Honda\",\"Hyundai\",\"Hyundai\",\"Mahindra\",\"Tata\",\"Ford\",\"Mahindra\",\"Hyundai\",\"Skoda\",\"Maruti\",\"Renault\",\"Renault\",\"Mercedes-Benz\",\"Maruti\",\"Mahindra\",\"Ford\",\"Maruti\",\"Ford\",\"Tata\",\"Mahindra\",\"Hyundai\",\"Toyota\",\"Chevrolet\",\"Maruti\",\"Fiat\",\"Volkswagen\",\"Ford\",\"Mahindra\",\"Hyundai\",\"Fiat\",\"Chevrolet\",\"Ford\",\"Ambassador\",\"Renault\",\"Toyota\",\"Toyota\",\"Ford\",\"Maruti\",\"Nissan\",\"Mahindra\",\"Hyundai\",\"Hyundai\",\"Volkswagen\",\"Tata\",\"Volvo\",\"Hyundai\",\"Volkswagen\",\"Hyundai\",\"Tata\",\"Mahindra\",\"Mahindra\",\"Mahindra\",\"Ford\",\"Maruti\",\"Hyundai\",\"Maruti\",\"Maruti\",\"Toyota\",\"Mahindra\",\"Maruti\",\"Toyota\",\"Ford\",\"Mahindra\",\"Hyundai\",\"Hyundai\",\"Honda\",\"Mahindra\",\"Nissan\",\"Mahindra\",\"Maruti\",\"Honda\",\"Mahindra\",\"Toyota\",\"Tata\",\"Tata\",\"Mahindra\",\"Tata\",\"Honda\",\"Tata\",\"Hyundai\",\"Tata\",\"Nissan\",\"Tata\",\"Mahindra\",\"Hyundai\",\"Hyundai\",\"Maruti\",\"Mahindra\",\"Hyundai\",\"Maruti\",\"Fiat\",\"Chevrolet\",\"Hyundai\",\"Skoda\",\"Chevrolet\",\"Toyota\",\"Honda\",\"Skoda\",\"Honda\",\"Maruti\",\"Maruti\",\"Tata\",\"Ford\",\"Audi\",\"Maruti\",\"Chevrolet\",\"Tata\",\"Maruti\",\"Honda\",\"Mahindra\",\"Tata\",\"Honda\",\"Maruti\",\"Hyundai\",\"Toyota\",\"Maruti\",\"Maruti\",\"Toyota\",\"Hyundai\",\"Maruti\",\"Maruti\",\"Toyota\",\"Mahindra\",\"Renault\",\"Maruti\",\"Maruti\",\"Ford\",\"Ford\",\"Ford\",\"Ford\",\"Ford\",\"Ford\",\"Ford\",\"Ford\",\"Toyota\",\"Mahindra\",\"Hyundai\",\"Hyundai\",\"Ford\",\"Mahindra\",\"Volkswagen\",\"Toyota\",\"Honda\",\"Honda\",\"Nissan\",\"Fiat\",\"Maruti\",\"Maruti\",\"Mahindra\",\"Hyundai\",\"Maruti\",\"Volkswagen\",\"Mahindra\",\"Tata\",\"Mahindra\",\"Toyota\",\"Tata\",\"Tata\",\"Hyundai\",\"Hyundai\",\"Maruti\",\"Tata\",\"Maruti\",\"Hyundai\",\"Maruti\",\"Maruti\",\"Maruti\",\"Volkswagen\",\"Maruti\",\"Renault\",\"Maruti\",\"Maruti\",\"Hyundai\",\"Mahindra\",\"Hyundai\",\"Hyundai\",\"Maruti\",\"Tata\",\"Maruti\",\"Hyundai\",\"Maruti\",\"Maruti\",\"Maruti\",\"Volkswagen\",\"Maruti\",\"Renault\",\"Maruti\",\"Maruti\",\"Hyundai\",\"Mahindra\",\"Tata\",\"Fiat\",\"Maruti\",\"Maruti\",\"Nissan\",\"Mahindra\",\"Mahindra\",\"Mercedes-Benz\",\"BMW\",\"Audi\",\"Maruti\",\"Mahindra\",\"Renault\",\"Maruti\",\"Ford\",\"Maruti\",\"Nissan\",\"Maruti\",\"Hyundai\",\"Mahindra\",\"Tata\",\"Ford\",\"Mahindra\",\"Maruti\",\"Toyota\",\"Hyundai\",\"Hyundai\",\"Hyundai\"],\"xaxis\":\"x6\",\"yaxis\":\"y6\",\"type\":\"histogram\"},{\"alignmentgroup\":\"True\",\"bingroup\":\"x\",\"hovertemplate\":\"fuel=CNG<br>name=%{x}<br>count=%{y}<extra></extra>\",\"legendgroup\":\"\",\"marker\":{\"color\":\"#636efa\",\"pattern\":{\"shape\":\"\"}},\"name\":\"\",\"offsetgroup\":\"\",\"orientation\":\"v\",\"showlegend\":false,\"x\":[\"Maruti\",\"Maruti\",\"Maruti\",\"Tata\",\"Maruti\",\"Hyundai\",\"Hyundai\",\"Maruti\",\"Maruti\",\"Hyundai\",\"Maruti\",\"Maruti\",\"Hyundai\",\"Chevrolet\",\"Maruti\",\"Maruti\",\"Maruti\",\"Hyundai\",\"Maruti\",\"Maruti\",\"Hyundai\",\"Maruti\",\"Maruti\",\"Maruti\",\"Maruti\",\"Maruti\",\"Maruti\",\"Maruti\",\"Maruti\",\"Maruti\",\"Maruti\",\"Maruti\",\"Hyundai\",\"Maruti\",\"Maruti\",\"Maruti\",\"Maruti\",\"Maruti\",\"Maruti\",\"Hyundai\"],\"xaxis\":\"x3\",\"yaxis\":\"y3\",\"type\":\"histogram\"},{\"alignmentgroup\":\"True\",\"bingroup\":\"x\",\"hovertemplate\":\"fuel=LPG<br>name=%{x}<br>count=%{y}<extra></extra>\",\"legendgroup\":\"\",\"marker\":{\"color\":\"#636efa\",\"pattern\":{\"shape\":\"\"}},\"name\":\"\",\"offsetgroup\":\"\",\"orientation\":\"v\",\"showlegend\":false,\"x\":[\"Maruti\",\"Maruti\",\"Hyundai\",\"Hyundai\",\"Hyundai\",\"Hyundai\",\"Maruti\",\"Hyundai\",\"Maruti\",\"Maruti\",\"Maruti\",\"Maruti\",\"Maruti\",\"Hyundai\",\"Maruti\",\"Maruti\",\"Maruti\",\"Maruti\",\"Chevrolet\",\"Hyundai\",\"Maruti\",\"Hyundai\",\"Maruti\"],\"xaxis\":\"x4\",\"yaxis\":\"y4\",\"type\":\"histogram\"},{\"alignmentgroup\":\"True\",\"bingroup\":\"x\",\"hovertemplate\":\"fuel=Electric<br>name=%{x}<br>count=%{y}<extra></extra>\",\"legendgroup\":\"\",\"marker\":{\"color\":\"#636efa\",\"pattern\":{\"shape\":\"\"}},\"name\":\"\",\"offsetgroup\":\"\",\"orientation\":\"v\",\"showlegend\":false,\"x\":[\"Toyota\"],\"xaxis\":\"x\",\"yaxis\":\"y\",\"type\":\"histogram\"}],                        {\"template\":{\"data\":{\"bar\":[{\"error_x\":{\"color\":\"#2a3f5f\"},\"error_y\":{\"color\":\"#2a3f5f\"},\"marker\":{\"line\":{\"color\":\"#E5ECF6\",\"width\":0.5},\"pattern\":{\"fillmode\":\"overlay\",\"size\":10,\"solidity\":0.2}},\"type\":\"bar\"}],\"barpolar\":[{\"marker\":{\"line\":{\"color\":\"#E5ECF6\",\"width\":0.5},\"pattern\":{\"fillmode\":\"overlay\",\"size\":10,\"solidity\":0.2}},\"type\":\"barpolar\"}],\"carpet\":[{\"aaxis\":{\"endlinecolor\":\"#2a3f5f\",\"gridcolor\":\"white\",\"linecolor\":\"white\",\"minorgridcolor\":\"white\",\"startlinecolor\":\"#2a3f5f\"},\"baxis\":{\"endlinecolor\":\"#2a3f5f\",\"gridcolor\":\"white\",\"linecolor\":\"white\",\"minorgridcolor\":\"white\",\"startlinecolor\":\"#2a3f5f\"},\"type\":\"carpet\"}],\"choropleth\":[{\"colorbar\":{\"outlinewidth\":0,\"ticks\":\"\"},\"type\":\"choropleth\"}],\"contour\":[{\"colorbar\":{\"outlinewidth\":0,\"ticks\":\"\"},\"colorscale\":[[0.0,\"#0d0887\"],[0.1111111111111111,\"#46039f\"],[0.2222222222222222,\"#7201a8\"],[0.3333333333333333,\"#9c179e\"],[0.4444444444444444,\"#bd3786\"],[0.5555555555555556,\"#d8576b\"],[0.6666666666666666,\"#ed7953\"],[0.7777777777777778,\"#fb9f3a\"],[0.8888888888888888,\"#fdca26\"],[1.0,\"#f0f921\"]],\"type\":\"contour\"}],\"contourcarpet\":[{\"colorbar\":{\"outlinewidth\":0,\"ticks\":\"\"},\"type\":\"contourcarpet\"}],\"heatmap\":[{\"colorbar\":{\"outlinewidth\":0,\"ticks\":\"\"},\"colorscale\":[[0.0,\"#0d0887\"],[0.1111111111111111,\"#46039f\"],[0.2222222222222222,\"#7201a8\"],[0.3333333333333333,\"#9c179e\"],[0.4444444444444444,\"#bd3786\"],[0.5555555555555556,\"#d8576b\"],[0.6666666666666666,\"#ed7953\"],[0.7777777777777778,\"#fb9f3a\"],[0.8888888888888888,\"#fdca26\"],[1.0,\"#f0f921\"]],\"type\":\"heatmap\"}],\"heatmapgl\":[{\"colorbar\":{\"outlinewidth\":0,\"ticks\":\"\"},\"colorscale\":[[0.0,\"#0d0887\"],[0.1111111111111111,\"#46039f\"],[0.2222222222222222,\"#7201a8\"],[0.3333333333333333,\"#9c179e\"],[0.4444444444444444,\"#bd3786\"],[0.5555555555555556,\"#d8576b\"],[0.6666666666666666,\"#ed7953\"],[0.7777777777777778,\"#fb9f3a\"],[0.8888888888888888,\"#fdca26\"],[1.0,\"#f0f921\"]],\"type\":\"heatmapgl\"}],\"histogram\":[{\"marker\":{\"pattern\":{\"fillmode\":\"overlay\",\"size\":10,\"solidity\":0.2}},\"type\":\"histogram\"}],\"histogram2d\":[{\"colorbar\":{\"outlinewidth\":0,\"ticks\":\"\"},\"colorscale\":[[0.0,\"#0d0887\"],[0.1111111111111111,\"#46039f\"],[0.2222222222222222,\"#7201a8\"],[0.3333333333333333,\"#9c179e\"],[0.4444444444444444,\"#bd3786\"],[0.5555555555555556,\"#d8576b\"],[0.6666666666666666,\"#ed7953\"],[0.7777777777777778,\"#fb9f3a\"],[0.8888888888888888,\"#fdca26\"],[1.0,\"#f0f921\"]],\"type\":\"histogram2d\"}],\"histogram2dcontour\":[{\"colorbar\":{\"outlinewidth\":0,\"ticks\":\"\"},\"colorscale\":[[0.0,\"#0d0887\"],[0.1111111111111111,\"#46039f\"],[0.2222222222222222,\"#7201a8\"],[0.3333333333333333,\"#9c179e\"],[0.4444444444444444,\"#bd3786\"],[0.5555555555555556,\"#d8576b\"],[0.6666666666666666,\"#ed7953\"],[0.7777777777777778,\"#fb9f3a\"],[0.8888888888888888,\"#fdca26\"],[1.0,\"#f0f921\"]],\"type\":\"histogram2dcontour\"}],\"mesh3d\":[{\"colorbar\":{\"outlinewidth\":0,\"ticks\":\"\"},\"type\":\"mesh3d\"}],\"parcoords\":[{\"line\":{\"colorbar\":{\"outlinewidth\":0,\"ticks\":\"\"}},\"type\":\"parcoords\"}],\"pie\":[{\"automargin\":true,\"type\":\"pie\"}],\"scatter\":[{\"marker\":{\"colorbar\":{\"outlinewidth\":0,\"ticks\":\"\"}},\"type\":\"scatter\"}],\"scatter3d\":[{\"line\":{\"colorbar\":{\"outlinewidth\":0,\"ticks\":\"\"}},\"marker\":{\"colorbar\":{\"outlinewidth\":0,\"ticks\":\"\"}},\"type\":\"scatter3d\"}],\"scattercarpet\":[{\"marker\":{\"colorbar\":{\"outlinewidth\":0,\"ticks\":\"\"}},\"type\":\"scattercarpet\"}],\"scattergeo\":[{\"marker\":{\"colorbar\":{\"outlinewidth\":0,\"ticks\":\"\"}},\"type\":\"scattergeo\"}],\"scattergl\":[{\"marker\":{\"colorbar\":{\"outlinewidth\":0,\"ticks\":\"\"}},\"type\":\"scattergl\"}],\"scattermapbox\":[{\"marker\":{\"colorbar\":{\"outlinewidth\":0,\"ticks\":\"\"}},\"type\":\"scattermapbox\"}],\"scatterpolar\":[{\"marker\":{\"colorbar\":{\"outlinewidth\":0,\"ticks\":\"\"}},\"type\":\"scatterpolar\"}],\"scatterpolargl\":[{\"marker\":{\"colorbar\":{\"outlinewidth\":0,\"ticks\":\"\"}},\"type\":\"scatterpolargl\"}],\"scatterternary\":[{\"marker\":{\"colorbar\":{\"outlinewidth\":0,\"ticks\":\"\"}},\"type\":\"scatterternary\"}],\"surface\":[{\"colorbar\":{\"outlinewidth\":0,\"ticks\":\"\"},\"colorscale\":[[0.0,\"#0d0887\"],[0.1111111111111111,\"#46039f\"],[0.2222222222222222,\"#7201a8\"],[0.3333333333333333,\"#9c179e\"],[0.4444444444444444,\"#bd3786\"],[0.5555555555555556,\"#d8576b\"],[0.6666666666666666,\"#ed7953\"],[0.7777777777777778,\"#fb9f3a\"],[0.8888888888888888,\"#fdca26\"],[1.0,\"#f0f921\"]],\"type\":\"surface\"}],\"table\":[{\"cells\":{\"fill\":{\"color\":\"#EBF0F8\"},\"line\":{\"color\":\"white\"}},\"header\":{\"fill\":{\"color\":\"#C8D4E3\"},\"line\":{\"color\":\"white\"}},\"type\":\"table\"}]},\"layout\":{\"annotationdefaults\":{\"arrowcolor\":\"#2a3f5f\",\"arrowhead\":0,\"arrowwidth\":1},\"autotypenumbers\":\"strict\",\"coloraxis\":{\"colorbar\":{\"outlinewidth\":0,\"ticks\":\"\"}},\"colorscale\":{\"diverging\":[[0,\"#8e0152\"],[0.1,\"#c51b7d\"],[0.2,\"#de77ae\"],[0.3,\"#f1b6da\"],[0.4,\"#fde0ef\"],[0.5,\"#f7f7f7\"],[0.6,\"#e6f5d0\"],[0.7,\"#b8e186\"],[0.8,\"#7fbc41\"],[0.9,\"#4d9221\"],[1,\"#276419\"]],\"sequential\":[[0.0,\"#0d0887\"],[0.1111111111111111,\"#46039f\"],[0.2222222222222222,\"#7201a8\"],[0.3333333333333333,\"#9c179e\"],[0.4444444444444444,\"#bd3786\"],[0.5555555555555556,\"#d8576b\"],[0.6666666666666666,\"#ed7953\"],[0.7777777777777778,\"#fb9f3a\"],[0.8888888888888888,\"#fdca26\"],[1.0,\"#f0f921\"]],\"sequentialminus\":[[0.0,\"#0d0887\"],[0.1111111111111111,\"#46039f\"],[0.2222222222222222,\"#7201a8\"],[0.3333333333333333,\"#9c179e\"],[0.4444444444444444,\"#bd3786\"],[0.5555555555555556,\"#d8576b\"],[0.6666666666666666,\"#ed7953\"],[0.7777777777777778,\"#fb9f3a\"],[0.8888888888888888,\"#fdca26\"],[1.0,\"#f0f921\"]]},\"colorway\":[\"#636efa\",\"#EF553B\",\"#00cc96\",\"#ab63fa\",\"#FFA15A\",\"#19d3f3\",\"#FF6692\",\"#B6E880\",\"#FF97FF\",\"#FECB52\"],\"font\":{\"color\":\"#2a3f5f\"},\"geo\":{\"bgcolor\":\"white\",\"lakecolor\":\"white\",\"landcolor\":\"#E5ECF6\",\"showlakes\":true,\"showland\":true,\"subunitcolor\":\"white\"},\"hoverlabel\":{\"align\":\"left\"},\"hovermode\":\"closest\",\"mapbox\":{\"style\":\"light\"},\"paper_bgcolor\":\"white\",\"plot_bgcolor\":\"#E5ECF6\",\"polar\":{\"angularaxis\":{\"gridcolor\":\"white\",\"linecolor\":\"white\",\"ticks\":\"\"},\"bgcolor\":\"#E5ECF6\",\"radialaxis\":{\"gridcolor\":\"white\",\"linecolor\":\"white\",\"ticks\":\"\"}},\"scene\":{\"xaxis\":{\"backgroundcolor\":\"#E5ECF6\",\"gridcolor\":\"white\",\"gridwidth\":2,\"linecolor\":\"white\",\"showbackground\":true,\"ticks\":\"\",\"zerolinecolor\":\"white\"},\"yaxis\":{\"backgroundcolor\":\"#E5ECF6\",\"gridcolor\":\"white\",\"gridwidth\":2,\"linecolor\":\"white\",\"showbackground\":true,\"ticks\":\"\",\"zerolinecolor\":\"white\"},\"zaxis\":{\"backgroundcolor\":\"#E5ECF6\",\"gridcolor\":\"white\",\"gridwidth\":2,\"linecolor\":\"white\",\"showbackground\":true,\"ticks\":\"\",\"zerolinecolor\":\"white\"}},\"shapedefaults\":{\"line\":{\"color\":\"#2a3f5f\"}},\"ternary\":{\"aaxis\":{\"gridcolor\":\"white\",\"linecolor\":\"white\",\"ticks\":\"\"},\"baxis\":{\"gridcolor\":\"white\",\"linecolor\":\"white\",\"ticks\":\"\"},\"bgcolor\":\"#E5ECF6\",\"caxis\":{\"gridcolor\":\"white\",\"linecolor\":\"white\",\"ticks\":\"\"}},\"title\":{\"x\":0.05},\"xaxis\":{\"automargin\":true,\"gridcolor\":\"white\",\"linecolor\":\"white\",\"ticks\":\"\",\"title\":{\"standoff\":15},\"zerolinecolor\":\"white\",\"zerolinewidth\":2},\"yaxis\":{\"automargin\":true,\"gridcolor\":\"white\",\"linecolor\":\"white\",\"ticks\":\"\",\"title\":{\"standoff\":15},\"zerolinecolor\":\"white\",\"zerolinewidth\":2}}},\"xaxis\":{\"anchor\":\"y\",\"domain\":[0.0,0.45],\"title\":{\"text\":\"name\"}},\"yaxis\":{\"anchor\":\"x\",\"domain\":[0.0,0.2866666666666666],\"title\":{\"text\":\"count\"}},\"xaxis2\":{\"anchor\":\"y2\",\"domain\":[0.55,1.0],\"matches\":\"x\",\"title\":{\"text\":\"name\"}},\"yaxis2\":{\"anchor\":\"x2\",\"domain\":[0.0,0.2866666666666666],\"matches\":\"y\",\"showticklabels\":false},\"xaxis3\":{\"anchor\":\"y3\",\"domain\":[0.0,0.45],\"matches\":\"x\",\"showticklabels\":false},\"yaxis3\":{\"anchor\":\"x3\",\"domain\":[0.35666666666666663,0.6433333333333333],\"matches\":\"y\",\"title\":{\"text\":\"count\"}},\"xaxis4\":{\"anchor\":\"y4\",\"domain\":[0.55,1.0],\"matches\":\"x\",\"showticklabels\":false},\"yaxis4\":{\"anchor\":\"x4\",\"domain\":[0.35666666666666663,0.6433333333333333],\"matches\":\"y\",\"showticklabels\":false},\"xaxis5\":{\"anchor\":\"y5\",\"domain\":[0.0,0.45],\"matches\":\"x\",\"showticklabels\":false},\"yaxis5\":{\"anchor\":\"x5\",\"domain\":[0.7133333333333333,0.9999999999999999],\"matches\":\"y\",\"title\":{\"text\":\"count\"}},\"xaxis6\":{\"anchor\":\"y6\",\"domain\":[0.55,1.0],\"matches\":\"x\",\"showticklabels\":false},\"yaxis6\":{\"anchor\":\"x6\",\"domain\":[0.7133333333333333,0.9999999999999999],\"matches\":\"y\",\"showticklabels\":false},\"annotations\":[{\"font\":{},\"showarrow\":false,\"text\":\"fuel=Electric\",\"x\":0.225,\"xanchor\":\"center\",\"xref\":\"paper\",\"y\":0.2866666666666666,\"yanchor\":\"bottom\",\"yref\":\"paper\"},{\"font\":{},\"showarrow\":false,\"text\":\"fuel=CNG\",\"x\":0.225,\"xanchor\":\"center\",\"xref\":\"paper\",\"y\":0.6433333333333333,\"yanchor\":\"bottom\",\"yref\":\"paper\"},{\"font\":{},\"showarrow\":false,\"text\":\"fuel=LPG\",\"x\":0.775,\"xanchor\":\"center\",\"xref\":\"paper\",\"y\":0.6433333333333333,\"yanchor\":\"bottom\",\"yref\":\"paper\"},{\"font\":{},\"showarrow\":false,\"text\":\"fuel=Petrol\",\"x\":0.225,\"xanchor\":\"center\",\"xref\":\"paper\",\"y\":0.9999999999999999,\"yanchor\":\"bottom\",\"yref\":\"paper\"},{\"font\":{},\"showarrow\":false,\"text\":\"fuel=Diesel\",\"x\":0.775,\"xanchor\":\"center\",\"xref\":\"paper\",\"y\":0.9999999999999999,\"yanchor\":\"bottom\",\"yref\":\"paper\"}],\"legend\":{\"tracegroupgap\":0},\"margin\":{\"t\":60},\"barmode\":\"relative\"},                        {\"responsive\": true}                    ).then(function(){\n",
              "                            \n",
              "var gd = document.getElementById('de61a506-2cdc-4f2d-9841-03ea95b8fd0b');\n",
              "var x = new MutationObserver(function (mutations, observer) {{\n",
              "        var display = window.getComputedStyle(gd).display;\n",
              "        if (!display || display === 'none') {{\n",
              "            console.log([gd, 'removed!']);\n",
              "            Plotly.purge(gd);\n",
              "            observer.disconnect();\n",
              "        }}\n",
              "}});\n",
              "\n",
              "// Listen for the removal of the full notebook cells\n",
              "var notebookContainer = gd.closest('#notebook-container');\n",
              "if (notebookContainer) {{\n",
              "    x.observe(notebookContainer, {childList: true});\n",
              "}}\n",
              "\n",
              "// Listen for the clearing of the current output cell\n",
              "var outputEl = gd.closest('.output');\n",
              "if (outputEl) {{\n",
              "    x.observe(outputEl, {childList: true});\n",
              "}}\n",
              "\n",
              "                        })                };                            </script>        </div>\n",
              "</body>\n",
              "</html>"
            ]
          },
          "metadata": {}
        }
      ]
    },
    {
      "cell_type": "code",
      "source": [
        "fig = px.histogram(df, 'fuel')\n",
        "fig.show()"
      ],
      "metadata": {
        "colab": {
          "base_uri": "https://localhost:8080/",
          "height": 542
        },
        "id": "SmdBxzmxoj7n",
        "outputId": "2d2b1e82-a555-43e0-9ad3-370e28cb0396"
      },
      "execution_count": null,
      "outputs": [
        {
          "output_type": "display_data",
          "data": {
            "text/html": [
              "<html>\n",
              "<head><meta charset=\"utf-8\" /></head>\n",
              "<body>\n",
              "    <div>            <script src=\"https://cdnjs.cloudflare.com/ajax/libs/mathjax/2.7.5/MathJax.js?config=TeX-AMS-MML_SVG\"></script><script type=\"text/javascript\">if (window.MathJax) {MathJax.Hub.Config({SVG: {font: \"STIX-Web\"}});}</script>                <script type=\"text/javascript\">window.PlotlyConfig = {MathJaxConfig: 'local'};</script>\n",
              "        <script src=\"https://cdn.plot.ly/plotly-2.8.3.min.js\"></script>                <div id=\"cc088d16-132c-481b-b86a-0c736cc23811\" class=\"plotly-graph-div\" style=\"height:525px; width:100%;\"></div>            <script type=\"text/javascript\">                                    window.PLOTLYENV=window.PLOTLYENV || {};                                    if (document.getElementById(\"cc088d16-132c-481b-b86a-0c736cc23811\")) {                    Plotly.newPlot(                        \"cc088d16-132c-481b-b86a-0c736cc23811\",                        [{\"alignmentgroup\":\"True\",\"bingroup\":\"x\",\"hovertemplate\":\"fuel=%{x}<br>count=%{y}<extra></extra>\",\"legendgroup\":\"\",\"marker\":{\"color\":\"#636efa\",\"pattern\":{\"shape\":\"\"}},\"name\":\"\",\"offsetgroup\":\"\",\"orientation\":\"v\",\"showlegend\":false,\"x\":[\"Petrol\",\"Petrol\",\"Diesel\",\"Petrol\",\"Diesel\",\"Petrol\",\"Petrol\",\"Petrol\",\"Petrol\",\"CNG\",\"Petrol\",\"Petrol\",\"Petrol\",\"Petrol\",\"Petrol\",\"Diesel\",\"Petrol\",\"Diesel\",\"Petrol\",\"Petrol\",\"Petrol\",\"Petrol\",\"CNG\",\"Petrol\",\"Petrol\",\"Petrol\",\"Petrol\",\"Diesel\",\"Diesel\",\"Diesel\",\"Diesel\",\"Diesel\",\"Diesel\",\"Petrol\",\"Petrol\",\"Diesel\",\"Diesel\",\"Diesel\",\"Petrol\",\"Diesel\",\"Petrol\",\"Petrol\",\"Petrol\",\"Diesel\",\"Diesel\",\"Diesel\",\"Diesel\",\"Diesel\",\"Petrol\",\"Petrol\",\"Diesel\",\"Petrol\",\"Petrol\",\"Petrol\",\"Diesel\",\"Petrol\",\"Diesel\",\"Petrol\",\"Diesel\",\"Diesel\",\"Petrol\",\"Diesel\",\"Diesel\",\"Petrol\",\"Diesel\",\"Petrol\",\"Diesel\",\"Petrol\",\"Petrol\",\"Diesel\",\"Diesel\",\"Diesel\",\"Petrol\",\"Diesel\",\"Diesel\",\"Diesel\",\"Petrol\",\"Diesel\",\"Diesel\",\"Petrol\",\"Petrol\",\"Diesel\",\"Petrol\",\"Petrol\",\"Diesel\",\"Diesel\",\"Petrol\",\"Petrol\",\"Petrol\",\"Diesel\",\"Diesel\",\"Diesel\",\"Petrol\",\"Diesel\",\"Diesel\",\"Diesel\",\"Diesel\",\"Petrol\",\"Petrol\",\"Diesel\",\"Petrol\",\"Petrol\",\"Diesel\",\"Diesel\",\"Petrol\",\"Diesel\",\"Diesel\",\"Diesel\",\"Petrol\",\"Diesel\",\"Petrol\",\"Petrol\",\"Diesel\",\"Petrol\",\"Petrol\",\"Petrol\",\"Diesel\",\"Diesel\",\"Petrol\",\"Diesel\",\"Petrol\",\"Diesel\",\"Diesel\",\"Petrol\",\"Petrol\",\"Diesel\",\"Petrol\",\"Diesel\",\"Diesel\",\"Diesel\",\"Petrol\",\"Diesel\",\"Diesel\",\"Diesel\",\"Petrol\",\"Diesel\",\"Petrol\",\"Petrol\",\"Petrol\",\"Petrol\",\"Diesel\",\"Petrol\",\"Diesel\",\"Petrol\",\"Petrol\",\"Petrol\",\"Petrol\",\"Diesel\",\"Diesel\",\"Petrol\",\"Diesel\",\"Petrol\",\"Petrol\",\"Diesel\",\"Diesel\",\"Petrol\",\"Petrol\",\"LPG\",\"Petrol\",\"Diesel\",\"Petrol\",\"Petrol\",\"Diesel\",\"Petrol\",\"Petrol\",\"Petrol\",\"Diesel\",\"Petrol\",\"Petrol\",\"Diesel\",\"Petrol\",\"Petrol\",\"Diesel\",\"Petrol\",\"Petrol\",\"Petrol\",\"CNG\",\"Petrol\",\"Petrol\",\"Petrol\",\"Petrol\",\"Petrol\",\"Petrol\",\"Petrol\",\"Petrol\",\"Petrol\",\"Diesel\",\"Diesel\",\"Diesel\",\"Petrol\",\"Petrol\",\"Diesel\",\"Petrol\",\"Diesel\",\"Diesel\",\"Diesel\",\"Diesel\",\"Diesel\",\"Petrol\",\"Diesel\",\"Petrol\",\"Diesel\",\"Diesel\",\"Petrol\",\"Diesel\",\"Diesel\",\"Petrol\",\"Petrol\",\"Petrol\",\"Petrol\",\"Diesel\",\"Diesel\",\"Diesel\",\"Petrol\",\"Diesel\",\"Diesel\",\"Diesel\",\"Diesel\",\"Diesel\",\"Petrol\",\"Diesel\",\"Petrol\",\"LPG\",\"Petrol\",\"Petrol\",\"Diesel\",\"Diesel\",\"Diesel\",\"Petrol\",\"Diesel\",\"Petrol\",\"Petrol\",\"Petrol\",\"Petrol\",\"Diesel\",\"Diesel\",\"Diesel\",\"Diesel\",\"Diesel\",\"Diesel\",\"Diesel\",\"Diesel\",\"Petrol\",\"Petrol\",\"Diesel\",\"Diesel\",\"Diesel\",\"Diesel\",\"Petrol\",\"Petrol\",\"Petrol\",\"Petrol\",\"Diesel\",\"Petrol\",\"Diesel\",\"Diesel\",\"Petrol\",\"Diesel\",\"Petrol\",\"Petrol\",\"Diesel\",\"Petrol\",\"Diesel\",\"Diesel\",\"Diesel\",\"Diesel\",\"Diesel\",\"Petrol\",\"Diesel\",\"Petrol\",\"Petrol\",\"Petrol\",\"Petrol\",\"Diesel\",\"Petrol\",\"Petrol\",\"Petrol\",\"Petrol\",\"Petrol\",\"Diesel\",\"Diesel\",\"Diesel\",\"Petrol\",\"Petrol\",\"Petrol\",\"Petrol\",\"Petrol\",\"Diesel\",\"Diesel\",\"Diesel\",\"Petrol\",\"Diesel\",\"Diesel\",\"Petrol\",\"Petrol\",\"Petrol\",\"Petrol\",\"Petrol\",\"Petrol\",\"Diesel\",\"Petrol\",\"Diesel\",\"Petrol\",\"Petrol\",\"Diesel\",\"Petrol\",\"Diesel\",\"Petrol\",\"Petrol\",\"Petrol\",\"Petrol\",\"Diesel\",\"Petrol\",\"Petrol\",\"Diesel\",\"Petrol\",\"Diesel\",\"Diesel\",\"Diesel\",\"Diesel\",\"Diesel\",\"Diesel\",\"Diesel\",\"Petrol\",\"Diesel\",\"Diesel\",\"Diesel\",\"Diesel\",\"Petrol\",\"Diesel\",\"Diesel\",\"Diesel\",\"Diesel\",\"Petrol\",\"Diesel\",\"Diesel\",\"Petrol\",\"Petrol\",\"Diesel\",\"Diesel\",\"Petrol\",\"Petrol\",\"Diesel\",\"Diesel\",\"Diesel\",\"Diesel\",\"Petrol\",\"Diesel\",\"Diesel\",\"Petrol\",\"Diesel\",\"CNG\",\"CNG\",\"Petrol\",\"Petrol\",\"Diesel\",\"Diesel\",\"Petrol\",\"Petrol\",\"Petrol\",\"Diesel\",\"CNG\",\"Diesel\",\"Diesel\",\"Petrol\",\"Diesel\",\"Petrol\",\"Diesel\",\"Petrol\",\"Diesel\",\"Diesel\",\"Petrol\",\"Petrol\",\"Diesel\",\"Petrol\",\"Diesel\",\"Diesel\",\"Petrol\",\"Petrol\",\"Petrol\",\"Petrol\",\"Diesel\",\"Petrol\",\"Diesel\",\"Petrol\",\"Petrol\",\"Diesel\",\"Petrol\",\"Petrol\",\"Petrol\",\"Petrol\",\"Petrol\",\"Petrol\",\"Diesel\",\"Petrol\",\"Diesel\",\"Petrol\",\"Diesel\",\"Diesel\",\"Diesel\",\"Diesel\",\"Petrol\",\"Petrol\",\"Diesel\",\"Petrol\",\"Petrol\",\"Diesel\",\"Petrol\",\"Diesel\",\"Diesel\",\"Diesel\",\"Petrol\",\"Petrol\",\"Petrol\",\"Diesel\",\"Petrol\",\"Diesel\",\"Diesel\",\"Petrol\",\"Diesel\",\"Petrol\",\"Diesel\",\"Diesel\",\"Petrol\",\"Petrol\",\"Petrol\",\"Diesel\",\"Diesel\",\"Diesel\",\"Petrol\",\"Petrol\",\"Diesel\",\"Diesel\",\"Diesel\",\"Petrol\",\"Petrol\",\"Diesel\",\"Petrol\",\"Petrol\",\"Diesel\",\"Petrol\",\"Diesel\",\"Petrol\",\"Petrol\",\"Diesel\",\"Diesel\",\"Petrol\",\"Petrol\",\"Diesel\",\"Petrol\",\"Petrol\",\"Diesel\",\"Petrol\",\"Petrol\",\"Petrol\",\"Diesel\",\"Diesel\",\"Petrol\",\"Petrol\",\"Petrol\",\"Petrol\",\"Diesel\",\"Diesel\",\"Diesel\",\"Petrol\",\"Diesel\",\"Diesel\",\"Petrol\",\"Diesel\",\"Diesel\",\"Petrol\",\"Diesel\",\"Petrol\",\"Diesel\",\"Petrol\",\"Diesel\",\"Petrol\",\"Diesel\",\"Diesel\",\"Petrol\",\"Petrol\",\"Petrol\",\"Diesel\",\"LPG\",\"Petrol\",\"Diesel\",\"Diesel\",\"Diesel\",\"Diesel\",\"Petrol\",\"Petrol\",\"Petrol\",\"Diesel\",\"Petrol\",\"Diesel\",\"LPG\",\"Petrol\",\"Diesel\",\"Diesel\",\"Diesel\",\"Diesel\",\"Diesel\",\"Diesel\",\"Diesel\",\"Diesel\",\"Diesel\",\"Diesel\",\"Petrol\",\"Diesel\",\"Diesel\",\"Diesel\",\"Diesel\",\"Diesel\",\"Diesel\",\"Diesel\",\"Diesel\",\"Petrol\",\"Diesel\",\"Diesel\",\"Diesel\",\"Diesel\",\"Diesel\",\"Diesel\",\"Petrol\",\"Petrol\",\"Diesel\",\"Petrol\",\"Diesel\",\"Diesel\",\"Diesel\",\"Diesel\",\"Diesel\",\"Diesel\",\"Diesel\",\"Diesel\",\"Petrol\",\"Petrol\",\"Petrol\",\"Petrol\",\"Diesel\",\"Petrol\",\"Diesel\",\"Petrol\",\"Petrol\",\"Diesel\",\"Petrol\",\"Petrol\",\"Diesel\",\"Diesel\",\"Petrol\",\"Diesel\",\"Diesel\",\"Diesel\",\"Diesel\",\"Diesel\",\"Diesel\",\"Diesel\",\"Petrol\",\"Petrol\",\"Petrol\",\"Petrol\",\"Petrol\",\"Petrol\",\"Diesel\",\"Diesel\",\"Petrol\",\"Diesel\",\"Petrol\",\"Diesel\",\"Petrol\",\"Diesel\",\"Diesel\",\"Diesel\",\"Diesel\",\"Diesel\",\"Diesel\",\"Petrol\",\"Petrol\",\"Petrol\",\"Petrol\",\"Petrol\",\"Petrol\",\"Diesel\",\"Diesel\",\"Petrol\",\"Diesel\",\"Petrol\",\"Diesel\",\"Petrol\",\"Diesel\",\"Diesel\",\"Diesel\",\"Diesel\",\"Diesel\",\"Diesel\",\"Petrol\",\"Petrol\",\"Petrol\",\"Petrol\",\"Petrol\",\"Petrol\",\"Diesel\",\"Diesel\",\"Petrol\",\"Diesel\",\"Petrol\",\"Diesel\",\"Petrol\",\"Diesel\",\"Diesel\",\"Diesel\",\"Diesel\",\"Diesel\",\"Diesel\",\"Petrol\",\"Petrol\",\"Petrol\",\"Petrol\",\"Petrol\",\"Petrol\",\"Diesel\",\"Diesel\",\"Petrol\",\"Diesel\",\"Petrol\",\"Diesel\",\"Petrol\",\"Diesel\",\"Petrol\",\"Petrol\",\"Petrol\",\"Petrol\",\"Diesel\",\"Petrol\",\"Petrol\",\"Diesel\",\"Diesel\",\"Diesel\",\"Diesel\",\"Diesel\",\"Petrol\",\"Petrol\",\"Petrol\",\"Petrol\",\"Diesel\",\"Diesel\",\"Diesel\",\"Diesel\",\"Petrol\",\"Petrol\",\"Petrol\",\"Petrol\",\"Petrol\",\"Petrol\",\"Petrol\",\"Petrol\",\"Diesel\",\"LPG\",\"Diesel\",\"Diesel\",\"Diesel\",\"Petrol\",\"Petrol\",\"Diesel\",\"CNG\",\"Petrol\",\"Diesel\",\"Diesel\",\"Petrol\",\"Petrol\",\"Diesel\",\"Diesel\",\"Diesel\",\"Petrol\",\"Petrol\",\"Petrol\",\"Diesel\",\"Petrol\",\"Petrol\",\"Diesel\",\"Petrol\",\"Petrol\",\"Petrol\",\"Petrol\",\"Petrol\",\"Petrol\",\"Petrol\",\"Petrol\",\"Diesel\",\"Diesel\",\"Petrol\",\"Petrol\",\"Diesel\",\"Diesel\",\"Diesel\",\"Petrol\",\"Petrol\",\"Petrol\",\"Diesel\",\"Diesel\",\"Diesel\",\"Diesel\",\"Petrol\",\"LPG\",\"Diesel\",\"Diesel\",\"Petrol\",\"Petrol\",\"Diesel\",\"Petrol\",\"Petrol\",\"Diesel\",\"CNG\",\"Petrol\",\"Diesel\",\"Petrol\",\"Petrol\",\"Petrol\",\"Diesel\",\"Diesel\",\"Petrol\",\"Diesel\",\"Petrol\",\"Petrol\",\"Diesel\",\"Petrol\",\"Petrol\",\"Petrol\",\"Petrol\",\"Diesel\",\"Diesel\",\"Diesel\",\"Diesel\",\"Petrol\",\"Petrol\",\"Diesel\",\"Petrol\",\"Petrol\",\"Diesel\",\"Petrol\",\"Petrol\",\"Petrol\",\"Petrol\",\"Petrol\",\"Diesel\",\"Petrol\",\"Petrol\",\"Petrol\",\"Diesel\",\"Diesel\",\"Diesel\",\"Diesel\",\"Petrol\",\"Petrol\",\"Diesel\",\"Diesel\",\"Petrol\",\"Diesel\",\"Diesel\",\"Diesel\",\"Petrol\",\"Petrol\",\"Petrol\",\"Diesel\",\"Petrol\",\"Petrol\",\"Petrol\",\"Petrol\",\"Petrol\",\"Petrol\",\"Diesel\",\"Diesel\",\"Diesel\",\"Diesel\",\"Diesel\",\"Petrol\",\"Diesel\",\"Petrol\",\"Diesel\",\"Diesel\",\"Petrol\",\"Petrol\",\"Diesel\",\"Diesel\",\"Petrol\",\"Diesel\",\"Diesel\",\"Petrol\",\"Diesel\",\"Petrol\",\"Diesel\",\"Petrol\",\"Diesel\",\"Petrol\",\"Diesel\",\"Diesel\",\"Diesel\",\"Petrol\",\"Petrol\",\"Petrol\",\"Diesel\",\"Petrol\",\"Petrol\",\"Diesel\",\"Petrol\",\"Petrol\",\"Petrol\",\"Diesel\",\"Diesel\",\"Diesel\",\"Petrol\",\"Diesel\",\"Petrol\",\"Diesel\",\"Petrol\",\"Diesel\",\"Petrol\",\"Petrol\",\"Diesel\",\"Petrol\",\"Diesel\",\"Petrol\",\"Diesel\",\"Diesel\",\"CNG\",\"Petrol\",\"Petrol\",\"Diesel\",\"Diesel\",\"Petrol\",\"Petrol\",\"Petrol\",\"Petrol\",\"Petrol\",\"Petrol\",\"Diesel\",\"Diesel\",\"Diesel\",\"Diesel\",\"Petrol\",\"Petrol\",\"Diesel\",\"Diesel\",\"Petrol\",\"Diesel\",\"Diesel\",\"Petrol\",\"Petrol\",\"Diesel\",\"Petrol\",\"Petrol\",\"Petrol\",\"Diesel\",\"Petrol\",\"Petrol\",\"Diesel\",\"Petrol\",\"Petrol\",\"Petrol\",\"Petrol\",\"Petrol\",\"Diesel\",\"Diesel\",\"CNG\",\"Petrol\",\"Diesel\",\"Petrol\",\"Petrol\",\"Petrol\",\"Petrol\",\"Diesel\",\"Petrol\",\"Petrol\",\"Diesel\",\"Petrol\",\"Petrol\",\"Diesel\",\"Petrol\",\"Diesel\",\"Diesel\",\"Diesel\",\"Petrol\",\"Petrol\",\"Petrol\",\"Diesel\",\"Diesel\",\"Diesel\",\"Diesel\",\"Diesel\",\"Petrol\",\"Petrol\",\"Diesel\",\"Petrol\",\"Petrol\",\"Petrol\",\"Petrol\",\"Diesel\",\"Diesel\",\"Diesel\",\"Diesel\",\"Diesel\",\"Diesel\",\"Petrol\",\"Petrol\",\"Petrol\",\"Petrol\",\"Petrol\",\"Petrol\",\"Diesel\",\"Diesel\",\"Petrol\",\"Diesel\",\"Petrol\",\"Diesel\",\"Petrol\",\"Diesel\",\"Diesel\",\"Diesel\",\"Diesel\",\"Diesel\",\"Diesel\",\"Petrol\",\"Petrol\",\"Petrol\",\"Petrol\",\"Petrol\",\"Petrol\",\"Diesel\",\"Diesel\",\"Petrol\",\"Diesel\",\"Petrol\",\"Diesel\",\"Petrol\",\"Diesel\",\"Diesel\",\"Diesel\",\"Petrol\",\"Diesel\",\"Diesel\",\"Petrol\",\"Petrol\",\"Petrol\",\"Petrol\",\"Petrol\",\"Diesel\",\"Petrol\",\"Petrol\",\"Diesel\",\"Petrol\",\"Petrol\",\"Diesel\",\"Petrol\",\"Diesel\",\"Diesel\",\"Petrol\",\"Petrol\",\"Diesel\",\"Diesel\",\"Diesel\",\"Petrol\",\"Petrol\",\"Diesel\",\"Diesel\",\"Diesel\",\"Diesel\",\"Diesel\",\"Petrol\",\"Diesel\",\"Petrol\",\"Petrol\",\"Diesel\",\"Diesel\",\"Petrol\",\"Diesel\",\"Diesel\",\"Diesel\",\"Diesel\",\"Petrol\",\"Diesel\",\"Diesel\",\"Diesel\",\"Petrol\",\"Diesel\",\"Diesel\",\"Diesel\",\"Diesel\",\"Diesel\",\"Petrol\",\"Petrol\",\"Petrol\",\"Diesel\",\"Diesel\",\"Petrol\",\"Petrol\",\"Petrol\",\"Petrol\",\"Diesel\",\"Petrol\",\"Petrol\",\"Diesel\",\"Diesel\",\"Diesel\",\"Petrol\",\"Petrol\",\"Diesel\",\"Petrol\",\"Petrol\",\"Petrol\",\"Petrol\",\"Diesel\",\"Diesel\",\"Petrol\",\"Petrol\",\"Petrol\",\"Petrol\",\"Petrol\",\"Petrol\",\"Diesel\",\"Diesel\",\"Diesel\",\"Diesel\",\"Diesel\",\"Diesel\",\"Petrol\",\"Diesel\",\"Diesel\",\"Petrol\",\"Petrol\",\"Petrol\",\"Petrol\",\"Diesel\",\"Petrol\",\"Diesel\",\"Petrol\",\"Petrol\",\"Diesel\",\"Petrol\",\"Diesel\",\"Petrol\",\"Petrol\",\"Diesel\",\"Diesel\",\"Diesel\",\"Diesel\",\"Petrol\",\"Diesel\",\"Diesel\",\"Diesel\",\"Petrol\",\"Petrol\",\"Diesel\",\"Petrol\",\"Diesel\",\"Diesel\",\"Diesel\",\"Diesel\",\"Diesel\",\"Diesel\",\"Diesel\",\"Petrol\",\"Petrol\",\"Diesel\",\"Petrol\",\"Diesel\",\"Petrol\",\"Diesel\",\"Petrol\",\"Petrol\",\"Petrol\",\"Diesel\",\"Petrol\",\"Petrol\",\"Petrol\",\"Petrol\",\"Diesel\",\"Diesel\",\"Diesel\",\"Diesel\",\"Petrol\",\"Diesel\",\"Petrol\",\"Petrol\",\"Diesel\",\"Petrol\",\"Diesel\",\"Diesel\",\"Petrol\",\"Diesel\",\"Petrol\",\"Diesel\",\"Petrol\",\"Diesel\",\"Diesel\",\"Petrol\",\"Petrol\",\"Diesel\",\"Petrol\",\"Diesel\",\"Diesel\",\"Diesel\",\"Diesel\",\"Diesel\",\"Diesel\",\"Petrol\",\"Petrol\",\"Diesel\",\"Diesel\",\"Diesel\",\"Petrol\",\"Petrol\",\"Petrol\",\"Diesel\",\"Diesel\",\"Diesel\",\"Diesel\",\"Diesel\",\"Diesel\",\"Petrol\",\"Diesel\",\"Petrol\",\"Diesel\",\"Petrol\",\"Petrol\",\"Diesel\",\"Diesel\",\"Petrol\",\"Diesel\",\"Diesel\",\"Diesel\",\"Petrol\",\"Petrol\",\"Petrol\",\"Diesel\",\"Petrol\",\"Diesel\",\"Diesel\",\"Diesel\",\"CNG\",\"Petrol\",\"CNG\",\"Diesel\",\"Petrol\",\"Petrol\",\"Diesel\",\"Petrol\",\"Diesel\",\"Petrol\",\"Petrol\",\"Petrol\",\"Petrol\",\"Petrol\",\"Diesel\",\"Diesel\",\"Petrol\",\"Diesel\",\"Diesel\",\"Diesel\",\"Petrol\",\"Petrol\",\"Petrol\",\"Diesel\",\"Petrol\",\"Petrol\",\"Diesel\",\"Diesel\",\"Diesel\",\"Diesel\",\"Petrol\",\"Diesel\",\"Diesel\",\"Petrol\",\"Diesel\",\"Petrol\",\"Petrol\",\"Petrol\",\"Petrol\",\"Petrol\",\"Petrol\",\"Diesel\",\"Diesel\",\"Petrol\",\"Petrol\",\"Petrol\",\"Petrol\",\"Diesel\",\"Diesel\",\"Diesel\",\"Diesel\",\"Diesel\",\"Diesel\",\"Petrol\",\"Petrol\",\"Diesel\",\"Petrol\",\"Petrol\",\"Petrol\",\"Petrol\",\"Petrol\",\"Diesel\",\"Petrol\",\"Petrol\",\"Diesel\",\"Diesel\",\"Diesel\",\"Petrol\",\"Petrol\",\"Diesel\",\"Petrol\",\"Petrol\",\"Diesel\",\"Petrol\",\"Diesel\",\"Petrol\",\"Diesel\",\"Diesel\",\"Diesel\",\"Diesel\",\"Petrol\",\"Petrol\",\"Petrol\",\"Petrol\",\"Diesel\",\"Petrol\",\"Diesel\",\"Diesel\",\"Diesel\",\"Diesel\",\"Petrol\",\"Petrol\",\"Diesel\",\"Diesel\",\"Petrol\",\"Petrol\",\"Petrol\",\"Diesel\",\"Petrol\",\"Petrol\",\"Diesel\",\"Petrol\",\"Petrol\",\"Diesel\",\"Petrol\",\"Petrol\",\"Diesel\",\"Petrol\",\"Petrol\",\"Petrol\",\"Petrol\",\"Diesel\",\"Petrol\",\"Diesel\",\"Diesel\",\"Diesel\",\"Diesel\",\"Diesel\",\"Petrol\",\"Diesel\",\"Petrol\",\"Petrol\",\"Diesel\",\"Petrol\",\"Petrol\",\"Petrol\",\"Diesel\",\"Diesel\",\"Diesel\",\"Petrol\",\"Petrol\",\"Diesel\",\"Petrol\",\"Petrol\",\"Petrol\",\"Petrol\",\"Petrol\",\"Petrol\",\"Diesel\",\"Diesel\",\"Diesel\",\"Diesel\",\"Petrol\",\"Diesel\",\"Diesel\",\"Petrol\",\"Petrol\",\"Diesel\",\"Diesel\",\"Diesel\",\"Diesel\",\"Diesel\",\"Diesel\",\"Petrol\",\"Diesel\",\"Diesel\",\"Diesel\",\"Diesel\",\"Petrol\",\"Diesel\",\"Petrol\",\"Petrol\",\"Diesel\",\"Petrol\",\"Diesel\",\"Diesel\",\"Petrol\",\"Diesel\",\"Petrol\",\"Petrol\",\"Diesel\",\"Diesel\",\"Diesel\",\"Diesel\",\"Diesel\",\"Diesel\",\"Petrol\",\"Diesel\",\"Petrol\",\"Diesel\",\"Petrol\",\"Petrol\",\"Diesel\",\"Petrol\",\"Diesel\",\"Diesel\",\"Petrol\",\"Diesel\",\"Diesel\",\"Petrol\",\"Diesel\",\"Petrol\",\"Diesel\",\"Diesel\",\"Diesel\",\"Diesel\",\"Petrol\",\"Diesel\",\"Petrol\",\"Diesel\",\"Petrol\",\"Petrol\",\"Diesel\",\"Petrol\",\"Petrol\",\"Petrol\",\"Diesel\",\"Petrol\",\"Diesel\",\"Diesel\",\"Diesel\",\"Petrol\",\"Petrol\",\"Petrol\",\"Diesel\",\"Diesel\",\"Petrol\",\"LPG\",\"Diesel\",\"Diesel\",\"Petrol\",\"Petrol\",\"Diesel\",\"Petrol\",\"Diesel\",\"Petrol\",\"Petrol\",\"Petrol\",\"Diesel\",\"Diesel\",\"Petrol\",\"Petrol\",\"Diesel\",\"Diesel\",\"Diesel\",\"Petrol\",\"Diesel\",\"Diesel\",\"Diesel\",\"Diesel\",\"Petrol\",\"Petrol\",\"Petrol\",\"Diesel\",\"Petrol\",\"Diesel\",\"Petrol\",\"Petrol\",\"Diesel\",\"Petrol\",\"Petrol\",\"Petrol\",\"Petrol\",\"Diesel\",\"Diesel\",\"Diesel\",\"Diesel\",\"Diesel\",\"Petrol\",\"Diesel\",\"Petrol\",\"Diesel\",\"Petrol\",\"Diesel\",\"Diesel\",\"Diesel\",\"Petrol\",\"Petrol\",\"Diesel\",\"Petrol\",\"Petrol\",\"Petrol\",\"Diesel\",\"Diesel\",\"Petrol\",\"Diesel\",\"Diesel\",\"Petrol\",\"Petrol\",\"Diesel\",\"Petrol\",\"Petrol\",\"Petrol\",\"Diesel\",\"Diesel\",\"Petrol\",\"Diesel\",\"Petrol\",\"Diesel\",\"Petrol\",\"Petrol\",\"Diesel\",\"Petrol\",\"Petrol\",\"Petrol\",\"Diesel\",\"Petrol\",\"LPG\",\"Petrol\",\"Diesel\",\"Petrol\",\"Petrol\",\"Diesel\",\"Diesel\",\"Petrol\",\"Petrol\",\"Diesel\",\"Petrol\",\"Petrol\",\"Diesel\",\"Petrol\",\"Diesel\",\"Petrol\",\"Diesel\",\"Diesel\",\"Diesel\",\"Diesel\",\"Diesel\",\"Petrol\",\"Petrol\",\"Diesel\",\"Petrol\",\"Diesel\",\"Diesel\",\"Diesel\",\"Petrol\",\"Petrol\",\"Diesel\",\"Diesel\",\"Petrol\",\"Petrol\",\"Diesel\",\"Diesel\",\"Diesel\",\"Diesel\",\"Diesel\",\"Diesel\",\"Petrol\",\"Petrol\",\"Petrol\",\"Diesel\",\"Diesel\",\"Diesel\",\"Diesel\",\"Diesel\",\"Diesel\",\"Diesel\",\"Diesel\",\"Diesel\",\"Diesel\",\"Petrol\",\"Petrol\",\"Diesel\",\"Diesel\",\"Petrol\",\"Petrol\",\"Petrol\",\"Petrol\",\"Diesel\",\"Diesel\",\"Petrol\",\"Diesel\",\"Diesel\",\"Petrol\",\"Diesel\",\"Petrol\",\"Petrol\",\"Diesel\",\"Diesel\",\"Diesel\",\"Petrol\",\"Diesel\",\"Petrol\",\"Diesel\",\"Diesel\",\"Diesel\",\"Diesel\",\"Diesel\",\"Diesel\",\"Diesel\",\"Petrol\",\"Petrol\",\"Diesel\",\"Petrol\",\"Diesel\",\"Petrol\",\"Petrol\",\"Petrol\",\"Petrol\",\"Petrol\",\"Petrol\",\"Petrol\",\"Diesel\",\"Diesel\",\"Diesel\",\"Petrol\",\"Diesel\",\"Diesel\",\"Diesel\",\"Diesel\",\"Petrol\",\"Petrol\",\"Petrol\",\"Diesel\",\"Diesel\",\"Petrol\",\"Diesel\",\"Petrol\",\"Petrol\",\"Diesel\",\"Petrol\",\"Diesel\",\"Petrol\",\"Diesel\",\"Diesel\",\"Diesel\",\"Petrol\",\"Petrol\",\"Petrol\",\"Diesel\",\"Diesel\",\"Diesel\",\"Diesel\",\"Petrol\",\"Diesel\",\"Petrol\",\"Petrol\",\"Petrol\",\"Petrol\",\"Petrol\",\"Diesel\",\"Diesel\",\"Petrol\",\"Petrol\",\"Petrol\",\"Petrol\",\"Petrol\",\"Petrol\",\"Petrol\",\"Diesel\",\"Diesel\",\"Diesel\",\"Diesel\",\"Diesel\",\"Diesel\",\"Petrol\",\"Petrol\",\"Petrol\",\"Diesel\",\"Diesel\",\"Petrol\",\"Diesel\",\"Petrol\",\"Diesel\",\"Petrol\",\"Diesel\",\"CNG\",\"Petrol\",\"Diesel\",\"Diesel\",\"Petrol\",\"Petrol\",\"Petrol\",\"Diesel\",\"Petrol\",\"Petrol\",\"Diesel\",\"Diesel\",\"Petrol\",\"Diesel\",\"Diesel\",\"Petrol\",\"Petrol\",\"Petrol\",\"Petrol\",\"Petrol\",\"Diesel\",\"Diesel\",\"Petrol\",\"Diesel\",\"Petrol\",\"Petrol\",\"Petrol\",\"Diesel\",\"Petrol\",\"Diesel\",\"Diesel\",\"Diesel\",\"Petrol\",\"Petrol\",\"Diesel\",\"Petrol\",\"Petrol\",\"Petrol\",\"Petrol\",\"Diesel\",\"Diesel\",\"Petrol\",\"Petrol\",\"Petrol\",\"Petrol\",\"Petrol\",\"Petrol\",\"Petrol\",\"Petrol\",\"Diesel\",\"Petrol\",\"Diesel\",\"Diesel\",\"Petrol\",\"Petrol\",\"Diesel\",\"Diesel\",\"Petrol\",\"Diesel\",\"Petrol\",\"Petrol\",\"Diesel\",\"Petrol\",\"Petrol\",\"Petrol\",\"Diesel\",\"Diesel\",\"Diesel\",\"Petrol\",\"Diesel\",\"Petrol\",\"Petrol\",\"Petrol\",\"Petrol\",\"Diesel\",\"Diesel\",\"LPG\",\"Petrol\",\"Diesel\",\"Diesel\",\"Diesel\",\"Petrol\",\"Petrol\",\"Diesel\",\"Petrol\",\"Diesel\",\"Petrol\",\"Diesel\",\"Diesel\",\"Diesel\",\"Diesel\",\"Diesel\",\"CNG\",\"Diesel\",\"Diesel\",\"Petrol\",\"Petrol\",\"Diesel\",\"Petrol\",\"Diesel\",\"CNG\",\"Petrol\",\"Petrol\",\"Diesel\",\"Petrol\",\"LPG\",\"Diesel\",\"Diesel\",\"LPG\",\"Diesel\",\"Petrol\",\"Diesel\",\"Petrol\",\"Diesel\",\"Diesel\",\"Petrol\",\"Petrol\",\"Petrol\",\"Petrol\",\"Diesel\",\"Diesel\",\"Petrol\",\"Diesel\",\"Diesel\",\"Petrol\",\"Diesel\",\"Petrol\",\"Diesel\",\"Petrol\",\"Diesel\",\"Diesel\",\"Petrol\",\"Petrol\",\"Diesel\",\"Diesel\",\"Diesel\",\"Diesel\",\"Diesel\",\"Petrol\",\"Diesel\",\"Diesel\",\"Petrol\",\"Petrol\",\"Petrol\",\"Petrol\",\"Petrol\",\"Petrol\",\"Diesel\",\"Diesel\",\"Diesel\",\"Diesel\",\"Petrol\",\"Petrol\",\"Diesel\",\"Diesel\",\"Diesel\",\"Petrol\",\"Diesel\",\"Petrol\",\"Petrol\",\"Petrol\",\"Diesel\",\"Petrol\",\"Petrol\",\"Petrol\",\"Petrol\",\"Diesel\",\"Petrol\",\"Petrol\",\"Petrol\",\"Diesel\",\"Petrol\",\"Petrol\",\"Diesel\",\"Diesel\",\"Diesel\",\"Diesel\",\"Diesel\",\"Diesel\",\"Petrol\",\"Petrol\",\"Petrol\",\"Petrol\",\"Petrol\",\"Diesel\",\"Petrol\",\"Diesel\",\"Petrol\",\"Diesel\",\"Diesel\",\"Diesel\",\"Diesel\",\"Diesel\",\"Diesel\",\"Petrol\",\"Petrol\",\"Diesel\",\"Diesel\",\"Petrol\",\"Diesel\",\"Petrol\",\"Petrol\",\"Diesel\",\"Diesel\",\"Diesel\",\"Diesel\",\"Diesel\",\"Diesel\",\"Diesel\",\"Diesel\",\"Diesel\",\"Diesel\",\"Diesel\",\"Diesel\",\"Petrol\",\"Diesel\",\"LPG\",\"Diesel\",\"Diesel\",\"Diesel\",\"Diesel\",\"Petrol\",\"Diesel\",\"Diesel\",\"Petrol\",\"Diesel\",\"Diesel\",\"Petrol\",\"Petrol\",\"Diesel\",\"Diesel\",\"Diesel\",\"Petrol\",\"Diesel\",\"Diesel\",\"Diesel\",\"Diesel\",\"Diesel\",\"Petrol\",\"Diesel\",\"Diesel\",\"Diesel\",\"Diesel\",\"Diesel\",\"Petrol\",\"Petrol\",\"Petrol\",\"Petrol\",\"Petrol\",\"Petrol\",\"Diesel\",\"Diesel\",\"Petrol\",\"Diesel\",\"Petrol\",\"Diesel\",\"Petrol\",\"Diesel\",\"Diesel\",\"Petrol\",\"Diesel\",\"Diesel\",\"Diesel\",\"Diesel\",\"Petrol\",\"Petrol\",\"Diesel\",\"Diesel\",\"Diesel\",\"Petrol\",\"Diesel\",\"Petrol\",\"Diesel\",\"Petrol\",\"Diesel\",\"Petrol\",\"Petrol\",\"Petrol\",\"Diesel\",\"Petrol\",\"Diesel\",\"Diesel\",\"Diesel\",\"Diesel\",\"Diesel\",\"Petrol\",\"Petrol\",\"Diesel\",\"Petrol\",\"Diesel\",\"Diesel\",\"Diesel\",\"Petrol\",\"Diesel\",\"Petrol\",\"Petrol\",\"Diesel\",\"Petrol\",\"Petrol\",\"Petrol\",\"Petrol\",\"Diesel\",\"Diesel\",\"Petrol\",\"Diesel\",\"Diesel\",\"Diesel\",\"Diesel\",\"Diesel\",\"Petrol\",\"Petrol\",\"Diesel\",\"Diesel\",\"Petrol\",\"Diesel\",\"Petrol\",\"Diesel\",\"Diesel\",\"Diesel\",\"Petrol\",\"Diesel\",\"Diesel\",\"Petrol\",\"Diesel\",\"Petrol\",\"Diesel\",\"Petrol\",\"Petrol\",\"Petrol\",\"Diesel\",\"Diesel\",\"Petrol\",\"Petrol\",\"Petrol\",\"Petrol\",\"Petrol\",\"Petrol\",\"Diesel\",\"Petrol\",\"Petrol\",\"Diesel\",\"Petrol\",\"Petrol\",\"Diesel\",\"Petrol\",\"Petrol\",\"Petrol\",\"Petrol\",\"LPG\",\"Petrol\",\"Diesel\",\"Petrol\",\"Petrol\",\"Petrol\",\"Petrol\",\"Diesel\",\"Diesel\",\"Diesel\",\"Diesel\",\"Petrol\",\"Petrol\",\"Petrol\",\"Diesel\",\"Petrol\",\"Diesel\",\"Petrol\",\"Petrol\",\"Diesel\",\"Diesel\",\"Diesel\",\"Diesel\",\"Diesel\",\"Petrol\",\"Diesel\",\"Petrol\",\"Diesel\",\"Diesel\",\"Diesel\",\"Petrol\",\"Petrol\",\"Diesel\",\"Diesel\",\"Petrol\",\"Diesel\",\"Petrol\",\"Petrol\",\"Petrol\",\"Petrol\",\"Petrol\",\"Diesel\",\"Petrol\",\"Petrol\",\"Petrol\",\"Diesel\",\"Diesel\",\"Petrol\",\"Diesel\",\"Diesel\",\"Diesel\",\"Petrol\",\"Petrol\",\"Petrol\",\"Petrol\",\"Diesel\",\"LPG\",\"Diesel\",\"Diesel\",\"Petrol\",\"Petrol\",\"Diesel\",\"Diesel\",\"Petrol\",\"Petrol\",\"Diesel\",\"Diesel\",\"Diesel\",\"Petrol\",\"Petrol\",\"Petrol\",\"CNG\",\"Petrol\",\"Petrol\",\"Petrol\",\"Petrol\",\"Petrol\",\"Petrol\",\"Diesel\",\"Diesel\",\"Petrol\",\"Petrol\",\"Diesel\",\"Petrol\",\"Diesel\",\"Petrol\",\"Petrol\",\"Diesel\",\"Diesel\",\"Diesel\",\"Diesel\",\"Petrol\",\"Diesel\",\"Diesel\",\"Diesel\",\"Petrol\",\"Diesel\",\"Diesel\",\"Petrol\",\"Diesel\",\"Petrol\",\"Diesel\",\"Petrol\",\"Petrol\",\"Diesel\",\"Petrol\",\"Diesel\",\"Petrol\",\"Petrol\",\"Petrol\",\"Petrol\",\"Diesel\",\"Petrol\",\"Petrol\",\"LPG\",\"Petrol\",\"Petrol\",\"Diesel\",\"Diesel\",\"Diesel\",\"Diesel\",\"Diesel\",\"Petrol\",\"Petrol\",\"Diesel\",\"Petrol\",\"Petrol\",\"Diesel\",\"Petrol\",\"Petrol\",\"Petrol\",\"Diesel\",\"Diesel\",\"Petrol\",\"Petrol\",\"Petrol\",\"Petrol\",\"Petrol\",\"Petrol\",\"Petrol\",\"Petrol\",\"Petrol\",\"Petrol\",\"Petrol\",\"Diesel\",\"Petrol\",\"Petrol\",\"Diesel\",\"Petrol\",\"Petrol\",\"CNG\",\"Petrol\",\"Petrol\",\"Diesel\",\"Petrol\",\"Petrol\",\"Petrol\",\"Petrol\",\"Petrol\",\"Diesel\",\"Petrol\",\"Diesel\",\"Diesel\",\"Diesel\",\"Petrol\",\"Petrol\",\"Petrol\",\"Diesel\",\"Petrol\",\"Petrol\",\"Petrol\",\"Petrol\",\"Diesel\",\"Petrol\",\"Diesel\",\"Diesel\",\"Petrol\",\"Diesel\",\"Petrol\",\"Diesel\",\"Petrol\",\"Diesel\",\"Petrol\",\"Diesel\",\"Diesel\",\"Diesel\",\"Petrol\",\"Petrol\",\"Petrol\",\"Diesel\",\"Diesel\",\"Diesel\",\"Diesel\",\"Diesel\",\"Diesel\",\"Diesel\",\"Diesel\",\"Petrol\",\"Diesel\",\"Petrol\",\"Diesel\",\"Diesel\",\"Petrol\",\"Diesel\",\"Diesel\",\"Diesel\",\"Diesel\",\"CNG\",\"Diesel\",\"Diesel\",\"Petrol\",\"Petrol\",\"Petrol\",\"Diesel\",\"Diesel\",\"Diesel\",\"Diesel\",\"Diesel\",\"Petrol\",\"Diesel\",\"Petrol\",\"Petrol\",\"Diesel\",\"Diesel\",\"Diesel\",\"Diesel\",\"Diesel\",\"Petrol\",\"Diesel\",\"Diesel\",\"Petrol\",\"Diesel\",\"Petrol\",\"Petrol\",\"Petrol\",\"Petrol\",\"Diesel\",\"Petrol\",\"Diesel\",\"Petrol\",\"Petrol\",\"Diesel\",\"Petrol\",\"Petrol\",\"Diesel\",\"Diesel\",\"Petrol\",\"Petrol\",\"Diesel\",\"Petrol\",\"Petrol\",\"Petrol\",\"Petrol\",\"Petrol\",\"Diesel\",\"Diesel\",\"Petrol\",\"Petrol\",\"Petrol\",\"Petrol\",\"Petrol\",\"Petrol\",\"Diesel\",\"Petrol\",\"Diesel\",\"Petrol\",\"Petrol\",\"Petrol\",\"Petrol\",\"Diesel\",\"Petrol\",\"Diesel\",\"Diesel\",\"Petrol\",\"Diesel\",\"Petrol\",\"Petrol\",\"Diesel\",\"Diesel\",\"Diesel\",\"Diesel\",\"Petrol\",\"Petrol\",\"Diesel\",\"Petrol\",\"Diesel\",\"Petrol\",\"Diesel\",\"Diesel\",\"Petrol\",\"Petrol\",\"Petrol\",\"Diesel\",\"Petrol\",\"Diesel\",\"Diesel\",\"Diesel\",\"Diesel\",\"Diesel\",\"Petrol\",\"Petrol\",\"Petrol\",\"Petrol\",\"Petrol\",\"Petrol\",\"Diesel\",\"Diesel\",\"Petrol\",\"Diesel\",\"Petrol\",\"Diesel\",\"Petrol\",\"Diesel\",\"Diesel\",\"Diesel\",\"Diesel\",\"Diesel\",\"Diesel\",\"Petrol\",\"Petrol\",\"Petrol\",\"Petrol\",\"Petrol\",\"Petrol\",\"Diesel\",\"Diesel\",\"Petrol\",\"Diesel\",\"Petrol\",\"Diesel\",\"Petrol\",\"Diesel\",\"Diesel\",\"Petrol\",\"Petrol\",\"Petrol\",\"Diesel\",\"Petrol\",\"Petrol\",\"Petrol\",\"Petrol\",\"Diesel\",\"Diesel\",\"Petrol\",\"Diesel\",\"Petrol\",\"Petrol\",\"Petrol\",\"Petrol\",\"Diesel\",\"Petrol\",\"Diesel\",\"Petrol\",\"Diesel\",\"Petrol\",\"Petrol\",\"Diesel\",\"Petrol\",\"Diesel\",\"Diesel\",\"Diesel\",\"Diesel\",\"Petrol\",\"Petrol\",\"Diesel\",\"Diesel\",\"Diesel\",\"Petrol\",\"Diesel\",\"Petrol\",\"Petrol\",\"Petrol\",\"Petrol\",\"Diesel\",\"Diesel\",\"Diesel\",\"Petrol\",\"Petrol\",\"Diesel\",\"Petrol\",\"Diesel\",\"Petrol\",\"Diesel\",\"Petrol\",\"Petrol\",\"Petrol\",\"Diesel\",\"Petrol\",\"Petrol\",\"Petrol\",\"Petrol\",\"Diesel\",\"Diesel\",\"Petrol\",\"Diesel\",\"Petrol\",\"Petrol\",\"Diesel\",\"Petrol\",\"Petrol\",\"Petrol\",\"Diesel\",\"Petrol\",\"Petrol\",\"Diesel\",\"Petrol\",\"Diesel\",\"Petrol\",\"Petrol\",\"Diesel\",\"Diesel\",\"Diesel\",\"Diesel\",\"Diesel\",\"Diesel\",\"Petrol\",\"Diesel\",\"Diesel\",\"Petrol\",\"Petrol\",\"Diesel\",\"Diesel\",\"Petrol\",\"Petrol\",\"Petrol\",\"Diesel\",\"Petrol\",\"Petrol\",\"Diesel\",\"Diesel\",\"Petrol\",\"Petrol\",\"Petrol\",\"Diesel\",\"Petrol\",\"Petrol\",\"Petrol\",\"Petrol\",\"LPG\",\"Diesel\",\"Petrol\",\"Diesel\",\"Petrol\",\"Diesel\",\"Petrol\",\"Diesel\",\"Diesel\",\"Petrol\",\"Petrol\",\"Petrol\",\"Diesel\",\"Petrol\",\"Diesel\",\"Petrol\",\"Diesel\",\"Petrol\",\"Petrol\",\"Petrol\",\"Diesel\",\"Diesel\",\"Diesel\",\"Diesel\",\"Petrol\",\"Petrol\",\"Petrol\",\"Diesel\",\"Petrol\",\"Petrol\",\"Petrol\",\"Petrol\",\"Diesel\",\"Petrol\",\"Petrol\",\"Diesel\",\"Diesel\",\"Diesel\",\"Diesel\",\"Diesel\",\"Petrol\",\"Diesel\",\"Diesel\",\"Petrol\",\"Petrol\",\"Diesel\",\"Petrol\",\"Petrol\",\"Diesel\",\"Diesel\",\"Diesel\",\"Diesel\",\"Petrol\",\"Petrol\",\"Petrol\",\"Diesel\",\"Petrol\",\"Diesel\",\"Diesel\",\"Petrol\",\"Petrol\",\"Diesel\",\"Petrol\",\"Diesel\",\"Petrol\",\"Petrol\",\"Diesel\",\"Diesel\",\"Diesel\",\"Diesel\",\"Petrol\",\"Diesel\",\"Petrol\",\"Petrol\",\"Petrol\",\"Diesel\",\"Petrol\",\"Petrol\",\"Diesel\",\"Petrol\",\"Petrol\",\"Petrol\",\"Diesel\",\"Diesel\",\"Diesel\",\"Diesel\",\"Diesel\",\"Diesel\",\"Petrol\",\"Petrol\",\"Diesel\",\"Diesel\",\"Petrol\",\"Diesel\",\"Diesel\",\"Diesel\",\"Petrol\",\"Diesel\",\"Petrol\",\"Diesel\",\"Petrol\",\"Petrol\",\"Diesel\",\"Petrol\",\"Diesel\",\"Petrol\",\"Petrol\",\"Petrol\",\"Diesel\",\"Petrol\",\"Petrol\",\"Petrol\",\"Diesel\",\"CNG\",\"Petrol\",\"Petrol\",\"Diesel\",\"Petrol\",\"Diesel\",\"Diesel\",\"Diesel\",\"Diesel\",\"Petrol\",\"Diesel\",\"Petrol\",\"Diesel\",\"Petrol\",\"Diesel\",\"Petrol\",\"Petrol\",\"Diesel\",\"Diesel\",\"Diesel\",\"Diesel\",\"Diesel\",\"Diesel\",\"Petrol\",\"Petrol\",\"Petrol\",\"Petrol\",\"Diesel\",\"Diesel\",\"Diesel\",\"Petrol\",\"Diesel\",\"Petrol\",\"Diesel\",\"Diesel\",\"Diesel\",\"Diesel\",\"Petrol\",\"Petrol\",\"Petrol\",\"Petrol\",\"Diesel\",\"Diesel\",\"Diesel\",\"Petrol\",\"Diesel\",\"Petrol\",\"Petrol\",\"Petrol\",\"Diesel\",\"Diesel\",\"Petrol\",\"Diesel\",\"LPG\",\"Diesel\",\"Diesel\",\"Petrol\",\"Diesel\",\"Petrol\",\"Diesel\",\"Petrol\",\"Diesel\",\"Petrol\",\"Petrol\",\"Diesel\",\"Petrol\",\"Petrol\",\"Petrol\",\"Diesel\",\"Petrol\",\"Petrol\",\"Diesel\",\"Petrol\",\"Petrol\",\"Diesel\",\"Diesel\",\"Petrol\",\"Petrol\",\"Diesel\",\"Diesel\",\"Diesel\",\"Diesel\",\"Petrol\",\"Diesel\",\"Petrol\",\"Diesel\",\"Petrol\",\"Petrol\",\"Petrol\",\"Diesel\",\"Diesel\",\"Diesel\",\"Petrol\",\"Diesel\",\"Petrol\",\"Petrol\",\"Diesel\",\"Petrol\",\"Petrol\",\"Diesel\",\"Diesel\",\"Petrol\",\"Diesel\",\"Diesel\",\"Diesel\",\"Diesel\",\"Diesel\",\"Petrol\",\"Petrol\",\"Petrol\",\"Petrol\",\"Diesel\",\"Diesel\",\"Diesel\",\"Diesel\",\"Petrol\",\"Diesel\",\"Petrol\",\"Diesel\",\"Diesel\",\"Petrol\",\"Petrol\",\"Diesel\",\"Diesel\",\"Petrol\",\"Diesel\",\"Petrol\",\"Petrol\",\"Petrol\",\"Diesel\",\"Diesel\",\"Petrol\",\"Petrol\",\"Petrol\",\"Petrol\",\"Petrol\",\"Diesel\",\"Petrol\",\"Petrol\",\"Diesel\",\"Diesel\",\"Petrol\",\"Petrol\",\"Diesel\",\"Diesel\",\"Petrol\",\"Diesel\",\"Diesel\",\"Diesel\",\"Petrol\",\"Diesel\",\"Petrol\",\"Petrol\",\"Diesel\",\"Diesel\",\"Diesel\",\"Diesel\",\"Diesel\",\"Petrol\",\"Diesel\",\"Diesel\",\"Diesel\",\"Diesel\",\"Petrol\",\"Petrol\",\"Petrol\",\"Diesel\",\"Petrol\",\"Petrol\",\"Petrol\",\"Petrol\",\"Petrol\",\"Petrol\",\"Diesel\",\"Petrol\",\"Diesel\",\"Diesel\",\"Diesel\",\"Diesel\",\"Diesel\",\"Petrol\",\"Petrol\",\"Diesel\",\"Petrol\",\"Diesel\",\"Petrol\",\"Diesel\",\"Petrol\",\"Diesel\",\"Petrol\",\"Petrol\",\"Diesel\",\"Petrol\",\"Petrol\",\"Petrol\",\"Diesel\",\"Petrol\",\"Petrol\",\"Petrol\",\"Diesel\",\"Diesel\",\"Petrol\",\"Diesel\",\"Diesel\",\"Petrol\",\"Petrol\",\"Diesel\",\"Petrol\",\"Diesel\",\"Diesel\",\"Petrol\",\"Diesel\",\"Diesel\",\"Petrol\",\"Petrol\",\"Petrol\",\"Petrol\",\"Petrol\",\"Diesel\",\"Petrol\",\"Diesel\",\"Diesel\",\"Diesel\",\"Diesel\",\"Petrol\",\"Diesel\",\"Diesel\",\"Diesel\",\"Petrol\",\"Petrol\",\"Petrol\",\"Petrol\",\"Diesel\",\"Petrol\",\"Petrol\",\"Petrol\",\"Diesel\",\"Petrol\",\"Petrol\",\"Petrol\",\"Petrol\",\"CNG\",\"Petrol\",\"Diesel\",\"Diesel\",\"Diesel\",\"Diesel\",\"Diesel\",\"Petrol\",\"Petrol\",\"Petrol\",\"Petrol\",\"Petrol\",\"Petrol\",\"Diesel\",\"Diesel\",\"Petrol\",\"Diesel\",\"Petrol\",\"Diesel\",\"Petrol\",\"Diesel\",\"Petrol\",\"Petrol\",\"Diesel\",\"Petrol\",\"Petrol\",\"Diesel\",\"Diesel\",\"Petrol\",\"Petrol\",\"Petrol\",\"Petrol\",\"Petrol\",\"Petrol\",\"Diesel\",\"Diesel\",\"Diesel\",\"Diesel\",\"Diesel\",\"Petrol\",\"Petrol\",\"Diesel\",\"Diesel\",\"Petrol\",\"Diesel\",\"Diesel\",\"Petrol\",\"Diesel\",\"Diesel\",\"Petrol\",\"Diesel\",\"CNG\",\"Petrol\",\"Diesel\",\"Diesel\",\"Petrol\",\"Diesel\",\"Petrol\",\"Petrol\",\"Petrol\",\"Diesel\",\"Diesel\",\"Diesel\",\"Diesel\",\"Petrol\",\"Petrol\",\"Diesel\",\"Petrol\",\"CNG\",\"Diesel\",\"LPG\",\"Petrol\",\"Diesel\",\"Diesel\",\"Diesel\",\"Diesel\",\"Diesel\",\"Diesel\",\"Diesel\",\"Diesel\",\"Petrol\",\"Petrol\",\"Diesel\",\"Petrol\",\"Diesel\",\"Diesel\",\"Diesel\",\"Petrol\",\"Petrol\",\"Petrol\",\"Diesel\",\"Diesel\",\"Diesel\",\"Diesel\",\"Petrol\",\"Diesel\",\"Petrol\",\"Diesel\",\"Diesel\",\"Diesel\",\"Petrol\",\"Petrol\",\"Diesel\",\"Petrol\",\"Petrol\",\"Petrol\",\"Diesel\",\"Diesel\",\"Diesel\",\"Petrol\",\"Diesel\",\"Petrol\",\"Petrol\",\"Diesel\",\"Diesel\",\"Petrol\",\"Petrol\",\"Diesel\",\"Petrol\",\"Petrol\",\"Petrol\",\"Diesel\",\"Diesel\",\"Diesel\",\"Diesel\",\"Petrol\",\"Petrol\",\"Petrol\",\"Petrol\",\"Petrol\",\"Diesel\",\"Diesel\",\"Diesel\",\"Diesel\",\"Petrol\",\"Petrol\",\"Petrol\",\"Petrol\",\"Petrol\",\"Petrol\",\"Petrol\",\"Diesel\",\"Petrol\",\"Diesel\",\"Diesel\",\"Petrol\",\"Diesel\",\"Petrol\",\"Petrol\",\"Petrol\",\"Diesel\",\"Petrol\",\"Petrol\",\"Diesel\",\"Petrol\",\"Diesel\",\"Petrol\",\"Petrol\",\"Petrol\",\"Petrol\",\"Diesel\",\"Petrol\",\"Petrol\",\"Petrol\",\"Diesel\",\"Petrol\",\"Petrol\",\"Diesel\",\"Petrol\",\"Petrol\",\"Petrol\",\"Diesel\",\"Petrol\",\"Petrol\",\"Petrol\",\"Diesel\",\"Diesel\",\"Diesel\",\"Diesel\",\"Diesel\",\"Petrol\",\"Petrol\",\"Diesel\",\"Petrol\",\"Diesel\",\"Diesel\",\"Diesel\",\"Diesel\",\"Diesel\",\"Diesel\",\"Petrol\",\"Diesel\",\"Diesel\",\"Diesel\",\"Petrol\",\"Petrol\",\"Petrol\",\"Diesel\",\"Diesel\",\"Diesel\",\"Petrol\",\"Diesel\",\"Diesel\",\"Petrol\",\"Petrol\",\"Petrol\",\"Petrol\",\"Petrol\",\"Diesel\",\"Petrol\",\"Petrol\",\"Diesel\",\"Petrol\",\"Petrol\",\"Diesel\",\"Petrol\",\"Diesel\",\"Diesel\",\"Petrol\",\"Petrol\",\"Diesel\",\"Diesel\",\"Diesel\",\"Petrol\",\"Petrol\",\"Diesel\",\"Petrol\",\"Diesel\",\"Diesel\",\"Petrol\",\"Diesel\",\"Petrol\",\"Petrol\",\"Petrol\",\"Diesel\",\"Diesel\",\"Petrol\",\"Diesel\",\"Diesel\",\"Petrol\",\"CNG\",\"Diesel\",\"Diesel\",\"Petrol\",\"Diesel\",\"Petrol\",\"Diesel\",\"Petrol\",\"Petrol\",\"Petrol\",\"Petrol\",\"Petrol\",\"Petrol\",\"Petrol\",\"Diesel\",\"Petrol\",\"Petrol\",\"Diesel\",\"Petrol\",\"Petrol\",\"Diesel\",\"Petrol\",\"Petrol\",\"Petrol\",\"Diesel\",\"Petrol\",\"Petrol\",\"Petrol\",\"Petrol\",\"Petrol\",\"Petrol\",\"Diesel\",\"Petrol\",\"Diesel\",\"Diesel\",\"Petrol\",\"Diesel\",\"Diesel\",\"Petrol\",\"Diesel\",\"CNG\",\"Petrol\",\"Petrol\",\"Petrol\",\"Diesel\",\"Petrol\",\"Petrol\",\"Diesel\",\"Petrol\",\"Diesel\",\"Petrol\",\"Diesel\",\"Diesel\",\"Diesel\",\"Diesel\",\"Petrol\",\"Diesel\",\"Diesel\",\"Diesel\",\"Petrol\",\"Petrol\",\"Petrol\",\"Petrol\",\"Petrol\",\"Diesel\",\"Petrol\",\"Diesel\",\"Diesel\",\"Petrol\",\"Petrol\",\"Diesel\",\"Petrol\",\"Diesel\",\"Petrol\",\"CNG\",\"Petrol\",\"Petrol\",\"Diesel\",\"Diesel\",\"Petrol\",\"Diesel\",\"Diesel\",\"Petrol\",\"Petrol\",\"Diesel\",\"Diesel\",\"Petrol\",\"Petrol\",\"Diesel\",\"Petrol\",\"Diesel\",\"Diesel\",\"Diesel\",\"Petrol\",\"Petrol\",\"Petrol\",\"Petrol\",\"Diesel\",\"Petrol\",\"Diesel\",\"Diesel\",\"Diesel\",\"Petrol\",\"Diesel\",\"Diesel\",\"Diesel\",\"Diesel\",\"Petrol\",\"Diesel\",\"Diesel\",\"Diesel\",\"Diesel\",\"Diesel\",\"Petrol\",\"Petrol\",\"Diesel\",\"CNG\",\"Petrol\",\"Diesel\",\"Diesel\",\"Diesel\",\"Diesel\",\"Diesel\",\"Diesel\",\"Petrol\",\"Diesel\",\"Petrol\",\"Diesel\",\"Diesel\",\"Diesel\",\"Petrol\",\"Petrol\",\"Petrol\",\"Diesel\",\"Petrol\",\"Petrol\",\"Diesel\",\"Petrol\",\"CNG\",\"Diesel\",\"Petrol\",\"Petrol\",\"Petrol\",\"Petrol\",\"Petrol\",\"Petrol\",\"Petrol\",\"Petrol\",\"Petrol\",\"Diesel\",\"Diesel\",\"Diesel\",\"Petrol\",\"Petrol\",\"Diesel\",\"Diesel\",\"Diesel\",\"Diesel\",\"Petrol\",\"Diesel\",\"Diesel\",\"Diesel\",\"Petrol\",\"Petrol\",\"Petrol\",\"Petrol\",\"Petrol\",\"Petrol\",\"Petrol\",\"Diesel\",\"Diesel\",\"Petrol\",\"Diesel\",\"Diesel\",\"Petrol\",\"Petrol\",\"Petrol\",\"Diesel\",\"Petrol\",\"Petrol\",\"Diesel\",\"Petrol\",\"Petrol\",\"Petrol\",\"Diesel\",\"Diesel\",\"Diesel\",\"Petrol\",\"Petrol\",\"Diesel\",\"Diesel\",\"Petrol\",\"Diesel\",\"Diesel\",\"Petrol\",\"Petrol\",\"Petrol\",\"Diesel\",\"Diesel\",\"Petrol\",\"Petrol\",\"Diesel\",\"Diesel\",\"Petrol\",\"Diesel\",\"Diesel\",\"Diesel\",\"Petrol\",\"Petrol\",\"Petrol\",\"Petrol\",\"Petrol\",\"Petrol\",\"Diesel\",\"Diesel\",\"Petrol\",\"CNG\",\"Petrol\",\"Petrol\",\"Petrol\",\"Petrol\",\"Petrol\",\"Petrol\",\"Diesel\",\"Petrol\",\"Petrol\",\"Diesel\",\"Diesel\",\"Petrol\",\"Diesel\",\"Diesel\",\"Diesel\",\"Petrol\",\"Diesel\",\"Petrol\",\"Diesel\",\"Diesel\",\"Diesel\",\"Petrol\",\"Diesel\",\"Diesel\",\"Petrol\",\"Diesel\",\"Petrol\",\"Petrol\",\"Diesel\",\"Petrol\",\"Petrol\",\"Diesel\",\"Diesel\",\"Diesel\",\"Diesel\",\"Diesel\",\"Diesel\",\"Diesel\",\"Diesel\",\"Petrol\",\"Diesel\",\"Diesel\",\"Diesel\",\"Petrol\",\"Diesel\",\"Petrol\",\"Petrol\",\"Petrol\",\"Petrol\",\"Diesel\",\"Petrol\",\"Diesel\",\"Petrol\",\"Petrol\",\"Petrol\",\"Petrol\",\"Petrol\",\"Diesel\",\"Diesel\",\"Diesel\",\"Diesel\",\"Petrol\",\"Diesel\",\"Diesel\",\"Diesel\",\"Diesel\",\"Petrol\",\"Diesel\",\"Petrol\",\"Diesel\",\"Diesel\",\"Diesel\",\"Petrol\",\"Diesel\",\"Petrol\",\"Diesel\",\"Petrol\",\"Petrol\",\"Petrol\",\"Petrol\",\"Petrol\",\"Diesel\",\"Diesel\",\"Petrol\",\"Diesel\",\"Petrol\",\"Petrol\",\"Petrol\",\"Petrol\",\"Petrol\",\"Diesel\",\"Petrol\",\"Petrol\",\"Diesel\",\"Petrol\",\"Diesel\",\"Diesel\",\"Petrol\",\"Diesel\",\"Petrol\",\"Petrol\",\"Petrol\",\"Petrol\",\"Diesel\",\"Petrol\",\"Diesel\",\"Diesel\",\"Diesel\",\"Petrol\",\"Petrol\",\"Diesel\",\"Petrol\",\"Petrol\",\"Diesel\",\"Diesel\",\"Diesel\",\"Diesel\",\"Diesel\",\"Petrol\",\"Diesel\",\"Petrol\",\"Diesel\",\"Petrol\",\"Petrol\",\"Petrol\",\"Petrol\",\"Diesel\",\"Petrol\",\"Diesel\",\"Diesel\",\"Petrol\",\"Diesel\",\"Diesel\",\"Diesel\",\"Diesel\",\"Petrol\",\"Petrol\",\"Diesel\",\"Petrol\",\"Petrol\",\"Petrol\",\"Diesel\",\"Diesel\",\"Petrol\",\"Petrol\",\"Petrol\",\"Diesel\",\"Diesel\",\"Diesel\",\"Diesel\",\"LPG\",\"Diesel\",\"Diesel\",\"Diesel\",\"Diesel\",\"Petrol\",\"Petrol\",\"Petrol\",\"Petrol\",\"Diesel\",\"Diesel\",\"Diesel\",\"Petrol\",\"Petrol\",\"Diesel\",\"Petrol\",\"Petrol\",\"Diesel\",\"Petrol\",\"Petrol\",\"Petrol\",\"Petrol\",\"Petrol\",\"Petrol\",\"Petrol\",\"Petrol\",\"Petrol\",\"Petrol\",\"Petrol\",\"Diesel\",\"Petrol\",\"Diesel\",\"Diesel\",\"Diesel\",\"Diesel\",\"Diesel\",\"Petrol\",\"Petrol\",\"Petrol\",\"Diesel\",\"Petrol\",\"Diesel\",\"Petrol\",\"Petrol\",\"Diesel\",\"Petrol\",\"Petrol\",\"Diesel\",\"Diesel\",\"Diesel\",\"Diesel\",\"Petrol\",\"Petrol\",\"LPG\",\"Petrol\",\"Petrol\",\"Petrol\",\"Petrol\",\"Petrol\",\"Petrol\",\"Diesel\",\"Diesel\",\"Petrol\",\"Petrol\",\"Petrol\",\"Diesel\",\"LPG\",\"Petrol\",\"Petrol\",\"Petrol\",\"Diesel\",\"Petrol\",\"Petrol\",\"Petrol\",\"Petrol\",\"Diesel\",\"Petrol\",\"Petrol\",\"Diesel\",\"Petrol\",\"Petrol\",\"Petrol\",\"Petrol\",\"Petrol\",\"Petrol\",\"Petrol\",\"Petrol\",\"Petrol\",\"Diesel\",\"Petrol\",\"Petrol\",\"Petrol\",\"Diesel\",\"Petrol\",\"Diesel\",\"Diesel\",\"Petrol\",\"Petrol\",\"Diesel\",\"Diesel\",\"Petrol\",\"Petrol\",\"Diesel\",\"Diesel\",\"Petrol\",\"Petrol\",\"Diesel\",\"Diesel\",\"Diesel\",\"Petrol\",\"Petrol\",\"Diesel\",\"Diesel\",\"Diesel\",\"Petrol\",\"Petrol\",\"Petrol\",\"Petrol\",\"Diesel\",\"Petrol\",\"Diesel\",\"Petrol\",\"Petrol\",\"CNG\",\"Petrol\",\"Petrol\",\"Diesel\",\"Petrol\",\"Diesel\",\"Diesel\",\"Petrol\",\"Petrol\",\"Petrol\",\"Petrol\",\"Diesel\",\"Petrol\",\"CNG\",\"Diesel\",\"Petrol\",\"Diesel\",\"Diesel\",\"CNG\",\"Diesel\",\"Diesel\",\"Petrol\",\"Petrol\",\"Petrol\",\"Petrol\",\"Petrol\",\"Petrol\",\"Diesel\",\"Diesel\",\"Diesel\",\"Diesel\",\"Diesel\",\"Diesel\",\"Petrol\",\"Petrol\",\"Petrol\",\"Petrol\",\"Petrol\",\"Petrol\",\"Petrol\",\"Diesel\",\"Diesel\",\"Diesel\",\"Petrol\",\"Petrol\",\"Diesel\",\"Diesel\",\"Diesel\",\"Petrol\",\"Petrol\",\"Petrol\",\"Diesel\",\"Diesel\",\"Diesel\",\"Diesel\",\"Diesel\",\"Petrol\",\"Petrol\",\"Diesel\",\"Petrol\",\"Petrol\",\"Petrol\",\"Petrol\",\"Petrol\",\"Petrol\",\"Diesel\",\"Diesel\",\"Diesel\",\"Petrol\",\"Diesel\",\"Diesel\",\"Diesel\",\"Petrol\",\"Petrol\",\"Diesel\",\"Diesel\",\"Diesel\",\"Diesel\",\"Diesel\",\"Petrol\",\"Diesel\",\"Petrol\",\"Petrol\",\"Diesel\",\"Petrol\",\"Diesel\",\"Petrol\",\"Diesel\",\"Diesel\",\"Diesel\",\"Diesel\",\"Diesel\",\"Diesel\",\"Diesel\",\"Petrol\",\"Petrol\",\"Diesel\",\"Diesel\",\"Diesel\",\"Diesel\",\"Petrol\",\"Petrol\",\"Petrol\",\"Petrol\",\"Diesel\",\"Petrol\",\"Petrol\",\"Diesel\",\"Diesel\",\"Petrol\",\"Diesel\",\"Diesel\",\"Petrol\",\"Diesel\",\"Diesel\",\"Petrol\",\"Diesel\",\"Diesel\",\"Petrol\",\"Petrol\",\"Diesel\",\"Diesel\",\"Diesel\",\"Diesel\",\"Diesel\",\"Diesel\",\"Diesel\",\"Diesel\",\"Diesel\",\"Petrol\",\"Diesel\",\"Diesel\",\"Diesel\",\"Diesel\",\"Diesel\",\"Diesel\",\"Diesel\",\"Petrol\",\"Diesel\",\"Diesel\",\"Diesel\",\"Petrol\",\"Diesel\",\"Diesel\",\"Diesel\",\"Diesel\",\"Petrol\",\"Diesel\",\"Diesel\",\"Diesel\",\"Diesel\",\"Petrol\",\"Diesel\",\"Petrol\",\"Petrol\",\"Petrol\",\"Diesel\",\"Petrol\",\"Petrol\",\"Diesel\",\"Petrol\",\"Diesel\",\"Petrol\",\"Petrol\",\"Petrol\",\"Petrol\",\"Petrol\",\"Diesel\",\"Petrol\",\"Diesel\",\"Diesel\",\"Diesel\",\"Petrol\",\"Diesel\",\"Diesel\",\"Diesel\",\"Petrol\",\"Petrol\",\"Petrol\",\"Petrol\",\"Petrol\",\"Petrol\",\"Diesel\",\"Petrol\",\"Diesel\",\"Petrol\",\"Diesel\",\"Diesel\",\"Petrol\",\"Petrol\",\"Diesel\",\"Petrol\",\"Diesel\",\"Diesel\",\"Diesel\",\"Diesel\",\"Petrol\",\"Petrol\",\"Petrol\",\"Petrol\",\"Petrol\",\"Petrol\",\"Diesel\",\"Diesel\",\"Diesel\",\"Petrol\",\"Petrol\",\"Diesel\",\"Petrol\",\"Diesel\",\"Diesel\",\"Diesel\",\"Petrol\",\"Petrol\",\"Diesel\",\"Diesel\",\"Petrol\",\"Petrol\",\"Petrol\",\"Petrol\",\"Petrol\",\"Petrol\",\"Petrol\",\"Petrol\",\"Diesel\",\"Diesel\",\"Diesel\",\"Diesel\",\"Diesel\",\"Petrol\",\"Petrol\",\"Petrol\",\"Petrol\",\"Petrol\",\"Petrol\",\"Petrol\",\"Petrol\",\"Diesel\",\"Diesel\",\"Diesel\",\"Petrol\",\"Petrol\",\"Diesel\",\"Diesel\",\"Petrol\",\"Petrol\",\"Diesel\",\"Petrol\",\"Diesel\",\"Diesel\",\"Diesel\",\"Diesel\",\"Diesel\",\"Diesel\",\"Diesel\",\"Diesel\",\"Petrol\",\"Diesel\",\"Diesel\",\"CNG\",\"Diesel\",\"Diesel\",\"Petrol\",\"Diesel\",\"Diesel\",\"Diesel\",\"Petrol\",\"Petrol\",\"Petrol\",\"Petrol\",\"Diesel\",\"Petrol\",\"Diesel\",\"Diesel\",\"Petrol\",\"Diesel\",\"Petrol\",\"Diesel\",\"Diesel\",\"Diesel\",\"Diesel\",\"Petrol\",\"Petrol\",\"Diesel\",\"Petrol\",\"Diesel\",\"Diesel\",\"Diesel\",\"LPG\",\"Diesel\",\"Diesel\",\"Petrol\",\"Petrol\",\"Petrol\",\"Diesel\",\"Diesel\",\"Petrol\",\"Diesel\",\"Diesel\",\"Petrol\",\"Diesel\",\"Diesel\",\"Diesel\",\"Petrol\",\"Petrol\",\"Diesel\",\"Diesel\",\"Petrol\",\"Diesel\",\"CNG\",\"Petrol\",\"Petrol\",\"Petrol\",\"Petrol\",\"CNG\",\"Petrol\",\"Diesel\",\"LPG\",\"Diesel\",\"Petrol\",\"Diesel\",\"Diesel\",\"Diesel\",\"Diesel\",\"Petrol\",\"Diesel\",\"Diesel\",\"Diesel\",\"Petrol\",\"Diesel\",\"Diesel\",\"Diesel\",\"Diesel\",\"Petrol\",\"Diesel\",\"Diesel\",\"Diesel\",\"Diesel\",\"Petrol\",\"Diesel\",\"Petrol\",\"Petrol\",\"Diesel\",\"Diesel\",\"Petrol\",\"Diesel\",\"Diesel\",\"Diesel\",\"Diesel\",\"Diesel\",\"Petrol\",\"Diesel\",\"Diesel\",\"Diesel\",\"Petrol\",\"Diesel\",\"Diesel\",\"Diesel\",\"Petrol\",\"Diesel\",\"Diesel\",\"Petrol\",\"Petrol\",\"Diesel\",\"Diesel\",\"Petrol\",\"Petrol\",\"Diesel\",\"Diesel\",\"Diesel\",\"Petrol\",\"CNG\",\"Diesel\",\"Diesel\",\"Diesel\",\"Diesel\",\"Diesel\",\"Diesel\",\"Diesel\",\"Diesel\",\"Diesel\",\"Diesel\",\"Petrol\",\"Petrol\",\"Diesel\",\"Petrol\",\"Diesel\",\"Diesel\",\"Petrol\",\"Diesel\",\"Petrol\",\"Petrol\",\"Petrol\",\"Petrol\",\"Diesel\",\"Petrol\",\"Petrol\",\"Petrol\",\"Diesel\",\"Diesel\",\"Diesel\",\"Petrol\",\"Diesel\",\"Petrol\",\"Petrol\",\"Diesel\",\"Diesel\",\"Diesel\",\"Petrol\",\"Diesel\",\"Petrol\",\"Diesel\",\"Petrol\",\"Diesel\",\"Diesel\",\"Diesel\",\"Petrol\",\"Petrol\",\"Diesel\",\"Diesel\",\"Petrol\",\"Petrol\",\"Petrol\",\"Diesel\",\"Petrol\",\"Petrol\",\"Petrol\",\"Petrol\",\"Petrol\",\"Diesel\",\"Petrol\",\"Petrol\",\"Petrol\",\"Diesel\",\"Petrol\",\"Petrol\",\"Petrol\",\"Diesel\",\"Petrol\",\"Diesel\",\"Petrol\",\"Diesel\",\"Petrol\",\"Petrol\",\"Petrol\",\"Petrol\",\"Petrol\",\"Petrol\",\"Diesel\",\"Petrol\",\"Diesel\",\"Petrol\",\"Petrol\",\"Petrol\",\"Petrol\",\"Petrol\",\"Diesel\",\"Diesel\",\"Diesel\",\"Diesel\",\"Diesel\",\"Petrol\",\"Diesel\",\"Diesel\",\"Petrol\",\"Diesel\",\"Petrol\",\"Petrol\",\"Diesel\",\"Diesel\",\"Diesel\",\"Diesel\",\"Petrol\",\"Petrol\",\"Diesel\",\"Diesel\",\"Petrol\",\"Petrol\",\"Diesel\",\"Petrol\",\"Petrol\",\"Petrol\",\"Petrol\",\"Diesel\",\"Petrol\",\"Petrol\",\"Diesel\",\"Petrol\",\"Diesel\",\"Diesel\",\"Diesel\",\"Diesel\",\"Diesel\",\"Petrol\",\"Diesel\",\"Diesel\",\"Diesel\",\"Diesel\",\"Petrol\",\"Petrol\",\"Diesel\",\"Petrol\",\"Petrol\",\"Diesel\",\"Petrol\",\"Diesel\",\"Diesel\",\"Diesel\",\"Diesel\",\"Petrol\",\"Petrol\",\"Diesel\",\"Diesel\",\"Petrol\",\"Diesel\",\"Diesel\",\"Diesel\",\"Diesel\",\"Diesel\",\"Diesel\",\"Petrol\",\"Diesel\",\"Petrol\",\"Petrol\",\"Diesel\",\"Petrol\",\"Petrol\",\"Petrol\",\"Petrol\",\"Diesel\",\"Petrol\",\"Diesel\",\"Diesel\",\"Diesel\",\"Petrol\",\"Petrol\",\"Petrol\",\"CNG\",\"Petrol\",\"Petrol\",\"Petrol\",\"Petrol\",\"Petrol\",\"Diesel\",\"Petrol\",\"Diesel\",\"Petrol\",\"Petrol\",\"Petrol\",\"Petrol\",\"Petrol\",\"Petrol\",\"Diesel\",\"Petrol\",\"Diesel\",\"Petrol\",\"Petrol\",\"Petrol\",\"Petrol\",\"Petrol\",\"Diesel\",\"Diesel\",\"Petrol\",\"Diesel\",\"Petrol\",\"Diesel\",\"Petrol\",\"Diesel\",\"Diesel\",\"Diesel\",\"Petrol\",\"Diesel\",\"Petrol\",\"Petrol\",\"Petrol\",\"Petrol\",\"Petrol\",\"Petrol\",\"Diesel\",\"Petrol\",\"Petrol\",\"Diesel\",\"Petrol\",\"Diesel\",\"Petrol\",\"Diesel\",\"Petrol\",\"Diesel\",\"Diesel\",\"Diesel\",\"Petrol\",\"Petrol\",\"Diesel\",\"Petrol\",\"Petrol\",\"Diesel\",\"Diesel\",\"Petrol\",\"Diesel\",\"CNG\",\"Petrol\",\"Petrol\",\"Diesel\",\"Diesel\",\"Diesel\",\"Petrol\",\"Petrol\",\"Diesel\",\"Diesel\",\"Petrol\",\"Petrol\",\"Petrol\",\"CNG\",\"Diesel\",\"Diesel\",\"Petrol\",\"Petrol\",\"Diesel\",\"Petrol\",\"Petrol\",\"Petrol\",\"Diesel\",\"Diesel\",\"Diesel\",\"Petrol\",\"Diesel\",\"Diesel\",\"Petrol\",\"Diesel\",\"Diesel\",\"Petrol\",\"Petrol\",\"Diesel\",\"Petrol\",\"Petrol\",\"Diesel\",\"Diesel\",\"Diesel\",\"Petrol\",\"Petrol\",\"Diesel\",\"Diesel\",\"Petrol\",\"Diesel\",\"Diesel\",\"Petrol\",\"Diesel\",\"Petrol\",\"Diesel\",\"Diesel\",\"Petrol\",\"Petrol\",\"Petrol\",\"Diesel\",\"Petrol\",\"Petrol\",\"Petrol\",\"Petrol\",\"Petrol\",\"Diesel\",\"Petrol\",\"Diesel\",\"Diesel\",\"Petrol\",\"Petrol\",\"Diesel\",\"Petrol\",\"Diesel\",\"Petrol\",\"Diesel\",\"Diesel\",\"Diesel\",\"Petrol\",\"Petrol\",\"Diesel\",\"Diesel\",\"CNG\",\"Diesel\",\"Petrol\",\"Petrol\",\"Diesel\",\"Electric\",\"Diesel\",\"Diesel\",\"Diesel\",\"Diesel\",\"Diesel\",\"Petrol\",\"CNG\",\"Diesel\",\"Diesel\",\"Petrol\",\"Diesel\",\"Diesel\",\"Petrol\",\"Diesel\",\"Petrol\",\"Diesel\",\"Petrol\",\"Diesel\",\"Petrol\",\"Petrol\",\"Diesel\",\"Petrol\",\"Diesel\",\"Petrol\",\"Diesel\",\"Petrol\",\"Diesel\",\"Diesel\",\"Diesel\",\"Petrol\",\"Diesel\",\"Diesel\",\"Diesel\",\"Diesel\",\"Diesel\",\"Diesel\",\"Petrol\",\"Petrol\",\"Diesel\",\"Petrol\",\"Diesel\",\"Diesel\",\"Diesel\",\"Diesel\",\"Diesel\",\"Diesel\",\"Diesel\",\"Petrol\",\"Petrol\",\"Petrol\",\"Diesel\",\"Diesel\",\"Diesel\",\"Diesel\",\"Diesel\",\"Diesel\",\"Diesel\",\"Diesel\",\"Diesel\",\"Diesel\",\"Petrol\",\"Petrol\",\"Diesel\",\"Diesel\",\"Diesel\",\"Diesel\",\"Petrol\",\"Diesel\",\"Diesel\",\"Diesel\",\"Diesel\",\"Diesel\",\"Diesel\",\"Diesel\",\"Diesel\",\"Diesel\",\"Diesel\",\"Diesel\",\"Petrol\",\"Diesel\",\"Diesel\",\"Diesel\",\"Diesel\",\"Diesel\",\"Diesel\",\"Diesel\",\"Petrol\",\"Diesel\",\"Petrol\",\"Diesel\",\"Diesel\",\"Petrol\",\"Diesel\",\"Diesel\",\"Petrol\",\"Diesel\",\"Diesel\",\"Petrol\",\"Diesel\",\"Diesel\",\"Diesel\",\"Petrol\",\"Diesel\",\"Diesel\",\"Diesel\",\"Diesel\",\"Diesel\",\"Diesel\",\"Diesel\",\"Diesel\",\"Diesel\",\"Petrol\",\"Diesel\",\"Diesel\",\"Petrol\",\"Diesel\",\"Diesel\",\"Petrol\",\"Diesel\",\"Diesel\",\"Diesel\",\"Petrol\",\"Diesel\",\"Diesel\",\"Diesel\",\"Diesel\",\"Diesel\",\"Diesel\",\"Diesel\",\"Diesel\",\"Petrol\",\"Diesel\",\"Petrol\",\"Petrol\",\"Petrol\",\"Petrol\",\"Petrol\",\"Petrol\",\"Petrol\",\"Petrol\",\"Diesel\",\"Petrol\",\"Petrol\",\"Diesel\",\"Petrol\",\"Diesel\",\"Diesel\",\"Petrol\",\"Diesel\",\"Diesel\",\"Petrol\",\"Petrol\",\"Petrol\",\"Petrol\",\"Diesel\",\"Petrol\",\"Diesel\",\"Petrol\",\"Diesel\",\"Diesel\",\"Petrol\",\"Diesel\",\"Petrol\",\"Petrol\",\"Diesel\",\"Petrol\",\"Diesel\",\"Diesel\",\"Diesel\",\"Petrol\",\"Diesel\",\"Petrol\",\"Petrol\",\"Diesel\",\"Petrol\",\"Petrol\",\"Diesel\",\"Petrol\",\"Petrol\",\"Petrol\",\"Petrol\",\"Petrol\",\"Diesel\",\"Petrol\",\"Diesel\",\"Diesel\",\"Diesel\",\"Diesel\",\"Diesel\",\"Diesel\",\"Diesel\",\"Petrol\",\"Diesel\",\"Petrol\"],\"xaxis\":\"x\",\"yaxis\":\"y\",\"type\":\"histogram\"}],                        {\"template\":{\"data\":{\"bar\":[{\"error_x\":{\"color\":\"#2a3f5f\"},\"error_y\":{\"color\":\"#2a3f5f\"},\"marker\":{\"line\":{\"color\":\"#E5ECF6\",\"width\":0.5},\"pattern\":{\"fillmode\":\"overlay\",\"size\":10,\"solidity\":0.2}},\"type\":\"bar\"}],\"barpolar\":[{\"marker\":{\"line\":{\"color\":\"#E5ECF6\",\"width\":0.5},\"pattern\":{\"fillmode\":\"overlay\",\"size\":10,\"solidity\":0.2}},\"type\":\"barpolar\"}],\"carpet\":[{\"aaxis\":{\"endlinecolor\":\"#2a3f5f\",\"gridcolor\":\"white\",\"linecolor\":\"white\",\"minorgridcolor\":\"white\",\"startlinecolor\":\"#2a3f5f\"},\"baxis\":{\"endlinecolor\":\"#2a3f5f\",\"gridcolor\":\"white\",\"linecolor\":\"white\",\"minorgridcolor\":\"white\",\"startlinecolor\":\"#2a3f5f\"},\"type\":\"carpet\"}],\"choropleth\":[{\"colorbar\":{\"outlinewidth\":0,\"ticks\":\"\"},\"type\":\"choropleth\"}],\"contour\":[{\"colorbar\":{\"outlinewidth\":0,\"ticks\":\"\"},\"colorscale\":[[0.0,\"#0d0887\"],[0.1111111111111111,\"#46039f\"],[0.2222222222222222,\"#7201a8\"],[0.3333333333333333,\"#9c179e\"],[0.4444444444444444,\"#bd3786\"],[0.5555555555555556,\"#d8576b\"],[0.6666666666666666,\"#ed7953\"],[0.7777777777777778,\"#fb9f3a\"],[0.8888888888888888,\"#fdca26\"],[1.0,\"#f0f921\"]],\"type\":\"contour\"}],\"contourcarpet\":[{\"colorbar\":{\"outlinewidth\":0,\"ticks\":\"\"},\"type\":\"contourcarpet\"}],\"heatmap\":[{\"colorbar\":{\"outlinewidth\":0,\"ticks\":\"\"},\"colorscale\":[[0.0,\"#0d0887\"],[0.1111111111111111,\"#46039f\"],[0.2222222222222222,\"#7201a8\"],[0.3333333333333333,\"#9c179e\"],[0.4444444444444444,\"#bd3786\"],[0.5555555555555556,\"#d8576b\"],[0.6666666666666666,\"#ed7953\"],[0.7777777777777778,\"#fb9f3a\"],[0.8888888888888888,\"#fdca26\"],[1.0,\"#f0f921\"]],\"type\":\"heatmap\"}],\"heatmapgl\":[{\"colorbar\":{\"outlinewidth\":0,\"ticks\":\"\"},\"colorscale\":[[0.0,\"#0d0887\"],[0.1111111111111111,\"#46039f\"],[0.2222222222222222,\"#7201a8\"],[0.3333333333333333,\"#9c179e\"],[0.4444444444444444,\"#bd3786\"],[0.5555555555555556,\"#d8576b\"],[0.6666666666666666,\"#ed7953\"],[0.7777777777777778,\"#fb9f3a\"],[0.8888888888888888,\"#fdca26\"],[1.0,\"#f0f921\"]],\"type\":\"heatmapgl\"}],\"histogram\":[{\"marker\":{\"pattern\":{\"fillmode\":\"overlay\",\"size\":10,\"solidity\":0.2}},\"type\":\"histogram\"}],\"histogram2d\":[{\"colorbar\":{\"outlinewidth\":0,\"ticks\":\"\"},\"colorscale\":[[0.0,\"#0d0887\"],[0.1111111111111111,\"#46039f\"],[0.2222222222222222,\"#7201a8\"],[0.3333333333333333,\"#9c179e\"],[0.4444444444444444,\"#bd3786\"],[0.5555555555555556,\"#d8576b\"],[0.6666666666666666,\"#ed7953\"],[0.7777777777777778,\"#fb9f3a\"],[0.8888888888888888,\"#fdca26\"],[1.0,\"#f0f921\"]],\"type\":\"histogram2d\"}],\"histogram2dcontour\":[{\"colorbar\":{\"outlinewidth\":0,\"ticks\":\"\"},\"colorscale\":[[0.0,\"#0d0887\"],[0.1111111111111111,\"#46039f\"],[0.2222222222222222,\"#7201a8\"],[0.3333333333333333,\"#9c179e\"],[0.4444444444444444,\"#bd3786\"],[0.5555555555555556,\"#d8576b\"],[0.6666666666666666,\"#ed7953\"],[0.7777777777777778,\"#fb9f3a\"],[0.8888888888888888,\"#fdca26\"],[1.0,\"#f0f921\"]],\"type\":\"histogram2dcontour\"}],\"mesh3d\":[{\"colorbar\":{\"outlinewidth\":0,\"ticks\":\"\"},\"type\":\"mesh3d\"}],\"parcoords\":[{\"line\":{\"colorbar\":{\"outlinewidth\":0,\"ticks\":\"\"}},\"type\":\"parcoords\"}],\"pie\":[{\"automargin\":true,\"type\":\"pie\"}],\"scatter\":[{\"marker\":{\"colorbar\":{\"outlinewidth\":0,\"ticks\":\"\"}},\"type\":\"scatter\"}],\"scatter3d\":[{\"line\":{\"colorbar\":{\"outlinewidth\":0,\"ticks\":\"\"}},\"marker\":{\"colorbar\":{\"outlinewidth\":0,\"ticks\":\"\"}},\"type\":\"scatter3d\"}],\"scattercarpet\":[{\"marker\":{\"colorbar\":{\"outlinewidth\":0,\"ticks\":\"\"}},\"type\":\"scattercarpet\"}],\"scattergeo\":[{\"marker\":{\"colorbar\":{\"outlinewidth\":0,\"ticks\":\"\"}},\"type\":\"scattergeo\"}],\"scattergl\":[{\"marker\":{\"colorbar\":{\"outlinewidth\":0,\"ticks\":\"\"}},\"type\":\"scattergl\"}],\"scattermapbox\":[{\"marker\":{\"colorbar\":{\"outlinewidth\":0,\"ticks\":\"\"}},\"type\":\"scattermapbox\"}],\"scatterpolar\":[{\"marker\":{\"colorbar\":{\"outlinewidth\":0,\"ticks\":\"\"}},\"type\":\"scatterpolar\"}],\"scatterpolargl\":[{\"marker\":{\"colorbar\":{\"outlinewidth\":0,\"ticks\":\"\"}},\"type\":\"scatterpolargl\"}],\"scatterternary\":[{\"marker\":{\"colorbar\":{\"outlinewidth\":0,\"ticks\":\"\"}},\"type\":\"scatterternary\"}],\"surface\":[{\"colorbar\":{\"outlinewidth\":0,\"ticks\":\"\"},\"colorscale\":[[0.0,\"#0d0887\"],[0.1111111111111111,\"#46039f\"],[0.2222222222222222,\"#7201a8\"],[0.3333333333333333,\"#9c179e\"],[0.4444444444444444,\"#bd3786\"],[0.5555555555555556,\"#d8576b\"],[0.6666666666666666,\"#ed7953\"],[0.7777777777777778,\"#fb9f3a\"],[0.8888888888888888,\"#fdca26\"],[1.0,\"#f0f921\"]],\"type\":\"surface\"}],\"table\":[{\"cells\":{\"fill\":{\"color\":\"#EBF0F8\"},\"line\":{\"color\":\"white\"}},\"header\":{\"fill\":{\"color\":\"#C8D4E3\"},\"line\":{\"color\":\"white\"}},\"type\":\"table\"}]},\"layout\":{\"annotationdefaults\":{\"arrowcolor\":\"#2a3f5f\",\"arrowhead\":0,\"arrowwidth\":1},\"autotypenumbers\":\"strict\",\"coloraxis\":{\"colorbar\":{\"outlinewidth\":0,\"ticks\":\"\"}},\"colorscale\":{\"diverging\":[[0,\"#8e0152\"],[0.1,\"#c51b7d\"],[0.2,\"#de77ae\"],[0.3,\"#f1b6da\"],[0.4,\"#fde0ef\"],[0.5,\"#f7f7f7\"],[0.6,\"#e6f5d0\"],[0.7,\"#b8e186\"],[0.8,\"#7fbc41\"],[0.9,\"#4d9221\"],[1,\"#276419\"]],\"sequential\":[[0.0,\"#0d0887\"],[0.1111111111111111,\"#46039f\"],[0.2222222222222222,\"#7201a8\"],[0.3333333333333333,\"#9c179e\"],[0.4444444444444444,\"#bd3786\"],[0.5555555555555556,\"#d8576b\"],[0.6666666666666666,\"#ed7953\"],[0.7777777777777778,\"#fb9f3a\"],[0.8888888888888888,\"#fdca26\"],[1.0,\"#f0f921\"]],\"sequentialminus\":[[0.0,\"#0d0887\"],[0.1111111111111111,\"#46039f\"],[0.2222222222222222,\"#7201a8\"],[0.3333333333333333,\"#9c179e\"],[0.4444444444444444,\"#bd3786\"],[0.5555555555555556,\"#d8576b\"],[0.6666666666666666,\"#ed7953\"],[0.7777777777777778,\"#fb9f3a\"],[0.8888888888888888,\"#fdca26\"],[1.0,\"#f0f921\"]]},\"colorway\":[\"#636efa\",\"#EF553B\",\"#00cc96\",\"#ab63fa\",\"#FFA15A\",\"#19d3f3\",\"#FF6692\",\"#B6E880\",\"#FF97FF\",\"#FECB52\"],\"font\":{\"color\":\"#2a3f5f\"},\"geo\":{\"bgcolor\":\"white\",\"lakecolor\":\"white\",\"landcolor\":\"#E5ECF6\",\"showlakes\":true,\"showland\":true,\"subunitcolor\":\"white\"},\"hoverlabel\":{\"align\":\"left\"},\"hovermode\":\"closest\",\"mapbox\":{\"style\":\"light\"},\"paper_bgcolor\":\"white\",\"plot_bgcolor\":\"#E5ECF6\",\"polar\":{\"angularaxis\":{\"gridcolor\":\"white\",\"linecolor\":\"white\",\"ticks\":\"\"},\"bgcolor\":\"#E5ECF6\",\"radialaxis\":{\"gridcolor\":\"white\",\"linecolor\":\"white\",\"ticks\":\"\"}},\"scene\":{\"xaxis\":{\"backgroundcolor\":\"#E5ECF6\",\"gridcolor\":\"white\",\"gridwidth\":2,\"linecolor\":\"white\",\"showbackground\":true,\"ticks\":\"\",\"zerolinecolor\":\"white\"},\"yaxis\":{\"backgroundcolor\":\"#E5ECF6\",\"gridcolor\":\"white\",\"gridwidth\":2,\"linecolor\":\"white\",\"showbackground\":true,\"ticks\":\"\",\"zerolinecolor\":\"white\"},\"zaxis\":{\"backgroundcolor\":\"#E5ECF6\",\"gridcolor\":\"white\",\"gridwidth\":2,\"linecolor\":\"white\",\"showbackground\":true,\"ticks\":\"\",\"zerolinecolor\":\"white\"}},\"shapedefaults\":{\"line\":{\"color\":\"#2a3f5f\"}},\"ternary\":{\"aaxis\":{\"gridcolor\":\"white\",\"linecolor\":\"white\",\"ticks\":\"\"},\"baxis\":{\"gridcolor\":\"white\",\"linecolor\":\"white\",\"ticks\":\"\"},\"bgcolor\":\"#E5ECF6\",\"caxis\":{\"gridcolor\":\"white\",\"linecolor\":\"white\",\"ticks\":\"\"}},\"title\":{\"x\":0.05},\"xaxis\":{\"automargin\":true,\"gridcolor\":\"white\",\"linecolor\":\"white\",\"ticks\":\"\",\"title\":{\"standoff\":15},\"zerolinecolor\":\"white\",\"zerolinewidth\":2},\"yaxis\":{\"automargin\":true,\"gridcolor\":\"white\",\"linecolor\":\"white\",\"ticks\":\"\",\"title\":{\"standoff\":15},\"zerolinecolor\":\"white\",\"zerolinewidth\":2}}},\"xaxis\":{\"anchor\":\"y\",\"domain\":[0.0,1.0],\"title\":{\"text\":\"fuel\"}},\"yaxis\":{\"anchor\":\"x\",\"domain\":[0.0,1.0],\"title\":{\"text\":\"count\"}},\"legend\":{\"tracegroupgap\":0},\"margin\":{\"t\":60},\"barmode\":\"relative\"},                        {\"responsive\": true}                    ).then(function(){\n",
              "                            \n",
              "var gd = document.getElementById('cc088d16-132c-481b-b86a-0c736cc23811');\n",
              "var x = new MutationObserver(function (mutations, observer) {{\n",
              "        var display = window.getComputedStyle(gd).display;\n",
              "        if (!display || display === 'none') {{\n",
              "            console.log([gd, 'removed!']);\n",
              "            Plotly.purge(gd);\n",
              "            observer.disconnect();\n",
              "        }}\n",
              "}});\n",
              "\n",
              "// Listen for the removal of the full notebook cells\n",
              "var notebookContainer = gd.closest('#notebook-container');\n",
              "if (notebookContainer) {{\n",
              "    x.observe(notebookContainer, {childList: true});\n",
              "}}\n",
              "\n",
              "// Listen for the clearing of the current output cell\n",
              "var outputEl = gd.closest('.output');\n",
              "if (outputEl) {{\n",
              "    x.observe(outputEl, {childList: true});\n",
              "}}\n",
              "\n",
              "                        })                };                            </script>        </div>\n",
              "</body>\n",
              "</html>"
            ]
          },
          "metadata": {}
        }
      ]
    },
    {
      "cell_type": "code",
      "source": [
        "fig = px.histogram(df, 'seller_type')\n",
        "fig.show()"
      ],
      "metadata": {
        "colab": {
          "base_uri": "https://localhost:8080/",
          "height": 542
        },
        "id": "GeNHNJFepulX",
        "outputId": "459b13a8-9c0d-439f-b628-e6eb1309d718"
      },
      "execution_count": null,
      "outputs": [
        {
          "output_type": "display_data",
          "data": {
            "text/html": [
              "<html>\n",
              "<head><meta charset=\"utf-8\" /></head>\n",
              "<body>\n",
              "    <div>            <script src=\"https://cdnjs.cloudflare.com/ajax/libs/mathjax/2.7.5/MathJax.js?config=TeX-AMS-MML_SVG\"></script><script type=\"text/javascript\">if (window.MathJax) {MathJax.Hub.Config({SVG: {font: \"STIX-Web\"}});}</script>                <script type=\"text/javascript\">window.PlotlyConfig = {MathJaxConfig: 'local'};</script>\n",
              "        <script src=\"https://cdn.plot.ly/plotly-2.8.3.min.js\"></script>                <div id=\"6d024e88-1cee-45b5-8a71-c68a0ffa8eed\" class=\"plotly-graph-div\" style=\"height:525px; width:100%;\"></div>            <script type=\"text/javascript\">                                    window.PLOTLYENV=window.PLOTLYENV || {};                                    if (document.getElementById(\"6d024e88-1cee-45b5-8a71-c68a0ffa8eed\")) {                    Plotly.newPlot(                        \"6d024e88-1cee-45b5-8a71-c68a0ffa8eed\",                        [{\"alignmentgroup\":\"True\",\"bingroup\":\"x\",\"hovertemplate\":\"seller_type=%{x}<br>count=%{y}<extra></extra>\",\"legendgroup\":\"\",\"marker\":{\"color\":\"#636efa\",\"pattern\":{\"shape\":\"\"}},\"name\":\"\",\"offsetgroup\":\"\",\"orientation\":\"v\",\"showlegend\":false,\"x\":[\"Individual\",\"Individual\",\"Individual\",\"Individual\",\"Individual\",\"Individual\",\"Individual\",\"Individual\",\"Individual\",\"Individual\",\"Individual\",\"Individual\",\"Dealer\",\"Individual\",\"Individual\",\"Individual\",\"Individual\",\"Individual\",\"Individual\",\"Individual\",\"Individual\",\"Individual\",\"Individual\",\"Individual\",\"Individual\",\"Dealer\",\"Dealer\",\"Dealer\",\"Individual\",\"Dealer\",\"Dealer\",\"Dealer\",\"Dealer\",\"Dealer\",\"Individual\",\"Dealer\",\"Dealer\",\"Dealer\",\"Individual\",\"Individual\",\"Individual\",\"Dealer\",\"Individual\",\"Dealer\",\"Dealer\",\"Individual\",\"Individual\",\"Individual\",\"Individual\",\"Individual\",\"Individual\",\"Individual\",\"Individual\",\"Individual\",\"Dealer\",\"Dealer\",\"Dealer\",\"Dealer\",\"Dealer\",\"Dealer\",\"Individual\",\"Individual\",\"Dealer\",\"Dealer\",\"Individual\",\"Dealer\",\"Dealer\",\"Dealer\",\"Individual\",\"Individual\",\"Individual\",\"Individual\",\"Individual\",\"Individual\",\"Individual\",\"Individual\",\"Individual\",\"Individual\",\"Individual\",\"Individual\",\"Individual\",\"Individual\",\"Individual\",\"Individual\",\"Individual\",\"Individual\",\"Dealer\",\"Dealer\",\"Dealer\",\"Dealer\",\"Individual\",\"Individual\",\"Dealer\",\"Dealer\",\"Dealer\",\"Individual\",\"Dealer\",\"Dealer\",\"Individual\",\"Dealer\",\"Dealer\",\"Dealer\",\"Individual\",\"Dealer\",\"Dealer\",\"Dealer\",\"Individual\",\"Individual\",\"Individual\",\"Individual\",\"Individual\",\"Individual\",\"Individual\",\"Individual\",\"Individual\",\"Individual\",\"Individual\",\"Individual\",\"Individual\",\"Individual\",\"Individual\",\"Individual\",\"Individual\",\"Individual\",\"Individual\",\"Individual\",\"Individual\",\"Individual\",\"Individual\",\"Individual\",\"Individual\",\"Individual\",\"Individual\",\"Dealer\",\"Dealer\",\"Dealer\",\"Individual\",\"Individual\",\"Individual\",\"Individual\",\"Individual\",\"Individual\",\"Individual\",\"Individual\",\"Individual\",\"Individual\",\"Individual\",\"Individual\",\"Individual\",\"Individual\",\"Individual\",\"Individual\",\"Individual\",\"Individual\",\"Individual\",\"Individual\",\"Individual\",\"Individual\",\"Individual\",\"Individual\",\"Individual\",\"Individual\",\"Individual\",\"Individual\",\"Individual\",\"Individual\",\"Individual\",\"Individual\",\"Individual\",\"Individual\",\"Individual\",\"Individual\",\"Individual\",\"Individual\",\"Individual\",\"Individual\",\"Individual\",\"Individual\",\"Individual\",\"Individual\",\"Individual\",\"Individual\",\"Individual\",\"Individual\",\"Individual\",\"Individual\",\"Individual\",\"Individual\",\"Individual\",\"Individual\",\"Individual\",\"Individual\",\"Individual\",\"Individual\",\"Individual\",\"Individual\",\"Individual\",\"Individual\",\"Individual\",\"Individual\",\"Individual\",\"Individual\",\"Individual\",\"Individual\",\"Individual\",\"Dealer\",\"Dealer\",\"Dealer\",\"Dealer\",\"Dealer\",\"Individual\",\"Dealer\",\"Individual\",\"Dealer\",\"Individual\",\"Dealer\",\"Individual\",\"Dealer\",\"Individual\",\"Dealer\",\"Dealer\",\"Individual\",\"Individual\",\"Individual\",\"Individual\",\"Individual\",\"Individual\",\"Individual\",\"Individual\",\"Individual\",\"Individual\",\"Individual\",\"Individual\",\"Individual\",\"Individual\",\"Individual\",\"Individual\",\"Dealer\",\"Individual\",\"Individual\",\"Dealer\",\"Dealer\",\"Individual\",\"Individual\",\"Individual\",\"Individual\",\"Individual\",\"Individual\",\"Individual\",\"Individual\",\"Individual\",\"Dealer\",\"Individual\",\"Individual\",\"Dealer\",\"Dealer\",\"Individual\",\"Individual\",\"Individual\",\"Individual\",\"Dealer\",\"Individual\",\"Dealer\",\"Individual\",\"Individual\",\"Individual\",\"Individual\",\"Individual\",\"Individual\",\"Individual\",\"Individual\",\"Individual\",\"Individual\",\"Individual\",\"Individual\",\"Individual\",\"Individual\",\"Individual\",\"Individual\",\"Individual\",\"Individual\",\"Individual\",\"Individual\",\"Individual\",\"Individual\",\"Individual\",\"Individual\",\"Individual\",\"Individual\",\"Dealer\",\"Individual\",\"Individual\",\"Individual\",\"Individual\",\"Dealer\",\"Individual\",\"Individual\",\"Individual\",\"Dealer\",\"Dealer\",\"Individual\",\"Dealer\",\"Individual\",\"Individual\",\"Dealer\",\"Individual\",\"Individual\",\"Dealer\",\"Individual\",\"Individual\",\"Individual\",\"Individual\",\"Individual\",\"Individual\",\"Individual\",\"Individual\",\"Individual\",\"Dealer\",\"Dealer\",\"Individual\",\"Individual\",\"Dealer\",\"Individual\",\"Individual\",\"Dealer\",\"Individual\",\"Dealer\",\"Individual\",\"Individual\",\"Individual\",\"Individual\",\"Dealer\",\"Individual\",\"Individual\",\"Individual\",\"Individual\",\"Individual\",\"Individual\",\"Individual\",\"Individual\",\"Individual\",\"Individual\",\"Individual\",\"Individual\",\"Individual\",\"Individual\",\"Individual\",\"Individual\",\"Dealer\",\"Dealer\",\"Dealer\",\"Dealer\",\"Dealer\",\"Dealer\",\"Individual\",\"Individual\",\"Individual\",\"Individual\",\"Individual\",\"Individual\",\"Individual\",\"Individual\",\"Individual\",\"Individual\",\"Individual\",\"Individual\",\"Individual\",\"Individual\",\"Individual\",\"Individual\",\"Individual\",\"Individual\",\"Individual\",\"Individual\",\"Individual\",\"Individual\",\"Individual\",\"Individual\",\"Individual\",\"Individual\",\"Individual\",\"Individual\",\"Individual\",\"Individual\",\"Individual\",\"Individual\",\"Individual\",\"Individual\",\"Individual\",\"Individual\",\"Individual\",\"Individual\",\"Individual\",\"Individual\",\"Individual\",\"Individual\",\"Individual\",\"Individual\",\"Individual\",\"Individual\",\"Individual\",\"Individual\",\"Individual\",\"Individual\",\"Individual\",\"Individual\",\"Individual\",\"Individual\",\"Individual\",\"Individual\",\"Individual\",\"Individual\",\"Individual\",\"Individual\",\"Individual\",\"Individual\",\"Individual\",\"Individual\",\"Individual\",\"Individual\",\"Individual\",\"Individual\",\"Individual\",\"Dealer\",\"Individual\",\"Individual\",\"Dealer\",\"Individual\",\"Individual\",\"Dealer\",\"Dealer\",\"Individual\",\"Dealer\",\"Individual\",\"Dealer\",\"Individual\",\"Individual\",\"Individual\",\"Dealer\",\"Individual\",\"Individual\",\"Dealer\",\"Individual\",\"Individual\",\"Individual\",\"Individual\",\"Individual\",\"Individual\",\"Individual\",\"Individual\",\"Individual\",\"Individual\",\"Individual\",\"Individual\",\"Individual\",\"Individual\",\"Individual\",\"Individual\",\"Individual\",\"Individual\",\"Individual\",\"Individual\",\"Individual\",\"Individual\",\"Individual\",\"Individual\",\"Individual\",\"Individual\",\"Individual\",\"Individual\",\"Individual\",\"Individual\",\"Individual\",\"Individual\",\"Individual\",\"Individual\",\"Individual\",\"Individual\",\"Individual\",\"Individual\",\"Individual\",\"Individual\",\"Individual\",\"Individual\",\"Individual\",\"Individual\",\"Individual\",\"Individual\",\"Individual\",\"Individual\",\"Individual\",\"Individual\",\"Individual\",\"Individual\",\"Individual\",\"Individual\",\"Dealer\",\"Dealer\",\"Dealer\",\"Dealer\",\"Dealer\",\"Dealer\",\"Dealer\",\"Dealer\",\"Dealer\",\"Dealer\",\"Dealer\",\"Dealer\",\"Dealer\",\"Dealer\",\"Individual\",\"Individual\",\"Individual\",\"Individual\",\"Individual\",\"Individual\",\"Individual\",\"Individual\",\"Dealer\",\"Dealer\",\"Dealer\",\"Dealer\",\"Dealer\",\"Individual\",\"Dealer\",\"Dealer\",\"Dealer\",\"Individual\",\"Dealer\",\"Dealer\",\"Dealer\",\"Individual\",\"Dealer\",\"Dealer\",\"Dealer\",\"Dealer\",\"Dealer\",\"Dealer\",\"Individual\",\"Individual\",\"Trustmark Dealer\",\"Trustmark Dealer\",\"Trustmark Dealer\",\"Dealer\",\"Trustmark Dealer\",\"Trustmark Dealer\",\"Trustmark Dealer\",\"Trustmark Dealer\",\"Trustmark Dealer\",\"Trustmark Dealer\",\"Dealer\",\"Dealer\",\"Dealer\",\"Dealer\",\"Dealer\",\"Dealer\",\"Individual\",\"Individual\",\"Dealer\",\"Trustmark Dealer\",\"Trustmark Dealer\",\"Dealer\",\"Dealer\",\"Trustmark Dealer\",\"Trustmark Dealer\",\"Dealer\",\"Dealer\",\"Dealer\",\"Dealer\",\"Trustmark Dealer\",\"Trustmark Dealer\",\"Dealer\",\"Dealer\",\"Dealer\",\"Dealer\",\"Individual\",\"Individual\",\"Dealer\",\"Trustmark Dealer\",\"Trustmark Dealer\",\"Dealer\",\"Dealer\",\"Trustmark Dealer\",\"Trustmark Dealer\",\"Dealer\",\"Dealer\",\"Dealer\",\"Dealer\",\"Trustmark Dealer\",\"Trustmark Dealer\",\"Dealer\",\"Dealer\",\"Dealer\",\"Dealer\",\"Individual\",\"Individual\",\"Dealer\",\"Trustmark Dealer\",\"Trustmark Dealer\",\"Dealer\",\"Dealer\",\"Trustmark Dealer\",\"Trustmark Dealer\",\"Dealer\",\"Dealer\",\"Dealer\",\"Dealer\",\"Trustmark Dealer\",\"Trustmark Dealer\",\"Dealer\",\"Dealer\",\"Dealer\",\"Dealer\",\"Individual\",\"Individual\",\"Dealer\",\"Trustmark Dealer\",\"Trustmark Dealer\",\"Dealer\",\"Dealer\",\"Trustmark Dealer\",\"Trustmark Dealer\",\"Dealer\",\"Dealer\",\"Dealer\",\"Dealer\",\"Trustmark Dealer\",\"Trustmark Dealer\",\"Individual\",\"Individual\",\"Individual\",\"Individual\",\"Individual\",\"Individual\",\"Individual\",\"Individual\",\"Individual\",\"Individual\",\"Individual\",\"Individual\",\"Individual\",\"Individual\",\"Individual\",\"Individual\",\"Individual\",\"Individual\",\"Individual\",\"Individual\",\"Individual\",\"Individual\",\"Individual\",\"Individual\",\"Individual\",\"Individual\",\"Individual\",\"Individual\",\"Individual\",\"Individual\",\"Individual\",\"Individual\",\"Individual\",\"Individual\",\"Individual\",\"Individual\",\"Individual\",\"Individual\",\"Individual\",\"Individual\",\"Individual\",\"Individual\",\"Individual\",\"Individual\",\"Individual\",\"Individual\",\"Individual\",\"Individual\",\"Individual\",\"Individual\",\"Individual\",\"Individual\",\"Individual\",\"Individual\",\"Individual\",\"Individual\",\"Individual\",\"Individual\",\"Individual\",\"Individual\",\"Individual\",\"Individual\",\"Individual\",\"Individual\",\"Individual\",\"Individual\",\"Individual\",\"Individual\",\"Individual\",\"Individual\",\"Dealer\",\"Dealer\",\"Individual\",\"Individual\",\"Individual\",\"Individual\",\"Individual\",\"Individual\",\"Individual\",\"Individual\",\"Individual\",\"Dealer\",\"Dealer\",\"Dealer\",\"Dealer\",\"Dealer\",\"Dealer\",\"Dealer\",\"Dealer\",\"Dealer\",\"Dealer\",\"Dealer\",\"Dealer\",\"Dealer\",\"Dealer\",\"Dealer\",\"Dealer\",\"Dealer\",\"Dealer\",\"Dealer\",\"Dealer\",\"Individual\",\"Individual\",\"Individual\",\"Individual\",\"Individual\",\"Individual\",\"Individual\",\"Individual\",\"Individual\",\"Individual\",\"Individual\",\"Individual\",\"Individual\",\"Dealer\",\"Dealer\",\"Individual\",\"Individual\",\"Dealer\",\"Individual\",\"Dealer\",\"Individual\",\"Dealer\",\"Dealer\",\"Dealer\",\"Dealer\",\"Dealer\",\"Dealer\",\"Dealer\",\"Individual\",\"Dealer\",\"Dealer\",\"Individual\",\"Individual\",\"Individual\",\"Dealer\",\"Individual\",\"Individual\",\"Dealer\",\"Individual\",\"Individual\",\"Individual\",\"Individual\",\"Dealer\",\"Dealer\",\"Individual\",\"Dealer\",\"Dealer\",\"Individual\",\"Individual\",\"Individual\",\"Individual\",\"Individual\",\"Individual\",\"Individual\",\"Individual\",\"Individual\",\"Individual\",\"Individual\",\"Individual\",\"Individual\",\"Individual\",\"Dealer\",\"Individual\",\"Dealer\",\"Individual\",\"Individual\",\"Individual\",\"Dealer\",\"Dealer\",\"Dealer\",\"Individual\",\"Dealer\",\"Dealer\",\"Dealer\",\"Dealer\",\"Dealer\",\"Dealer\",\"Dealer\",\"Individual\",\"Dealer\",\"Dealer\",\"Individual\",\"Individual\",\"Individual\",\"Individual\",\"Individual\",\"Individual\",\"Individual\",\"Individual\",\"Individual\",\"Individual\",\"Individual\",\"Individual\",\"Individual\",\"Individual\",\"Individual\",\"Individual\",\"Individual\",\"Individual\",\"Individual\",\"Individual\",\"Individual\",\"Individual\",\"Individual\",\"Individual\",\"Individual\",\"Individual\",\"Individual\",\"Individual\",\"Individual\",\"Individual\",\"Individual\",\"Individual\",\"Individual\",\"Individual\",\"Individual\",\"Individual\",\"Individual\",\"Individual\",\"Individual\",\"Individual\",\"Individual\",\"Individual\",\"Individual\",\"Individual\",\"Individual\",\"Individual\",\"Individual\",\"Individual\",\"Individual\",\"Individual\",\"Individual\",\"Individual\",\"Individual\",\"Individual\",\"Individual\",\"Individual\",\"Individual\",\"Individual\",\"Individual\",\"Individual\",\"Individual\",\"Individual\",\"Individual\",\"Individual\",\"Individual\",\"Individual\",\"Individual\",\"Individual\",\"Individual\",\"Individual\",\"Individual\",\"Individual\",\"Individual\",\"Individual\",\"Individual\",\"Individual\",\"Individual\",\"Individual\",\"Individual\",\"Individual\",\"Individual\",\"Individual\",\"Individual\",\"Individual\",\"Individual\",\"Individual\",\"Individual\",\"Dealer\",\"Dealer\",\"Dealer\",\"Dealer\",\"Individual\",\"Individual\",\"Dealer\",\"Trustmark Dealer\",\"Trustmark Dealer\",\"Dealer\",\"Dealer\",\"Trustmark Dealer\",\"Trustmark Dealer\",\"Dealer\",\"Dealer\",\"Dealer\",\"Dealer\",\"Trustmark Dealer\",\"Trustmark Dealer\",\"Dealer\",\"Dealer\",\"Dealer\",\"Dealer\",\"Individual\",\"Individual\",\"Dealer\",\"Trustmark Dealer\",\"Trustmark Dealer\",\"Dealer\",\"Dealer\",\"Trustmark Dealer\",\"Trustmark Dealer\",\"Dealer\",\"Dealer\",\"Dealer\",\"Dealer\",\"Trustmark Dealer\",\"Trustmark Dealer\",\"Dealer\",\"Dealer\",\"Dealer\",\"Dealer\",\"Dealer\",\"Dealer\",\"Dealer\",\"Dealer\",\"Dealer\",\"Dealer\",\"Dealer\",\"Dealer\",\"Dealer\",\"Dealer\",\"Dealer\",\"Dealer\",\"Dealer\",\"Dealer\",\"Dealer\",\"Dealer\",\"Individual\",\"Individual\",\"Individual\",\"Individual\",\"Individual\",\"Individual\",\"Individual\",\"Individual\",\"Individual\",\"Individual\",\"Individual\",\"Individual\",\"Individual\",\"Individual\",\"Individual\",\"Individual\",\"Individual\",\"Individual\",\"Individual\",\"Individual\",\"Individual\",\"Individual\",\"Individual\",\"Individual\",\"Individual\",\"Individual\",\"Individual\",\"Individual\",\"Individual\",\"Individual\",\"Individual\",\"Individual\",\"Individual\",\"Individual\",\"Individual\",\"Individual\",\"Individual\",\"Individual\",\"Individual\",\"Individual\",\"Individual\",\"Individual\",\"Individual\",\"Individual\",\"Individual\",\"Individual\",\"Individual\",\"Individual\",\"Individual\",\"Individual\",\"Individual\",\"Individual\",\"Individual\",\"Individual\",\"Individual\",\"Individual\",\"Individual\",\"Individual\",\"Individual\",\"Individual\",\"Individual\",\"Individual\",\"Individual\",\"Dealer\",\"Dealer\",\"Dealer\",\"Dealer\",\"Dealer\",\"Dealer\",\"Trustmark Dealer\",\"Individual\",\"Individual\",\"Dealer\",\"Trustmark Dealer\",\"Dealer\",\"Dealer\",\"Trustmark Dealer\",\"Dealer\",\"Dealer\",\"Trustmark Dealer\",\"Trustmark Dealer\",\"Dealer\",\"Trustmark Dealer\",\"Individual\",\"Individual\",\"Individual\",\"Individual\",\"Individual\",\"Individual\",\"Individual\",\"Individual\",\"Individual\",\"Individual\",\"Individual\",\"Individual\",\"Individual\",\"Individual\",\"Individual\",\"Individual\",\"Individual\",\"Individual\",\"Individual\",\"Individual\",\"Individual\",\"Dealer\",\"Dealer\",\"Individual\",\"Individual\",\"Individual\",\"Individual\",\"Individual\",\"Dealer\",\"Individual\",\"Dealer\",\"Individual\",\"Dealer\",\"Dealer\",\"Individual\",\"Individual\",\"Individual\",\"Individual\",\"Individual\",\"Dealer\",\"Dealer\",\"Dealer\",\"Dealer\",\"Dealer\",\"Dealer\",\"Dealer\",\"Dealer\",\"Dealer\",\"Dealer\",\"Dealer\",\"Dealer\",\"Dealer\",\"Dealer\",\"Dealer\",\"Dealer\",\"Dealer\",\"Dealer\",\"Dealer\",\"Dealer\",\"Individual\",\"Individual\",\"Individual\",\"Individual\",\"Individual\",\"Individual\",\"Dealer\",\"Individual\",\"Individual\",\"Individual\",\"Individual\",\"Individual\",\"Individual\",\"Individual\",\"Individual\",\"Individual\",\"Individual\",\"Individual\",\"Individual\",\"Individual\",\"Individual\",\"Individual\",\"Individual\",\"Individual\",\"Individual\",\"Individual\",\"Individual\",\"Individual\",\"Individual\",\"Individual\",\"Individual\",\"Individual\",\"Individual\",\"Individual\",\"Individual\",\"Individual\",\"Individual\",\"Individual\",\"Individual\",\"Individual\",\"Individual\",\"Individual\",\"Individual\",\"Individual\",\"Individual\",\"Dealer\",\"Dealer\",\"Individual\",\"Individual\",\"Dealer\",\"Dealer\",\"Dealer\",\"Dealer\",\"Dealer\",\"Dealer\",\"Dealer\",\"Dealer\",\"Dealer\",\"Dealer\",\"Individual\",\"Dealer\",\"Dealer\",\"Dealer\",\"Dealer\",\"Dealer\",\"Individual\",\"Individual\",\"Individual\",\"Individual\",\"Individual\",\"Individual\",\"Individual\",\"Individual\",\"Individual\",\"Individual\",\"Individual\",\"Individual\",\"Individual\",\"Individual\",\"Individual\",\"Individual\",\"Individual\",\"Individual\",\"Individual\",\"Individual\",\"Individual\",\"Individual\",\"Individual\",\"Individual\",\"Individual\",\"Individual\",\"Individual\",\"Individual\",\"Individual\",\"Individual\",\"Individual\",\"Individual\",\"Individual\",\"Individual\",\"Individual\",\"Individual\",\"Individual\",\"Individual\",\"Individual\",\"Individual\",\"Individual\",\"Individual\",\"Individual\",\"Individual\",\"Individual\",\"Individual\",\"Individual\",\"Individual\",\"Individual\",\"Individual\",\"Individual\",\"Individual\",\"Individual\",\"Individual\",\"Individual\",\"Individual\",\"Individual\",\"Individual\",\"Individual\",\"Individual\",\"Individual\",\"Individual\",\"Individual\",\"Individual\",\"Dealer\",\"Dealer\",\"Dealer\",\"Dealer\",\"Dealer\",\"Individual\",\"Individual\",\"Individual\",\"Individual\",\"Individual\",\"Dealer\",\"Dealer\",\"Dealer\",\"Individual\",\"Individual\",\"Dealer\",\"Dealer\",\"Dealer\",\"Dealer\",\"Individual\",\"Individual\",\"Individual\",\"Individual\",\"Individual\",\"Individual\",\"Individual\",\"Individual\",\"Individual\",\"Individual\",\"Individual\",\"Individual\",\"Individual\",\"Individual\",\"Individual\",\"Individual\",\"Individual\",\"Individual\",\"Individual\",\"Individual\",\"Individual\",\"Individual\",\"Dealer\",\"Dealer\",\"Dealer\",\"Dealer\",\"Individual\",\"Dealer\",\"Dealer\",\"Dealer\",\"Dealer\",\"Dealer\",\"Dealer\",\"Dealer\",\"Dealer\",\"Dealer\",\"Dealer\",\"Individual\",\"Individual\",\"Individual\",\"Individual\",\"Individual\",\"Individual\",\"Individual\",\"Individual\",\"Individual\",\"Individual\",\"Individual\",\"Dealer\",\"Dealer\",\"Individual\",\"Individual\",\"Individual\",\"Individual\",\"Individual\",\"Individual\",\"Individual\",\"Individual\",\"Individual\",\"Individual\",\"Individual\",\"Individual\",\"Individual\",\"Individual\",\"Individual\",\"Individual\",\"Individual\",\"Individual\",\"Individual\",\"Individual\",\"Individual\",\"Individual\",\"Individual\",\"Individual\",\"Individual\",\"Individual\",\"Individual\",\"Individual\",\"Individual\",\"Individual\",\"Individual\",\"Individual\",\"Individual\",\"Individual\",\"Individual\",\"Individual\",\"Individual\",\"Individual\",\"Individual\",\"Individual\",\"Individual\",\"Individual\",\"Individual\",\"Individual\",\"Individual\",\"Individual\",\"Individual\",\"Individual\",\"Individual\",\"Individual\",\"Individual\",\"Individual\",\"Individual\",\"Individual\",\"Individual\",\"Individual\",\"Individual\",\"Individual\",\"Individual\",\"Individual\",\"Individual\",\"Individual\",\"Individual\",\"Dealer\",\"Dealer\",\"Individual\",\"Individual\",\"Individual\",\"Individual\",\"Individual\",\"Individual\",\"Individual\",\"Individual\",\"Individual\",\"Individual\",\"Individual\",\"Individual\",\"Individual\",\"Individual\",\"Individual\",\"Individual\",\"Individual\",\"Individual\",\"Individual\",\"Individual\",\"Individual\",\"Individual\",\"Individual\",\"Individual\",\"Individual\",\"Individual\",\"Individual\",\"Individual\",\"Individual\",\"Individual\",\"Individual\",\"Individual\",\"Individual\",\"Individual\",\"Individual\",\"Dealer\",\"Individual\",\"Individual\",\"Individual\",\"Dealer\",\"Individual\",\"Individual\",\"Individual\",\"Individual\",\"Individual\",\"Individual\",\"Individual\",\"Individual\",\"Individual\",\"Individual\",\"Individual\",\"Individual\",\"Individual\",\"Individual\",\"Individual\",\"Individual\",\"Individual\",\"Individual\",\"Individual\",\"Individual\",\"Individual\",\"Individual\",\"Individual\",\"Individual\",\"Individual\",\"Individual\",\"Individual\",\"Individual\",\"Individual\",\"Individual\",\"Individual\",\"Individual\",\"Individual\",\"Individual\",\"Individual\",\"Individual\",\"Individual\",\"Individual\",\"Individual\",\"Individual\",\"Individual\",\"Individual\",\"Individual\",\"Individual\",\"Individual\",\"Individual\",\"Individual\",\"Individual\",\"Individual\",\"Individual\",\"Individual\",\"Individual\",\"Individual\",\"Individual\",\"Individual\",\"Individual\",\"Individual\",\"Individual\",\"Individual\",\"Individual\",\"Individual\",\"Dealer\",\"Dealer\",\"Individual\",\"Dealer\",\"Dealer\",\"Individual\",\"Dealer\",\"Individual\",\"Dealer\",\"Dealer\",\"Dealer\",\"Dealer\",\"Dealer\",\"Dealer\",\"Dealer\",\"Dealer\",\"Individual\",\"Dealer\",\"Dealer\",\"Dealer\",\"Individual\",\"Individual\",\"Individual\",\"Individual\",\"Individual\",\"Individual\",\"Dealer\",\"Individual\",\"Individual\",\"Individual\",\"Individual\",\"Individual\",\"Individual\",\"Individual\",\"Individual\",\"Individual\",\"Individual\",\"Individual\",\"Individual\",\"Individual\",\"Individual\",\"Individual\",\"Individual\",\"Individual\",\"Individual\",\"Individual\",\"Individual\",\"Individual\",\"Individual\",\"Individual\",\"Individual\",\"Individual\",\"Individual\",\"Individual\",\"Individual\",\"Dealer\",\"Individual\",\"Dealer\",\"Individual\",\"Dealer\",\"Individual\",\"Dealer\",\"Individual\",\"Dealer\",\"Individual\",\"Dealer\",\"Individual\",\"Dealer\",\"Individual\",\"Dealer\",\"Individual\",\"Individual\",\"Individual\",\"Individual\",\"Dealer\",\"Individual\",\"Individual\",\"Individual\",\"Individual\",\"Individual\",\"Individual\",\"Individual\",\"Individual\",\"Individual\",\"Individual\",\"Individual\",\"Individual\",\"Individual\",\"Individual\",\"Individual\",\"Individual\",\"Individual\",\"Individual\",\"Individual\",\"Individual\",\"Individual\",\"Individual\",\"Individual\",\"Individual\",\"Individual\",\"Individual\",\"Individual\",\"Individual\",\"Individual\",\"Individual\",\"Individual\",\"Individual\",\"Individual\",\"Individual\",\"Individual\",\"Individual\",\"Individual\",\"Individual\",\"Individual\",\"Individual\",\"Individual\",\"Individual\",\"Individual\",\"Individual\",\"Individual\",\"Individual\",\"Individual\",\"Individual\",\"Individual\",\"Individual\",\"Individual\",\"Individual\",\"Individual\",\"Individual\",\"Individual\",\"Individual\",\"Individual\",\"Individual\",\"Individual\",\"Individual\",\"Individual\",\"Individual\",\"Individual\",\"Individual\",\"Individual\",\"Individual\",\"Individual\",\"Individual\",\"Individual\",\"Individual\",\"Individual\",\"Individual\",\"Individual\",\"Individual\",\"Individual\",\"Individual\",\"Individual\",\"Individual\",\"Individual\",\"Trustmark Dealer\",\"Trustmark Dealer\",\"Trustmark Dealer\",\"Trustmark Dealer\",\"Trustmark Dealer\",\"Trustmark Dealer\",\"Trustmark Dealer\",\"Trustmark Dealer\",\"Trustmark Dealer\",\"Trustmark Dealer\",\"Trustmark Dealer\",\"Trustmark Dealer\",\"Individual\",\"Individual\",\"Individual\",\"Individual\",\"Individual\",\"Dealer\",\"Individual\",\"Individual\",\"Individual\",\"Individual\",\"Individual\",\"Individual\",\"Individual\",\"Individual\",\"Individual\",\"Individual\",\"Individual\",\"Individual\",\"Individual\",\"Individual\",\"Individual\",\"Individual\",\"Individual\",\"Individual\",\"Individual\",\"Individual\",\"Individual\",\"Individual\",\"Individual\",\"Individual\",\"Individual\",\"Individual\",\"Individual\",\"Individual\",\"Individual\",\"Individual\",\"Individual\",\"Individual\",\"Individual\",\"Individual\",\"Individual\",\"Individual\",\"Individual\",\"Individual\",\"Individual\",\"Individual\",\"Individual\",\"Individual\",\"Individual\",\"Individual\",\"Individual\",\"Individual\",\"Individual\",\"Individual\",\"Individual\",\"Individual\",\"Individual\",\"Individual\",\"Individual\",\"Individual\",\"Individual\",\"Individual\",\"Individual\",\"Individual\",\"Individual\",\"Individual\",\"Individual\",\"Individual\",\"Individual\",\"Individual\",\"Individual\",\"Individual\",\"Individual\",\"Individual\",\"Individual\",\"Individual\",\"Individual\",\"Individual\",\"Individual\",\"Individual\",\"Individual\",\"Individual\",\"Individual\",\"Individual\",\"Individual\",\"Individual\",\"Individual\",\"Dealer\",\"Dealer\",\"Dealer\",\"Dealer\",\"Individual\",\"Dealer\",\"Individual\",\"Individual\",\"Individual\",\"Individual\",\"Individual\",\"Individual\",\"Individual\",\"Individual\",\"Individual\",\"Individual\",\"Individual\",\"Individual\",\"Individual\",\"Individual\",\"Individual\",\"Individual\",\"Individual\",\"Individual\",\"Individual\",\"Individual\",\"Individual\",\"Dealer\",\"Dealer\",\"Dealer\",\"Individual\",\"Dealer\",\"Dealer\",\"Dealer\",\"Dealer\",\"Dealer\",\"Dealer\",\"Dealer\",\"Dealer\",\"Dealer\",\"Dealer\",\"Dealer\",\"Dealer\",\"Dealer\",\"Dealer\",\"Dealer\",\"Dealer\",\"Individual\",\"Individual\",\"Individual\",\"Individual\",\"Individual\",\"Individual\",\"Individual\",\"Individual\",\"Individual\",\"Individual\",\"Individual\",\"Individual\",\"Individual\",\"Dealer\",\"Dealer\",\"Dealer\",\"Dealer\",\"Dealer\",\"Dealer\",\"Dealer\",\"Dealer\",\"Individual\",\"Individual\",\"Individual\",\"Individual\",\"Individual\",\"Individual\",\"Individual\",\"Individual\",\"Individual\",\"Individual\",\"Individual\",\"Individual\",\"Dealer\",\"Dealer\",\"Dealer\",\"Individual\",\"Individual\",\"Individual\",\"Individual\",\"Dealer\",\"Individual\",\"Dealer\",\"Dealer\",\"Individual\",\"Dealer\",\"Dealer\",\"Individual\",\"Individual\",\"Individual\",\"Dealer\",\"Dealer\",\"Dealer\",\"Individual\",\"Individual\",\"Individual\",\"Individual\",\"Individual\",\"Individual\",\"Individual\",\"Individual\",\"Individual\",\"Individual\",\"Individual\",\"Individual\",\"Individual\",\"Individual\",\"Individual\",\"Individual\",\"Individual\",\"Individual\",\"Individual\",\"Dealer\",\"Dealer\",\"Dealer\",\"Dealer\",\"Individual\",\"Individual\",\"Dealer\",\"Trustmark Dealer\",\"Trustmark Dealer\",\"Dealer\",\"Dealer\",\"Trustmark Dealer\",\"Trustmark Dealer\",\"Dealer\",\"Dealer\",\"Dealer\",\"Dealer\",\"Trustmark Dealer\",\"Trustmark Dealer\",\"Individual\",\"Individual\",\"Individual\",\"Individual\",\"Individual\",\"Individual\",\"Individual\",\"Individual\",\"Individual\",\"Individual\",\"Individual\",\"Individual\",\"Individual\",\"Individual\",\"Individual\",\"Individual\",\"Individual\",\"Individual\",\"Individual\",\"Individual\",\"Individual\",\"Individual\",\"Individual\",\"Individual\",\"Individual\",\"Individual\",\"Individual\",\"Individual\",\"Individual\",\"Individual\",\"Individual\",\"Individual\",\"Individual\",\"Individual\",\"Individual\",\"Individual\",\"Individual\",\"Individual\",\"Individual\",\"Individual\",\"Individual\",\"Individual\",\"Individual\",\"Individual\",\"Individual\",\"Individual\",\"Individual\",\"Individual\",\"Individual\",\"Individual\",\"Dealer\",\"Dealer\",\"Dealer\",\"Dealer\",\"Dealer\",\"Dealer\",\"Individual\",\"Individual\",\"Individual\",\"Individual\",\"Individual\",\"Individual\",\"Individual\",\"Individual\",\"Individual\",\"Individual\",\"Individual\",\"Individual\",\"Individual\",\"Individual\",\"Individual\",\"Individual\",\"Individual\",\"Individual\",\"Individual\",\"Individual\",\"Individual\",\"Individual\",\"Individual\",\"Individual\",\"Individual\",\"Individual\",\"Individual\",\"Individual\",\"Individual\",\"Individual\",\"Individual\",\"Individual\",\"Individual\",\"Individual\",\"Individual\",\"Individual\",\"Individual\",\"Individual\",\"Individual\",\"Individual\",\"Individual\",\"Individual\",\"Individual\",\"Individual\",\"Individual\",\"Individual\",\"Individual\",\"Individual\",\"Individual\",\"Individual\",\"Individual\",\"Individual\",\"Individual\",\"Individual\",\"Individual\",\"Individual\",\"Individual\",\"Individual\",\"Individual\",\"Individual\",\"Individual\",\"Individual\",\"Individual\",\"Individual\",\"Individual\",\"Individual\",\"Individual\",\"Individual\",\"Individual\",\"Individual\",\"Individual\",\"Individual\",\"Individual\",\"Individual\",\"Individual\",\"Individual\",\"Individual\",\"Individual\",\"Individual\",\"Individual\",\"Individual\",\"Individual\",\"Individual\",\"Individual\",\"Individual\",\"Individual\",\"Individual\",\"Individual\",\"Individual\",\"Individual\",\"Individual\",\"Individual\",\"Individual\",\"Individual\",\"Individual\",\"Individual\",\"Individual\",\"Individual\",\"Individual\",\"Individual\",\"Individual\",\"Individual\",\"Individual\",\"Individual\",\"Individual\",\"Individual\",\"Individual\",\"Individual\",\"Individual\",\"Individual\",\"Individual\",\"Individual\",\"Individual\",\"Individual\",\"Individual\",\"Dealer\",\"Dealer\",\"Dealer\",\"Dealer\",\"Dealer\",\"Individual\",\"Dealer\",\"Individual\",\"Dealer\",\"Dealer\",\"Dealer\",\"Individual\",\"Dealer\",\"Dealer\",\"Dealer\",\"Dealer\",\"Dealer\",\"Dealer\",\"Dealer\",\"Individual\",\"Individual\",\"Individual\",\"Individual\",\"Individual\",\"Individual\",\"Individual\",\"Individual\",\"Individual\",\"Individual\",\"Individual\",\"Individual\",\"Individual\",\"Individual\",\"Individual\",\"Individual\",\"Individual\",\"Individual\",\"Individual\",\"Individual\",\"Individual\",\"Individual\",\"Individual\",\"Individual\",\"Individual\",\"Individual\",\"Individual\",\"Individual\",\"Individual\",\"Individual\",\"Individual\",\"Individual\",\"Individual\",\"Individual\",\"Dealer\",\"Individual\",\"Dealer\",\"Individual\",\"Dealer\",\"Dealer\",\"Individual\",\"Dealer\",\"Dealer\",\"Dealer\",\"Dealer\",\"Individual\",\"Individual\",\"Dealer\",\"Individual\",\"Individual\",\"Individual\",\"Dealer\",\"Dealer\",\"Individual\",\"Individual\",\"Individual\",\"Individual\",\"Individual\",\"Individual\",\"Individual\",\"Individual\",\"Individual\",\"Individual\",\"Individual\",\"Individual\",\"Individual\",\"Individual\",\"Individual\",\"Individual\",\"Individual\",\"Individual\",\"Individual\",\"Individual\",\"Individual\",\"Dealer\",\"Dealer\",\"Dealer\",\"Dealer\",\"Dealer\",\"Dealer\",\"Individual\",\"Individual\",\"Dealer\",\"Individual\",\"Individual\",\"Individual\",\"Individual\",\"Dealer\",\"Dealer\",\"Dealer\",\"Individual\",\"Dealer\",\"Individual\",\"Individual\",\"Individual\",\"Individual\",\"Individual\",\"Individual\",\"Individual\",\"Individual\",\"Individual\",\"Individual\",\"Individual\",\"Individual\",\"Individual\",\"Individual\",\"Individual\",\"Individual\",\"Individual\",\"Individual\",\"Individual\",\"Individual\",\"Individual\",\"Individual\",\"Individual\",\"Individual\",\"Individual\",\"Individual\",\"Individual\",\"Individual\",\"Individual\",\"Individual\",\"Individual\",\"Individual\",\"Individual\",\"Individual\",\"Individual\",\"Individual\",\"Individual\",\"Individual\",\"Individual\",\"Dealer\",\"Dealer\",\"Dealer\",\"Dealer\",\"Individual\",\"Individual\",\"Trustmark Dealer\",\"Trustmark Dealer\",\"Trustmark Dealer\",\"Dealer\",\"Trustmark Dealer\",\"Trustmark Dealer\",\"Trustmark Dealer\",\"Trustmark Dealer\",\"Trustmark Dealer\",\"Trustmark Dealer\",\"Individual\",\"Dealer\",\"Individual\",\"Individual\",\"Individual\",\"Individual\",\"Individual\",\"Individual\",\"Individual\",\"Individual\",\"Individual\",\"Individual\",\"Individual\",\"Individual\",\"Individual\",\"Individual\",\"Individual\",\"Individual\",\"Individual\",\"Individual\",\"Individual\",\"Individual\",\"Individual\",\"Dealer\",\"Dealer\",\"Dealer\",\"Individual\",\"Individual\",\"Individual\",\"Individual\",\"Individual\",\"Individual\",\"Individual\",\"Dealer\",\"Individual\",\"Dealer\",\"Individual\",\"Individual\",\"Individual\",\"Individual\",\"Individual\",\"Individual\",\"Individual\",\"Individual\",\"Individual\",\"Individual\",\"Individual\",\"Dealer\",\"Dealer\",\"Dealer\",\"Dealer\",\"Individual\",\"Individual\",\"Dealer\",\"Trustmark Dealer\",\"Trustmark Dealer\",\"Dealer\",\"Dealer\",\"Trustmark Dealer\",\"Trustmark Dealer\",\"Dealer\",\"Dealer\",\"Dealer\",\"Dealer\",\"Trustmark Dealer\",\"Trustmark Dealer\",\"Dealer\",\"Dealer\",\"Dealer\",\"Dealer\",\"Individual\",\"Individual\",\"Dealer\",\"Trustmark Dealer\",\"Trustmark Dealer\",\"Dealer\",\"Dealer\",\"Trustmark Dealer\",\"Trustmark Dealer\",\"Dealer\",\"Dealer\",\"Dealer\",\"Dealer\",\"Trustmark Dealer\",\"Trustmark Dealer\",\"Individual\",\"Individual\",\"Individual\",\"Individual\",\"Individual\",\"Individual\",\"Individual\",\"Individual\",\"Individual\",\"Individual\",\"Individual\",\"Dealer\",\"Dealer\",\"Dealer\",\"Dealer\",\"Individual\",\"Individual\",\"Dealer\",\"Individual\",\"Dealer\",\"Dealer\",\"Dealer\",\"Dealer\",\"Dealer\",\"Dealer\",\"Dealer\",\"Dealer\",\"Dealer\",\"Individual\",\"Dealer\",\"Individual\",\"Individual\",\"Individual\",\"Individual\",\"Individual\",\"Individual\",\"Individual\",\"Individual\",\"Individual\",\"Individual\",\"Individual\",\"Individual\",\"Individual\",\"Dealer\",\"Dealer\",\"Individual\",\"Individual\",\"Individual\",\"Individual\",\"Individual\",\"Dealer\",\"Individual\",\"Dealer\",\"Individual\",\"Dealer\",\"Dealer\",\"Individual\",\"Individual\",\"Individual\",\"Individual\",\"Individual\",\"Individual\",\"Individual\",\"Individual\",\"Individual\",\"Individual\",\"Individual\",\"Individual\",\"Dealer\",\"Individual\",\"Dealer\",\"Individual\",\"Dealer\",\"Individual\",\"Dealer\",\"Dealer\",\"Individual\",\"Dealer\",\"Individual\",\"Individual\",\"Individual\",\"Individual\",\"Individual\",\"Dealer\",\"Dealer\",\"Dealer\",\"Dealer\",\"Dealer\",\"Dealer\",\"Dealer\",\"Individual\",\"Individual\",\"Individual\",\"Individual\",\"Individual\",\"Dealer\",\"Individual\",\"Individual\",\"Individual\",\"Individual\",\"Dealer\",\"Individual\",\"Dealer\",\"Dealer\",\"Individual\",\"Dealer\",\"Dealer\",\"Dealer\",\"Dealer\",\"Dealer\",\"Dealer\",\"Dealer\",\"Dealer\",\"Dealer\",\"Dealer\",\"Dealer\",\"Dealer\",\"Individual\",\"Dealer\",\"Individual\",\"Individual\",\"Individual\",\"Individual\",\"Individual\",\"Individual\",\"Individual\",\"Individual\",\"Individual\",\"Individual\",\"Individual\",\"Dealer\",\"Dealer\",\"Dealer\",\"Dealer\",\"Dealer\",\"Dealer\",\"Dealer\",\"Individual\",\"Individual\",\"Individual\",\"Individual\",\"Individual\",\"Individual\",\"Individual\",\"Individual\",\"Individual\",\"Individual\",\"Individual\",\"Individual\",\"Individual\",\"Individual\",\"Individual\",\"Individual\",\"Individual\",\"Individual\",\"Individual\",\"Individual\",\"Individual\",\"Individual\",\"Individual\",\"Individual\",\"Individual\",\"Individual\",\"Individual\",\"Individual\",\"Individual\",\"Individual\",\"Individual\",\"Individual\",\"Individual\",\"Individual\",\"Individual\",\"Individual\",\"Individual\",\"Dealer\",\"Dealer\",\"Individual\",\"Dealer\",\"Dealer\",\"Dealer\",\"Individual\",\"Dealer\",\"Dealer\",\"Dealer\",\"Dealer\",\"Dealer\",\"Dealer\",\"Dealer\",\"Dealer\",\"Dealer\",\"Dealer\",\"Dealer\",\"Dealer\",\"Dealer\",\"Individual\",\"Individual\",\"Individual\",\"Individual\",\"Individual\",\"Individual\",\"Individual\",\"Individual\",\"Individual\",\"Individual\",\"Dealer\",\"Individual\",\"Dealer\",\"Individual\",\"Individual\",\"Individual\",\"Dealer\",\"Dealer\",\"Individual\",\"Individual\",\"Individual\",\"Dealer\",\"Individual\",\"Individual\",\"Individual\",\"Dealer\",\"Individual\",\"Dealer\",\"Individual\",\"Individual\",\"Individual\",\"Individual\",\"Individual\",\"Individual\",\"Individual\",\"Individual\",\"Individual\",\"Individual\",\"Individual\",\"Individual\",\"Individual\",\"Individual\",\"Individual\",\"Individual\",\"Individual\",\"Individual\",\"Individual\",\"Individual\",\"Individual\",\"Individual\",\"Individual\",\"Individual\",\"Individual\",\"Dealer\",\"Dealer\",\"Individual\",\"Dealer\",\"Individual\",\"Individual\",\"Individual\",\"Individual\",\"Individual\",\"Individual\",\"Dealer\",\"Dealer\",\"Dealer\",\"Dealer\",\"Dealer\",\"Dealer\",\"Dealer\",\"Dealer\",\"Dealer\",\"Dealer\",\"Individual\",\"Individual\",\"Individual\",\"Individual\",\"Individual\",\"Individual\",\"Individual\",\"Individual\",\"Individual\",\"Dealer\",\"Dealer\",\"Dealer\",\"Dealer\",\"Dealer\",\"Dealer\",\"Individual\",\"Individual\",\"Individual\",\"Individual\",\"Individual\",\"Individual\",\"Individual\",\"Dealer\",\"Dealer\",\"Dealer\",\"Dealer\",\"Individual\",\"Individual\",\"Dealer\",\"Dealer\",\"Dealer\",\"Dealer\",\"Individual\",\"Dealer\",\"Dealer\",\"Dealer\",\"Individual\",\"Dealer\",\"Dealer\",\"Dealer\",\"Dealer\",\"Individual\",\"Individual\",\"Individual\",\"Individual\",\"Individual\",\"Individual\",\"Individual\",\"Individual\",\"Individual\",\"Individual\",\"Individual\",\"Individual\",\"Individual\",\"Individual\",\"Individual\",\"Individual\",\"Individual\",\"Individual\",\"Individual\",\"Individual\",\"Individual\",\"Individual\",\"Individual\",\"Individual\",\"Individual\",\"Individual\",\"Individual\",\"Individual\",\"Individual\",\"Individual\",\"Individual\",\"Individual\",\"Individual\",\"Individual\",\"Individual\",\"Individual\",\"Individual\",\"Dealer\",\"Dealer\",\"Dealer\",\"Dealer\",\"Dealer\",\"Dealer\",\"Individual\",\"Individual\",\"Individual\",\"Dealer\",\"Dealer\",\"Dealer\",\"Dealer\",\"Dealer\",\"Dealer\",\"Individual\",\"Individual\",\"Individual\",\"Individual\",\"Individual\",\"Individual\",\"Individual\",\"Individual\",\"Individual\",\"Individual\",\"Individual\",\"Individual\",\"Individual\",\"Individual\",\"Individual\",\"Individual\",\"Individual\",\"Individual\",\"Individual\",\"Individual\",\"Individual\",\"Individual\",\"Dealer\",\"Individual\",\"Individual\",\"Individual\",\"Individual\",\"Dealer\",\"Individual\",\"Individual\",\"Individual\",\"Individual\",\"Individual\",\"Individual\",\"Individual\",\"Individual\",\"Individual\",\"Individual\",\"Individual\",\"Individual\",\"Individual\",\"Individual\",\"Individual\",\"Individual\",\"Individual\",\"Individual\",\"Individual\",\"Individual\",\"Individual\",\"Individual\",\"Individual\",\"Individual\",\"Individual\",\"Individual\",\"Individual\",\"Individual\",\"Individual\",\"Individual\",\"Individual\",\"Individual\",\"Individual\",\"Individual\",\"Individual\",\"Individual\",\"Individual\",\"Individual\",\"Individual\",\"Individual\",\"Individual\",\"Individual\",\"Individual\",\"Individual\",\"Individual\",\"Individual\",\"Individual\",\"Individual\",\"Individual\",\"Individual\",\"Individual\",\"Individual\",\"Individual\",\"Individual\",\"Individual\",\"Individual\",\"Individual\",\"Individual\",\"Individual\",\"Individual\",\"Individual\",\"Individual\",\"Individual\",\"Individual\",\"Individual\",\"Individual\",\"Individual\",\"Individual\",\"Individual\",\"Individual\",\"Individual\",\"Individual\",\"Individual\",\"Individual\",\"Dealer\",\"Dealer\",\"Dealer\",\"Dealer\",\"Individual\",\"Individual\",\"Dealer\",\"Trustmark Dealer\",\"Trustmark Dealer\",\"Dealer\",\"Dealer\",\"Trustmark Dealer\",\"Trustmark Dealer\",\"Dealer\",\"Dealer\",\"Dealer\",\"Dealer\",\"Trustmark Dealer\",\"Trustmark Dealer\",\"Individual\",\"Individual\",\"Individual\",\"Individual\",\"Individual\",\"Individual\",\"Individual\",\"Individual\",\"Individual\",\"Individual\",\"Individual\",\"Individual\",\"Individual\",\"Individual\",\"Individual\",\"Individual\",\"Individual\",\"Individual\",\"Individual\",\"Individual\",\"Individual\",\"Individual\",\"Individual\",\"Individual\",\"Individual\",\"Individual\",\"Individual\",\"Dealer\",\"Individual\",\"Individual\",\"Individual\",\"Individual\",\"Individual\",\"Individual\",\"Individual\",\"Individual\",\"Individual\",\"Individual\",\"Individual\",\"Individual\",\"Individual\",\"Individual\",\"Individual\",\"Individual\",\"Individual\",\"Individual\",\"Individual\",\"Individual\",\"Individual\",\"Individual\",\"Individual\",\"Individual\",\"Individual\",\"Individual\",\"Individual\",\"Individual\",\"Individual\",\"Individual\",\"Individual\",\"Individual\",\"Individual\",\"Individual\",\"Individual\",\"Individual\",\"Individual\",\"Individual\",\"Individual\",\"Individual\",\"Individual\",\"Individual\",\"Individual\",\"Individual\",\"Individual\",\"Individual\",\"Individual\",\"Individual\",\"Individual\",\"Individual\",\"Individual\",\"Individual\",\"Individual\",\"Dealer\",\"Individual\",\"Individual\",\"Individual\",\"Individual\",\"Individual\",\"Individual\",\"Dealer\",\"Individual\",\"Dealer\",\"Individual\",\"Dealer\",\"Dealer\",\"Individual\",\"Dealer\",\"Dealer\",\"Individual\",\"Individual\",\"Individual\",\"Individual\",\"Individual\",\"Individual\",\"Individual\",\"Individual\",\"Individual\",\"Individual\",\"Individual\",\"Individual\",\"Individual\",\"Individual\",\"Individual\",\"Individual\",\"Individual\",\"Individual\",\"Individual\",\"Individual\",\"Individual\",\"Individual\",\"Individual\",\"Individual\",\"Individual\",\"Individual\",\"Individual\",\"Individual\",\"Individual\",\"Individual\",\"Dealer\",\"Dealer\",\"Dealer\",\"Dealer\",\"Dealer\",\"Dealer\",\"Dealer\",\"Dealer\",\"Individual\",\"Dealer\",\"Dealer\",\"Dealer\",\"Dealer\",\"Individual\",\"Dealer\",\"Dealer\",\"Dealer\",\"Dealer\",\"Dealer\",\"Individual\",\"Individual\",\"Individual\",\"Individual\",\"Individual\",\"Individual\",\"Individual\",\"Individual\",\"Individual\",\"Individual\",\"Individual\",\"Individual\",\"Individual\",\"Individual\",\"Individual\",\"Individual\",\"Individual\",\"Dealer\",\"Individual\",\"Individual\",\"Individual\",\"Individual\",\"Individual\",\"Individual\",\"Individual\",\"Individual\",\"Individual\",\"Individual\",\"Individual\",\"Individual\",\"Individual\",\"Dealer\",\"Dealer\",\"Dealer\",\"Dealer\",\"Dealer\",\"Dealer\",\"Dealer\",\"Dealer\",\"Dealer\",\"Dealer\",\"Dealer\",\"Dealer\",\"Dealer\",\"Dealer\",\"Dealer\",\"Dealer\",\"Dealer\",\"Dealer\",\"Dealer\",\"Dealer\",\"Individual\",\"Individual\",\"Individual\",\"Individual\",\"Individual\",\"Individual\",\"Individual\",\"Individual\",\"Individual\",\"Individual\",\"Individual\",\"Individual\",\"Individual\",\"Individual\",\"Individual\",\"Individual\",\"Individual\",\"Individual\",\"Individual\",\"Individual\",\"Individual\",\"Individual\",\"Individual\",\"Individual\",\"Individual\",\"Individual\",\"Individual\",\"Individual\",\"Individual\",\"Individual\",\"Individual\",\"Individual\",\"Individual\",\"Individual\",\"Individual\",\"Individual\",\"Individual\",\"Individual\",\"Individual\",\"Individual\",\"Individual\",\"Individual\",\"Dealer\",\"Individual\",\"Individual\",\"Individual\",\"Individual\",\"Dealer\",\"Individual\",\"Individual\",\"Individual\",\"Individual\",\"Individual\",\"Individual\",\"Individual\",\"Individual\",\"Individual\",\"Individual\",\"Individual\",\"Individual\",\"Individual\",\"Individual\",\"Individual\",\"Individual\",\"Individual\",\"Individual\",\"Individual\",\"Individual\",\"Individual\",\"Individual\",\"Individual\",\"Individual\",\"Individual\",\"Individual\",\"Individual\",\"Individual\",\"Individual\",\"Individual\",\"Individual\",\"Individual\",\"Individual\",\"Individual\",\"Individual\",\"Individual\",\"Individual\",\"Individual\",\"Individual\",\"Individual\",\"Individual\",\"Individual\",\"Individual\",\"Individual\",\"Individual\",\"Individual\",\"Individual\",\"Individual\",\"Individual\",\"Individual\",\"Individual\",\"Dealer\",\"Individual\",\"Individual\",\"Individual\",\"Individual\",\"Individual\",\"Individual\",\"Individual\",\"Individual\",\"Individual\",\"Individual\",\"Individual\",\"Dealer\",\"Dealer\",\"Dealer\",\"Dealer\",\"Dealer\",\"Individual\",\"Individual\",\"Dealer\",\"Individual\",\"Individual\",\"Individual\",\"Individual\",\"Individual\",\"Individual\",\"Individual\",\"Individual\",\"Individual\",\"Individual\",\"Individual\",\"Individual\",\"Individual\",\"Dealer\",\"Dealer\",\"Individual\",\"Individual\",\"Individual\",\"Dealer\",\"Dealer\",\"Dealer\",\"Dealer\",\"Dealer\",\"Dealer\",\"Dealer\",\"Individual\",\"Individual\",\"Individual\",\"Individual\",\"Individual\",\"Individual\",\"Individual\",\"Individual\",\"Individual\",\"Individual\",\"Individual\",\"Individual\",\"Individual\",\"Individual\",\"Individual\",\"Individual\",\"Individual\",\"Individual\",\"Individual\",\"Individual\",\"Individual\",\"Individual\",\"Individual\",\"Individual\",\"Individual\",\"Individual\",\"Individual\",\"Individual\",\"Individual\",\"Individual\",\"Individual\",\"Individual\",\"Individual\",\"Individual\",\"Individual\",\"Individual\",\"Individual\",\"Individual\",\"Individual\",\"Individual\",\"Individual\",\"Individual\",\"Individual\",\"Dealer\",\"Individual\",\"Individual\",\"Individual\",\"Dealer\",\"Dealer\",\"Individual\",\"Individual\",\"Dealer\",\"Dealer\",\"Dealer\",\"Individual\",\"Dealer\",\"Dealer\",\"Dealer\",\"Dealer\",\"Dealer\",\"Dealer\",\"Dealer\",\"Individual\",\"Dealer\",\"Dealer\",\"Dealer\",\"Individual\",\"Individual\",\"Individual\",\"Individual\",\"Individual\",\"Individual\",\"Individual\",\"Individual\",\"Individual\",\"Individual\",\"Individual\",\"Individual\",\"Individual\",\"Individual\",\"Individual\",\"Individual\",\"Individual\",\"Individual\",\"Individual\",\"Individual\",\"Dealer\",\"Dealer\",\"Dealer\",\"Dealer\",\"Dealer\",\"Individual\",\"Individual\",\"Dealer\",\"Dealer\",\"Dealer\",\"Dealer\",\"Dealer\",\"Dealer\",\"Dealer\",\"Dealer\",\"Dealer\",\"Dealer\",\"Dealer\",\"Dealer\",\"Dealer\",\"Individual\",\"Individual\",\"Individual\",\"Individual\",\"Individual\",\"Individual\",\"Individual\",\"Individual\",\"Individual\",\"Individual\",\"Individual\",\"Individual\",\"Individual\",\"Individual\",\"Individual\",\"Individual\",\"Individual\",\"Individual\",\"Individual\",\"Individual\",\"Individual\",\"Individual\",\"Individual\",\"Individual\",\"Individual\",\"Individual\",\"Individual\",\"Individual\",\"Individual\",\"Individual\",\"Individual\",\"Dealer\",\"Dealer\",\"Dealer\",\"Individual\",\"Individual\",\"Individual\",\"Individual\",\"Individual\",\"Individual\",\"Individual\",\"Individual\",\"Individual\",\"Individual\",\"Individual\",\"Individual\",\"Individual\",\"Individual\",\"Individual\",\"Individual\",\"Individual\",\"Individual\",\"Individual\",\"Individual\",\"Individual\",\"Individual\",\"Individual\",\"Individual\",\"Individual\",\"Individual\",\"Individual\",\"Individual\",\"Individual\",\"Dealer\",\"Dealer\",\"Individual\",\"Individual\",\"Dealer\",\"Dealer\",\"Individual\",\"Individual\",\"Individual\",\"Individual\",\"Individual\",\"Dealer\",\"Dealer\",\"Dealer\",\"Dealer\",\"Dealer\",\"Dealer\",\"Dealer\",\"Dealer\",\"Individual\",\"Individual\",\"Individual\",\"Individual\",\"Individual\",\"Individual\",\"Individual\",\"Individual\",\"Individual\",\"Individual\",\"Individual\",\"Individual\",\"Individual\",\"Individual\",\"Individual\",\"Individual\",\"Individual\",\"Individual\",\"Individual\",\"Individual\",\"Individual\",\"Individual\",\"Individual\",\"Individual\",\"Individual\",\"Individual\",\"Individual\",\"Individual\",\"Individual\",\"Individual\",\"Individual\",\"Individual\",\"Individual\",\"Individual\",\"Individual\",\"Individual\",\"Dealer\",\"Individual\",\"Individual\",\"Individual\",\"Individual\",\"Individual\",\"Individual\",\"Individual\",\"Individual\",\"Individual\",\"Individual\",\"Individual\",\"Individual\",\"Individual\",\"Individual\",\"Individual\",\"Individual\",\"Individual\",\"Individual\",\"Dealer\",\"Individual\",\"Individual\",\"Individual\",\"Dealer\",\"Dealer\",\"Individual\",\"Individual\",\"Individual\",\"Individual\",\"Individual\",\"Dealer\",\"Individual\",\"Dealer\",\"Dealer\",\"Individual\",\"Individual\",\"Dealer\",\"Individual\",\"Dealer\",\"Dealer\",\"Dealer\",\"Individual\",\"Individual\",\"Dealer\",\"Individual\",\"Dealer\",\"Individual\",\"Individual\",\"Individual\",\"Individual\",\"Individual\",\"Individual\",\"Dealer\",\"Individual\",\"Dealer\",\"Individual\",\"Dealer\",\"Dealer\",\"Dealer\",\"Individual\",\"Individual\",\"Dealer\",\"Individual\",\"Individual\",\"Individual\",\"Individual\",\"Individual\",\"Individual\",\"Individual\",\"Individual\",\"Individual\",\"Individual\",\"Individual\",\"Individual\",\"Individual\",\"Individual\",\"Individual\",\"Individual\",\"Individual\",\"Individual\",\"Individual\",\"Individual\",\"Individual\",\"Individual\",\"Individual\",\"Individual\",\"Individual\",\"Individual\",\"Individual\",\"Individual\",\"Individual\",\"Individual\",\"Individual\",\"Individual\",\"Individual\",\"Individual\",\"Individual\",\"Individual\",\"Dealer\",\"Individual\",\"Individual\",\"Individual\",\"Individual\",\"Individual\",\"Individual\",\"Individual\",\"Individual\",\"Individual\",\"Individual\",\"Individual\",\"Individual\",\"Individual\",\"Individual\",\"Individual\",\"Individual\",\"Individual\",\"Individual\",\"Individual\",\"Dealer\",\"Individual\",\"Individual\",\"Individual\",\"Individual\",\"Individual\",\"Individual\",\"Individual\",\"Individual\",\"Individual\",\"Individual\",\"Individual\",\"Individual\",\"Individual\",\"Individual\",\"Individual\",\"Individual\",\"Individual\",\"Individual\",\"Individual\",\"Individual\",\"Individual\",\"Individual\",\"Individual\",\"Individual\",\"Individual\",\"Individual\",\"Individual\",\"Individual\",\"Individual\",\"Individual\",\"Individual\",\"Individual\",\"Individual\",\"Individual\",\"Individual\",\"Individual\",\"Individual\",\"Individual\",\"Individual\",\"Individual\",\"Individual\",\"Individual\",\"Individual\",\"Individual\",\"Individual\",\"Individual\",\"Individual\",\"Individual\",\"Dealer\",\"Individual\",\"Individual\",\"Individual\",\"Individual\",\"Dealer\",\"Individual\",\"Individual\",\"Individual\",\"Individual\",\"Individual\",\"Individual\",\"Individual\",\"Individual\",\"Individual\",\"Individual\",\"Individual\",\"Individual\",\"Individual\",\"Individual\",\"Individual\",\"Individual\",\"Individual\",\"Individual\",\"Individual\",\"Individual\",\"Individual\",\"Individual\",\"Individual\",\"Individual\",\"Individual\",\"Individual\",\"Individual\",\"Individual\",\"Individual\",\"Individual\",\"Dealer\",\"Dealer\",\"Dealer\",\"Dealer\",\"Dealer\",\"Dealer\",\"Dealer\",\"Dealer\",\"Dealer\",\"Individual\",\"Individual\",\"Individual\",\"Individual\",\"Individual\",\"Individual\",\"Individual\",\"Individual\",\"Individual\",\"Individual\",\"Individual\",\"Individual\",\"Individual\",\"Individual\",\"Individual\",\"Individual\",\"Individual\",\"Individual\",\"Individual\",\"Individual\",\"Individual\",\"Individual\",\"Individual\",\"Individual\",\"Individual\",\"Individual\",\"Individual\",\"Individual\",\"Individual\",\"Individual\",\"Individual\",\"Individual\",\"Individual\",\"Individual\",\"Individual\",\"Individual\",\"Individual\",\"Individual\",\"Individual\",\"Individual\",\"Individual\",\"Individual\",\"Individual\",\"Individual\",\"Individual\",\"Individual\",\"Individual\",\"Individual\",\"Individual\",\"Individual\",\"Individual\",\"Dealer\",\"Individual\",\"Dealer\",\"Individual\",\"Individual\",\"Individual\",\"Individual\",\"Individual\",\"Dealer\",\"Individual\",\"Individual\",\"Individual\",\"Individual\",\"Individual\",\"Individual\",\"Individual\",\"Individual\",\"Individual\",\"Individual\",\"Individual\",\"Individual\",\"Individual\",\"Individual\",\"Individual\",\"Individual\",\"Individual\",\"Individual\",\"Individual\",\"Individual\",\"Dealer\",\"Dealer\",\"Dealer\",\"Dealer\",\"Dealer\",\"Dealer\",\"Dealer\",\"Individual\",\"Individual\",\"Individual\",\"Individual\",\"Individual\",\"Individual\",\"Individual\",\"Individual\",\"Individual\",\"Individual\",\"Individual\",\"Individual\",\"Individual\",\"Individual\",\"Individual\",\"Individual\",\"Individual\",\"Individual\",\"Individual\",\"Individual\",\"Individual\",\"Individual\",\"Individual\",\"Individual\",\"Individual\",\"Individual\",\"Individual\",\"Individual\",\"Individual\",\"Individual\",\"Individual\",\"Individual\",\"Individual\",\"Individual\",\"Individual\",\"Individual\",\"Individual\",\"Individual\",\"Individual\",\"Individual\",\"Individual\",\"Individual\",\"Individual\",\"Individual\",\"Individual\",\"Individual\",\"Individual\",\"Individual\",\"Individual\",\"Individual\",\"Individual\",\"Individual\",\"Individual\",\"Individual\",\"Individual\",\"Individual\",\"Individual\",\"Individual\",\"Individual\",\"Individual\",\"Individual\",\"Individual\",\"Individual\",\"Individual\",\"Individual\",\"Individual\",\"Dealer\",\"Individual\",\"Dealer\",\"Dealer\",\"Dealer\",\"Dealer\",\"Dealer\",\"Dealer\",\"Individual\",\"Individual\",\"Individual\",\"Individual\",\"Individual\",\"Individual\",\"Individual\",\"Individual\",\"Individual\",\"Individual\",\"Individual\",\"Individual\",\"Individual\",\"Individual\",\"Individual\",\"Individual\",\"Individual\",\"Individual\",\"Dealer\",\"Dealer\",\"Dealer\",\"Dealer\",\"Dealer\",\"Dealer\",\"Dealer\",\"Dealer\",\"Individual\",\"Individual\",\"Individual\",\"Individual\",\"Individual\",\"Individual\",\"Individual\",\"Individual\",\"Individual\",\"Individual\",\"Individual\",\"Individual\",\"Individual\",\"Individual\",\"Individual\",\"Individual\",\"Individual\",\"Individual\",\"Individual\",\"Individual\",\"Individual\",\"Individual\",\"Individual\",\"Individual\",\"Individual\",\"Individual\",\"Individual\",\"Individual\",\"Individual\",\"Individual\",\"Individual\",\"Individual\",\"Individual\",\"Individual\",\"Individual\",\"Individual\",\"Individual\",\"Individual\",\"Individual\",\"Individual\",\"Individual\",\"Individual\",\"Individual\",\"Individual\",\"Individual\",\"Individual\",\"Individual\",\"Individual\",\"Individual\",\"Individual\",\"Individual\",\"Individual\",\"Individual\",\"Individual\",\"Dealer\",\"Individual\",\"Individual\",\"Individual\",\"Individual\",\"Individual\",\"Individual\",\"Individual\",\"Individual\",\"Individual\",\"Individual\",\"Individual\",\"Individual\",\"Individual\",\"Individual\",\"Individual\",\"Individual\",\"Individual\",\"Individual\",\"Individual\",\"Individual\",\"Individual\",\"Individual\",\"Individual\",\"Individual\",\"Individual\",\"Individual\",\"Individual\",\"Individual\",\"Individual\",\"Individual\",\"Individual\",\"Individual\",\"Individual\",\"Individual\",\"Individual\",\"Dealer\",\"Dealer\",\"Dealer\",\"Dealer\",\"Individual\",\"Dealer\",\"Dealer\",\"Individual\",\"Individual\",\"Dealer\",\"Dealer\",\"Dealer\",\"Individual\",\"Individual\",\"Individual\",\"Dealer\",\"Dealer\",\"Individual\",\"Dealer\",\"Dealer\",\"Individual\",\"Individual\",\"Individual\",\"Individual\",\"Individual\",\"Individual\",\"Individual\",\"Individual\",\"Individual\",\"Individual\",\"Individual\",\"Individual\",\"Individual\",\"Dealer\",\"Dealer\",\"Individual\",\"Individual\",\"Individual\",\"Dealer\",\"Dealer\",\"Individual\",\"Individual\",\"Dealer\",\"Dealer\",\"Individual\",\"Dealer\",\"Dealer\",\"Individual\",\"Dealer\",\"Dealer\",\"Individual\",\"Dealer\",\"Dealer\",\"Individual\",\"Individual\",\"Dealer\",\"Dealer\",\"Dealer\",\"Dealer\",\"Dealer\",\"Dealer\",\"Dealer\",\"Dealer\",\"Dealer\",\"Dealer\",\"Dealer\",\"Dealer\",\"Dealer\",\"Dealer\",\"Dealer\",\"Individual\",\"Individual\",\"Dealer\",\"Dealer\",\"Dealer\",\"Individual\",\"Individual\",\"Individual\",\"Individual\",\"Individual\",\"Individual\",\"Individual\",\"Individual\",\"Individual\",\"Individual\",\"Individual\",\"Individual\",\"Individual\",\"Dealer\",\"Individual\",\"Individual\",\"Individual\",\"Individual\",\"Individual\",\"Individual\",\"Individual\",\"Individual\",\"Individual\",\"Individual\",\"Individual\",\"Individual\",\"Individual\",\"Individual\",\"Individual\",\"Individual\",\"Individual\",\"Individual\",\"Individual\",\"Individual\",\"Individual\",\"Individual\",\"Individual\",\"Individual\",\"Individual\",\"Individual\",\"Individual\",\"Individual\",\"Individual\",\"Individual\",\"Individual\",\"Individual\",\"Individual\",\"Individual\",\"Individual\",\"Dealer\",\"Dealer\",\"Dealer\",\"Dealer\",\"Dealer\",\"Dealer\",\"Dealer\",\"Dealer\",\"Dealer\",\"Dealer\",\"Individual\",\"Individual\",\"Individual\",\"Individual\",\"Dealer\",\"Individual\",\"Dealer\",\"Individual\",\"Individual\",\"Individual\",\"Individual\",\"Individual\",\"Individual\",\"Individual\",\"Individual\",\"Individual\",\"Individual\",\"Individual\",\"Dealer\",\"Dealer\",\"Dealer\",\"Dealer\",\"Dealer\",\"Dealer\",\"Dealer\",\"Dealer\",\"Dealer\",\"Dealer\",\"Dealer\",\"Dealer\",\"Individual\",\"Individual\",\"Individual\",\"Individual\",\"Individual\",\"Individual\",\"Individual\",\"Individual\",\"Individual\",\"Individual\",\"Individual\",\"Individual\",\"Individual\",\"Individual\",\"Individual\",\"Individual\",\"Individual\",\"Individual\",\"Individual\",\"Individual\",\"Individual\",\"Individual\",\"Individual\",\"Individual\",\"Individual\",\"Individual\",\"Individual\",\"Individual\",\"Individual\",\"Individual\",\"Individual\",\"Individual\",\"Individual\",\"Individual\",\"Individual\",\"Individual\",\"Individual\",\"Individual\",\"Individual\",\"Individual\",\"Individual\",\"Individual\",\"Individual\",\"Individual\",\"Individual\",\"Individual\",\"Individual\",\"Individual\",\"Individual\",\"Individual\",\"Individual\",\"Individual\",\"Individual\",\"Individual\",\"Individual\",\"Individual\",\"Individual\",\"Individual\",\"Individual\",\"Individual\",\"Dealer\",\"Individual\",\"Individual\",\"Individual\",\"Dealer\",\"Individual\",\"Dealer\",\"Dealer\",\"Dealer\",\"Individual\",\"Individual\",\"Dealer\",\"Individual\",\"Individual\",\"Individual\",\"Individual\",\"Individual\",\"Individual\",\"Individual\",\"Individual\",\"Individual\",\"Individual\",\"Individual\",\"Individual\",\"Individual\",\"Individual\",\"Individual\",\"Individual\",\"Individual\",\"Individual\",\"Dealer\",\"Dealer\",\"Dealer\",\"Dealer\",\"Dealer\",\"Dealer\",\"Individual\",\"Dealer\",\"Dealer\",\"Dealer\",\"Individual\",\"Dealer\",\"Dealer\",\"Dealer\",\"Individual\",\"Individual\",\"Individual\",\"Individual\",\"Individual\",\"Individual\",\"Individual\",\"Individual\",\"Individual\",\"Individual\",\"Individual\",\"Individual\",\"Individual\",\"Individual\",\"Dealer\",\"Individual\",\"Dealer\",\"Trustmark Dealer\",\"Dealer\",\"Trustmark Dealer\",\"Trustmark Dealer\",\"Trustmark Dealer\",\"Trustmark Dealer\",\"Trustmark Dealer\",\"Individual\",\"Individual\",\"Individual\",\"Individual\",\"Individual\",\"Individual\",\"Individual\",\"Individual\",\"Dealer\",\"Individual\",\"Dealer\",\"Individual\",\"Individual\",\"Individual\",\"Individual\",\"Individual\",\"Dealer\",\"Dealer\",\"Dealer\",\"Individual\",\"Dealer\",\"Dealer\",\"Individual\",\"Dealer\",\"Dealer\",\"Dealer\",\"Dealer\",\"Individual\",\"Individual\",\"Individual\",\"Individual\",\"Individual\",\"Dealer\",\"Individual\",\"Individual\",\"Individual\",\"Individual\",\"Dealer\",\"Individual\",\"Individual\",\"Individual\",\"Individual\",\"Individual\",\"Dealer\",\"Dealer\",\"Dealer\",\"Dealer\",\"Dealer\",\"Dealer\",\"Dealer\",\"Individual\",\"Individual\",\"Individual\",\"Individual\",\"Individual\",\"Individual\",\"Individual\",\"Individual\",\"Individual\",\"Individual\",\"Dealer\",\"Individual\",\"Individual\",\"Individual\",\"Individual\",\"Individual\",\"Individual\",\"Individual\",\"Individual\",\"Individual\",\"Individual\",\"Individual\",\"Individual\",\"Individual\",\"Individual\",\"Individual\",\"Dealer\",\"Dealer\",\"Dealer\",\"Dealer\",\"Dealer\",\"Individual\",\"Dealer\",\"Dealer\",\"Dealer\",\"Individual\",\"Dealer\",\"Dealer\",\"Dealer\",\"Individual\",\"Dealer\",\"Dealer\",\"Individual\",\"Individual\",\"Individual\",\"Individual\",\"Individual\",\"Dealer\",\"Dealer\",\"Dealer\",\"Dealer\",\"Dealer\",\"Dealer\",\"Dealer\",\"Dealer\",\"Individual\",\"Individual\",\"Dealer\",\"Individual\",\"Individual\",\"Individual\",\"Individual\",\"Individual\",\"Individual\",\"Individual\",\"Individual\",\"Individual\",\"Individual\",\"Individual\",\"Individual\",\"Individual\",\"Individual\",\"Individual\",\"Individual\",\"Individual\",\"Individual\",\"Individual\",\"Individual\",\"Individual\",\"Individual\",\"Individual\",\"Individual\",\"Individual\",\"Individual\",\"Individual\",\"Individual\",\"Dealer\",\"Dealer\",\"Dealer\",\"Individual\",\"Individual\",\"Dealer\",\"Individual\",\"Dealer\",\"Dealer\",\"Dealer\",\"Dealer\",\"Dealer\",\"Dealer\",\"Dealer\",\"Dealer\",\"Dealer\",\"Individual\",\"Individual\",\"Individual\",\"Individual\",\"Dealer\",\"Dealer\",\"Dealer\",\"Individual\",\"Individual\",\"Dealer\",\"Individual\",\"Dealer\",\"Dealer\",\"Dealer\",\"Dealer\",\"Dealer\",\"Dealer\",\"Dealer\",\"Dealer\",\"Dealer\",\"Individual\",\"Individual\",\"Individual\",\"Individual\",\"Individual\",\"Individual\",\"Individual\",\"Individual\",\"Individual\",\"Individual\",\"Individual\",\"Individual\",\"Individual\",\"Individual\",\"Individual\",\"Individual\",\"Individual\",\"Individual\",\"Individual\",\"Individual\",\"Dealer\",\"Dealer\",\"Individual\",\"Dealer\",\"Dealer\",\"Individual\",\"Individual\",\"Dealer\",\"Individual\",\"Dealer\",\"Dealer\",\"Dealer\",\"Individual\",\"Dealer\",\"Individual\",\"Individual\",\"Dealer\",\"Dealer\",\"Dealer\",\"Individual\",\"Individual\",\"Individual\",\"Individual\",\"Individual\",\"Individual\",\"Individual\",\"Individual\",\"Individual\",\"Individual\",\"Individual\",\"Individual\",\"Individual\",\"Individual\",\"Individual\",\"Individual\",\"Individual\",\"Individual\",\"Individual\",\"Individual\",\"Individual\",\"Individual\",\"Individual\",\"Individual\",\"Individual\",\"Individual\",\"Individual\",\"Individual\"],\"xaxis\":\"x\",\"yaxis\":\"y\",\"type\":\"histogram\"}],                        {\"template\":{\"data\":{\"bar\":[{\"error_x\":{\"color\":\"#2a3f5f\"},\"error_y\":{\"color\":\"#2a3f5f\"},\"marker\":{\"line\":{\"color\":\"#E5ECF6\",\"width\":0.5},\"pattern\":{\"fillmode\":\"overlay\",\"size\":10,\"solidity\":0.2}},\"type\":\"bar\"}],\"barpolar\":[{\"marker\":{\"line\":{\"color\":\"#E5ECF6\",\"width\":0.5},\"pattern\":{\"fillmode\":\"overlay\",\"size\":10,\"solidity\":0.2}},\"type\":\"barpolar\"}],\"carpet\":[{\"aaxis\":{\"endlinecolor\":\"#2a3f5f\",\"gridcolor\":\"white\",\"linecolor\":\"white\",\"minorgridcolor\":\"white\",\"startlinecolor\":\"#2a3f5f\"},\"baxis\":{\"endlinecolor\":\"#2a3f5f\",\"gridcolor\":\"white\",\"linecolor\":\"white\",\"minorgridcolor\":\"white\",\"startlinecolor\":\"#2a3f5f\"},\"type\":\"carpet\"}],\"choropleth\":[{\"colorbar\":{\"outlinewidth\":0,\"ticks\":\"\"},\"type\":\"choropleth\"}],\"contour\":[{\"colorbar\":{\"outlinewidth\":0,\"ticks\":\"\"},\"colorscale\":[[0.0,\"#0d0887\"],[0.1111111111111111,\"#46039f\"],[0.2222222222222222,\"#7201a8\"],[0.3333333333333333,\"#9c179e\"],[0.4444444444444444,\"#bd3786\"],[0.5555555555555556,\"#d8576b\"],[0.6666666666666666,\"#ed7953\"],[0.7777777777777778,\"#fb9f3a\"],[0.8888888888888888,\"#fdca26\"],[1.0,\"#f0f921\"]],\"type\":\"contour\"}],\"contourcarpet\":[{\"colorbar\":{\"outlinewidth\":0,\"ticks\":\"\"},\"type\":\"contourcarpet\"}],\"heatmap\":[{\"colorbar\":{\"outlinewidth\":0,\"ticks\":\"\"},\"colorscale\":[[0.0,\"#0d0887\"],[0.1111111111111111,\"#46039f\"],[0.2222222222222222,\"#7201a8\"],[0.3333333333333333,\"#9c179e\"],[0.4444444444444444,\"#bd3786\"],[0.5555555555555556,\"#d8576b\"],[0.6666666666666666,\"#ed7953\"],[0.7777777777777778,\"#fb9f3a\"],[0.8888888888888888,\"#fdca26\"],[1.0,\"#f0f921\"]],\"type\":\"heatmap\"}],\"heatmapgl\":[{\"colorbar\":{\"outlinewidth\":0,\"ticks\":\"\"},\"colorscale\":[[0.0,\"#0d0887\"],[0.1111111111111111,\"#46039f\"],[0.2222222222222222,\"#7201a8\"],[0.3333333333333333,\"#9c179e\"],[0.4444444444444444,\"#bd3786\"],[0.5555555555555556,\"#d8576b\"],[0.6666666666666666,\"#ed7953\"],[0.7777777777777778,\"#fb9f3a\"],[0.8888888888888888,\"#fdca26\"],[1.0,\"#f0f921\"]],\"type\":\"heatmapgl\"}],\"histogram\":[{\"marker\":{\"pattern\":{\"fillmode\":\"overlay\",\"size\":10,\"solidity\":0.2}},\"type\":\"histogram\"}],\"histogram2d\":[{\"colorbar\":{\"outlinewidth\":0,\"ticks\":\"\"},\"colorscale\":[[0.0,\"#0d0887\"],[0.1111111111111111,\"#46039f\"],[0.2222222222222222,\"#7201a8\"],[0.3333333333333333,\"#9c179e\"],[0.4444444444444444,\"#bd3786\"],[0.5555555555555556,\"#d8576b\"],[0.6666666666666666,\"#ed7953\"],[0.7777777777777778,\"#fb9f3a\"],[0.8888888888888888,\"#fdca26\"],[1.0,\"#f0f921\"]],\"type\":\"histogram2d\"}],\"histogram2dcontour\":[{\"colorbar\":{\"outlinewidth\":0,\"ticks\":\"\"},\"colorscale\":[[0.0,\"#0d0887\"],[0.1111111111111111,\"#46039f\"],[0.2222222222222222,\"#7201a8\"],[0.3333333333333333,\"#9c179e\"],[0.4444444444444444,\"#bd3786\"],[0.5555555555555556,\"#d8576b\"],[0.6666666666666666,\"#ed7953\"],[0.7777777777777778,\"#fb9f3a\"],[0.8888888888888888,\"#fdca26\"],[1.0,\"#f0f921\"]],\"type\":\"histogram2dcontour\"}],\"mesh3d\":[{\"colorbar\":{\"outlinewidth\":0,\"ticks\":\"\"},\"type\":\"mesh3d\"}],\"parcoords\":[{\"line\":{\"colorbar\":{\"outlinewidth\":0,\"ticks\":\"\"}},\"type\":\"parcoords\"}],\"pie\":[{\"automargin\":true,\"type\":\"pie\"}],\"scatter\":[{\"marker\":{\"colorbar\":{\"outlinewidth\":0,\"ticks\":\"\"}},\"type\":\"scatter\"}],\"scatter3d\":[{\"line\":{\"colorbar\":{\"outlinewidth\":0,\"ticks\":\"\"}},\"marker\":{\"colorbar\":{\"outlinewidth\":0,\"ticks\":\"\"}},\"type\":\"scatter3d\"}],\"scattercarpet\":[{\"marker\":{\"colorbar\":{\"outlinewidth\":0,\"ticks\":\"\"}},\"type\":\"scattercarpet\"}],\"scattergeo\":[{\"marker\":{\"colorbar\":{\"outlinewidth\":0,\"ticks\":\"\"}},\"type\":\"scattergeo\"}],\"scattergl\":[{\"marker\":{\"colorbar\":{\"outlinewidth\":0,\"ticks\":\"\"}},\"type\":\"scattergl\"}],\"scattermapbox\":[{\"marker\":{\"colorbar\":{\"outlinewidth\":0,\"ticks\":\"\"}},\"type\":\"scattermapbox\"}],\"scatterpolar\":[{\"marker\":{\"colorbar\":{\"outlinewidth\":0,\"ticks\":\"\"}},\"type\":\"scatterpolar\"}],\"scatterpolargl\":[{\"marker\":{\"colorbar\":{\"outlinewidth\":0,\"ticks\":\"\"}},\"type\":\"scatterpolargl\"}],\"scatterternary\":[{\"marker\":{\"colorbar\":{\"outlinewidth\":0,\"ticks\":\"\"}},\"type\":\"scatterternary\"}],\"surface\":[{\"colorbar\":{\"outlinewidth\":0,\"ticks\":\"\"},\"colorscale\":[[0.0,\"#0d0887\"],[0.1111111111111111,\"#46039f\"],[0.2222222222222222,\"#7201a8\"],[0.3333333333333333,\"#9c179e\"],[0.4444444444444444,\"#bd3786\"],[0.5555555555555556,\"#d8576b\"],[0.6666666666666666,\"#ed7953\"],[0.7777777777777778,\"#fb9f3a\"],[0.8888888888888888,\"#fdca26\"],[1.0,\"#f0f921\"]],\"type\":\"surface\"}],\"table\":[{\"cells\":{\"fill\":{\"color\":\"#EBF0F8\"},\"line\":{\"color\":\"white\"}},\"header\":{\"fill\":{\"color\":\"#C8D4E3\"},\"line\":{\"color\":\"white\"}},\"type\":\"table\"}]},\"layout\":{\"annotationdefaults\":{\"arrowcolor\":\"#2a3f5f\",\"arrowhead\":0,\"arrowwidth\":1},\"autotypenumbers\":\"strict\",\"coloraxis\":{\"colorbar\":{\"outlinewidth\":0,\"ticks\":\"\"}},\"colorscale\":{\"diverging\":[[0,\"#8e0152\"],[0.1,\"#c51b7d\"],[0.2,\"#de77ae\"],[0.3,\"#f1b6da\"],[0.4,\"#fde0ef\"],[0.5,\"#f7f7f7\"],[0.6,\"#e6f5d0\"],[0.7,\"#b8e186\"],[0.8,\"#7fbc41\"],[0.9,\"#4d9221\"],[1,\"#276419\"]],\"sequential\":[[0.0,\"#0d0887\"],[0.1111111111111111,\"#46039f\"],[0.2222222222222222,\"#7201a8\"],[0.3333333333333333,\"#9c179e\"],[0.4444444444444444,\"#bd3786\"],[0.5555555555555556,\"#d8576b\"],[0.6666666666666666,\"#ed7953\"],[0.7777777777777778,\"#fb9f3a\"],[0.8888888888888888,\"#fdca26\"],[1.0,\"#f0f921\"]],\"sequentialminus\":[[0.0,\"#0d0887\"],[0.1111111111111111,\"#46039f\"],[0.2222222222222222,\"#7201a8\"],[0.3333333333333333,\"#9c179e\"],[0.4444444444444444,\"#bd3786\"],[0.5555555555555556,\"#d8576b\"],[0.6666666666666666,\"#ed7953\"],[0.7777777777777778,\"#fb9f3a\"],[0.8888888888888888,\"#fdca26\"],[1.0,\"#f0f921\"]]},\"colorway\":[\"#636efa\",\"#EF553B\",\"#00cc96\",\"#ab63fa\",\"#FFA15A\",\"#19d3f3\",\"#FF6692\",\"#B6E880\",\"#FF97FF\",\"#FECB52\"],\"font\":{\"color\":\"#2a3f5f\"},\"geo\":{\"bgcolor\":\"white\",\"lakecolor\":\"white\",\"landcolor\":\"#E5ECF6\",\"showlakes\":true,\"showland\":true,\"subunitcolor\":\"white\"},\"hoverlabel\":{\"align\":\"left\"},\"hovermode\":\"closest\",\"mapbox\":{\"style\":\"light\"},\"paper_bgcolor\":\"white\",\"plot_bgcolor\":\"#E5ECF6\",\"polar\":{\"angularaxis\":{\"gridcolor\":\"white\",\"linecolor\":\"white\",\"ticks\":\"\"},\"bgcolor\":\"#E5ECF6\",\"radialaxis\":{\"gridcolor\":\"white\",\"linecolor\":\"white\",\"ticks\":\"\"}},\"scene\":{\"xaxis\":{\"backgroundcolor\":\"#E5ECF6\",\"gridcolor\":\"white\",\"gridwidth\":2,\"linecolor\":\"white\",\"showbackground\":true,\"ticks\":\"\",\"zerolinecolor\":\"white\"},\"yaxis\":{\"backgroundcolor\":\"#E5ECF6\",\"gridcolor\":\"white\",\"gridwidth\":2,\"linecolor\":\"white\",\"showbackground\":true,\"ticks\":\"\",\"zerolinecolor\":\"white\"},\"zaxis\":{\"backgroundcolor\":\"#E5ECF6\",\"gridcolor\":\"white\",\"gridwidth\":2,\"linecolor\":\"white\",\"showbackground\":true,\"ticks\":\"\",\"zerolinecolor\":\"white\"}},\"shapedefaults\":{\"line\":{\"color\":\"#2a3f5f\"}},\"ternary\":{\"aaxis\":{\"gridcolor\":\"white\",\"linecolor\":\"white\",\"ticks\":\"\"},\"baxis\":{\"gridcolor\":\"white\",\"linecolor\":\"white\",\"ticks\":\"\"},\"bgcolor\":\"#E5ECF6\",\"caxis\":{\"gridcolor\":\"white\",\"linecolor\":\"white\",\"ticks\":\"\"}},\"title\":{\"x\":0.05},\"xaxis\":{\"automargin\":true,\"gridcolor\":\"white\",\"linecolor\":\"white\",\"ticks\":\"\",\"title\":{\"standoff\":15},\"zerolinecolor\":\"white\",\"zerolinewidth\":2},\"yaxis\":{\"automargin\":true,\"gridcolor\":\"white\",\"linecolor\":\"white\",\"ticks\":\"\",\"title\":{\"standoff\":15},\"zerolinecolor\":\"white\",\"zerolinewidth\":2}}},\"xaxis\":{\"anchor\":\"y\",\"domain\":[0.0,1.0],\"title\":{\"text\":\"seller_type\"}},\"yaxis\":{\"anchor\":\"x\",\"domain\":[0.0,1.0],\"title\":{\"text\":\"count\"}},\"legend\":{\"tracegroupgap\":0},\"margin\":{\"t\":60},\"barmode\":\"relative\"},                        {\"responsive\": true}                    ).then(function(){\n",
              "                            \n",
              "var gd = document.getElementById('6d024e88-1cee-45b5-8a71-c68a0ffa8eed');\n",
              "var x = new MutationObserver(function (mutations, observer) {{\n",
              "        var display = window.getComputedStyle(gd).display;\n",
              "        if (!display || display === 'none') {{\n",
              "            console.log([gd, 'removed!']);\n",
              "            Plotly.purge(gd);\n",
              "            observer.disconnect();\n",
              "        }}\n",
              "}});\n",
              "\n",
              "// Listen for the removal of the full notebook cells\n",
              "var notebookContainer = gd.closest('#notebook-container');\n",
              "if (notebookContainer) {{\n",
              "    x.observe(notebookContainer, {childList: true});\n",
              "}}\n",
              "\n",
              "// Listen for the clearing of the current output cell\n",
              "var outputEl = gd.closest('.output');\n",
              "if (outputEl) {{\n",
              "    x.observe(outputEl, {childList: true});\n",
              "}}\n",
              "\n",
              "                        })                };                            </script>        </div>\n",
              "</body>\n",
              "</html>"
            ]
          },
          "metadata": {}
        }
      ]
    },
    {
      "cell_type": "code",
      "source": [
        "fig = px.histogram(df, 'transmission')\n",
        "fig.show()"
      ],
      "metadata": {
        "colab": {
          "base_uri": "https://localhost:8080/",
          "height": 542
        },
        "id": "YLENqmy_pyHA",
        "outputId": "932c6ec5-5e99-479c-a4bf-3c66bfbdf76e"
      },
      "execution_count": null,
      "outputs": [
        {
          "output_type": "display_data",
          "data": {
            "text/html": [
              "<html>\n",
              "<head><meta charset=\"utf-8\" /></head>\n",
              "<body>\n",
              "    <div>            <script src=\"https://cdnjs.cloudflare.com/ajax/libs/mathjax/2.7.5/MathJax.js?config=TeX-AMS-MML_SVG\"></script><script type=\"text/javascript\">if (window.MathJax) {MathJax.Hub.Config({SVG: {font: \"STIX-Web\"}});}</script>                <script type=\"text/javascript\">window.PlotlyConfig = {MathJaxConfig: 'local'};</script>\n",
              "        <script src=\"https://cdn.plot.ly/plotly-2.8.3.min.js\"></script>                <div id=\"f38d7c67-a11d-4db3-9b61-1dcb80ddb8cb\" class=\"plotly-graph-div\" style=\"height:525px; width:100%;\"></div>            <script type=\"text/javascript\">                                    window.PLOTLYENV=window.PLOTLYENV || {};                                    if (document.getElementById(\"f38d7c67-a11d-4db3-9b61-1dcb80ddb8cb\")) {                    Plotly.newPlot(                        \"f38d7c67-a11d-4db3-9b61-1dcb80ddb8cb\",                        [{\"alignmentgroup\":\"True\",\"bingroup\":\"x\",\"hovertemplate\":\"transmission=%{x}<br>count=%{y}<extra></extra>\",\"legendgroup\":\"\",\"marker\":{\"color\":\"#636efa\",\"pattern\":{\"shape\":\"\"}},\"name\":\"\",\"offsetgroup\":\"\",\"orientation\":\"v\",\"showlegend\":false,\"x\":[\"Manual\",\"Manual\",\"Manual\",\"Manual\",\"Manual\",\"Manual\",\"Manual\",\"Manual\",\"Manual\",\"Manual\",\"Manual\",\"Manual\",\"Automatic\",\"Manual\",\"Manual\",\"Manual\",\"Manual\",\"Manual\",\"Manual\",\"Manual\",\"Manual\",\"Manual\",\"Manual\",\"Manual\",\"Manual\",\"Automatic\",\"Manual\",\"Manual\",\"Manual\",\"Automatic\",\"Automatic\",\"Automatic\",\"Automatic\",\"Manual\",\"Manual\",\"Automatic\",\"Automatic\",\"Automatic\",\"Automatic\",\"Manual\",\"Manual\",\"Automatic\",\"Manual\",\"Automatic\",\"Automatic\",\"Manual\",\"Manual\",\"Manual\",\"Manual\",\"Manual\",\"Manual\",\"Manual\",\"Manual\",\"Manual\",\"Manual\",\"Manual\",\"Manual\",\"Manual\",\"Manual\",\"Manual\",\"Manual\",\"Manual\",\"Manual\",\"Manual\",\"Manual\",\"Manual\",\"Manual\",\"Manual\",\"Manual\",\"Manual\",\"Manual\",\"Manual\",\"Manual\",\"Manual\",\"Manual\",\"Manual\",\"Manual\",\"Manual\",\"Manual\",\"Automatic\",\"Manual\",\"Manual\",\"Manual\",\"Manual\",\"Manual\",\"Manual\",\"Manual\",\"Manual\",\"Manual\",\"Automatic\",\"Manual\",\"Manual\",\"Manual\",\"Manual\",\"Automatic\",\"Manual\",\"Automatic\",\"Manual\",\"Manual\",\"Automatic\",\"Automatic\",\"Automatic\",\"Automatic\",\"Automatic\",\"Manual\",\"Automatic\",\"Manual\",\"Manual\",\"Manual\",\"Manual\",\"Manual\",\"Manual\",\"Manual\",\"Manual\",\"Manual\",\"Manual\",\"Manual\",\"Manual\",\"Automatic\",\"Manual\",\"Manual\",\"Manual\",\"Manual\",\"Manual\",\"Manual\",\"Manual\",\"Manual\",\"Manual\",\"Manual\",\"Manual\",\"Manual\",\"Manual\",\"Manual\",\"Manual\",\"Manual\",\"Manual\",\"Manual\",\"Manual\",\"Manual\",\"Manual\",\"Manual\",\"Manual\",\"Manual\",\"Manual\",\"Manual\",\"Manual\",\"Manual\",\"Manual\",\"Manual\",\"Manual\",\"Manual\",\"Manual\",\"Manual\",\"Manual\",\"Manual\",\"Manual\",\"Manual\",\"Manual\",\"Manual\",\"Manual\",\"Manual\",\"Manual\",\"Manual\",\"Automatic\",\"Manual\",\"Manual\",\"Manual\",\"Automatic\",\"Manual\",\"Manual\",\"Manual\",\"Manual\",\"Manual\",\"Manual\",\"Manual\",\"Manual\",\"Manual\",\"Manual\",\"Manual\",\"Manual\",\"Manual\",\"Manual\",\"Manual\",\"Manual\",\"Manual\",\"Manual\",\"Manual\",\"Manual\",\"Automatic\",\"Manual\",\"Manual\",\"Automatic\",\"Manual\",\"Manual\",\"Manual\",\"Manual\",\"Manual\",\"Manual\",\"Manual\",\"Manual\",\"Manual\",\"Manual\",\"Automatic\",\"Manual\",\"Automatic\",\"Manual\",\"Manual\",\"Manual\",\"Manual\",\"Manual\",\"Manual\",\"Manual\",\"Manual\",\"Manual\",\"Manual\",\"Manual\",\"Manual\",\"Manual\",\"Automatic\",\"Manual\",\"Manual\",\"Manual\",\"Manual\",\"Manual\",\"Manual\",\"Manual\",\"Manual\",\"Manual\",\"Manual\",\"Manual\",\"Manual\",\"Manual\",\"Manual\",\"Manual\",\"Manual\",\"Manual\",\"Manual\",\"Manual\",\"Manual\",\"Manual\",\"Manual\",\"Manual\",\"Manual\",\"Manual\",\"Manual\",\"Manual\",\"Manual\",\"Manual\",\"Manual\",\"Manual\",\"Manual\",\"Manual\",\"Manual\",\"Manual\",\"Manual\",\"Manual\",\"Manual\",\"Manual\",\"Manual\",\"Manual\",\"Manual\",\"Manual\",\"Manual\",\"Manual\",\"Manual\",\"Manual\",\"Manual\",\"Manual\",\"Manual\",\"Manual\",\"Manual\",\"Manual\",\"Manual\",\"Manual\",\"Manual\",\"Manual\",\"Manual\",\"Manual\",\"Manual\",\"Manual\",\"Manual\",\"Manual\",\"Manual\",\"Manual\",\"Manual\",\"Manual\",\"Manual\",\"Automatic\",\"Manual\",\"Manual\",\"Manual\",\"Manual\",\"Manual\",\"Manual\",\"Manual\",\"Manual\",\"Manual\",\"Manual\",\"Manual\",\"Manual\",\"Manual\",\"Manual\",\"Manual\",\"Manual\",\"Manual\",\"Manual\",\"Manual\",\"Manual\",\"Manual\",\"Manual\",\"Manual\",\"Manual\",\"Manual\",\"Manual\",\"Manual\",\"Manual\",\"Manual\",\"Manual\",\"Automatic\",\"Manual\",\"Automatic\",\"Manual\",\"Manual\",\"Automatic\",\"Manual\",\"Manual\",\"Manual\",\"Manual\",\"Manual\",\"Manual\",\"Manual\",\"Manual\",\"Manual\",\"Manual\",\"Manual\",\"Manual\",\"Manual\",\"Manual\",\"Manual\",\"Manual\",\"Manual\",\"Manual\",\"Manual\",\"Manual\",\"Manual\",\"Manual\",\"Manual\",\"Manual\",\"Manual\",\"Manual\",\"Manual\",\"Manual\",\"Manual\",\"Manual\",\"Manual\",\"Manual\",\"Manual\",\"Automatic\",\"Manual\",\"Manual\",\"Manual\",\"Manual\",\"Manual\",\"Manual\",\"Manual\",\"Manual\",\"Manual\",\"Manual\",\"Manual\",\"Automatic\",\"Manual\",\"Manual\",\"Manual\",\"Manual\",\"Manual\",\"Manual\",\"Manual\",\"Manual\",\"Manual\",\"Manual\",\"Manual\",\"Manual\",\"Automatic\",\"Manual\",\"Manual\",\"Manual\",\"Manual\",\"Manual\",\"Manual\",\"Manual\",\"Manual\",\"Manual\",\"Manual\",\"Manual\",\"Manual\",\"Manual\",\"Manual\",\"Manual\",\"Manual\",\"Automatic\",\"Manual\",\"Manual\",\"Manual\",\"Manual\",\"Manual\",\"Manual\",\"Manual\",\"Manual\",\"Manual\",\"Manual\",\"Manual\",\"Manual\",\"Manual\",\"Manual\",\"Manual\",\"Manual\",\"Manual\",\"Manual\",\"Manual\",\"Manual\",\"Manual\",\"Manual\",\"Manual\",\"Manual\",\"Manual\",\"Manual\",\"Manual\",\"Manual\",\"Manual\",\"Manual\",\"Manual\",\"Automatic\",\"Manual\",\"Manual\",\"Manual\",\"Manual\",\"Manual\",\"Automatic\",\"Manual\",\"Manual\",\"Manual\",\"Manual\",\"Manual\",\"Manual\",\"Manual\",\"Manual\",\"Manual\",\"Manual\",\"Manual\",\"Manual\",\"Manual\",\"Manual\",\"Manual\",\"Automatic\",\"Manual\",\"Manual\",\"Manual\",\"Manual\",\"Manual\",\"Manual\",\"Manual\",\"Automatic\",\"Manual\",\"Manual\",\"Manual\",\"Manual\",\"Manual\",\"Manual\",\"Manual\",\"Manual\",\"Manual\",\"Manual\",\"Manual\",\"Manual\",\"Manual\",\"Manual\",\"Manual\",\"Manual\",\"Manual\",\"Manual\",\"Manual\",\"Manual\",\"Manual\",\"Manual\",\"Manual\",\"Manual\",\"Manual\",\"Manual\",\"Manual\",\"Manual\",\"Manual\",\"Manual\",\"Manual\",\"Manual\",\"Manual\",\"Manual\",\"Manual\",\"Manual\",\"Manual\",\"Manual\",\"Manual\",\"Manual\",\"Manual\",\"Manual\",\"Manual\",\"Manual\",\"Manual\",\"Manual\",\"Manual\",\"Manual\",\"Manual\",\"Manual\",\"Manual\",\"Manual\",\"Manual\",\"Manual\",\"Manual\",\"Manual\",\"Manual\",\"Manual\",\"Manual\",\"Manual\",\"Manual\",\"Manual\",\"Manual\",\"Manual\",\"Manual\",\"Automatic\",\"Manual\",\"Manual\",\"Manual\",\"Manual\",\"Manual\",\"Manual\",\"Manual\",\"Manual\",\"Automatic\",\"Automatic\",\"Automatic\",\"Automatic\",\"Manual\",\"Manual\",\"Manual\",\"Automatic\",\"Manual\",\"Automatic\",\"Manual\",\"Manual\",\"Automatic\",\"Manual\",\"Automatic\",\"Automatic\",\"Manual\",\"Automatic\",\"Automatic\",\"Automatic\",\"Manual\",\"Manual\",\"Automatic\",\"Manual\",\"Manual\",\"Automatic\",\"Manual\",\"Automatic\",\"Manual\",\"Manual\",\"Automatic\",\"Manual\",\"Manual\",\"Manual\",\"Manual\",\"Manual\",\"Automatic\",\"Automatic\",\"Automatic\",\"Manual\",\"Manual\",\"Automatic\",\"Manual\",\"Manual\",\"Automatic\",\"Manual\",\"Automatic\",\"Manual\",\"Manual\",\"Automatic\",\"Manual\",\"Manual\",\"Manual\",\"Manual\",\"Manual\",\"Automatic\",\"Automatic\",\"Automatic\",\"Manual\",\"Manual\",\"Automatic\",\"Manual\",\"Manual\",\"Automatic\",\"Manual\",\"Automatic\",\"Manual\",\"Manual\",\"Automatic\",\"Manual\",\"Manual\",\"Manual\",\"Manual\",\"Manual\",\"Automatic\",\"Automatic\",\"Automatic\",\"Manual\",\"Manual\",\"Automatic\",\"Manual\",\"Manual\",\"Automatic\",\"Manual\",\"Automatic\",\"Manual\",\"Manual\",\"Automatic\",\"Manual\",\"Manual\",\"Manual\",\"Manual\",\"Manual\",\"Manual\",\"Manual\",\"Manual\",\"Manual\",\"Manual\",\"Manual\",\"Manual\",\"Manual\",\"Manual\",\"Manual\",\"Manual\",\"Manual\",\"Manual\",\"Manual\",\"Manual\",\"Manual\",\"Manual\",\"Manual\",\"Manual\",\"Manual\",\"Automatic\",\"Automatic\",\"Manual\",\"Manual\",\"Manual\",\"Manual\",\"Manual\",\"Manual\",\"Manual\",\"Manual\",\"Manual\",\"Manual\",\"Manual\",\"Manual\",\"Manual\",\"Manual\",\"Manual\",\"Manual\",\"Manual\",\"Manual\",\"Manual\",\"Manual\",\"Manual\",\"Manual\",\"Manual\",\"Automatic\",\"Manual\",\"Manual\",\"Manual\",\"Manual\",\"Manual\",\"Automatic\",\"Manual\",\"Manual\",\"Manual\",\"Manual\",\"Manual\",\"Manual\",\"Manual\",\"Manual\",\"Manual\",\"Automatic\",\"Manual\",\"Manual\",\"Manual\",\"Manual\",\"Manual\",\"Manual\",\"Manual\",\"Manual\",\"Manual\",\"Manual\",\"Manual\",\"Manual\",\"Manual\",\"Manual\",\"Manual\",\"Manual\",\"Manual\",\"Manual\",\"Manual\",\"Automatic\",\"Automatic\",\"Manual\",\"Manual\",\"Manual\",\"Manual\",\"Manual\",\"Automatic\",\"Manual\",\"Manual\",\"Manual\",\"Automatic\",\"Manual\",\"Manual\",\"Manual\",\"Manual\",\"Manual\",\"Manual\",\"Automatic\",\"Manual\",\"Manual\",\"Automatic\",\"Manual\",\"Manual\",\"Manual\",\"Manual\",\"Manual\",\"Manual\",\"Manual\",\"Manual\",\"Manual\",\"Manual\",\"Automatic\",\"Manual\",\"Manual\",\"Automatic\",\"Manual\",\"Manual\",\"Manual\",\"Manual\",\"Manual\",\"Manual\",\"Manual\",\"Manual\",\"Manual\",\"Manual\",\"Manual\",\"Automatic\",\"Manual\",\"Manual\",\"Manual\",\"Manual\",\"Manual\",\"Manual\",\"Manual\",\"Manual\",\"Manual\",\"Manual\",\"Manual\",\"Manual\",\"Automatic\",\"Manual\",\"Manual\",\"Manual\",\"Manual\",\"Manual\",\"Manual\",\"Automatic\",\"Manual\",\"Manual\",\"Manual\",\"Automatic\",\"Manual\",\"Manual\",\"Manual\",\"Manual\",\"Manual\",\"Manual\",\"Manual\",\"Manual\",\"Manual\",\"Manual\",\"Manual\",\"Automatic\",\"Manual\",\"Manual\",\"Manual\",\"Manual\",\"Manual\",\"Manual\",\"Manual\",\"Manual\",\"Automatic\",\"Manual\",\"Manual\",\"Manual\",\"Automatic\",\"Manual\",\"Manual\",\"Manual\",\"Manual\",\"Manual\",\"Manual\",\"Manual\",\"Manual\",\"Manual\",\"Manual\",\"Manual\",\"Manual\",\"Automatic\",\"Manual\",\"Manual\",\"Manual\",\"Manual\",\"Manual\",\"Manual\",\"Manual\",\"Manual\",\"Manual\",\"Manual\",\"Manual\",\"Manual\",\"Manual\",\"Manual\",\"Manual\",\"Manual\",\"Automatic\",\"Manual\",\"Manual\",\"Manual\",\"Manual\",\"Manual\",\"Manual\",\"Manual\",\"Manual\",\"Manual\",\"Manual\",\"Manual\",\"Manual\",\"Manual\",\"Manual\",\"Manual\",\"Automatic\",\"Automatic\",\"Manual\",\"Manual\",\"Manual\",\"Manual\",\"Manual\",\"Manual\",\"Manual\",\"Manual\",\"Manual\",\"Manual\",\"Manual\",\"Manual\",\"Manual\",\"Manual\",\"Manual\",\"Manual\",\"Manual\",\"Manual\",\"Manual\",\"Manual\",\"Manual\",\"Manual\",\"Manual\",\"Manual\",\"Manual\",\"Manual\",\"Manual\",\"Manual\",\"Manual\",\"Manual\",\"Manual\",\"Manual\",\"Manual\",\"Manual\",\"Manual\",\"Manual\",\"Manual\",\"Manual\",\"Manual\",\"Manual\",\"Manual\",\"Manual\",\"Manual\",\"Manual\",\"Automatic\",\"Automatic\",\"Automatic\",\"Manual\",\"Manual\",\"Automatic\",\"Manual\",\"Manual\",\"Automatic\",\"Manual\",\"Automatic\",\"Manual\",\"Manual\",\"Automatic\",\"Manual\",\"Manual\",\"Manual\",\"Manual\",\"Manual\",\"Automatic\",\"Automatic\",\"Automatic\",\"Manual\",\"Manual\",\"Automatic\",\"Manual\",\"Manual\",\"Automatic\",\"Manual\",\"Automatic\",\"Manual\",\"Manual\",\"Automatic\",\"Manual\",\"Manual\",\"Manual\",\"Manual\",\"Automatic\",\"Manual\",\"Manual\",\"Automatic\",\"Automatic\",\"Manual\",\"Manual\",\"Automatic\",\"Manual\",\"Manual\",\"Manual\",\"Manual\",\"Manual\",\"Manual\",\"Manual\",\"Manual\",\"Manual\",\"Automatic\",\"Manual\",\"Automatic\",\"Manual\",\"Manual\",\"Manual\",\"Manual\",\"Automatic\",\"Manual\",\"Manual\",\"Manual\",\"Automatic\",\"Manual\",\"Manual\",\"Manual\",\"Manual\",\"Automatic\",\"Automatic\",\"Manual\",\"Manual\",\"Manual\",\"Manual\",\"Manual\",\"Manual\",\"Manual\",\"Manual\",\"Manual\",\"Manual\",\"Manual\",\"Manual\",\"Manual\",\"Manual\",\"Manual\",\"Manual\",\"Automatic\",\"Manual\",\"Automatic\",\"Manual\",\"Manual\",\"Manual\",\"Manual\",\"Manual\",\"Manual\",\"Manual\",\"Manual\",\"Automatic\",\"Manual\",\"Manual\",\"Manual\",\"Manual\",\"Manual\",\"Manual\",\"Manual\",\"Manual\",\"Manual\",\"Manual\",\"Manual\",\"Manual\",\"Manual\",\"Manual\",\"Manual\",\"Manual\",\"Manual\",\"Manual\",\"Manual\",\"Manual\",\"Manual\",\"Manual\",\"Manual\",\"Automatic\",\"Automatic\",\"Automatic\",\"Automatic\",\"Manual\",\"Automatic\",\"Automatic\",\"Manual\",\"Automatic\",\"Manual\",\"Automatic\",\"Manual\",\"Automatic\",\"Manual\",\"Automatic\",\"Manual\",\"Manual\",\"Manual\",\"Manual\",\"Manual\",\"Manual\",\"Automatic\",\"Manual\",\"Manual\",\"Manual\",\"Manual\",\"Manual\",\"Automatic\",\"Manual\",\"Manual\",\"Manual\",\"Manual\",\"Manual\",\"Manual\",\"Manual\",\"Manual\",\"Automatic\",\"Manual\",\"Manual\",\"Manual\",\"Manual\",\"Automatic\",\"Manual\",\"Manual\",\"Automatic\",\"Manual\",\"Automatic\",\"Manual\",\"Manual\",\"Manual\",\"Manual\",\"Manual\",\"Manual\",\"Manual\",\"Manual\",\"Manual\",\"Automatic\",\"Automatic\",\"Manual\",\"Automatic\",\"Automatic\",\"Manual\",\"Manual\",\"Manual\",\"Manual\",\"Manual\",\"Manual\",\"Automatic\",\"Manual\",\"Manual\",\"Manual\",\"Manual\",\"Automatic\",\"Manual\",\"Manual\",\"Manual\",\"Manual\",\"Manual\",\"Manual\",\"Manual\",\"Manual\",\"Manual\",\"Manual\",\"Manual\",\"Manual\",\"Manual\",\"Automatic\",\"Manual\",\"Manual\",\"Manual\",\"Manual\",\"Manual\",\"Manual\",\"Manual\",\"Automatic\",\"Manual\",\"Manual\",\"Manual\",\"Manual\",\"Manual\",\"Manual\",\"Manual\",\"Manual\",\"Manual\",\"Automatic\",\"Manual\",\"Manual\",\"Manual\",\"Automatic\",\"Manual\",\"Manual\",\"Manual\",\"Manual\",\"Automatic\",\"Manual\",\"Manual\",\"Manual\",\"Manual\",\"Manual\",\"Manual\",\"Manual\",\"Manual\",\"Manual\",\"Manual\",\"Manual\",\"Manual\",\"Manual\",\"Automatic\",\"Manual\",\"Manual\",\"Manual\",\"Manual\",\"Manual\",\"Manual\",\"Manual\",\"Automatic\",\"Manual\",\"Manual\",\"Manual\",\"Manual\",\"Manual\",\"Manual\",\"Manual\",\"Manual\",\"Manual\",\"Manual\",\"Manual\",\"Manual\",\"Manual\",\"Manual\",\"Manual\",\"Manual\",\"Manual\",\"Manual\",\"Manual\",\"Manual\",\"Manual\",\"Manual\",\"Manual\",\"Manual\",\"Manual\",\"Manual\",\"Manual\",\"Manual\",\"Manual\",\"Manual\",\"Manual\",\"Manual\",\"Manual\",\"Manual\",\"Manual\",\"Manual\",\"Manual\",\"Manual\",\"Manual\",\"Manual\",\"Manual\",\"Manual\",\"Manual\",\"Automatic\",\"Manual\",\"Manual\",\"Manual\",\"Manual\",\"Manual\",\"Manual\",\"Manual\",\"Manual\",\"Manual\",\"Manual\",\"Manual\",\"Manual\",\"Manual\",\"Manual\",\"Manual\",\"Manual\",\"Manual\",\"Manual\",\"Automatic\",\"Manual\",\"Manual\",\"Manual\",\"Manual\",\"Manual\",\"Manual\",\"Manual\",\"Manual\",\"Manual\",\"Manual\",\"Manual\",\"Manual\",\"Manual\",\"Manual\",\"Manual\",\"Manual\",\"Manual\",\"Manual\",\"Manual\",\"Manual\",\"Manual\",\"Manual\",\"Manual\",\"Manual\",\"Manual\",\"Manual\",\"Manual\",\"Manual\",\"Manual\",\"Manual\",\"Manual\",\"Manual\",\"Manual\",\"Manual\",\"Manual\",\"Manual\",\"Manual\",\"Manual\",\"Manual\",\"Manual\",\"Manual\",\"Manual\",\"Manual\",\"Manual\",\"Manual\",\"Manual\",\"Manual\",\"Manual\",\"Manual\",\"Manual\",\"Manual\",\"Manual\",\"Manual\",\"Automatic\",\"Manual\",\"Manual\",\"Manual\",\"Manual\",\"Manual\",\"Manual\",\"Automatic\",\"Manual\",\"Manual\",\"Manual\",\"Manual\",\"Manual\",\"Manual\",\"Manual\",\"Automatic\",\"Manual\",\"Automatic\",\"Manual\",\"Manual\",\"Manual\",\"Manual\",\"Manual\",\"Manual\",\"Manual\",\"Manual\",\"Manual\",\"Manual\",\"Manual\",\"Manual\",\"Automatic\",\"Manual\",\"Manual\",\"Manual\",\"Manual\",\"Manual\",\"Manual\",\"Manual\",\"Manual\",\"Manual\",\"Manual\",\"Manual\",\"Manual\",\"Manual\",\"Manual\",\"Manual\",\"Manual\",\"Manual\",\"Manual\",\"Manual\",\"Automatic\",\"Manual\",\"Manual\",\"Manual\",\"Manual\",\"Manual\",\"Manual\",\"Automatic\",\"Manual\",\"Manual\",\"Manual\",\"Automatic\",\"Manual\",\"Manual\",\"Manual\",\"Manual\",\"Manual\",\"Manual\",\"Manual\",\"Manual\",\"Manual\",\"Manual\",\"Manual\",\"Manual\",\"Manual\",\"Manual\",\"Manual\",\"Manual\",\"Automatic\",\"Manual\",\"Manual\",\"Manual\",\"Manual\",\"Manual\",\"Manual\",\"Manual\",\"Manual\",\"Manual\",\"Manual\",\"Manual\",\"Manual\",\"Manual\",\"Manual\",\"Manual\",\"Manual\",\"Manual\",\"Manual\",\"Manual\",\"Manual\",\"Manual\",\"Manual\",\"Manual\",\"Manual\",\"Manual\",\"Manual\",\"Automatic\",\"Manual\",\"Manual\",\"Manual\",\"Manual\",\"Manual\",\"Manual\",\"Automatic\",\"Manual\",\"Manual\",\"Manual\",\"Manual\",\"Manual\",\"Manual\",\"Manual\",\"Manual\",\"Manual\",\"Manual\",\"Manual\",\"Manual\",\"Manual\",\"Manual\",\"Manual\",\"Manual\",\"Manual\",\"Manual\",\"Manual\",\"Manual\",\"Automatic\",\"Automatic\",\"Automatic\",\"Manual\",\"Automatic\",\"Manual\",\"Manual\",\"Manual\",\"Automatic\",\"Manual\",\"Manual\",\"Automatic\",\"Manual\",\"Manual\",\"Manual\",\"Manual\",\"Manual\",\"Manual\",\"Manual\",\"Automatic\",\"Automatic\",\"Manual\",\"Manual\",\"Manual\",\"Manual\",\"Manual\",\"Automatic\",\"Manual\",\"Manual\",\"Manual\",\"Manual\",\"Manual\",\"Manual\",\"Manual\",\"Manual\",\"Automatic\",\"Manual\",\"Manual\",\"Manual\",\"Manual\",\"Manual\",\"Manual\",\"Manual\",\"Manual\",\"Manual\",\"Manual\",\"Manual\",\"Manual\",\"Manual\",\"Manual\",\"Manual\",\"Manual\",\"Manual\",\"Automatic\",\"Manual\",\"Manual\",\"Automatic\",\"Manual\",\"Manual\",\"Manual\",\"Manual\",\"Automatic\",\"Manual\",\"Automatic\",\"Manual\",\"Automatic\",\"Manual\",\"Manual\",\"Manual\",\"Automatic\",\"Manual\",\"Manual\",\"Manual\",\"Automatic\",\"Manual\",\"Manual\",\"Manual\",\"Manual\",\"Manual\",\"Manual\",\"Manual\",\"Manual\",\"Manual\",\"Manual\",\"Manual\",\"Manual\",\"Manual\",\"Manual\",\"Manual\",\"Manual\",\"Manual\",\"Manual\",\"Manual\",\"Manual\",\"Manual\",\"Manual\",\"Manual\",\"Manual\",\"Manual\",\"Manual\",\"Manual\",\"Manual\",\"Manual\",\"Manual\",\"Manual\",\"Manual\",\"Manual\",\"Manual\",\"Manual\",\"Manual\",\"Manual\",\"Manual\",\"Manual\",\"Manual\",\"Manual\",\"Manual\",\"Manual\",\"Manual\",\"Manual\",\"Manual\",\"Manual\",\"Manual\",\"Manual\",\"Manual\",\"Manual\",\"Manual\",\"Automatic\",\"Manual\",\"Manual\",\"Manual\",\"Manual\",\"Automatic\",\"Manual\",\"Manual\",\"Manual\",\"Manual\",\"Manual\",\"Manual\",\"Manual\",\"Manual\",\"Automatic\",\"Manual\",\"Manual\",\"Manual\",\"Manual\",\"Manual\",\"Manual\",\"Manual\",\"Manual\",\"Manual\",\"Manual\",\"Manual\",\"Manual\",\"Manual\",\"Manual\",\"Manual\",\"Manual\",\"Manual\",\"Manual\",\"Manual\",\"Manual\",\"Manual\",\"Manual\",\"Manual\",\"Manual\",\"Manual\",\"Manual\",\"Automatic\",\"Manual\",\"Manual\",\"Manual\",\"Manual\",\"Manual\",\"Manual\",\"Manual\",\"Manual\",\"Manual\",\"Manual\",\"Manual\",\"Manual\",\"Manual\",\"Manual\",\"Manual\",\"Manual\",\"Manual\",\"Manual\",\"Manual\",\"Manual\",\"Manual\",\"Manual\",\"Manual\",\"Manual\",\"Manual\",\"Manual\",\"Manual\",\"Manual\",\"Manual\",\"Automatic\",\"Manual\",\"Manual\",\"Manual\",\"Manual\",\"Manual\",\"Manual\",\"Manual\",\"Manual\",\"Manual\",\"Manual\",\"Manual\",\"Manual\",\"Manual\",\"Manual\",\"Manual\",\"Manual\",\"Manual\",\"Manual\",\"Manual\",\"Automatic\",\"Manual\",\"Manual\",\"Manual\",\"Manual\",\"Manual\",\"Automatic\",\"Automatic\",\"Automatic\",\"Manual\",\"Manual\",\"Automatic\",\"Manual\",\"Manual\",\"Manual\",\"Manual\",\"Manual\",\"Manual\",\"Manual\",\"Manual\",\"Manual\",\"Manual\",\"Manual\",\"Automatic\",\"Manual\",\"Manual\",\"Manual\",\"Manual\",\"Manual\",\"Manual\",\"Manual\",\"Manual\",\"Manual\",\"Manual\",\"Manual\",\"Manual\",\"Manual\",\"Manual\",\"Manual\",\"Manual\",\"Manual\",\"Manual\",\"Manual\",\"Manual\",\"Manual\",\"Manual\",\"Manual\",\"Manual\",\"Manual\",\"Manual\",\"Manual\",\"Manual\",\"Manual\",\"Manual\",\"Manual\",\"Manual\",\"Manual\",\"Manual\",\"Manual\",\"Manual\",\"Manual\",\"Manual\",\"Manual\",\"Manual\",\"Manual\",\"Manual\",\"Manual\",\"Manual\",\"Manual\",\"Manual\",\"Manual\",\"Manual\",\"Manual\",\"Manual\",\"Manual\",\"Manual\",\"Manual\",\"Manual\",\"Manual\",\"Manual\",\"Manual\",\"Manual\",\"Automatic\",\"Manual\",\"Manual\",\"Manual\",\"Manual\",\"Manual\",\"Manual\",\"Manual\",\"Manual\",\"Manual\",\"Manual\",\"Manual\",\"Manual\",\"Manual\",\"Automatic\",\"Manual\",\"Manual\",\"Manual\",\"Manual\",\"Manual\",\"Manual\",\"Manual\",\"Manual\",\"Manual\",\"Manual\",\"Manual\",\"Manual\",\"Manual\",\"Manual\",\"Manual\",\"Manual\",\"Automatic\",\"Manual\",\"Manual\",\"Manual\",\"Manual\",\"Manual\",\"Manual\",\"Manual\",\"Manual\",\"Automatic\",\"Manual\",\"Manual\",\"Manual\",\"Manual\",\"Manual\",\"Manual\",\"Manual\",\"Manual\",\"Manual\",\"Manual\",\"Manual\",\"Manual\",\"Manual\",\"Manual\",\"Manual\",\"Manual\",\"Manual\",\"Manual\",\"Manual\",\"Manual\",\"Manual\",\"Manual\",\"Manual\",\"Manual\",\"Manual\",\"Manual\",\"Manual\",\"Manual\",\"Manual\",\"Manual\",\"Manual\",\"Manual\",\"Manual\",\"Manual\",\"Manual\",\"Manual\",\"Manual\",\"Manual\",\"Manual\",\"Manual\",\"Manual\",\"Manual\",\"Manual\",\"Manual\",\"Manual\",\"Manual\",\"Manual\",\"Manual\",\"Manual\",\"Manual\",\"Manual\",\"Automatic\",\"Manual\",\"Automatic\",\"Automatic\",\"Manual\",\"Manual\",\"Manual\",\"Manual\",\"Manual\",\"Automatic\",\"Manual\",\"Manual\",\"Automatic\",\"Manual\",\"Manual\",\"Manual\",\"Manual\",\"Manual\",\"Manual\",\"Manual\",\"Manual\",\"Manual\",\"Manual\",\"Manual\",\"Manual\",\"Manual\",\"Manual\",\"Manual\",\"Manual\",\"Manual\",\"Manual\",\"Manual\",\"Manual\",\"Manual\",\"Manual\",\"Manual\",\"Manual\",\"Automatic\",\"Automatic\",\"Automatic\",\"Manual\",\"Manual\",\"Automatic\",\"Manual\",\"Manual\",\"Automatic\",\"Manual\",\"Automatic\",\"Manual\",\"Manual\",\"Automatic\",\"Manual\",\"Manual\",\"Manual\",\"Manual\",\"Manual\",\"Manual\",\"Manual\",\"Manual\",\"Manual\",\"Manual\",\"Manual\",\"Manual\",\"Manual\",\"Manual\",\"Manual\",\"Manual\",\"Manual\",\"Manual\",\"Manual\",\"Manual\",\"Manual\",\"Manual\",\"Manual\",\"Manual\",\"Manual\",\"Manual\",\"Manual\",\"Manual\",\"Manual\",\"Manual\",\"Manual\",\"Manual\",\"Manual\",\"Manual\",\"Manual\",\"Manual\",\"Manual\",\"Manual\",\"Manual\",\"Manual\",\"Manual\",\"Manual\",\"Manual\",\"Manual\",\"Manual\",\"Manual\",\"Manual\",\"Manual\",\"Manual\",\"Manual\",\"Manual\",\"Manual\",\"Manual\",\"Manual\",\"Manual\",\"Automatic\",\"Automatic\",\"Manual\",\"Manual\",\"Manual\",\"Manual\",\"Manual\",\"Automatic\",\"Automatic\",\"Automatic\",\"Manual\",\"Manual\",\"Automatic\",\"Manual\",\"Manual\",\"Manual\",\"Manual\",\"Manual\",\"Manual\",\"Manual\",\"Manual\",\"Manual\",\"Manual\",\"Manual\",\"Manual\",\"Manual\",\"Manual\",\"Manual\",\"Manual\",\"Manual\",\"Manual\",\"Manual\",\"Manual\",\"Manual\",\"Manual\",\"Manual\",\"Manual\",\"Manual\",\"Manual\",\"Manual\",\"Manual\",\"Manual\",\"Manual\",\"Manual\",\"Manual\",\"Manual\",\"Manual\",\"Manual\",\"Manual\",\"Manual\",\"Manual\",\"Manual\",\"Manual\",\"Manual\",\"Manual\",\"Manual\",\"Manual\",\"Manual\",\"Manual\",\"Manual\",\"Manual\",\"Manual\",\"Manual\",\"Manual\",\"Manual\",\"Manual\",\"Manual\",\"Manual\",\"Manual\",\"Manual\",\"Manual\",\"Manual\",\"Manual\",\"Manual\",\"Automatic\",\"Manual\",\"Manual\",\"Manual\",\"Manual\",\"Manual\",\"Manual\",\"Manual\",\"Manual\",\"Manual\",\"Manual\",\"Automatic\",\"Manual\",\"Manual\",\"Manual\",\"Manual\",\"Manual\",\"Manual\",\"Manual\",\"Manual\",\"Manual\",\"Manual\",\"Manual\",\"Manual\",\"Manual\",\"Manual\",\"Manual\",\"Manual\",\"Manual\",\"Manual\",\"Manual\",\"Manual\",\"Manual\",\"Manual\",\"Manual\",\"Manual\",\"Manual\",\"Manual\",\"Manual\",\"Manual\",\"Manual\",\"Manual\",\"Manual\",\"Manual\",\"Manual\",\"Manual\",\"Manual\",\"Manual\",\"Manual\",\"Manual\",\"Manual\",\"Manual\",\"Manual\",\"Manual\",\"Manual\",\"Automatic\",\"Manual\",\"Manual\",\"Manual\",\"Manual\",\"Manual\",\"Manual\",\"Manual\",\"Manual\",\"Manual\",\"Manual\",\"Manual\",\"Automatic\",\"Manual\",\"Manual\",\"Manual\",\"Manual\",\"Manual\",\"Manual\",\"Manual\",\"Manual\",\"Manual\",\"Manual\",\"Manual\",\"Manual\",\"Manual\",\"Manual\",\"Manual\",\"Manual\",\"Manual\",\"Manual\",\"Manual\",\"Manual\",\"Manual\",\"Manual\",\"Manual\",\"Automatic\",\"Manual\",\"Manual\",\"Manual\",\"Manual\",\"Manual\",\"Manual\",\"Manual\",\"Manual\",\"Manual\",\"Manual\",\"Manual\",\"Manual\",\"Manual\",\"Manual\",\"Manual\",\"Manual\",\"Automatic\",\"Manual\",\"Manual\",\"Manual\",\"Automatic\",\"Manual\",\"Manual\",\"Manual\",\"Automatic\",\"Automatic\",\"Manual\",\"Manual\",\"Manual\",\"Manual\",\"Manual\",\"Manual\",\"Manual\",\"Manual\",\"Manual\",\"Manual\",\"Manual\",\"Manual\",\"Manual\",\"Manual\",\"Manual\",\"Manual\",\"Manual\",\"Manual\",\"Manual\",\"Manual\",\"Manual\",\"Manual\",\"Manual\",\"Manual\",\"Manual\",\"Manual\",\"Manual\",\"Manual\",\"Manual\",\"Manual\",\"Manual\",\"Manual\",\"Manual\",\"Manual\",\"Manual\",\"Manual\",\"Manual\",\"Manual\",\"Manual\",\"Manual\",\"Manual\",\"Manual\",\"Manual\",\"Manual\",\"Manual\",\"Manual\",\"Manual\",\"Manual\",\"Manual\",\"Manual\",\"Manual\",\"Manual\",\"Manual\",\"Manual\",\"Manual\",\"Manual\",\"Manual\",\"Manual\",\"Manual\",\"Manual\",\"Manual\",\"Manual\",\"Manual\",\"Manual\",\"Manual\",\"Manual\",\"Manual\",\"Manual\",\"Manual\",\"Manual\",\"Manual\",\"Manual\",\"Automatic\",\"Manual\",\"Manual\",\"Manual\",\"Manual\",\"Manual\",\"Manual\",\"Manual\",\"Automatic\",\"Automatic\",\"Automatic\",\"Automatic\",\"Manual\",\"Manual\",\"Manual\",\"Automatic\",\"Manual\",\"Automatic\",\"Manual\",\"Manual\",\"Automatic\",\"Manual\",\"Automatic\",\"Automatic\",\"Manual\",\"Manual\",\"Manual\",\"Manual\",\"Manual\",\"Manual\",\"Automatic\",\"Manual\",\"Manual\",\"Manual\",\"Manual\",\"Manual\",\"Manual\",\"Manual\",\"Manual\",\"Manual\",\"Manual\",\"Manual\",\"Manual\",\"Manual\",\"Manual\",\"Manual\",\"Manual\",\"Manual\",\"Manual\",\"Automatic\",\"Manual\",\"Manual\",\"Manual\",\"Manual\",\"Manual\",\"Manual\",\"Manual\",\"Manual\",\"Manual\",\"Manual\",\"Manual\",\"Manual\",\"Automatic\",\"Manual\",\"Manual\",\"Manual\",\"Manual\",\"Manual\",\"Manual\",\"Manual\",\"Automatic\",\"Automatic\",\"Automatic\",\"Manual\",\"Manual\",\"Automatic\",\"Manual\",\"Manual\",\"Automatic\",\"Manual\",\"Automatic\",\"Manual\",\"Manual\",\"Automatic\",\"Manual\",\"Manual\",\"Manual\",\"Manual\",\"Manual\",\"Automatic\",\"Automatic\",\"Automatic\",\"Manual\",\"Manual\",\"Automatic\",\"Manual\",\"Manual\",\"Automatic\",\"Manual\",\"Automatic\",\"Manual\",\"Manual\",\"Automatic\",\"Manual\",\"Manual\",\"Manual\",\"Manual\",\"Manual\",\"Manual\",\"Manual\",\"Manual\",\"Manual\",\"Manual\",\"Manual\",\"Manual\",\"Manual\",\"Manual\",\"Manual\",\"Manual\",\"Automatic\",\"Manual\",\"Automatic\",\"Manual\",\"Automatic\",\"Automatic\",\"Manual\",\"Automatic\",\"Manual\",\"Automatic\",\"Manual\",\"Manual\",\"Manual\",\"Automatic\",\"Manual\",\"Manual\",\"Manual\",\"Manual\",\"Manual\",\"Manual\",\"Manual\",\"Manual\",\"Manual\",\"Manual\",\"Manual\",\"Manual\",\"Manual\",\"Manual\",\"Manual\",\"Automatic\",\"Manual\",\"Manual\",\"Manual\",\"Manual\",\"Automatic\",\"Manual\",\"Manual\",\"Automatic\",\"Manual\",\"Automatic\",\"Manual\",\"Manual\",\"Manual\",\"Manual\",\"Manual\",\"Manual\",\"Manual\",\"Manual\",\"Manual\",\"Manual\",\"Manual\",\"Automatic\",\"Manual\",\"Manual\",\"Manual\",\"Manual\",\"Manual\",\"Manual\",\"Manual\",\"Manual\",\"Manual\",\"Manual\",\"Manual\",\"Manual\",\"Automatic\",\"Manual\",\"Manual\",\"Manual\",\"Manual\",\"Manual\",\"Manual\",\"Manual\",\"Manual\",\"Manual\",\"Manual\",\"Manual\",\"Manual\",\"Manual\",\"Manual\",\"Manual\",\"Manual\",\"Manual\",\"Manual\",\"Manual\",\"Manual\",\"Manual\",\"Manual\",\"Automatic\",\"Manual\",\"Manual\",\"Manual\",\"Manual\",\"Manual\",\"Manual\",\"Manual\",\"Manual\",\"Manual\",\"Manual\",\"Manual\",\"Manual\",\"Manual\",\"Manual\",\"Manual\",\"Manual\",\"Manual\",\"Manual\",\"Manual\",\"Manual\",\"Manual\",\"Manual\",\"Manual\",\"Manual\",\"Manual\",\"Manual\",\"Manual\",\"Manual\",\"Manual\",\"Manual\",\"Automatic\",\"Manual\",\"Manual\",\"Manual\",\"Manual\",\"Manual\",\"Manual\",\"Manual\",\"Manual\",\"Manual\",\"Manual\",\"Manual\",\"Manual\",\"Manual\",\"Manual\",\"Manual\",\"Manual\",\"Manual\",\"Manual\",\"Manual\",\"Manual\",\"Manual\",\"Manual\",\"Manual\",\"Manual\",\"Manual\",\"Manual\",\"Manual\",\"Manual\",\"Manual\",\"Manual\",\"Manual\",\"Manual\",\"Manual\",\"Manual\",\"Manual\",\"Manual\",\"Manual\",\"Manual\",\"Manual\",\"Manual\",\"Manual\",\"Manual\",\"Manual\",\"Manual\",\"Manual\",\"Automatic\",\"Manual\",\"Manual\",\"Manual\",\"Manual\",\"Manual\",\"Manual\",\"Automatic\",\"Manual\",\"Manual\",\"Manual\",\"Automatic\",\"Manual\",\"Manual\",\"Manual\",\"Manual\",\"Manual\",\"Manual\",\"Manual\",\"Manual\",\"Manual\",\"Manual\",\"Manual\",\"Manual\",\"Manual\",\"Manual\",\"Manual\",\"Manual\",\"Manual\",\"Manual\",\"Manual\",\"Manual\",\"Automatic\",\"Automatic\",\"Manual\",\"Automatic\",\"Manual\",\"Manual\",\"Manual\",\"Manual\",\"Manual\",\"Manual\",\"Manual\",\"Manual\",\"Manual\",\"Manual\",\"Manual\",\"Manual\",\"Manual\",\"Automatic\",\"Manual\",\"Manual\",\"Manual\",\"Automatic\",\"Manual\",\"Manual\",\"Manual\",\"Manual\",\"Manual\",\"Manual\",\"Manual\",\"Manual\",\"Manual\",\"Manual\",\"Manual\",\"Manual\",\"Manual\",\"Manual\",\"Manual\",\"Manual\",\"Manual\",\"Manual\",\"Manual\",\"Manual\",\"Manual\",\"Manual\",\"Manual\",\"Manual\",\"Manual\",\"Manual\",\"Manual\",\"Automatic\",\"Automatic\",\"Manual\",\"Manual\",\"Manual\",\"Manual\",\"Manual\",\"Manual\",\"Manual\",\"Manual\",\"Manual\",\"Manual\",\"Manual\",\"Manual\",\"Manual\",\"Manual\",\"Manual\",\"Manual\",\"Manual\",\"Manual\",\"Manual\",\"Manual\",\"Manual\",\"Manual\",\"Manual\",\"Manual\",\"Manual\",\"Manual\",\"Manual\",\"Manual\",\"Manual\",\"Manual\",\"Manual\",\"Automatic\",\"Manual\",\"Manual\",\"Manual\",\"Manual\",\"Manual\",\"Manual\",\"Manual\",\"Automatic\",\"Manual\",\"Automatic\",\"Manual\",\"Manual\",\"Manual\",\"Automatic\",\"Automatic\",\"Automatic\",\"Automatic\",\"Automatic\",\"Manual\",\"Manual\",\"Manual\",\"Manual\",\"Manual\",\"Manual\",\"Manual\",\"Manual\",\"Manual\",\"Manual\",\"Manual\",\"Manual\",\"Manual\",\"Manual\",\"Manual\",\"Automatic\",\"Manual\",\"Manual\",\"Manual\",\"Manual\",\"Manual\",\"Manual\",\"Manual\",\"Manual\",\"Manual\",\"Manual\",\"Manual\",\"Automatic\",\"Manual\",\"Manual\",\"Manual\",\"Manual\",\"Manual\",\"Automatic\",\"Manual\",\"Manual\",\"Manual\",\"Manual\",\"Manual\",\"Manual\",\"Manual\",\"Manual\",\"Manual\",\"Manual\",\"Manual\",\"Manual\",\"Manual\",\"Manual\",\"Manual\",\"Manual\",\"Manual\",\"Manual\",\"Manual\",\"Manual\",\"Manual\",\"Manual\",\"Manual\",\"Manual\",\"Manual\",\"Manual\",\"Manual\",\"Manual\",\"Manual\",\"Automatic\",\"Manual\",\"Manual\",\"Manual\",\"Manual\",\"Manual\",\"Manual\",\"Manual\",\"Manual\",\"Manual\",\"Manual\",\"Manual\",\"Manual\",\"Manual\",\"Manual\",\"Manual\",\"Manual\",\"Manual\",\"Manual\",\"Manual\",\"Manual\",\"Manual\",\"Manual\",\"Manual\",\"Manual\",\"Manual\",\"Manual\",\"Manual\",\"Manual\",\"Manual\",\"Manual\",\"Manual\",\"Manual\",\"Manual\",\"Manual\",\"Manual\",\"Manual\",\"Manual\",\"Manual\",\"Automatic\",\"Manual\",\"Manual\",\"Manual\",\"Manual\",\"Manual\",\"Manual\",\"Manual\",\"Manual\",\"Manual\",\"Manual\",\"Manual\",\"Manual\",\"Manual\",\"Manual\",\"Automatic\",\"Manual\",\"Manual\",\"Manual\",\"Manual\",\"Manual\",\"Manual\",\"Manual\",\"Manual\",\"Manual\",\"Manual\",\"Manual\",\"Automatic\",\"Manual\",\"Manual\",\"Automatic\",\"Manual\",\"Manual\",\"Automatic\",\"Manual\",\"Manual\",\"Manual\",\"Manual\",\"Manual\",\"Manual\",\"Manual\",\"Automatic\",\"Manual\",\"Manual\",\"Manual\",\"Manual\",\"Manual\",\"Manual\",\"Automatic\",\"Manual\",\"Manual\",\"Manual\",\"Automatic\",\"Automatic\",\"Automatic\",\"Manual\",\"Manual\",\"Automatic\",\"Manual\",\"Manual\",\"Automatic\",\"Manual\",\"Automatic\",\"Manual\",\"Manual\",\"Automatic\",\"Manual\",\"Manual\",\"Manual\",\"Manual\",\"Manual\",\"Manual\",\"Manual\",\"Manual\",\"Manual\",\"Manual\",\"Manual\",\"Manual\",\"Manual\",\"Manual\",\"Manual\",\"Manual\",\"Manual\",\"Manual\",\"Manual\",\"Manual\",\"Manual\",\"Manual\",\"Manual\",\"Manual\",\"Manual\",\"Manual\",\"Manual\",\"Manual\",\"Manual\",\"Manual\",\"Manual\",\"Manual\",\"Manual\",\"Manual\",\"Manual\",\"Manual\",\"Manual\",\"Manual\",\"Manual\",\"Manual\",\"Manual\",\"Manual\",\"Manual\",\"Manual\",\"Manual\",\"Manual\",\"Manual\",\"Manual\",\"Manual\",\"Manual\",\"Manual\",\"Manual\",\"Automatic\",\"Manual\",\"Manual\",\"Manual\",\"Manual\",\"Manual\",\"Manual\",\"Manual\",\"Manual\",\"Manual\",\"Automatic\",\"Manual\",\"Manual\",\"Manual\",\"Manual\",\"Manual\",\"Manual\",\"Manual\",\"Manual\",\"Automatic\",\"Automatic\",\"Manual\",\"Manual\",\"Manual\",\"Manual\",\"Manual\",\"Manual\",\"Manual\",\"Manual\",\"Manual\",\"Manual\",\"Manual\",\"Manual\",\"Manual\",\"Manual\",\"Manual\",\"Manual\",\"Manual\",\"Manual\",\"Automatic\",\"Manual\",\"Manual\",\"Manual\",\"Manual\",\"Manual\",\"Manual\",\"Manual\",\"Manual\",\"Manual\",\"Manual\",\"Manual\",\"Manual\",\"Manual\",\"Manual\",\"Manual\",\"Manual\",\"Automatic\",\"Manual\",\"Manual\",\"Manual\",\"Manual\",\"Manual\",\"Automatic\",\"Manual\",\"Manual\",\"Manual\",\"Manual\",\"Manual\",\"Manual\",\"Manual\",\"Manual\",\"Automatic\",\"Manual\",\"Manual\",\"Manual\",\"Manual\",\"Manual\",\"Manual\",\"Manual\",\"Manual\",\"Manual\",\"Manual\",\"Manual\",\"Manual\",\"Automatic\",\"Manual\",\"Manual\",\"Manual\",\"Manual\",\"Manual\",\"Manual\",\"Manual\",\"Manual\",\"Manual\",\"Manual\",\"Manual\",\"Manual\",\"Manual\",\"Manual\",\"Manual\",\"Manual\",\"Manual\",\"Manual\",\"Automatic\",\"Manual\",\"Manual\",\"Manual\",\"Automatic\",\"Manual\",\"Manual\",\"Manual\",\"Manual\",\"Manual\",\"Manual\",\"Manual\",\"Manual\",\"Manual\",\"Manual\",\"Manual\",\"Manual\",\"Manual\",\"Manual\",\"Manual\",\"Manual\",\"Manual\",\"Manual\",\"Manual\",\"Automatic\",\"Automatic\",\"Automatic\",\"Manual\",\"Manual\",\"Automatic\",\"Automatic\",\"Manual\",\"Manual\",\"Automatic\",\"Manual\",\"Manual\",\"Manual\",\"Manual\",\"Manual\",\"Manual\",\"Manual\",\"Manual\",\"Manual\",\"Automatic\",\"Manual\",\"Automatic\",\"Automatic\",\"Manual\",\"Manual\",\"Manual\",\"Manual\",\"Manual\",\"Manual\",\"Manual\",\"Manual\",\"Manual\",\"Manual\",\"Manual\",\"Manual\",\"Manual\",\"Manual\",\"Manual\",\"Manual\",\"Manual\",\"Manual\",\"Manual\",\"Manual\",\"Manual\",\"Manual\",\"Manual\",\"Manual\",\"Manual\",\"Manual\",\"Automatic\",\"Manual\",\"Manual\",\"Manual\",\"Manual\",\"Manual\",\"Manual\",\"Manual\",\"Manual\",\"Manual\",\"Manual\",\"Manual\",\"Manual\",\"Manual\",\"Manual\",\"Manual\",\"Manual\",\"Manual\",\"Manual\",\"Manual\",\"Manual\",\"Manual\",\"Manual\",\"Manual\",\"Manual\",\"Manual\",\"Manual\",\"Manual\",\"Manual\",\"Manual\",\"Manual\",\"Manual\",\"Manual\",\"Manual\",\"Manual\",\"Manual\",\"Manual\",\"Manual\",\"Manual\",\"Manual\",\"Manual\",\"Manual\",\"Manual\",\"Manual\",\"Manual\",\"Manual\",\"Manual\",\"Manual\",\"Manual\",\"Manual\",\"Manual\",\"Manual\",\"Manual\",\"Manual\",\"Manual\",\"Manual\",\"Manual\",\"Manual\",\"Manual\",\"Manual\",\"Manual\",\"Manual\",\"Manual\",\"Automatic\",\"Manual\",\"Manual\",\"Automatic\",\"Automatic\",\"Manual\",\"Manual\",\"Manual\",\"Manual\",\"Manual\",\"Manual\",\"Manual\",\"Manual\",\"Manual\",\"Manual\",\"Manual\",\"Manual\",\"Manual\",\"Manual\",\"Manual\",\"Manual\",\"Manual\",\"Automatic\",\"Automatic\",\"Automatic\",\"Automatic\",\"Manual\",\"Manual\",\"Automatic\",\"Manual\",\"Manual\",\"Manual\",\"Manual\",\"Automatic\",\"Manual\",\"Manual\",\"Manual\",\"Manual\",\"Manual\",\"Manual\",\"Automatic\",\"Automatic\",\"Manual\",\"Manual\",\"Manual\",\"Manual\",\"Manual\",\"Manual\",\"Manual\",\"Manual\",\"Manual\",\"Manual\",\"Automatic\",\"Manual\",\"Manual\",\"Manual\",\"Manual\",\"Manual\",\"Manual\",\"Manual\",\"Manual\",\"Manual\",\"Manual\",\"Manual\",\"Manual\",\"Manual\",\"Manual\",\"Manual\",\"Manual\",\"Manual\",\"Manual\",\"Manual\",\"Manual\",\"Manual\",\"Manual\",\"Manual\",\"Manual\",\"Manual\",\"Manual\",\"Manual\",\"Automatic\",\"Manual\",\"Manual\",\"Manual\",\"Manual\",\"Manual\",\"Manual\",\"Manual\",\"Manual\",\"Manual\",\"Manual\",\"Manual\",\"Manual\",\"Manual\",\"Manual\",\"Manual\",\"Manual\",\"Manual\",\"Manual\",\"Manual\",\"Manual\",\"Manual\",\"Manual\",\"Automatic\",\"Manual\",\"Manual\",\"Manual\",\"Manual\",\"Manual\",\"Manual\",\"Automatic\",\"Manual\",\"Manual\",\"Manual\",\"Manual\",\"Automatic\",\"Manual\",\"Manual\",\"Manual\",\"Manual\",\"Manual\",\"Manual\",\"Manual\",\"Manual\",\"Manual\",\"Manual\",\"Manual\",\"Manual\",\"Manual\",\"Manual\",\"Manual\",\"Manual\",\"Manual\",\"Manual\",\"Manual\",\"Manual\",\"Manual\",\"Manual\",\"Manual\",\"Manual\",\"Automatic\",\"Manual\",\"Manual\",\"Manual\",\"Automatic\",\"Manual\",\"Manual\",\"Manual\",\"Manual\",\"Manual\",\"Manual\",\"Manual\",\"Manual\",\"Manual\",\"Manual\",\"Manual\",\"Manual\",\"Manual\",\"Manual\",\"Manual\",\"Automatic\",\"Manual\",\"Manual\",\"Manual\",\"Manual\",\"Manual\",\"Manual\",\"Manual\",\"Manual\",\"Manual\",\"Manual\",\"Manual\",\"Manual\",\"Manual\",\"Manual\",\"Manual\",\"Manual\",\"Manual\",\"Manual\",\"Manual\",\"Manual\",\"Manual\",\"Manual\",\"Manual\",\"Manual\",\"Manual\",\"Manual\",\"Manual\",\"Manual\",\"Manual\",\"Manual\",\"Manual\",\"Manual\",\"Manual\",\"Manual\",\"Manual\",\"Manual\",\"Manual\",\"Manual\",\"Manual\",\"Manual\",\"Manual\",\"Manual\",\"Manual\",\"Manual\",\"Manual\",\"Manual\",\"Manual\",\"Manual\",\"Manual\",\"Manual\",\"Automatic\",\"Manual\",\"Manual\",\"Automatic\",\"Manual\",\"Manual\",\"Manual\",\"Manual\",\"Automatic\",\"Manual\",\"Manual\",\"Manual\",\"Manual\",\"Manual\",\"Manual\",\"Manual\",\"Manual\",\"Manual\",\"Manual\",\"Manual\",\"Manual\",\"Manual\",\"Manual\",\"Automatic\",\"Manual\",\"Manual\",\"Manual\",\"Manual\",\"Manual\",\"Manual\",\"Manual\",\"Manual\",\"Manual\",\"Manual\",\"Automatic\",\"Manual\",\"Manual\",\"Manual\",\"Manual\",\"Manual\",\"Manual\",\"Automatic\",\"Manual\",\"Manual\",\"Manual\",\"Manual\",\"Manual\",\"Manual\",\"Manual\",\"Manual\",\"Manual\",\"Manual\",\"Manual\",\"Manual\",\"Manual\",\"Manual\",\"Manual\",\"Manual\",\"Manual\",\"Manual\",\"Manual\",\"Manual\",\"Manual\",\"Manual\",\"Manual\",\"Manual\",\"Manual\",\"Automatic\",\"Manual\",\"Manual\",\"Manual\",\"Manual\",\"Manual\",\"Manual\",\"Manual\",\"Manual\",\"Manual\",\"Manual\",\"Manual\",\"Manual\",\"Manual\",\"Manual\",\"Manual\",\"Manual\",\"Manual\",\"Manual\",\"Manual\",\"Manual\",\"Manual\",\"Manual\",\"Manual\",\"Manual\",\"Manual\",\"Manual\",\"Manual\",\"Manual\",\"Manual\",\"Automatic\",\"Manual\",\"Automatic\",\"Manual\",\"Manual\",\"Manual\",\"Automatic\",\"Manual\",\"Automatic\",\"Manual\",\"Manual\",\"Manual\",\"Manual\",\"Manual\",\"Manual\",\"Manual\",\"Manual\",\"Manual\",\"Manual\",\"Automatic\",\"Manual\",\"Manual\",\"Manual\",\"Manual\",\"Manual\",\"Manual\",\"Manual\",\"Manual\",\"Manual\",\"Manual\",\"Manual\",\"Manual\",\"Manual\",\"Manual\",\"Manual\",\"Manual\",\"Manual\",\"Manual\",\"Manual\",\"Manual\",\"Manual\",\"Manual\",\"Manual\",\"Manual\",\"Manual\",\"Manual\",\"Manual\",\"Manual\",\"Manual\",\"Manual\",\"Manual\",\"Manual\",\"Manual\",\"Manual\",\"Manual\",\"Manual\",\"Manual\",\"Manual\",\"Manual\",\"Manual\",\"Manual\",\"Manual\",\"Manual\",\"Manual\",\"Manual\",\"Manual\",\"Automatic\",\"Manual\",\"Automatic\",\"Manual\",\"Manual\",\"Automatic\",\"Manual\",\"Manual\",\"Manual\",\"Manual\",\"Manual\",\"Manual\",\"Manual\",\"Manual\",\"Manual\",\"Manual\",\"Manual\",\"Manual\",\"Manual\",\"Manual\",\"Manual\",\"Manual\",\"Automatic\",\"Manual\",\"Manual\",\"Manual\",\"Manual\",\"Manual\",\"Manual\",\"Manual\",\"Manual\",\"Manual\",\"Manual\",\"Manual\",\"Manual\",\"Manual\",\"Manual\",\"Automatic\",\"Automatic\",\"Manual\",\"Manual\",\"Manual\",\"Automatic\",\"Manual\",\"Manual\",\"Manual\",\"Manual\",\"Manual\",\"Manual\",\"Manual\",\"Manual\",\"Automatic\",\"Manual\",\"Manual\",\"Manual\",\"Manual\",\"Manual\",\"Manual\",\"Manual\",\"Manual\",\"Manual\",\"Manual\",\"Manual\",\"Manual\",\"Manual\",\"Manual\",\"Manual\",\"Manual\",\"Manual\",\"Manual\",\"Manual\",\"Manual\",\"Manual\",\"Manual\",\"Manual\",\"Manual\",\"Automatic\",\"Manual\",\"Manual\",\"Manual\",\"Manual\",\"Manual\",\"Manual\",\"Automatic\",\"Manual\",\"Manual\",\"Manual\",\"Manual\",\"Manual\",\"Manual\",\"Manual\",\"Manual\",\"Manual\",\"Manual\",\"Manual\",\"Manual\",\"Manual\",\"Manual\",\"Manual\",\"Manual\",\"Manual\",\"Manual\",\"Automatic\",\"Manual\",\"Manual\",\"Manual\",\"Manual\",\"Manual\",\"Manual\",\"Manual\",\"Manual\",\"Manual\",\"Automatic\",\"Manual\",\"Automatic\",\"Manual\",\"Manual\",\"Manual\",\"Automatic\",\"Manual\",\"Manual\",\"Automatic\",\"Manual\",\"Manual\",\"Manual\",\"Manual\",\"Manual\",\"Manual\",\"Manual\",\"Manual\",\"Manual\",\"Manual\",\"Manual\",\"Manual\",\"Automatic\",\"Manual\",\"Manual\",\"Manual\",\"Manual\",\"Manual\",\"Manual\",\"Manual\",\"Manual\",\"Manual\",\"Manual\",\"Manual\",\"Manual\",\"Manual\",\"Automatic\",\"Manual\",\"Manual\",\"Manual\",\"Manual\",\"Automatic\",\"Manual\",\"Manual\",\"Manual\",\"Manual\",\"Manual\",\"Manual\",\"Manual\",\"Manual\",\"Manual\",\"Manual\",\"Manual\",\"Manual\",\"Manual\",\"Manual\",\"Manual\",\"Manual\",\"Manual\",\"Manual\",\"Manual\",\"Manual\",\"Manual\",\"Manual\",\"Manual\",\"Manual\",\"Manual\",\"Automatic\",\"Automatic\",\"Manual\",\"Manual\",\"Manual\",\"Automatic\",\"Manual\",\"Manual\",\"Manual\",\"Manual\",\"Manual\",\"Manual\",\"Manual\",\"Manual\",\"Manual\",\"Manual\",\"Manual\",\"Automatic\",\"Manual\",\"Manual\",\"Automatic\",\"Manual\",\"Manual\",\"Manual\",\"Manual\",\"Manual\",\"Manual\",\"Manual\",\"Manual\",\"Manual\",\"Manual\",\"Manual\",\"Manual\",\"Manual\",\"Manual\",\"Manual\",\"Manual\",\"Manual\",\"Manual\",\"Manual\",\"Manual\",\"Manual\",\"Manual\",\"Manual\",\"Manual\",\"Manual\",\"Manual\",\"Manual\",\"Manual\",\"Manual\",\"Manual\",\"Manual\",\"Manual\",\"Manual\",\"Manual\",\"Manual\",\"Manual\",\"Manual\",\"Manual\",\"Manual\",\"Automatic\",\"Manual\",\"Manual\",\"Manual\",\"Manual\",\"Manual\",\"Manual\",\"Manual\",\"Manual\",\"Manual\",\"Manual\",\"Manual\",\"Manual\",\"Manual\",\"Manual\",\"Manual\",\"Manual\",\"Manual\",\"Manual\",\"Manual\",\"Manual\",\"Manual\",\"Manual\",\"Manual\",\"Manual\",\"Manual\",\"Manual\",\"Manual\",\"Manual\",\"Manual\",\"Manual\",\"Manual\",\"Manual\",\"Manual\",\"Manual\",\"Manual\",\"Manual\",\"Manual\",\"Manual\",\"Manual\",\"Manual\",\"Manual\",\"Manual\",\"Manual\",\"Manual\",\"Manual\",\"Manual\",\"Manual\",\"Manual\",\"Manual\",\"Manual\",\"Manual\",\"Manual\",\"Manual\",\"Manual\",\"Manual\",\"Manual\",\"Manual\",\"Manual\",\"Manual\",\"Manual\",\"Manual\",\"Manual\",\"Manual\",\"Manual\",\"Manual\",\"Automatic\",\"Manual\",\"Manual\",\"Manual\",\"Manual\",\"Manual\",\"Manual\",\"Manual\",\"Manual\",\"Automatic\",\"Manual\",\"Manual\",\"Manual\",\"Manual\",\"Manual\",\"Manual\",\"Manual\",\"Manual\",\"Manual\",\"Manual\",\"Manual\",\"Manual\",\"Manual\",\"Manual\",\"Manual\",\"Manual\",\"Manual\",\"Manual\",\"Manual\",\"Manual\",\"Manual\",\"Manual\",\"Manual\",\"Manual\",\"Manual\",\"Manual\",\"Manual\",\"Manual\",\"Manual\",\"Automatic\",\"Manual\",\"Manual\",\"Manual\",\"Manual\",\"Manual\",\"Manual\",\"Manual\",\"Manual\",\"Manual\",\"Manual\",\"Manual\",\"Manual\",\"Manual\",\"Manual\",\"Manual\",\"Manual\",\"Manual\",\"Manual\",\"Manual\",\"Manual\",\"Manual\",\"Manual\",\"Automatic\",\"Manual\",\"Manual\",\"Manual\",\"Manual\",\"Manual\",\"Manual\",\"Manual\",\"Manual\",\"Manual\",\"Manual\",\"Manual\",\"Manual\",\"Manual\",\"Manual\",\"Manual\",\"Manual\",\"Manual\",\"Manual\",\"Manual\",\"Manual\",\"Manual\",\"Manual\",\"Manual\",\"Manual\",\"Manual\",\"Automatic\",\"Manual\",\"Manual\",\"Manual\",\"Manual\",\"Automatic\",\"Manual\",\"Manual\",\"Automatic\",\"Automatic\",\"Manual\",\"Automatic\",\"Automatic\",\"Manual\",\"Manual\",\"Automatic\",\"Automatic\",\"Manual\",\"Manual\",\"Manual\",\"Manual\",\"Manual\",\"Manual\",\"Manual\",\"Manual\",\"Manual\",\"Manual\",\"Manual\",\"Manual\",\"Manual\",\"Manual\",\"Manual\",\"Manual\",\"Automatic\",\"Automatic\",\"Automatic\",\"Manual\",\"Automatic\",\"Manual\",\"Automatic\",\"Manual\",\"Manual\",\"Automatic\",\"Manual\",\"Manual\",\"Automatic\",\"Manual\",\"Manual\",\"Manual\",\"Manual\",\"Automatic\",\"Automatic\",\"Manual\",\"Manual\",\"Automatic\",\"Manual\",\"Manual\",\"Manual\",\"Manual\",\"Manual\",\"Manual\",\"Manual\",\"Automatic\",\"Automatic\",\"Automatic\",\"Automatic\",\"Automatic\",\"Automatic\",\"Manual\",\"Manual\",\"Manual\",\"Manual\",\"Manual\",\"Manual\",\"Automatic\",\"Manual\",\"Manual\",\"Manual\",\"Manual\",\"Manual\",\"Manual\",\"Manual\",\"Manual\",\"Automatic\",\"Manual\",\"Manual\",\"Manual\",\"Manual\",\"Manual\",\"Manual\",\"Manual\",\"Manual\",\"Automatic\",\"Manual\",\"Manual\",\"Manual\",\"Manual\",\"Manual\",\"Manual\",\"Manual\",\"Manual\",\"Manual\",\"Automatic\",\"Manual\",\"Manual\",\"Manual\",\"Manual\",\"Manual\",\"Manual\",\"Manual\",\"Manual\",\"Manual\",\"Manual\",\"Manual\",\"Manual\",\"Manual\",\"Manual\",\"Manual\",\"Manual\",\"Manual\",\"Manual\",\"Manual\",\"Manual\",\"Manual\",\"Manual\",\"Manual\",\"Manual\",\"Manual\",\"Manual\",\"Manual\",\"Manual\",\"Manual\",\"Manual\",\"Manual\",\"Manual\",\"Manual\",\"Manual\",\"Manual\",\"Manual\",\"Manual\",\"Manual\",\"Manual\",\"Manual\",\"Manual\",\"Manual\",\"Manual\",\"Manual\",\"Manual\",\"Manual\",\"Manual\",\"Manual\",\"Manual\",\"Manual\",\"Manual\",\"Manual\",\"Manual\",\"Manual\",\"Manual\",\"Manual\",\"Manual\",\"Automatic\",\"Manual\",\"Manual\",\"Manual\",\"Manual\",\"Manual\",\"Manual\",\"Manual\",\"Manual\",\"Manual\",\"Manual\",\"Manual\",\"Manual\",\"Manual\",\"Manual\",\"Manual\",\"Manual\",\"Manual\",\"Manual\",\"Manual\",\"Manual\",\"Manual\",\"Manual\",\"Manual\",\"Manual\",\"Manual\",\"Manual\",\"Manual\",\"Manual\",\"Manual\",\"Manual\",\"Manual\",\"Manual\",\"Manual\",\"Manual\",\"Manual\",\"Manual\",\"Manual\",\"Manual\",\"Manual\",\"Manual\",\"Manual\",\"Manual\",\"Manual\",\"Manual\",\"Manual\",\"Automatic\",\"Manual\",\"Manual\",\"Manual\",\"Manual\",\"Manual\",\"Manual\",\"Manual\",\"Manual\",\"Manual\",\"Manual\",\"Manual\",\"Manual\",\"Manual\",\"Manual\",\"Manual\",\"Manual\",\"Manual\",\"Automatic\",\"Manual\",\"Manual\",\"Manual\",\"Manual\",\"Manual\",\"Manual\",\"Manual\",\"Manual\",\"Automatic\",\"Manual\",\"Manual\",\"Manual\",\"Manual\",\"Automatic\",\"Manual\",\"Manual\",\"Manual\",\"Manual\",\"Manual\",\"Manual\",\"Manual\",\"Manual\",\"Manual\",\"Manual\",\"Manual\",\"Automatic\",\"Manual\",\"Manual\",\"Manual\",\"Manual\",\"Manual\",\"Manual\",\"Manual\",\"Automatic\",\"Manual\",\"Manual\",\"Manual\",\"Manual\",\"Manual\",\"Manual\",\"Manual\",\"Manual\",\"Manual\",\"Manual\",\"Manual\",\"Manual\",\"Manual\",\"Manual\",\"Manual\",\"Manual\",\"Manual\",\"Manual\",\"Manual\",\"Manual\",\"Manual\",\"Manual\",\"Manual\",\"Automatic\",\"Manual\",\"Manual\",\"Automatic\",\"Manual\",\"Manual\",\"Manual\",\"Manual\",\"Manual\",\"Manual\",\"Manual\",\"Manual\",\"Manual\",\"Manual\",\"Manual\",\"Manual\",\"Manual\",\"Manual\",\"Manual\",\"Manual\",\"Manual\",\"Manual\",\"Manual\",\"Manual\",\"Manual\",\"Manual\",\"Manual\",\"Manual\",\"Automatic\",\"Manual\",\"Manual\",\"Manual\",\"Manual\",\"Manual\",\"Manual\",\"Manual\",\"Manual\",\"Manual\",\"Manual\",\"Manual\",\"Manual\",\"Manual\",\"Manual\",\"Manual\",\"Manual\",\"Manual\",\"Manual\",\"Manual\",\"Manual\",\"Manual\",\"Manual\",\"Manual\",\"Manual\",\"Manual\",\"Automatic\",\"Manual\",\"Automatic\",\"Manual\",\"Manual\",\"Manual\",\"Manual\",\"Manual\",\"Manual\",\"Manual\",\"Manual\",\"Manual\",\"Manual\",\"Manual\",\"Manual\",\"Manual\",\"Manual\",\"Manual\",\"Automatic\",\"Manual\",\"Manual\",\"Manual\",\"Manual\",\"Manual\",\"Automatic\",\"Manual\",\"Manual\",\"Manual\",\"Manual\",\"Manual\",\"Manual\",\"Manual\",\"Manual\",\"Manual\",\"Manual\",\"Manual\",\"Manual\",\"Manual\",\"Manual\",\"Manual\",\"Manual\",\"Automatic\",\"Manual\",\"Manual\",\"Manual\",\"Manual\",\"Manual\",\"Manual\",\"Manual\",\"Manual\",\"Manual\",\"Manual\",\"Manual\",\"Manual\",\"Manual\",\"Manual\",\"Manual\",\"Manual\",\"Manual\",\"Automatic\",\"Manual\",\"Manual\",\"Manual\",\"Manual\",\"Manual\",\"Manual\",\"Manual\",\"Manual\",\"Manual\",\"Manual\",\"Manual\",\"Manual\",\"Manual\",\"Manual\",\"Manual\",\"Manual\",\"Manual\",\"Manual\",\"Manual\",\"Automatic\",\"Manual\",\"Manual\",\"Manual\",\"Manual\",\"Manual\",\"Manual\",\"Manual\",\"Automatic\",\"Manual\",\"Manual\",\"Manual\",\"Manual\",\"Manual\",\"Manual\",\"Manual\",\"Manual\",\"Manual\",\"Manual\",\"Manual\",\"Manual\",\"Manual\",\"Manual\",\"Manual\",\"Manual\",\"Manual\",\"Manual\",\"Manual\",\"Manual\",\"Manual\",\"Automatic\",\"Manual\",\"Manual\",\"Manual\",\"Manual\",\"Manual\",\"Manual\",\"Manual\",\"Manual\",\"Manual\",\"Manual\",\"Manual\",\"Manual\",\"Manual\",\"Manual\",\"Manual\",\"Manual\",\"Manual\",\"Manual\",\"Manual\",\"Automatic\",\"Manual\",\"Manual\",\"Manual\",\"Manual\",\"Manual\",\"Manual\",\"Manual\",\"Manual\",\"Manual\",\"Manual\",\"Manual\",\"Manual\",\"Automatic\",\"Manual\",\"Manual\",\"Manual\",\"Manual\",\"Manual\",\"Manual\",\"Automatic\",\"Manual\",\"Manual\",\"Automatic\",\"Manual\",\"Automatic\",\"Automatic\",\"Manual\",\"Automatic\",\"Manual\",\"Automatic\",\"Manual\",\"Manual\",\"Manual\",\"Manual\",\"Manual\",\"Manual\",\"Automatic\",\"Manual\",\"Automatic\",\"Manual\",\"Manual\",\"Manual\",\"Manual\",\"Manual\",\"Manual\",\"Manual\",\"Manual\",\"Manual\",\"Manual\",\"Manual\",\"Manual\",\"Manual\",\"Manual\",\"Manual\",\"Manual\",\"Manual\",\"Manual\",\"Manual\",\"Manual\",\"Manual\",\"Manual\",\"Manual\",\"Manual\",\"Manual\",\"Manual\"],\"xaxis\":\"x\",\"yaxis\":\"y\",\"type\":\"histogram\"}],                        {\"template\":{\"data\":{\"bar\":[{\"error_x\":{\"color\":\"#2a3f5f\"},\"error_y\":{\"color\":\"#2a3f5f\"},\"marker\":{\"line\":{\"color\":\"#E5ECF6\",\"width\":0.5},\"pattern\":{\"fillmode\":\"overlay\",\"size\":10,\"solidity\":0.2}},\"type\":\"bar\"}],\"barpolar\":[{\"marker\":{\"line\":{\"color\":\"#E5ECF6\",\"width\":0.5},\"pattern\":{\"fillmode\":\"overlay\",\"size\":10,\"solidity\":0.2}},\"type\":\"barpolar\"}],\"carpet\":[{\"aaxis\":{\"endlinecolor\":\"#2a3f5f\",\"gridcolor\":\"white\",\"linecolor\":\"white\",\"minorgridcolor\":\"white\",\"startlinecolor\":\"#2a3f5f\"},\"baxis\":{\"endlinecolor\":\"#2a3f5f\",\"gridcolor\":\"white\",\"linecolor\":\"white\",\"minorgridcolor\":\"white\",\"startlinecolor\":\"#2a3f5f\"},\"type\":\"carpet\"}],\"choropleth\":[{\"colorbar\":{\"outlinewidth\":0,\"ticks\":\"\"},\"type\":\"choropleth\"}],\"contour\":[{\"colorbar\":{\"outlinewidth\":0,\"ticks\":\"\"},\"colorscale\":[[0.0,\"#0d0887\"],[0.1111111111111111,\"#46039f\"],[0.2222222222222222,\"#7201a8\"],[0.3333333333333333,\"#9c179e\"],[0.4444444444444444,\"#bd3786\"],[0.5555555555555556,\"#d8576b\"],[0.6666666666666666,\"#ed7953\"],[0.7777777777777778,\"#fb9f3a\"],[0.8888888888888888,\"#fdca26\"],[1.0,\"#f0f921\"]],\"type\":\"contour\"}],\"contourcarpet\":[{\"colorbar\":{\"outlinewidth\":0,\"ticks\":\"\"},\"type\":\"contourcarpet\"}],\"heatmap\":[{\"colorbar\":{\"outlinewidth\":0,\"ticks\":\"\"},\"colorscale\":[[0.0,\"#0d0887\"],[0.1111111111111111,\"#46039f\"],[0.2222222222222222,\"#7201a8\"],[0.3333333333333333,\"#9c179e\"],[0.4444444444444444,\"#bd3786\"],[0.5555555555555556,\"#d8576b\"],[0.6666666666666666,\"#ed7953\"],[0.7777777777777778,\"#fb9f3a\"],[0.8888888888888888,\"#fdca26\"],[1.0,\"#f0f921\"]],\"type\":\"heatmap\"}],\"heatmapgl\":[{\"colorbar\":{\"outlinewidth\":0,\"ticks\":\"\"},\"colorscale\":[[0.0,\"#0d0887\"],[0.1111111111111111,\"#46039f\"],[0.2222222222222222,\"#7201a8\"],[0.3333333333333333,\"#9c179e\"],[0.4444444444444444,\"#bd3786\"],[0.5555555555555556,\"#d8576b\"],[0.6666666666666666,\"#ed7953\"],[0.7777777777777778,\"#fb9f3a\"],[0.8888888888888888,\"#fdca26\"],[1.0,\"#f0f921\"]],\"type\":\"heatmapgl\"}],\"histogram\":[{\"marker\":{\"pattern\":{\"fillmode\":\"overlay\",\"size\":10,\"solidity\":0.2}},\"type\":\"histogram\"}],\"histogram2d\":[{\"colorbar\":{\"outlinewidth\":0,\"ticks\":\"\"},\"colorscale\":[[0.0,\"#0d0887\"],[0.1111111111111111,\"#46039f\"],[0.2222222222222222,\"#7201a8\"],[0.3333333333333333,\"#9c179e\"],[0.4444444444444444,\"#bd3786\"],[0.5555555555555556,\"#d8576b\"],[0.6666666666666666,\"#ed7953\"],[0.7777777777777778,\"#fb9f3a\"],[0.8888888888888888,\"#fdca26\"],[1.0,\"#f0f921\"]],\"type\":\"histogram2d\"}],\"histogram2dcontour\":[{\"colorbar\":{\"outlinewidth\":0,\"ticks\":\"\"},\"colorscale\":[[0.0,\"#0d0887\"],[0.1111111111111111,\"#46039f\"],[0.2222222222222222,\"#7201a8\"],[0.3333333333333333,\"#9c179e\"],[0.4444444444444444,\"#bd3786\"],[0.5555555555555556,\"#d8576b\"],[0.6666666666666666,\"#ed7953\"],[0.7777777777777778,\"#fb9f3a\"],[0.8888888888888888,\"#fdca26\"],[1.0,\"#f0f921\"]],\"type\":\"histogram2dcontour\"}],\"mesh3d\":[{\"colorbar\":{\"outlinewidth\":0,\"ticks\":\"\"},\"type\":\"mesh3d\"}],\"parcoords\":[{\"line\":{\"colorbar\":{\"outlinewidth\":0,\"ticks\":\"\"}},\"type\":\"parcoords\"}],\"pie\":[{\"automargin\":true,\"type\":\"pie\"}],\"scatter\":[{\"marker\":{\"colorbar\":{\"outlinewidth\":0,\"ticks\":\"\"}},\"type\":\"scatter\"}],\"scatter3d\":[{\"line\":{\"colorbar\":{\"outlinewidth\":0,\"ticks\":\"\"}},\"marker\":{\"colorbar\":{\"outlinewidth\":0,\"ticks\":\"\"}},\"type\":\"scatter3d\"}],\"scattercarpet\":[{\"marker\":{\"colorbar\":{\"outlinewidth\":0,\"ticks\":\"\"}},\"type\":\"scattercarpet\"}],\"scattergeo\":[{\"marker\":{\"colorbar\":{\"outlinewidth\":0,\"ticks\":\"\"}},\"type\":\"scattergeo\"}],\"scattergl\":[{\"marker\":{\"colorbar\":{\"outlinewidth\":0,\"ticks\":\"\"}},\"type\":\"scattergl\"}],\"scattermapbox\":[{\"marker\":{\"colorbar\":{\"outlinewidth\":0,\"ticks\":\"\"}},\"type\":\"scattermapbox\"}],\"scatterpolar\":[{\"marker\":{\"colorbar\":{\"outlinewidth\":0,\"ticks\":\"\"}},\"type\":\"scatterpolar\"}],\"scatterpolargl\":[{\"marker\":{\"colorbar\":{\"outlinewidth\":0,\"ticks\":\"\"}},\"type\":\"scatterpolargl\"}],\"scatterternary\":[{\"marker\":{\"colorbar\":{\"outlinewidth\":0,\"ticks\":\"\"}},\"type\":\"scatterternary\"}],\"surface\":[{\"colorbar\":{\"outlinewidth\":0,\"ticks\":\"\"},\"colorscale\":[[0.0,\"#0d0887\"],[0.1111111111111111,\"#46039f\"],[0.2222222222222222,\"#7201a8\"],[0.3333333333333333,\"#9c179e\"],[0.4444444444444444,\"#bd3786\"],[0.5555555555555556,\"#d8576b\"],[0.6666666666666666,\"#ed7953\"],[0.7777777777777778,\"#fb9f3a\"],[0.8888888888888888,\"#fdca26\"],[1.0,\"#f0f921\"]],\"type\":\"surface\"}],\"table\":[{\"cells\":{\"fill\":{\"color\":\"#EBF0F8\"},\"line\":{\"color\":\"white\"}},\"header\":{\"fill\":{\"color\":\"#C8D4E3\"},\"line\":{\"color\":\"white\"}},\"type\":\"table\"}]},\"layout\":{\"annotationdefaults\":{\"arrowcolor\":\"#2a3f5f\",\"arrowhead\":0,\"arrowwidth\":1},\"autotypenumbers\":\"strict\",\"coloraxis\":{\"colorbar\":{\"outlinewidth\":0,\"ticks\":\"\"}},\"colorscale\":{\"diverging\":[[0,\"#8e0152\"],[0.1,\"#c51b7d\"],[0.2,\"#de77ae\"],[0.3,\"#f1b6da\"],[0.4,\"#fde0ef\"],[0.5,\"#f7f7f7\"],[0.6,\"#e6f5d0\"],[0.7,\"#b8e186\"],[0.8,\"#7fbc41\"],[0.9,\"#4d9221\"],[1,\"#276419\"]],\"sequential\":[[0.0,\"#0d0887\"],[0.1111111111111111,\"#46039f\"],[0.2222222222222222,\"#7201a8\"],[0.3333333333333333,\"#9c179e\"],[0.4444444444444444,\"#bd3786\"],[0.5555555555555556,\"#d8576b\"],[0.6666666666666666,\"#ed7953\"],[0.7777777777777778,\"#fb9f3a\"],[0.8888888888888888,\"#fdca26\"],[1.0,\"#f0f921\"]],\"sequentialminus\":[[0.0,\"#0d0887\"],[0.1111111111111111,\"#46039f\"],[0.2222222222222222,\"#7201a8\"],[0.3333333333333333,\"#9c179e\"],[0.4444444444444444,\"#bd3786\"],[0.5555555555555556,\"#d8576b\"],[0.6666666666666666,\"#ed7953\"],[0.7777777777777778,\"#fb9f3a\"],[0.8888888888888888,\"#fdca26\"],[1.0,\"#f0f921\"]]},\"colorway\":[\"#636efa\",\"#EF553B\",\"#00cc96\",\"#ab63fa\",\"#FFA15A\",\"#19d3f3\",\"#FF6692\",\"#B6E880\",\"#FF97FF\",\"#FECB52\"],\"font\":{\"color\":\"#2a3f5f\"},\"geo\":{\"bgcolor\":\"white\",\"lakecolor\":\"white\",\"landcolor\":\"#E5ECF6\",\"showlakes\":true,\"showland\":true,\"subunitcolor\":\"white\"},\"hoverlabel\":{\"align\":\"left\"},\"hovermode\":\"closest\",\"mapbox\":{\"style\":\"light\"},\"paper_bgcolor\":\"white\",\"plot_bgcolor\":\"#E5ECF6\",\"polar\":{\"angularaxis\":{\"gridcolor\":\"white\",\"linecolor\":\"white\",\"ticks\":\"\"},\"bgcolor\":\"#E5ECF6\",\"radialaxis\":{\"gridcolor\":\"white\",\"linecolor\":\"white\",\"ticks\":\"\"}},\"scene\":{\"xaxis\":{\"backgroundcolor\":\"#E5ECF6\",\"gridcolor\":\"white\",\"gridwidth\":2,\"linecolor\":\"white\",\"showbackground\":true,\"ticks\":\"\",\"zerolinecolor\":\"white\"},\"yaxis\":{\"backgroundcolor\":\"#E5ECF6\",\"gridcolor\":\"white\",\"gridwidth\":2,\"linecolor\":\"white\",\"showbackground\":true,\"ticks\":\"\",\"zerolinecolor\":\"white\"},\"zaxis\":{\"backgroundcolor\":\"#E5ECF6\",\"gridcolor\":\"white\",\"gridwidth\":2,\"linecolor\":\"white\",\"showbackground\":true,\"ticks\":\"\",\"zerolinecolor\":\"white\"}},\"shapedefaults\":{\"line\":{\"color\":\"#2a3f5f\"}},\"ternary\":{\"aaxis\":{\"gridcolor\":\"white\",\"linecolor\":\"white\",\"ticks\":\"\"},\"baxis\":{\"gridcolor\":\"white\",\"linecolor\":\"white\",\"ticks\":\"\"},\"bgcolor\":\"#E5ECF6\",\"caxis\":{\"gridcolor\":\"white\",\"linecolor\":\"white\",\"ticks\":\"\"}},\"title\":{\"x\":0.05},\"xaxis\":{\"automargin\":true,\"gridcolor\":\"white\",\"linecolor\":\"white\",\"ticks\":\"\",\"title\":{\"standoff\":15},\"zerolinecolor\":\"white\",\"zerolinewidth\":2},\"yaxis\":{\"automargin\":true,\"gridcolor\":\"white\",\"linecolor\":\"white\",\"ticks\":\"\",\"title\":{\"standoff\":15},\"zerolinecolor\":\"white\",\"zerolinewidth\":2}}},\"xaxis\":{\"anchor\":\"y\",\"domain\":[0.0,1.0],\"title\":{\"text\":\"transmission\"}},\"yaxis\":{\"anchor\":\"x\",\"domain\":[0.0,1.0],\"title\":{\"text\":\"count\"}},\"legend\":{\"tracegroupgap\":0},\"margin\":{\"t\":60},\"barmode\":\"relative\"},                        {\"responsive\": true}                    ).then(function(){\n",
              "                            \n",
              "var gd = document.getElementById('f38d7c67-a11d-4db3-9b61-1dcb80ddb8cb');\n",
              "var x = new MutationObserver(function (mutations, observer) {{\n",
              "        var display = window.getComputedStyle(gd).display;\n",
              "        if (!display || display === 'none') {{\n",
              "            console.log([gd, 'removed!']);\n",
              "            Plotly.purge(gd);\n",
              "            observer.disconnect();\n",
              "        }}\n",
              "}});\n",
              "\n",
              "// Listen for the removal of the full notebook cells\n",
              "var notebookContainer = gd.closest('#notebook-container');\n",
              "if (notebookContainer) {{\n",
              "    x.observe(notebookContainer, {childList: true});\n",
              "}}\n",
              "\n",
              "// Listen for the clearing of the current output cell\n",
              "var outputEl = gd.closest('.output');\n",
              "if (outputEl) {{\n",
              "    x.observe(outputEl, {childList: true});\n",
              "}}\n",
              "\n",
              "                        })                };                            </script>        </div>\n",
              "</body>\n",
              "</html>"
            ]
          },
          "metadata": {}
        }
      ]
    },
    {
      "cell_type": "code",
      "source": [
        "fig = px.histogram(df, 'owner')\n",
        "fig.show()"
      ],
      "metadata": {
        "colab": {
          "base_uri": "https://localhost:8080/",
          "height": 542
        },
        "id": "HtaCI5rBp2IQ",
        "outputId": "1a158c39-a6b1-47e3-b852-d95034de6f16"
      },
      "execution_count": null,
      "outputs": [
        {
          "output_type": "display_data",
          "data": {
            "text/html": [
              "<html>\n",
              "<head><meta charset=\"utf-8\" /></head>\n",
              "<body>\n",
              "    <div>            <script src=\"https://cdnjs.cloudflare.com/ajax/libs/mathjax/2.7.5/MathJax.js?config=TeX-AMS-MML_SVG\"></script><script type=\"text/javascript\">if (window.MathJax) {MathJax.Hub.Config({SVG: {font: \"STIX-Web\"}});}</script>                <script type=\"text/javascript\">window.PlotlyConfig = {MathJaxConfig: 'local'};</script>\n",
              "        <script src=\"https://cdn.plot.ly/plotly-2.8.3.min.js\"></script>                <div id=\"808ebf16-9926-4607-82fb-cd6b64f267db\" class=\"plotly-graph-div\" style=\"height:525px; width:100%;\"></div>            <script type=\"text/javascript\">                                    window.PLOTLYENV=window.PLOTLYENV || {};                                    if (document.getElementById(\"808ebf16-9926-4607-82fb-cd6b64f267db\")) {                    Plotly.newPlot(                        \"808ebf16-9926-4607-82fb-cd6b64f267db\",                        [{\"alignmentgroup\":\"True\",\"bingroup\":\"x\",\"hovertemplate\":\"owner=%{x}<br>count=%{y}<extra></extra>\",\"legendgroup\":\"\",\"marker\":{\"color\":\"#636efa\",\"pattern\":{\"shape\":\"\"}},\"name\":\"\",\"offsetgroup\":\"\",\"orientation\":\"v\",\"showlegend\":false,\"x\":[\"First Owner\",\"First Owner\",\"First Owner\",\"First Owner\",\"Second Owner\",\"First Owner\",\"First Owner\",\"Second Owner\",\"First Owner\",\"First Owner\",\"First Owner\",\"First Owner\",\"First Owner\",\"First Owner\",\"First Owner\",\"First Owner\",\"First Owner\",\"Second Owner\",\"First Owner\",\"First Owner\",\"Second Owner\",\"First Owner\",\"First Owner\",\"First Owner\",\"First Owner\",\"First Owner\",\"First Owner\",\"First Owner\",\"Second Owner\",\"First Owner\",\"First Owner\",\"First Owner\",\"First Owner\",\"First Owner\",\"First Owner\",\"First Owner\",\"Second Owner\",\"Second Owner\",\"First Owner\",\"First Owner\",\"First Owner\",\"First Owner\",\"Fourth & Above Owner\",\"Second Owner\",\"Third Owner\",\"First Owner\",\"First Owner\",\"Second Owner\",\"Second Owner\",\"Second Owner\",\"Second Owner\",\"Third Owner\",\"First Owner\",\"First Owner\",\"First Owner\",\"First Owner\",\"First Owner\",\"First Owner\",\"First Owner\",\"First Owner\",\"Second Owner\",\"Second Owner\",\"First Owner\",\"First Owner\",\"First Owner\",\"Second Owner\",\"First Owner\",\"Second Owner\",\"First Owner\",\"Second Owner\",\"First Owner\",\"First Owner\",\"First Owner\",\"First Owner\",\"Third Owner\",\"Fourth & Above Owner\",\"Third Owner\",\"First Owner\",\"First Owner\",\"Second Owner\",\"Second Owner\",\"Second Owner\",\"Third Owner\",\"Second Owner\",\"First Owner\",\"First Owner\",\"First Owner\",\"First Owner\",\"First Owner\",\"First Owner\",\"First Owner\",\"First Owner\",\"Second Owner\",\"First Owner\",\"Second Owner\",\"Second Owner\",\"First Owner\",\"Second Owner\",\"First Owner\",\"First Owner\",\"First Owner\",\"First Owner\",\"First Owner\",\"First Owner\",\"First Owner\",\"First Owner\",\"First Owner\",\"First Owner\",\"First Owner\",\"First Owner\",\"First Owner\",\"First Owner\",\"First Owner\",\"Fourth & Above Owner\",\"Third Owner\",\"First Owner\",\"First Owner\",\"Second Owner\",\"First Owner\",\"Second Owner\",\"Second Owner\",\"Second Owner\",\"Second Owner\",\"First Owner\",\"First Owner\",\"Fourth & Above Owner\",\"Second Owner\",\"First Owner\",\"Second Owner\",\"Second Owner\",\"First Owner\",\"Second Owner\",\"Third Owner\",\"First Owner\",\"First Owner\",\"First Owner\",\"First Owner\",\"Fourth & Above Owner\",\"First Owner\",\"First Owner\",\"First Owner\",\"First Owner\",\"First Owner\",\"First Owner\",\"Second Owner\",\"First Owner\",\"First Owner\",\"First Owner\",\"First Owner\",\"First Owner\",\"First Owner\",\"Second Owner\",\"First Owner\",\"Second Owner\",\"First Owner\",\"First Owner\",\"First Owner\",\"First Owner\",\"First Owner\",\"First Owner\",\"Third Owner\",\"First Owner\",\"First Owner\",\"Second Owner\",\"Second Owner\",\"First Owner\",\"First Owner\",\"Second Owner\",\"First Owner\",\"Third Owner\",\"Third Owner\",\"Second Owner\",\"Second Owner\",\"Third Owner\",\"First Owner\",\"Second Owner\",\"First Owner\",\"Second Owner\",\"First Owner\",\"First Owner\",\"First Owner\",\"First Owner\",\"First Owner\",\"Second Owner\",\"Second Owner\",\"First Owner\",\"First Owner\",\"Second Owner\",\"First Owner\",\"First Owner\",\"Second Owner\",\"First Owner\",\"First Owner\",\"Second Owner\",\"Third Owner\",\"Third Owner\",\"Third Owner\",\"Third Owner\",\"Third Owner\",\"First Owner\",\"Third Owner\",\"First Owner\",\"First Owner\",\"Second Owner\",\"First Owner\",\"First Owner\",\"First Owner\",\"First Owner\",\"First Owner\",\"First Owner\",\"First Owner\",\"First Owner\",\"First Owner\",\"First Owner\",\"Second Owner\",\"First Owner\",\"First Owner\",\"First Owner\",\"First Owner\",\"First Owner\",\"First Owner\",\"Third Owner\",\"Second Owner\",\"Second Owner\",\"Second Owner\",\"First Owner\",\"First Owner\",\"First Owner\",\"First Owner\",\"Second Owner\",\"First Owner\",\"First Owner\",\"Second Owner\",\"Second Owner\",\"Second Owner\",\"First Owner\",\"Fourth & Above Owner\",\"First Owner\",\"Second Owner\",\"Second Owner\",\"First Owner\",\"Second Owner\",\"First Owner\",\"Second Owner\",\"First Owner\",\"First Owner\",\"First Owner\",\"Second Owner\",\"First Owner\",\"First Owner\",\"First Owner\",\"First Owner\",\"Third Owner\",\"First Owner\",\"First Owner\",\"First Owner\",\"First Owner\",\"Second Owner\",\"First Owner\",\"Second Owner\",\"First Owner\",\"First Owner\",\"First Owner\",\"Second Owner\",\"First Owner\",\"First Owner\",\"First Owner\",\"First Owner\",\"Second Owner\",\"First Owner\",\"Second Owner\",\"Third Owner\",\"First Owner\",\"First Owner\",\"Second Owner\",\"Second Owner\",\"First Owner\",\"First Owner\",\"Second Owner\",\"First Owner\",\"First Owner\",\"Second Owner\",\"First Owner\",\"First Owner\",\"Second Owner\",\"First Owner\",\"Second Owner\",\"Second Owner\",\"Second Owner\",\"First Owner\",\"First Owner\",\"First Owner\",\"First Owner\",\"First Owner\",\"First Owner\",\"First Owner\",\"First Owner\",\"First Owner\",\"First Owner\",\"First Owner\",\"First Owner\",\"First Owner\",\"First Owner\",\"First Owner\",\"First Owner\",\"First Owner\",\"First Owner\",\"First Owner\",\"First Owner\",\"First Owner\",\"Second Owner\",\"First Owner\",\"First Owner\",\"Second Owner\",\"First Owner\",\"Second Owner\",\"First Owner\",\"First Owner\",\"First Owner\",\"First Owner\",\"First Owner\",\"First Owner\",\"Third Owner\",\"First Owner\",\"First Owner\",\"First Owner\",\"First Owner\",\"First Owner\",\"Second Owner\",\"Second Owner\",\"Third Owner\",\"Second Owner\",\"Third Owner\",\"Third Owner\",\"Second Owner\",\"First Owner\",\"Second Owner\",\"First Owner\",\"Second Owner\",\"Second Owner\",\"Fourth & Above Owner\",\"First Owner\",\"First Owner\",\"First Owner\",\"Third Owner\",\"First Owner\",\"First Owner\",\"Second Owner\",\"First Owner\",\"First Owner\",\"First Owner\",\"First Owner\",\"First Owner\",\"First Owner\",\"Second Owner\",\"First Owner\",\"First Owner\",\"First Owner\",\"First Owner\",\"Second Owner\",\"Second Owner\",\"Second Owner\",\"First Owner\",\"Second Owner\",\"First Owner\",\"First Owner\",\"First Owner\",\"First Owner\",\"First Owner\",\"First Owner\",\"First Owner\",\"First Owner\",\"Third Owner\",\"Third Owner\",\"Third Owner\",\"First Owner\",\"Second Owner\",\"First Owner\",\"First Owner\",\"First Owner\",\"First Owner\",\"Third Owner\",\"Second Owner\",\"First Owner\",\"Second Owner\",\"First Owner\",\"First Owner\",\"First Owner\",\"Second Owner\",\"Second Owner\",\"Second Owner\",\"Second Owner\",\"First Owner\",\"First Owner\",\"Second Owner\",\"First Owner\",\"Second Owner\",\"First Owner\",\"First Owner\",\"First Owner\",\"First Owner\",\"Third Owner\",\"Second Owner\",\"Third Owner\",\"Third Owner\",\"First Owner\",\"First Owner\",\"First Owner\",\"Second Owner\",\"Third Owner\",\"First Owner\",\"First Owner\",\"First Owner\",\"Second Owner\",\"Second Owner\",\"First Owner\",\"Second Owner\",\"First Owner\",\"First Owner\",\"Second Owner\",\"First Owner\",\"First Owner\",\"Second Owner\",\"First Owner\",\"Third Owner\",\"First Owner\",\"Second Owner\",\"Second Owner\",\"Second Owner\",\"First Owner\",\"First Owner\",\"Second Owner\",\"Second Owner\",\"Second Owner\",\"Second Owner\",\"First Owner\",\"First Owner\",\"Second Owner\",\"First Owner\",\"Third Owner\",\"First Owner\",\"Second Owner\",\"First Owner\",\"First Owner\",\"First Owner\",\"Second Owner\",\"Second Owner\",\"Second Owner\",\"First Owner\",\"First Owner\",\"First Owner\",\"Second Owner\",\"First Owner\",\"First Owner\",\"First Owner\",\"Third Owner\",\"First Owner\",\"Second Owner\",\"First Owner\",\"First Owner\",\"First Owner\",\"First Owner\",\"First Owner\",\"Second Owner\",\"Second Owner\",\"First Owner\",\"First Owner\",\"First Owner\",\"First Owner\",\"First Owner\",\"Second Owner\",\"First Owner\",\"First Owner\",\"First Owner\",\"Second Owner\",\"Second Owner\",\"Second Owner\",\"Second Owner\",\"Second Owner\",\"Second Owner\",\"Second Owner\",\"First Owner\",\"First Owner\",\"First Owner\",\"First Owner\",\"Second Owner\",\"Second Owner\",\"First Owner\",\"First Owner\",\"First Owner\",\"First Owner\",\"First Owner\",\"Second Owner\",\"First Owner\",\"Third Owner\",\"First Owner\",\"First Owner\",\"First Owner\",\"First Owner\",\"First Owner\",\"First Owner\",\"First Owner\",\"First Owner\",\"First Owner\",\"First Owner\",\"Second Owner\",\"Second Owner\",\"Second Owner\",\"Second Owner\",\"Second Owner\",\"First Owner\",\"First Owner\",\"Third Owner\",\"Second Owner\",\"First Owner\",\"First Owner\",\"First Owner\",\"First Owner\",\"First Owner\",\"First Owner\",\"First Owner\",\"First Owner\",\"First Owner\",\"First Owner\",\"First Owner\",\"First Owner\",\"First Owner\",\"First Owner\",\"First Owner\",\"First Owner\",\"First Owner\",\"First Owner\",\"First Owner\",\"First Owner\",\"First Owner\",\"Second Owner\",\"Second Owner\",\"First Owner\",\"First Owner\",\"Second Owner\",\"First Owner\",\"First Owner\",\"First Owner\",\"Second Owner\",\"First Owner\",\"Second Owner\",\"First Owner\",\"First Owner\",\"Second Owner\",\"First Owner\",\"Second Owner\",\"First Owner\",\"Second Owner\",\"First Owner\",\"First Owner\",\"First Owner\",\"First Owner\",\"Second Owner\",\"First Owner\",\"First Owner\",\"First Owner\",\"First Owner\",\"First Owner\",\"First Owner\",\"First Owner\",\"First Owner\",\"First Owner\",\"First Owner\",\"First Owner\",\"First Owner\",\"First Owner\",\"Second Owner\",\"First Owner\",\"First Owner\",\"First Owner\",\"First Owner\",\"Second Owner\",\"First Owner\",\"First Owner\",\"First Owner\",\"First Owner\",\"First Owner\",\"First Owner\",\"First Owner\",\"First Owner\",\"First Owner\",\"First Owner\",\"First Owner\",\"First Owner\",\"First Owner\",\"Second Owner\",\"First Owner\",\"First Owner\",\"First Owner\",\"First Owner\",\"Second Owner\",\"First Owner\",\"First Owner\",\"First Owner\",\"First Owner\",\"First Owner\",\"First Owner\",\"First Owner\",\"First Owner\",\"First Owner\",\"First Owner\",\"First Owner\",\"First Owner\",\"First Owner\",\"Second Owner\",\"First Owner\",\"First Owner\",\"First Owner\",\"First Owner\",\"Second Owner\",\"First Owner\",\"First Owner\",\"First Owner\",\"First Owner\",\"First Owner\",\"First Owner\",\"First Owner\",\"First Owner\",\"First Owner\",\"First Owner\",\"First Owner\",\"First Owner\",\"First Owner\",\"Second Owner\",\"First Owner\",\"Second Owner\",\"Second Owner\",\"First Owner\",\"Second Owner\",\"First Owner\",\"First Owner\",\"Second Owner\",\"First Owner\",\"First Owner\",\"First Owner\",\"First Owner\",\"Second Owner\",\"Second Owner\",\"First Owner\",\"First Owner\",\"First Owner\",\"First Owner\",\"Second Owner\",\"Third Owner\",\"First Owner\",\"First Owner\",\"First Owner\",\"First Owner\",\"First Owner\",\"First Owner\",\"First Owner\",\"First Owner\",\"First Owner\",\"First Owner\",\"Fourth & Above Owner\",\"Second Owner\",\"First Owner\",\"First Owner\",\"First Owner\",\"Third Owner\",\"Third Owner\",\"Fourth & Above Owner\",\"First Owner\",\"First Owner\",\"First Owner\",\"Second Owner\",\"Third Owner\",\"Second Owner\",\"Fourth & Above Owner\",\"Second Owner\",\"First Owner\",\"First Owner\",\"First Owner\",\"First Owner\",\"First Owner\",\"First Owner\",\"First Owner\",\"First Owner\",\"First Owner\",\"First Owner\",\"First Owner\",\"First Owner\",\"First Owner\",\"Second Owner\",\"Second Owner\",\"First Owner\",\"First Owner\",\"Third Owner\",\"Second Owner\",\"First Owner\",\"First Owner\",\"Third Owner\",\"First Owner\",\"First Owner\",\"Second Owner\",\"First Owner\",\"First Owner\",\"First Owner\",\"Second Owner\",\"Second Owner\",\"Second Owner\",\"Third Owner\",\"First Owner\",\"First Owner\",\"First Owner\",\"First Owner\",\"First Owner\",\"First Owner\",\"First Owner\",\"First Owner\",\"First Owner\",\"First Owner\",\"First Owner\",\"First Owner\",\"First Owner\",\"First Owner\",\"First Owner\",\"First Owner\",\"First Owner\",\"First Owner\",\"First Owner\",\"Second Owner\",\"Second Owner\",\"Second Owner\",\"Third Owner\",\"First Owner\",\"First Owner\",\"Second Owner\",\"First Owner\",\"First Owner\",\"First Owner\",\"Third Owner\",\"Second Owner\",\"First Owner\",\"First Owner\",\"Second Owner\",\"First Owner\",\"First Owner\",\"First Owner\",\"First Owner\",\"First Owner\",\"First Owner\",\"First Owner\",\"First Owner\",\"First Owner\",\"First Owner\",\"First Owner\",\"First Owner\",\"First Owner\",\"Second Owner\",\"First Owner\",\"Second Owner\",\"First Owner\",\"First Owner\",\"First Owner\",\"First Owner\",\"Second Owner\",\"First Owner\",\"First Owner\",\"First Owner\",\"First Owner\",\"Second Owner\",\"First Owner\",\"First Owner\",\"First Owner\",\"First Owner\",\"First Owner\",\"First Owner\",\"First Owner\",\"First Owner\",\"First Owner\",\"First Owner\",\"First Owner\",\"First Owner\",\"Second Owner\",\"First Owner\",\"First Owner\",\"Third Owner\",\"Second Owner\",\"Second Owner\",\"Second Owner\",\"Second Owner\",\"Second Owner\",\"Second Owner\",\"First Owner\",\"First Owner\",\"First Owner\",\"First Owner\",\"First Owner\",\"First Owner\",\"Second Owner\",\"First Owner\",\"First Owner\",\"First Owner\",\"First Owner\",\"First Owner\",\"First Owner\",\"First Owner\",\"First Owner\",\"First Owner\",\"First Owner\",\"First Owner\",\"Second Owner\",\"First Owner\",\"First Owner\",\"First Owner\",\"Second Owner\",\"First Owner\",\"Second Owner\",\"First Owner\",\"First Owner\",\"Third Owner\",\"Third Owner\",\"Fourth & Above Owner\",\"First Owner\",\"Second Owner\",\"First Owner\",\"Third Owner\",\"First Owner\",\"Second Owner\",\"Second Owner\",\"Third Owner\",\"First Owner\",\"First Owner\",\"First Owner\",\"First Owner\",\"First Owner\",\"First Owner\",\"First Owner\",\"First Owner\",\"First Owner\",\"Second Owner\",\"Second Owner\",\"First Owner\",\"First Owner\",\"First Owner\",\"Second Owner\",\"Second Owner\",\"First Owner\",\"First Owner\",\"First Owner\",\"First Owner\",\"First Owner\",\"Second Owner\",\"Second Owner\",\"Second Owner\",\"Third Owner\",\"First Owner\",\"Third Owner\",\"First Owner\",\"Second Owner\",\"First Owner\",\"First Owner\",\"First Owner\",\"First Owner\",\"First Owner\",\"Second Owner\",\"First Owner\",\"Third Owner\",\"Third Owner\",\"Second Owner\",\"First Owner\",\"First Owner\",\"Third Owner\",\"First Owner\",\"First Owner\",\"Second Owner\",\"First Owner\",\"First Owner\",\"First Owner\",\"First Owner\",\"Second Owner\",\"First Owner\",\"Third Owner\",\"Second Owner\",\"Second Owner\",\"Second Owner\",\"First Owner\",\"Second Owner\",\"First Owner\",\"First Owner\",\"First Owner\",\"First Owner\",\"First Owner\",\"First Owner\",\"First Owner\",\"First Owner\",\"Second Owner\",\"Second Owner\",\"First Owner\",\"Second Owner\",\"Second Owner\",\"Second Owner\",\"First Owner\",\"First Owner\",\"First Owner\",\"First Owner\",\"Second Owner\",\"First Owner\",\"First Owner\",\"First Owner\",\"First Owner\",\"First Owner\",\"First Owner\",\"First Owner\",\"First Owner\",\"First Owner\",\"First Owner\",\"First Owner\",\"First Owner\",\"First Owner\",\"Second Owner\",\"First Owner\",\"First Owner\",\"First Owner\",\"First Owner\",\"Second Owner\",\"First Owner\",\"First Owner\",\"First Owner\",\"First Owner\",\"First Owner\",\"First Owner\",\"First Owner\",\"First Owner\",\"First Owner\",\"First Owner\",\"First Owner\",\"First Owner\",\"First Owner\",\"First Owner\",\"First Owner\",\"First Owner\",\"First Owner\",\"First Owner\",\"First Owner\",\"First Owner\",\"First Owner\",\"First Owner\",\"First Owner\",\"First Owner\",\"First Owner\",\"First Owner\",\"First Owner\",\"First Owner\",\"First Owner\",\"First Owner\",\"First Owner\",\"First Owner\",\"First Owner\",\"Fourth & Above Owner\",\"First Owner\",\"Fourth & Above Owner\",\"Second Owner\",\"First Owner\",\"First Owner\",\"First Owner\",\"First Owner\",\"First Owner\",\"First Owner\",\"First Owner\",\"Second Owner\",\"First Owner\",\"First Owner\",\"First Owner\",\"Second Owner\",\"First Owner\",\"First Owner\",\"First Owner\",\"First Owner\",\"First Owner\",\"First Owner\",\"First Owner\",\"First Owner\",\"First Owner\",\"First Owner\",\"First Owner\",\"First Owner\",\"Third Owner\",\"First Owner\",\"First Owner\",\"Fourth & Above Owner\",\"First Owner\",\"First Owner\",\"First Owner\",\"Second Owner\",\"First Owner\",\"First Owner\",\"First Owner\",\"Second Owner\",\"Second Owner\",\"Third Owner\",\"Second Owner\",\"First Owner\",\"First Owner\",\"First Owner\",\"First Owner\",\"First Owner\",\"First Owner\",\"First Owner\",\"First Owner\",\"First Owner\",\"Second Owner\",\"First Owner\",\"First Owner\",\"First Owner\",\"Second Owner\",\"First Owner\",\"First Owner\",\"First Owner\",\"First Owner\",\"Second Owner\",\"First Owner\",\"First Owner\",\"Second Owner\",\"First Owner\",\"First Owner\",\"First Owner\",\"First Owner\",\"First Owner\",\"First Owner\",\"First Owner\",\"First Owner\",\"First Owner\",\"First Owner\",\"First Owner\",\"First Owner\",\"First Owner\",\"First Owner\",\"First Owner\",\"First Owner\",\"First Owner\",\"First Owner\",\"First Owner\",\"First Owner\",\"Fourth & Above Owner\",\"Third Owner\",\"First Owner\",\"Second Owner\",\"Second Owner\",\"First Owner\",\"Second Owner\",\"Second Owner\",\"Second Owner\",\"First Owner\",\"First Owner\",\"First Owner\",\"First Owner\",\"Fourth & Above Owner\",\"Second Owner\",\"Second Owner\",\"Third Owner\",\"Third Owner\",\"First Owner\",\"First Owner\",\"First Owner\",\"First Owner\",\"First Owner\",\"First Owner\",\"First Owner\",\"First Owner\",\"First Owner\",\"Third Owner\",\"First Owner\",\"First Owner\",\"First Owner\",\"First Owner\",\"Second Owner\",\"First Owner\",\"First Owner\",\"First Owner\",\"First Owner\",\"First Owner\",\"First Owner\",\"Second Owner\",\"First Owner\",\"First Owner\",\"Second Owner\",\"First Owner\",\"First Owner\",\"First Owner\",\"First Owner\",\"First Owner\",\"First Owner\",\"First Owner\",\"First Owner\",\"First Owner\",\"First Owner\",\"First Owner\",\"First Owner\",\"First Owner\",\"First Owner\",\"First Owner\",\"First Owner\",\"First Owner\",\"First Owner\",\"Second Owner\",\"Third Owner\",\"First Owner\",\"First Owner\",\"Second Owner\",\"First Owner\",\"First Owner\",\"First Owner\",\"First Owner\",\"Third Owner\",\"First Owner\",\"First Owner\",\"Second Owner\",\"First Owner\",\"First Owner\",\"First Owner\",\"First Owner\",\"First Owner\",\"First Owner\",\"Third Owner\",\"First Owner\",\"First Owner\",\"Second Owner\",\"First Owner\",\"First Owner\",\"Second Owner\",\"Second Owner\",\"First Owner\",\"Second Owner\",\"Second Owner\",\"Second Owner\",\"First Owner\",\"First Owner\",\"Second Owner\",\"Second Owner\",\"Third Owner\",\"First Owner\",\"Second Owner\",\"Fourth & Above Owner\",\"Second Owner\",\"Fourth & Above Owner\",\"First Owner\",\"First Owner\",\"First Owner\",\"Second Owner\",\"First Owner\",\"First Owner\",\"First Owner\",\"First Owner\",\"First Owner\",\"First Owner\",\"First Owner\",\"First Owner\",\"First Owner\",\"First Owner\",\"First Owner\",\"First Owner\",\"Second Owner\",\"First Owner\",\"First Owner\",\"Second Owner\",\"First Owner\",\"Second Owner\",\"First Owner\",\"Second Owner\",\"Second Owner\",\"Fourth & Above Owner\",\"Second Owner\",\"Second Owner\",\"First Owner\",\"First Owner\",\"First Owner\",\"Second Owner\",\"Second Owner\",\"First Owner\",\"First Owner\",\"Third Owner\",\"First Owner\",\"First Owner\",\"First Owner\",\"Third Owner\",\"Second Owner\",\"Second Owner\",\"Fourth & Above Owner\",\"Second Owner\",\"First Owner\",\"Second Owner\",\"First Owner\",\"First Owner\",\"First Owner\",\"First Owner\",\"Second Owner\",\"Second Owner\",\"First Owner\",\"First Owner\",\"First Owner\",\"First Owner\",\"First Owner\",\"Second Owner\",\"First Owner\",\"Second Owner\",\"First Owner\",\"First Owner\",\"First Owner\",\"Second Owner\",\"Second Owner\",\"Second Owner\",\"Second Owner\",\"Third Owner\",\"First Owner\",\"Second Owner\",\"First Owner\",\"First Owner\",\"First Owner\",\"Fourth & Above Owner\",\"First Owner\",\"First Owner\",\"Second Owner\",\"First Owner\",\"Third Owner\",\"First Owner\",\"First Owner\",\"First Owner\",\"First Owner\",\"Third Owner\",\"First Owner\",\"Second Owner\",\"Second Owner\",\"First Owner\",\"First Owner\",\"Third Owner\",\"First Owner\",\"First Owner\",\"First Owner\",\"Second Owner\",\"First Owner\",\"First Owner\",\"First Owner\",\"First Owner\",\"First Owner\",\"First Owner\",\"First Owner\",\"First Owner\",\"First Owner\",\"First Owner\",\"Second Owner\",\"Second Owner\",\"Second Owner\",\"First Owner\",\"Second Owner\",\"Third Owner\",\"First Owner\",\"First Owner\",\"First Owner\",\"Second Owner\",\"Second Owner\",\"First Owner\",\"First Owner\",\"Second Owner\",\"First Owner\",\"First Owner\",\"First Owner\",\"Second Owner\",\"First Owner\",\"First Owner\",\"Second Owner\",\"First Owner\",\"First Owner\",\"First Owner\",\"First Owner\",\"First Owner\",\"First Owner\",\"Second Owner\",\"Second Owner\",\"Second Owner\",\"First Owner\",\"First Owner\",\"First Owner\",\"Second Owner\",\"First Owner\",\"First Owner\",\"First Owner\",\"First Owner\",\"Second Owner\",\"First Owner\",\"First Owner\",\"Second Owner\",\"First Owner\",\"First Owner\",\"First Owner\",\"First Owner\",\"Second Owner\",\"First Owner\",\"Second Owner\",\"First Owner\",\"Third Owner\",\"Third Owner\",\"Fourth & Above Owner\",\"Second Owner\",\"Second Owner\",\"Second Owner\",\"First Owner\",\"First Owner\",\"Second Owner\",\"Second Owner\",\"First Owner\",\"Second Owner\",\"Second Owner\",\"Second Owner\",\"Second Owner\",\"First Owner\",\"Second Owner\",\"First Owner\",\"Fourth & Above Owner\",\"Second Owner\",\"Second Owner\",\"Second Owner\",\"First Owner\",\"Second Owner\",\"First Owner\",\"Second Owner\",\"Second Owner\",\"Second Owner\",\"First Owner\",\"First Owner\",\"Second Owner\",\"First Owner\",\"Second Owner\",\"First Owner\",\"Second Owner\",\"First Owner\",\"First Owner\",\"First Owner\",\"Third Owner\",\"First Owner\",\"First Owner\",\"First Owner\",\"Third Owner\",\"First Owner\",\"First Owner\",\"First Owner\",\"Third Owner\",\"Second Owner\",\"First Owner\",\"Second Owner\",\"Second Owner\",\"Second Owner\",\"Second Owner\",\"Second Owner\",\"First Owner\",\"First Owner\",\"First Owner\",\"Second Owner\",\"Second Owner\",\"Second Owner\",\"Second Owner\",\"First Owner\",\"First Owner\",\"First Owner\",\"First Owner\",\"Second Owner\",\"Third Owner\",\"Second Owner\",\"Second Owner\",\"Second Owner\",\"Second Owner\",\"First Owner\",\"Third Owner\",\"Second Owner\",\"Second Owner\",\"Second Owner\",\"First Owner\",\"First Owner\",\"First Owner\",\"Second Owner\",\"First Owner\",\"Second Owner\",\"First Owner\",\"Third Owner\",\"Second Owner\",\"First Owner\",\"Second Owner\",\"Second Owner\",\"First Owner\",\"First Owner\",\"First Owner\",\"First Owner\",\"First Owner\",\"First Owner\",\"First Owner\",\"First Owner\",\"First Owner\",\"First Owner\",\"Second Owner\",\"First Owner\",\"First Owner\",\"Second Owner\",\"Second Owner\",\"First Owner\",\"Third Owner\",\"First Owner\",\"First Owner\",\"Second Owner\",\"First Owner\",\"Second Owner\",\"First Owner\",\"First Owner\",\"First Owner\",\"First Owner\",\"Third Owner\",\"First Owner\",\"First Owner\",\"First Owner\",\"First Owner\",\"First Owner\",\"Second Owner\",\"Second Owner\",\"Second Owner\",\"First Owner\",\"Third Owner\",\"First Owner\",\"First Owner\",\"Second Owner\",\"Second Owner\",\"Second Owner\",\"Third Owner\",\"Second Owner\",\"First Owner\",\"Second Owner\",\"Second Owner\",\"First Owner\",\"First Owner\",\"Fourth & Above Owner\",\"First Owner\",\"First Owner\",\"First Owner\",\"First Owner\",\"Third Owner\",\"First Owner\",\"First Owner\",\"First Owner\",\"Third Owner\",\"Fourth & Above Owner\",\"First Owner\",\"Fourth & Above Owner\",\"Second Owner\",\"Second Owner\",\"First Owner\",\"First Owner\",\"First Owner\",\"First Owner\",\"Second Owner\",\"First Owner\",\"Second Owner\",\"Second Owner\",\"First Owner\",\"First Owner\",\"Second Owner\",\"First Owner\",\"Second Owner\",\"First Owner\",\"Second Owner\",\"First Owner\",\"First Owner\",\"First Owner\",\"First Owner\",\"First Owner\",\"Second Owner\",\"First Owner\",\"First Owner\",\"First Owner\",\"First Owner\",\"First Owner\",\"First Owner\",\"First Owner\",\"First Owner\",\"First Owner\",\"First Owner\",\"First Owner\",\"First Owner\",\"Second Owner\",\"Fourth & Above Owner\",\"Second Owner\",\"Third Owner\",\"Third Owner\",\"Second Owner\",\"First Owner\",\"Second Owner\",\"First Owner\",\"First Owner\",\"First Owner\",\"Second Owner\",\"Second Owner\",\"Second Owner\",\"Third Owner\",\"Second Owner\",\"Second Owner\",\"First Owner\",\"First Owner\",\"Second Owner\",\"Second Owner\",\"Second Owner\",\"Second Owner\",\"Second Owner\",\"First Owner\",\"First Owner\",\"Second Owner\",\"Second Owner\",\"Second Owner\",\"First Owner\",\"First Owner\",\"Second Owner\",\"Second Owner\",\"Second Owner\",\"Second Owner\",\"First Owner\",\"First Owner\",\"First Owner\",\"First Owner\",\"First Owner\",\"First Owner\",\"First Owner\",\"First Owner\",\"First Owner\",\"First Owner\",\"First Owner\",\"First Owner\",\"First Owner\",\"First Owner\",\"First Owner\",\"Fourth & Above Owner\",\"Second Owner\",\"First Owner\",\"First Owner\",\"First Owner\",\"First Owner\",\"First Owner\",\"Second Owner\",\"Second Owner\",\"Third Owner\",\"First Owner\",\"First Owner\",\"First Owner\",\"First Owner\",\"First Owner\",\"First Owner\",\"First Owner\",\"First Owner\",\"Third Owner\",\"Second Owner\",\"First Owner\",\"Second Owner\",\"First Owner\",\"Second Owner\",\"First Owner\",\"First Owner\",\"Fourth & Above Owner\",\"First Owner\",\"Second Owner\",\"Third Owner\",\"First Owner\",\"Second Owner\",\"Second Owner\",\"First Owner\",\"Second Owner\",\"First Owner\",\"First Owner\",\"Fourth & Above Owner\",\"Second Owner\",\"First Owner\",\"First Owner\",\"Third Owner\",\"Third Owner\",\"First Owner\",\"First Owner\",\"First Owner\",\"First Owner\",\"Third Owner\",\"Second Owner\",\"Second Owner\",\"Second Owner\",\"Second Owner\",\"Third Owner\",\"Third Owner\",\"First Owner\",\"Second Owner\",\"First Owner\",\"Second Owner\",\"Second Owner\",\"First Owner\",\"First Owner\",\"First Owner\",\"First Owner\",\"Second Owner\",\"Fourth & Above Owner\",\"Third Owner\",\"First Owner\",\"Fourth & Above Owner\",\"Second Owner\",\"First Owner\",\"First Owner\",\"First Owner\",\"First Owner\",\"First Owner\",\"First Owner\",\"First Owner\",\"First Owner\",\"Fourth & Above Owner\",\"First Owner\",\"First Owner\",\"First Owner\",\"Second Owner\",\"Second Owner\",\"First Owner\",\"First Owner\",\"First Owner\",\"First Owner\",\"First Owner\",\"First Owner\",\"First Owner\",\"First Owner\",\"First Owner\",\"First Owner\",\"First Owner\",\"First Owner\",\"First Owner\",\"First Owner\",\"First Owner\",\"Second Owner\",\"First Owner\",\"First Owner\",\"First Owner\",\"Fourth & Above Owner\",\"Second Owner\",\"Third Owner\",\"First Owner\",\"Third Owner\",\"Second Owner\",\"First Owner\",\"Second Owner\",\"First Owner\",\"Second Owner\",\"First Owner\",\"First Owner\",\"Second Owner\",\"First Owner\",\"First Owner\",\"First Owner\",\"First Owner\",\"First Owner\",\"First Owner\",\"First Owner\",\"First Owner\",\"First Owner\",\"First Owner\",\"First Owner\",\"First Owner\",\"First Owner\",\"First Owner\",\"First Owner\",\"First Owner\",\"First Owner\",\"First Owner\",\"Second Owner\",\"First Owner\",\"Second Owner\",\"Second Owner\",\"First Owner\",\"Third Owner\",\"First Owner\",\"First Owner\",\"Second Owner\",\"Second Owner\",\"Third Owner\",\"First Owner\",\"First Owner\",\"First Owner\",\"First Owner\",\"Second Owner\",\"First Owner\",\"Second Owner\",\"First Owner\",\"Third Owner\",\"Third Owner\",\"Third Owner\",\"First Owner\",\"Third Owner\",\"First Owner\",\"First Owner\",\"First Owner\",\"First Owner\",\"Second Owner\",\"Third Owner\",\"Second Owner\",\"First Owner\",\"First Owner\",\"First Owner\",\"First Owner\",\"Second Owner\",\"First Owner\",\"First Owner\",\"Second Owner\",\"First Owner\",\"First Owner\",\"First Owner\",\"First Owner\",\"First Owner\",\"Second Owner\",\"Second Owner\",\"Second Owner\",\"Second Owner\",\"First Owner\",\"First Owner\",\"Test Drive Car\",\"Test Drive Car\",\"Test Drive Car\",\"First Owner\",\"First Owner\",\"First Owner\",\"First Owner\",\"First Owner\",\"First Owner\",\"First Owner\",\"Third Owner\",\"Second Owner\",\"Fourth & Above Owner\",\"First Owner\",\"First Owner\",\"First Owner\",\"First Owner\",\"Second Owner\",\"Second Owner\",\"Third Owner\",\"First Owner\",\"Second Owner\",\"First Owner\",\"First Owner\",\"Second Owner\",\"First Owner\",\"Second Owner\",\"Second Owner\",\"First Owner\",\"First Owner\",\"First Owner\",\"First Owner\",\"First Owner\",\"First Owner\",\"First Owner\",\"First Owner\",\"First Owner\",\"First Owner\",\"First Owner\",\"First Owner\",\"Second Owner\",\"First Owner\",\"First Owner\",\"First Owner\",\"First Owner\",\"First Owner\",\"First Owner\",\"Second Owner\",\"Second Owner\",\"Second Owner\",\"Third Owner\",\"First Owner\",\"First Owner\",\"First Owner\",\"First Owner\",\"First Owner\",\"First Owner\",\"First Owner\",\"Second Owner\",\"Third Owner\",\"Test Drive Car\",\"Test Drive Car\",\"Test Drive Car\",\"Test Drive Car\",\"Test Drive Car\",\"Test Drive Car\",\"Test Drive Car\",\"Test Drive Car\",\"Second Owner\",\"Third Owner\",\"Second Owner\",\"First Owner\",\"Second Owner\",\"Third Owner\",\"Second Owner\",\"Second Owner\",\"First Owner\",\"Fourth & Above Owner\",\"First Owner\",\"First Owner\",\"First Owner\",\"Test Drive Car\",\"First Owner\",\"Second Owner\",\"First Owner\",\"First Owner\",\"First Owner\",\"First Owner\",\"Second Owner\",\"Second Owner\",\"First Owner\",\"First Owner\",\"Second Owner\",\"Second Owner\",\"Second Owner\",\"Second Owner\",\"Second Owner\",\"Third Owner\",\"Fourth & Above Owner\",\"Second Owner\",\"Fourth & Above Owner\",\"First Owner\",\"Second Owner\",\"First Owner\",\"Third Owner\",\"Third Owner\",\"Second Owner\",\"Second Owner\",\"First Owner\",\"Second Owner\",\"First Owner\",\"Third Owner\",\"First Owner\",\"Third Owner\",\"Second Owner\",\"Third Owner\",\"Fourth & Above Owner\",\"First Owner\",\"Third Owner\",\"Second Owner\",\"First Owner\",\"First Owner\",\"First Owner\",\"First Owner\",\"Second Owner\",\"First Owner\",\"First Owner\",\"First Owner\",\"First Owner\",\"First Owner\",\"First Owner\",\"First Owner\",\"First Owner\",\"First Owner\",\"First Owner\",\"First Owner\",\"First Owner\",\"First Owner\",\"Third Owner\",\"First Owner\",\"First Owner\",\"First Owner\",\"First Owner\",\"First Owner\",\"First Owner\",\"First Owner\",\"Second Owner\",\"Second Owner\",\"First Owner\",\"First Owner\",\"First Owner\",\"Second Owner\",\"Second Owner\",\"Third Owner\",\"Second Owner\",\"First Owner\",\"First Owner\",\"First Owner\",\"First Owner\",\"First Owner\",\"First Owner\",\"First Owner\",\"Second Owner\",\"First Owner\",\"First Owner\",\"First Owner\",\"First Owner\",\"Second Owner\",\"First Owner\",\"Second Owner\",\"First Owner\",\"First Owner\",\"First Owner\",\"First Owner\",\"First Owner\",\"Second Owner\",\"Second Owner\",\"Second Owner\",\"Second Owner\",\"Third Owner\",\"Third Owner\",\"Second Owner\",\"First Owner\",\"First Owner\",\"First Owner\",\"Second Owner\",\"First Owner\",\"Second Owner\",\"First Owner\",\"First Owner\",\"First Owner\",\"First Owner\",\"First Owner\",\"Second Owner\",\"First Owner\",\"First Owner\",\"First Owner\",\"First Owner\",\"First Owner\",\"Second Owner\",\"First Owner\",\"First Owner\",\"First Owner\",\"First Owner\",\"First Owner\",\"Second Owner\",\"Second Owner\",\"Second Owner\",\"Second Owner\",\"Second Owner\",\"First Owner\",\"First Owner\",\"First Owner\",\"First Owner\",\"Second Owner\",\"First Owner\",\"First Owner\",\"First Owner\",\"Second Owner\",\"Fourth & Above Owner\",\"First Owner\",\"Second Owner\",\"Second Owner\",\"Second Owner\",\"First Owner\",\"First Owner\",\"First Owner\",\"Third Owner\",\"Second Owner\",\"Second Owner\",\"Second Owner\",\"First Owner\",\"Second Owner\",\"Second Owner\",\"Third Owner\",\"First Owner\",\"Second Owner\",\"Second Owner\",\"First Owner\",\"First Owner\",\"First Owner\",\"First Owner\",\"Third Owner\",\"First Owner\",\"Second Owner\",\"Third Owner\",\"First Owner\",\"Third Owner\",\"Second Owner\",\"First Owner\",\"First Owner\",\"First Owner\",\"First Owner\",\"First Owner\",\"Third Owner\",\"First Owner\",\"Third Owner\",\"First Owner\",\"Third Owner\",\"First Owner\",\"First Owner\",\"First Owner\",\"First Owner\",\"First Owner\",\"First Owner\",\"First Owner\",\"First Owner\",\"Second Owner\",\"First Owner\",\"First Owner\",\"Second Owner\",\"Second Owner\",\"First Owner\",\"First Owner\",\"First Owner\",\"Second Owner\",\"Second Owner\",\"First Owner\",\"Second Owner\",\"Third Owner\",\"First Owner\",\"First Owner\",\"Second Owner\",\"First Owner\",\"Second Owner\",\"Third Owner\",\"First Owner\",\"Second Owner\",\"Second Owner\",\"First Owner\",\"First Owner\",\"First Owner\",\"First Owner\",\"First Owner\",\"First Owner\",\"First Owner\",\"First Owner\",\"Third Owner\",\"Third Owner\",\"First Owner\",\"First Owner\",\"Second Owner\",\"First Owner\",\"First Owner\",\"Second Owner\",\"First Owner\",\"First Owner\",\"First Owner\",\"First Owner\",\"First Owner\",\"First Owner\",\"First Owner\",\"First Owner\",\"First Owner\",\"Third Owner\",\"First Owner\",\"Third Owner\",\"First Owner\",\"First Owner\",\"First Owner\",\"First Owner\",\"Second Owner\",\"Second Owner\",\"First Owner\",\"First Owner\",\"First Owner\",\"First Owner\",\"First Owner\",\"First Owner\",\"Second Owner\",\"Second Owner\",\"Second Owner\",\"First Owner\",\"Second Owner\",\"Third Owner\",\"First Owner\",\"First Owner\",\"First Owner\",\"Second Owner\",\"Second Owner\",\"Second Owner\",\"Third Owner\",\"Second Owner\",\"Second Owner\",\"Second Owner\",\"Third Owner\",\"Fourth & Above Owner\",\"Second Owner\",\"First Owner\",\"First Owner\",\"Second Owner\",\"First Owner\",\"Third Owner\",\"First Owner\",\"Second Owner\",\"First Owner\",\"Second Owner\",\"First Owner\",\"First Owner\",\"Second Owner\",\"First Owner\",\"First Owner\",\"First Owner\",\"First Owner\",\"First Owner\",\"First Owner\",\"First Owner\",\"First Owner\",\"Second Owner\",\"First Owner\",\"First Owner\",\"First Owner\",\"First Owner\",\"First Owner\",\"First Owner\",\"First Owner\",\"First Owner\",\"First Owner\",\"Second Owner\",\"First Owner\",\"First Owner\",\"First Owner\",\"First Owner\",\"Fourth & Above Owner\",\"Third Owner\",\"First Owner\",\"First Owner\",\"First Owner\",\"First Owner\",\"First Owner\",\"Second Owner\",\"First Owner\",\"First Owner\",\"First Owner\",\"First Owner\",\"First Owner\",\"Second Owner\",\"Second Owner\",\"First Owner\",\"Second Owner\",\"Second Owner\",\"First Owner\",\"Second Owner\",\"Third Owner\",\"First Owner\",\"First Owner\",\"Second Owner\",\"Second Owner\",\"First Owner\",\"First Owner\",\"Third Owner\",\"Third Owner\",\"Second Owner\",\"Third Owner\",\"Third Owner\",\"First Owner\",\"First Owner\",\"First Owner\",\"First Owner\",\"First Owner\",\"First Owner\",\"Second Owner\",\"Third Owner\",\"First Owner\",\"First Owner\",\"Second Owner\",\"First Owner\",\"First Owner\",\"Second Owner\",\"First Owner\",\"First Owner\",\"First Owner\",\"Second Owner\",\"Second Owner\",\"First Owner\",\"Second Owner\",\"First Owner\",\"First Owner\",\"Second Owner\",\"Second Owner\",\"First Owner\",\"First Owner\",\"Third Owner\",\"First Owner\",\"First Owner\",\"First Owner\",\"Third Owner\",\"First Owner\",\"Third Owner\",\"Third Owner\",\"Second Owner\",\"First Owner\",\"First Owner\",\"Second Owner\",\"First Owner\",\"First Owner\",\"Second Owner\",\"Second Owner\",\"First Owner\",\"First Owner\",\"Second Owner\",\"Second Owner\",\"First Owner\",\"First Owner\",\"Second Owner\",\"First Owner\",\"First Owner\",\"First Owner\",\"Second Owner\",\"First Owner\",\"Second Owner\",\"First Owner\",\"First Owner\",\"Second Owner\",\"First Owner\",\"First Owner\",\"Second Owner\",\"First Owner\",\"First Owner\",\"Third Owner\",\"Fourth & Above Owner\",\"Second Owner\",\"Second Owner\",\"Third Owner\",\"Second Owner\",\"First Owner\",\"First Owner\",\"Third Owner\",\"First Owner\",\"First Owner\",\"Second Owner\",\"Second Owner\",\"Second Owner\",\"First Owner\",\"First Owner\",\"Second Owner\",\"Second Owner\",\"First Owner\",\"First Owner\",\"First Owner\",\"First Owner\",\"Second Owner\",\"Third Owner\",\"First Owner\",\"Fourth & Above Owner\",\"First Owner\",\"First Owner\",\"First Owner\",\"First Owner\",\"First Owner\",\"First Owner\",\"First Owner\",\"First Owner\",\"Third Owner\",\"First Owner\",\"First Owner\",\"First Owner\",\"First Owner\",\"Second Owner\",\"First Owner\",\"First Owner\",\"First Owner\",\"Second Owner\",\"First Owner\",\"First Owner\",\"First Owner\",\"First Owner\",\"Second Owner\",\"First Owner\",\"First Owner\",\"First Owner\",\"First Owner\",\"First Owner\",\"First Owner\",\"First Owner\",\"First Owner\",\"First Owner\",\"First Owner\",\"First Owner\",\"First Owner\",\"First Owner\",\"Second Owner\",\"First Owner\",\"First Owner\",\"First Owner\",\"First Owner\",\"Second Owner\",\"First Owner\",\"First Owner\",\"First Owner\",\"First Owner\",\"First Owner\",\"First Owner\",\"First Owner\",\"First Owner\",\"First Owner\",\"First Owner\",\"First Owner\",\"First Owner\",\"First Owner\",\"First Owner\",\"Second Owner\",\"First Owner\",\"Second Owner\",\"Fourth & Above Owner\",\"First Owner\",\"First Owner\",\"First Owner\",\"First Owner\",\"Third Owner\",\"First Owner\",\"First Owner\",\"First Owner\",\"First Owner\",\"First Owner\",\"First Owner\",\"First Owner\",\"First Owner\",\"Second Owner\",\"First Owner\",\"First Owner\",\"First Owner\",\"First Owner\",\"First Owner\",\"First Owner\",\"First Owner\",\"First Owner\",\"First Owner\",\"First Owner\",\"First Owner\",\"First Owner\",\"First Owner\",\"First Owner\",\"Second Owner\",\"First Owner\",\"First Owner\",\"First Owner\",\"First Owner\",\"First Owner\",\"Second Owner\",\"Second Owner\",\"Third Owner\",\"First Owner\",\"First Owner\",\"First Owner\",\"First Owner\",\"First Owner\",\"First Owner\",\"First Owner\",\"First Owner\",\"First Owner\",\"Third Owner\",\"First Owner\",\"First Owner\",\"First Owner\",\"First Owner\",\"Second Owner\",\"First Owner\",\"First Owner\",\"First Owner\",\"First Owner\",\"First Owner\",\"Second Owner\",\"Second Owner\",\"Second Owner\",\"First Owner\",\"Second Owner\",\"First Owner\",\"Third Owner\",\"First Owner\",\"First Owner\",\"Second Owner\",\"First Owner\",\"First Owner\",\"First Owner\",\"First Owner\",\"Second Owner\",\"Second Owner\",\"First Owner\",\"Third Owner\",\"First Owner\",\"Second Owner\",\"Second Owner\",\"First Owner\",\"First Owner\",\"Test Drive Car\",\"Test Drive Car\",\"First Owner\",\"Test Drive Car\",\"First Owner\",\"First Owner\",\"First Owner\",\"First Owner\",\"First Owner\",\"Second Owner\",\"First Owner\",\"First Owner\",\"First Owner\",\"First Owner\",\"Second Owner\",\"First Owner\",\"First Owner\",\"First Owner\",\"First Owner\",\"First Owner\",\"First Owner\",\"First Owner\",\"First Owner\",\"First Owner\",\"First Owner\",\"First Owner\",\"Second Owner\",\"First Owner\",\"First Owner\",\"First Owner\",\"Second Owner\",\"First Owner\",\"First Owner\",\"First Owner\",\"Second Owner\",\"First Owner\",\"First Owner\",\"First Owner\",\"First Owner\",\"Second Owner\",\"First Owner\",\"Second Owner\",\"Second Owner\",\"Second Owner\",\"Second Owner\",\"First Owner\",\"Second Owner\",\"First Owner\",\"First Owner\",\"Second Owner\",\"Second Owner\",\"First Owner\",\"First Owner\",\"Second Owner\",\"First Owner\",\"Second Owner\",\"First Owner\",\"First Owner\",\"First Owner\",\"First Owner\",\"First Owner\",\"First Owner\",\"First Owner\",\"First Owner\",\"First Owner\",\"First Owner\",\"Second Owner\",\"First Owner\",\"First Owner\",\"First Owner\",\"Third Owner\",\"First Owner\",\"Third Owner\",\"First Owner\",\"Second Owner\",\"First Owner\",\"First Owner\",\"Second Owner\",\"Second Owner\",\"Second Owner\",\"Second Owner\",\"Second Owner\",\"Second Owner\",\"Second Owner\",\"First Owner\",\"Third Owner\",\"Second Owner\",\"Second Owner\",\"First Owner\",\"First Owner\",\"First Owner\",\"First Owner\",\"First Owner\",\"First Owner\",\"First Owner\",\"First Owner\",\"First Owner\",\"First Owner\",\"First Owner\",\"First Owner\",\"First Owner\",\"First Owner\",\"First Owner\",\"First Owner\",\"First Owner\",\"First Owner\",\"Second Owner\",\"First Owner\",\"First Owner\",\"Second Owner\",\"Third Owner\",\"Second Owner\",\"First Owner\",\"First Owner\",\"Second Owner\",\"First Owner\",\"First Owner\",\"First Owner\",\"First Owner\",\"First Owner\",\"First Owner\",\"First Owner\",\"First Owner\",\"First Owner\",\"First Owner\",\"First Owner\",\"Second Owner\",\"Second Owner\",\"First Owner\",\"Second Owner\",\"First Owner\",\"First Owner\",\"First Owner\",\"First Owner\",\"Second Owner\",\"Second Owner\",\"Third Owner\",\"Second Owner\",\"First Owner\",\"First Owner\",\"Second Owner\",\"First Owner\",\"First Owner\",\"First Owner\",\"First Owner\",\"First Owner\",\"First Owner\",\"Second Owner\",\"Second Owner\",\"First Owner\",\"First Owner\",\"First Owner\",\"First Owner\",\"Second Owner\",\"First Owner\",\"First Owner\",\"First Owner\",\"Second Owner\",\"Second Owner\",\"Third Owner\",\"First Owner\",\"Second Owner\",\"Second Owner\",\"First Owner\",\"Second Owner\",\"First Owner\",\"First Owner\",\"First Owner\",\"First Owner\",\"First Owner\",\"First Owner\",\"Second Owner\",\"First Owner\",\"First Owner\",\"First Owner\",\"First Owner\",\"First Owner\",\"First Owner\",\"First Owner\",\"First Owner\",\"First Owner\",\"First Owner\",\"Second Owner\",\"First Owner\",\"First Owner\",\"First Owner\",\"Second Owner\",\"Fourth & Above Owner\",\"Third Owner\",\"First Owner\",\"Third Owner\",\"First Owner\",\"First Owner\",\"First Owner\",\"First Owner\",\"First Owner\",\"First Owner\",\"First Owner\",\"First Owner\",\"First Owner\",\"Third Owner\",\"First Owner\",\"First Owner\",\"First Owner\",\"Second Owner\",\"First Owner\",\"First Owner\",\"First Owner\",\"First Owner\",\"First Owner\",\"Second Owner\",\"Second Owner\",\"First Owner\",\"Second Owner\",\"Second Owner\",\"First Owner\",\"Second Owner\",\"Second Owner\",\"First Owner\",\"First Owner\",\"First Owner\",\"First Owner\",\"First Owner\",\"First Owner\",\"First Owner\",\"Second Owner\",\"Third Owner\",\"Second Owner\",\"First Owner\",\"First Owner\",\"Second Owner\",\"First Owner\",\"Second Owner\",\"Second Owner\",\"Third Owner\",\"First Owner\",\"Second Owner\",\"Second Owner\",\"First Owner\",\"Second Owner\",\"First Owner\",\"First Owner\",\"Second Owner\",\"First Owner\",\"Second Owner\",\"Second Owner\",\"Second Owner\",\"First Owner\",\"First Owner\",\"Second Owner\",\"Second Owner\",\"First Owner\",\"First Owner\",\"First Owner\",\"First Owner\",\"First Owner\",\"Second Owner\",\"First Owner\",\"First Owner\",\"First Owner\",\"First Owner\",\"First Owner\",\"First Owner\",\"First Owner\",\"First Owner\",\"First Owner\",\"Second Owner\",\"First Owner\",\"First Owner\",\"First Owner\",\"First Owner\",\"First Owner\",\"First Owner\",\"First Owner\",\"First Owner\",\"First Owner\",\"First Owner\",\"First Owner\",\"First Owner\",\"Second Owner\",\"First Owner\",\"First Owner\",\"Third Owner\",\"Second Owner\",\"Third Owner\",\"Third Owner\",\"Third Owner\",\"Second Owner\",\"Second Owner\",\"Second Owner\",\"Second Owner\",\"Second Owner\",\"Third Owner\",\"Third Owner\",\"Second Owner\",\"Second Owner\",\"Second Owner\",\"First Owner\",\"First Owner\",\"Second Owner\",\"Second Owner\",\"Second Owner\",\"Fourth & Above Owner\",\"Second Owner\",\"First Owner\",\"Second Owner\",\"First Owner\",\"Second Owner\",\"Second Owner\",\"First Owner\",\"Second Owner\",\"Second Owner\",\"Second Owner\",\"First Owner\",\"First Owner\",\"First Owner\",\"Second Owner\",\"First Owner\",\"First Owner\",\"Second Owner\",\"First Owner\",\"First Owner\",\"Second Owner\",\"First Owner\",\"First Owner\",\"First Owner\",\"First Owner\",\"Third Owner\",\"First Owner\",\"Second Owner\",\"First Owner\",\"First Owner\",\"First Owner\",\"First Owner\",\"First Owner\",\"Second Owner\",\"First Owner\",\"First Owner\",\"First Owner\",\"First Owner\",\"First Owner\",\"First Owner\",\"First Owner\",\"First Owner\",\"First Owner\",\"First Owner\",\"First Owner\",\"Second Owner\",\"First Owner\",\"Second Owner\",\"First Owner\",\"Third Owner\",\"Second Owner\",\"Third Owner\",\"First Owner\",\"First Owner\",\"First Owner\",\"Second Owner\",\"Second Owner\",\"First Owner\",\"First Owner\",\"First Owner\",\"First Owner\",\"Second Owner\",\"Second Owner\",\"First Owner\",\"First Owner\",\"First Owner\",\"First Owner\",\"Second Owner\",\"First Owner\",\"First Owner\",\"Second Owner\",\"Second Owner\",\"First Owner\",\"Fourth & Above Owner\",\"Second Owner\",\"Second Owner\",\"First Owner\",\"First Owner\",\"First Owner\",\"First Owner\",\"Second Owner\",\"First Owner\",\"First Owner\",\"First Owner\",\"First Owner\",\"First Owner\",\"First Owner\",\"First Owner\",\"First Owner\",\"First Owner\",\"First Owner\",\"First Owner\",\"First Owner\",\"First Owner\",\"First Owner\",\"First Owner\",\"Third Owner\",\"First Owner\",\"Second Owner\",\"Second Owner\",\"First Owner\",\"First Owner\",\"First Owner\",\"Second Owner\",\"First Owner\",\"Second Owner\",\"First Owner\",\"Second Owner\",\"Second Owner\",\"Second Owner\",\"Third Owner\",\"Second Owner\",\"First Owner\",\"Second Owner\",\"Second Owner\",\"First Owner\",\"First Owner\",\"Second Owner\",\"First Owner\",\"First Owner\",\"First Owner\",\"Test Drive Car\",\"First Owner\",\"Third Owner\",\"First Owner\",\"First Owner\",\"Second Owner\",\"Second Owner\",\"First Owner\",\"Third Owner\",\"First Owner\",\"First Owner\",\"First Owner\",\"Second Owner\",\"First Owner\",\"Third Owner\",\"Second Owner\",\"First Owner\",\"First Owner\",\"First Owner\",\"First Owner\",\"First Owner\",\"Second Owner\",\"Third Owner\",\"First Owner\",\"Second Owner\",\"First Owner\",\"First Owner\",\"Second Owner\",\"Second Owner\",\"First Owner\",\"Third Owner\",\"Second Owner\",\"First Owner\",\"First Owner\",\"First Owner\",\"First Owner\",\"Second Owner\",\"First Owner\",\"Second Owner\",\"Second Owner\",\"Third Owner\",\"Fourth & Above Owner\",\"First Owner\",\"Second Owner\",\"First Owner\",\"First Owner\",\"Second Owner\",\"Second Owner\",\"Second Owner\",\"Fourth & Above Owner\",\"First Owner\",\"First Owner\",\"First Owner\",\"First Owner\",\"First Owner\",\"First Owner\",\"First Owner\",\"Second Owner\",\"Second Owner\",\"First Owner\",\"First Owner\",\"First Owner\",\"First Owner\",\"First Owner\",\"Second Owner\",\"First Owner\",\"First Owner\",\"Third Owner\",\"First Owner\",\"First Owner\",\"First Owner\",\"First Owner\",\"Second Owner\",\"Third Owner\",\"First Owner\",\"Second Owner\",\"Second Owner\",\"First Owner\",\"First Owner\",\"First Owner\",\"Second Owner\",\"First Owner\",\"Second Owner\",\"First Owner\",\"Second Owner\",\"First Owner\",\"First Owner\",\"Second Owner\",\"Second Owner\",\"Second Owner\",\"First Owner\",\"Third Owner\",\"First Owner\",\"First Owner\",\"First Owner\",\"First Owner\",\"Fourth & Above Owner\",\"First Owner\",\"First Owner\",\"Third Owner\",\"Second Owner\",\"First Owner\",\"First Owner\",\"First Owner\",\"First Owner\",\"First Owner\",\"First Owner\",\"First Owner\",\"First Owner\",\"Second Owner\",\"First Owner\",\"First Owner\",\"First Owner\",\"First Owner\",\"First Owner\",\"Second Owner\",\"First Owner\",\"Second Owner\",\"Third Owner\",\"First Owner\",\"First Owner\",\"First Owner\",\"Fourth & Above Owner\",\"First Owner\",\"First Owner\",\"First Owner\",\"Fourth & Above Owner\",\"Second Owner\",\"Third Owner\",\"Second Owner\",\"Second Owner\",\"Second Owner\",\"First Owner\",\"Second Owner\",\"Second Owner\",\"Second Owner\",\"First Owner\",\"Second Owner\",\"First Owner\",\"First Owner\",\"Second Owner\",\"First Owner\",\"Fourth & Above Owner\",\"First Owner\",\"Second Owner\",\"Second Owner\",\"Third Owner\",\"Second Owner\",\"Second Owner\",\"First Owner\",\"First Owner\",\"First Owner\",\"First Owner\",\"First Owner\",\"First Owner\",\"First Owner\",\"First Owner\",\"First Owner\",\"First Owner\",\"First Owner\",\"First Owner\",\"First Owner\",\"First Owner\",\"First Owner\",\"First Owner\",\"First Owner\",\"First Owner\",\"First Owner\",\"First Owner\",\"First Owner\",\"First Owner\",\"First Owner\",\"First Owner\",\"Fourth & Above Owner\",\"First Owner\",\"Second Owner\",\"Second Owner\",\"Second Owner\",\"Second Owner\",\"Third Owner\",\"Second Owner\",\"First Owner\",\"First Owner\",\"First Owner\",\"Second Owner\",\"Second Owner\",\"Second Owner\",\"First Owner\",\"First Owner\",\"Second Owner\",\"First Owner\",\"First Owner\",\"Second Owner\",\"Second Owner\",\"First Owner\",\"Second Owner\",\"Third Owner\",\"First Owner\",\"Second Owner\",\"First Owner\",\"First Owner\",\"Second Owner\",\"First Owner\",\"Second Owner\",\"First Owner\",\"First Owner\",\"First Owner\",\"First Owner\",\"Second Owner\",\"Third Owner\",\"First Owner\",\"First Owner\",\"First Owner\",\"First Owner\",\"First Owner\",\"First Owner\",\"Fourth & Above Owner\",\"Second Owner\",\"First Owner\",\"First Owner\",\"First Owner\",\"First Owner\",\"First Owner\",\"First Owner\",\"Second Owner\",\"Second Owner\",\"First Owner\",\"Second Owner\",\"First Owner\",\"First Owner\",\"Fourth & Above Owner\",\"Third Owner\",\"Fourth & Above Owner\",\"First Owner\",\"First Owner\",\"Second Owner\",\"Second Owner\",\"First Owner\",\"Fourth & Above Owner\",\"First Owner\",\"First Owner\",\"First Owner\",\"First Owner\",\"First Owner\",\"Third Owner\",\"Second Owner\",\"Third Owner\",\"First Owner\",\"First Owner\",\"Fourth & Above Owner\",\"Third Owner\",\"Third Owner\",\"Second Owner\",\"Second Owner\",\"Second Owner\",\"First Owner\",\"First Owner\",\"Third Owner\",\"Second Owner\",\"Fourth & Above Owner\",\"First Owner\",\"First Owner\",\"First Owner\",\"First Owner\",\"First Owner\",\"First Owner\",\"First Owner\",\"Third Owner\",\"First Owner\",\"First Owner\",\"First Owner\",\"First Owner\",\"First Owner\",\"Second Owner\",\"First Owner\",\"Second Owner\",\"Second Owner\",\"First Owner\",\"Second Owner\",\"Third Owner\",\"Third Owner\",\"First Owner\",\"First Owner\",\"First Owner\",\"First Owner\",\"Second Owner\",\"First Owner\",\"First Owner\",\"Second Owner\",\"Third Owner\",\"First Owner\",\"Second Owner\",\"Second Owner\",\"Second Owner\",\"Second Owner\",\"First Owner\",\"First Owner\",\"Second Owner\",\"First Owner\",\"First Owner\",\"First Owner\",\"Third Owner\",\"First Owner\",\"Second Owner\",\"First Owner\",\"Second Owner\",\"Second Owner\",\"First Owner\",\"First Owner\",\"First Owner\",\"First Owner\",\"Second Owner\",\"First Owner\",\"First Owner\",\"First Owner\",\"First Owner\",\"Second Owner\",\"First Owner\",\"First Owner\",\"First Owner\",\"Second Owner\",\"First Owner\",\"First Owner\",\"Third Owner\",\"First Owner\",\"Fourth & Above Owner\",\"Second Owner\",\"First Owner\",\"First Owner\",\"Fourth & Above Owner\",\"First Owner\",\"First Owner\",\"Fourth & Above Owner\",\"Fourth & Above Owner\",\"Second Owner\",\"First Owner\",\"Third Owner\",\"Second Owner\",\"First Owner\",\"First Owner\",\"Second Owner\",\"First Owner\",\"First Owner\",\"Third Owner\",\"Third Owner\",\"Third Owner\",\"First Owner\",\"First Owner\",\"Third Owner\",\"Second Owner\",\"Second Owner\",\"Third Owner\",\"First Owner\",\"First Owner\",\"First Owner\",\"Second Owner\",\"Second Owner\",\"First Owner\",\"Second Owner\",\"First Owner\",\"First Owner\",\"First Owner\",\"First Owner\",\"First Owner\",\"Second Owner\",\"First Owner\",\"First Owner\",\"First Owner\",\"First Owner\",\"First Owner\",\"First Owner\",\"First Owner\",\"First Owner\",\"First Owner\",\"First Owner\",\"First Owner\",\"Second Owner\",\"First Owner\",\"First Owner\",\"Second Owner\",\"First Owner\",\"Third Owner\",\"First Owner\",\"First Owner\",\"First Owner\",\"Second Owner\",\"Second Owner\",\"Second Owner\",\"First Owner\",\"Second Owner\",\"First Owner\",\"First Owner\",\"Second Owner\",\"Second Owner\",\"Second Owner\",\"Third Owner\",\"Third Owner\",\"Second Owner\",\"First Owner\",\"First Owner\",\"First Owner\",\"First Owner\",\"First Owner\",\"First Owner\",\"First Owner\",\"First Owner\",\"First Owner\",\"Second Owner\",\"First Owner\",\"First Owner\",\"First Owner\",\"First Owner\",\"First Owner\",\"First Owner\",\"First Owner\",\"First Owner\",\"First Owner\",\"First Owner\",\"First Owner\",\"Second Owner\",\"First Owner\",\"First Owner\",\"Third Owner\",\"First Owner\",\"Third Owner\",\"First Owner\",\"First Owner\",\"First Owner\",\"Second Owner\",\"Third Owner\",\"First Owner\",\"Second Owner\",\"Second Owner\",\"Third Owner\",\"Second Owner\",\"First Owner\",\"First Owner\",\"Third Owner\",\"First Owner\",\"Second Owner\",\"First Owner\",\"First Owner\",\"First Owner\",\"Second Owner\",\"Second Owner\",\"First Owner\",\"Second Owner\",\"Second Owner\",\"First Owner\",\"Second Owner\",\"Third Owner\",\"First Owner\",\"First Owner\",\"First Owner\",\"First Owner\",\"Fourth & Above Owner\",\"First Owner\",\"First Owner\",\"First Owner\",\"First Owner\",\"First Owner\",\"First Owner\",\"Second Owner\",\"First Owner\",\"First Owner\",\"Second Owner\",\"First Owner\",\"First Owner\",\"Second Owner\",\"First Owner\",\"Second Owner\",\"Second Owner\",\"First Owner\",\"First Owner\",\"First Owner\",\"Second Owner\",\"Second Owner\",\"First Owner\",\"Third Owner\",\"First Owner\",\"Second Owner\",\"First Owner\",\"First Owner\",\"First Owner\",\"First Owner\",\"Second Owner\",\"First Owner\",\"First Owner\",\"First Owner\",\"First Owner\",\"First Owner\",\"First Owner\",\"First Owner\",\"First Owner\",\"First Owner\",\"First Owner\",\"First Owner\",\"First Owner\",\"First Owner\",\"First Owner\",\"First Owner\",\"First Owner\",\"First Owner\",\"First Owner\",\"Second Owner\",\"First Owner\",\"First Owner\",\"First Owner\",\"First Owner\",\"First Owner\",\"First Owner\",\"First Owner\",\"First Owner\",\"First Owner\",\"Third Owner\",\"Third Owner\",\"First Owner\",\"First Owner\",\"Third Owner\",\"Second Owner\",\"Second Owner\",\"First Owner\",\"First Owner\",\"First Owner\",\"First Owner\",\"First Owner\",\"First Owner\",\"Second Owner\",\"First Owner\",\"First Owner\",\"Second Owner\",\"Second Owner\",\"Third Owner\",\"First Owner\",\"First Owner\",\"First Owner\",\"Second Owner\",\"First Owner\",\"Third Owner\",\"Second Owner\",\"Second Owner\",\"Third Owner\",\"First Owner\",\"First Owner\",\"First Owner\",\"First Owner\",\"Second Owner\",\"First Owner\",\"Second Owner\",\"First Owner\",\"First Owner\",\"First Owner\",\"Fourth & Above Owner\",\"First Owner\",\"First Owner\",\"Second Owner\",\"Second Owner\",\"First Owner\",\"Second Owner\",\"First Owner\",\"First Owner\",\"First Owner\",\"First Owner\",\"Second Owner\",\"First Owner\",\"First Owner\",\"First Owner\",\"Third Owner\",\"First Owner\",\"First Owner\",\"First Owner\",\"Second Owner\",\"First Owner\",\"First Owner\",\"First Owner\",\"First Owner\",\"First Owner\",\"First Owner\",\"First Owner\",\"Second Owner\",\"First Owner\",\"First Owner\",\"First Owner\",\"First Owner\",\"First Owner\",\"Second Owner\",\"Second Owner\",\"First Owner\",\"First Owner\",\"Second Owner\",\"Second Owner\",\"First Owner\",\"First Owner\",\"First Owner\",\"First Owner\",\"First Owner\",\"First Owner\",\"First Owner\",\"First Owner\",\"First Owner\",\"First Owner\",\"First Owner\",\"Second Owner\",\"First Owner\",\"Second Owner\",\"Fourth & Above Owner\",\"Second Owner\",\"Second Owner\",\"First Owner\",\"Second Owner\",\"First Owner\",\"Third Owner\",\"Third Owner\",\"Second Owner\",\"Third Owner\",\"Third Owner\",\"First Owner\",\"First Owner\",\"First Owner\",\"First Owner\",\"First Owner\",\"First Owner\",\"Fourth & Above Owner\",\"Second Owner\",\"First Owner\",\"Second Owner\",\"Second Owner\",\"First Owner\",\"First Owner\",\"First Owner\",\"First Owner\",\"First Owner\",\"Second Owner\",\"First Owner\",\"First Owner\",\"First Owner\",\"First Owner\",\"Third Owner\",\"First Owner\",\"First Owner\",\"First Owner\",\"First Owner\",\"First Owner\",\"First Owner\",\"First Owner\",\"First Owner\",\"First Owner\",\"Second Owner\",\"First Owner\",\"First Owner\",\"First Owner\",\"Second Owner\",\"First Owner\",\"Second Owner\",\"Second Owner\",\"Second Owner\",\"First Owner\",\"First Owner\",\"First Owner\",\"Second Owner\",\"First Owner\",\"Second Owner\",\"First Owner\",\"Second Owner\",\"Second Owner\",\"First Owner\",\"First Owner\",\"Second Owner\",\"Second Owner\",\"Second Owner\",\"First Owner\",\"First Owner\",\"First Owner\",\"First Owner\",\"First Owner\",\"Second Owner\",\"Third Owner\",\"First Owner\",\"Second Owner\",\"First Owner\",\"First Owner\",\"First Owner\",\"First Owner\",\"Second Owner\",\"Second Owner\",\"Second Owner\",\"Third Owner\",\"Second Owner\",\"Third Owner\",\"Second Owner\",\"First Owner\",\"First Owner\",\"First Owner\",\"First Owner\",\"First Owner\",\"Second Owner\",\"Second Owner\",\"Second Owner\",\"First Owner\",\"First Owner\",\"Second Owner\",\"First Owner\",\"First Owner\",\"First Owner\",\"First Owner\",\"First Owner\",\"Second Owner\",\"First Owner\",\"First Owner\",\"First Owner\",\"First Owner\",\"Second Owner\",\"Second Owner\",\"First Owner\",\"First Owner\",\"First Owner\",\"First Owner\",\"First Owner\",\"Second Owner\",\"First Owner\",\"First Owner\",\"Fourth & Above Owner\",\"Third Owner\",\"Second Owner\",\"Second Owner\",\"First Owner\",\"First Owner\",\"Second Owner\",\"Second Owner\",\"Second Owner\",\"First Owner\",\"First Owner\",\"First Owner\",\"Third Owner\",\"First Owner\",\"First Owner\",\"First Owner\",\"Second Owner\",\"First Owner\",\"First Owner\",\"Second Owner\",\"Second Owner\",\"First Owner\",\"First Owner\",\"First Owner\",\"Second Owner\",\"First Owner\",\"First Owner\",\"First Owner\",\"Second Owner\",\"Second Owner\",\"First Owner\",\"Second Owner\",\"First Owner\",\"First Owner\",\"First Owner\",\"First Owner\",\"First Owner\",\"Third Owner\",\"Second Owner\",\"Third Owner\",\"First Owner\",\"Second Owner\",\"First Owner\",\"First Owner\",\"First Owner\",\"First Owner\",\"First Owner\",\"First Owner\",\"First Owner\",\"First Owner\",\"First Owner\",\"First Owner\",\"Second Owner\",\"Third Owner\",\"First Owner\",\"Second Owner\",\"First Owner\",\"Second Owner\",\"First Owner\",\"First Owner\",\"First Owner\",\"First Owner\",\"First Owner\",\"First Owner\",\"First Owner\",\"Third Owner\",\"Second Owner\",\"Second Owner\",\"First Owner\",\"First Owner\",\"Second Owner\",\"Second Owner\",\"First Owner\",\"Second Owner\",\"First Owner\",\"Second Owner\",\"Second Owner\",\"Third Owner\",\"First Owner\",\"Second Owner\",\"First Owner\",\"Second Owner\",\"Second Owner\",\"First Owner\",\"First Owner\",\"Second Owner\",\"First Owner\",\"Second Owner\",\"Second Owner\",\"First Owner\",\"Second Owner\",\"Second Owner\",\"Third Owner\",\"Second Owner\",\"First Owner\",\"First Owner\",\"First Owner\",\"Second Owner\",\"Second Owner\",\"First Owner\",\"Second Owner\",\"Second Owner\",\"First Owner\",\"First Owner\",\"Second Owner\",\"First Owner\",\"First Owner\",\"First Owner\",\"Second Owner\",\"First Owner\",\"First Owner\",\"First Owner\",\"Test Drive Car\",\"First Owner\",\"First Owner\",\"First Owner\",\"First Owner\",\"Second Owner\",\"Third Owner\",\"Third Owner\",\"Third Owner\",\"Fourth & Above Owner\",\"First Owner\",\"First Owner\",\"First Owner\",\"First Owner\",\"First Owner\",\"First Owner\",\"First Owner\",\"First Owner\",\"Third Owner\",\"Second Owner\",\"First Owner\",\"First Owner\",\"First Owner\",\"First Owner\",\"First Owner\",\"First Owner\",\"Second Owner\",\"Second Owner\",\"First Owner\",\"First Owner\",\"First Owner\",\"First Owner\",\"First Owner\",\"First Owner\",\"Second Owner\",\"First Owner\",\"Second Owner\",\"Second Owner\",\"Second Owner\",\"First Owner\",\"First Owner\",\"First Owner\",\"First Owner\",\"Second Owner\",\"Second Owner\",\"First Owner\",\"Second Owner\",\"Second Owner\",\"Second Owner\",\"Second Owner\",\"First Owner\",\"First Owner\",\"First Owner\",\"First Owner\",\"First Owner\",\"First Owner\",\"Third Owner\",\"Second Owner\",\"First Owner\",\"First Owner\",\"First Owner\",\"First Owner\",\"Second Owner\",\"Third Owner\",\"Third Owner\",\"First Owner\",\"First Owner\",\"First Owner\",\"First Owner\",\"First Owner\",\"First Owner\",\"First Owner\",\"First Owner\",\"First Owner\",\"First Owner\",\"Second Owner\",\"Second Owner\",\"First Owner\",\"First Owner\",\"First Owner\",\"Second Owner\",\"First Owner\",\"Third Owner\",\"First Owner\",\"First Owner\",\"Second Owner\",\"Third Owner\",\"First Owner\",\"First Owner\",\"First Owner\",\"First Owner\",\"First Owner\",\"Second Owner\",\"First Owner\",\"Second Owner\",\"Third Owner\",\"First Owner\",\"First Owner\",\"First Owner\",\"First Owner\",\"Second Owner\",\"First Owner\",\"First Owner\",\"First Owner\",\"First Owner\",\"First Owner\",\"First Owner\",\"First Owner\",\"Second Owner\",\"First Owner\",\"First Owner\",\"First Owner\",\"First Owner\",\"First Owner\",\"First Owner\",\"First Owner\",\"Second Owner\",\"First Owner\",\"First Owner\",\"First Owner\",\"Second Owner\",\"First Owner\",\"First Owner\",\"Second Owner\",\"Third Owner\",\"Second Owner\",\"First Owner\",\"Second Owner\",\"First Owner\",\"First Owner\",\"Second Owner\",\"First Owner\",\"Second Owner\",\"Second Owner\",\"Second Owner\",\"First Owner\",\"First Owner\",\"First Owner\",\"Second Owner\",\"First Owner\",\"First Owner\",\"First Owner\",\"Second Owner\",\"First Owner\",\"First Owner\",\"First Owner\",\"Third Owner\",\"First Owner\",\"Second Owner\",\"First Owner\",\"Second Owner\",\"Second Owner\",\"Second Owner\",\"First Owner\",\"Second Owner\",\"First Owner\",\"Second Owner\",\"First Owner\",\"Second Owner\",\"First Owner\",\"First Owner\",\"First Owner\",\"First Owner\",\"First Owner\",\"First Owner\",\"Second Owner\",\"First Owner\",\"Second Owner\",\"Third Owner\",\"Second Owner\",\"Second Owner\",\"Second Owner\",\"First Owner\",\"Second Owner\",\"First Owner\",\"First Owner\",\"First Owner\",\"First Owner\",\"Second Owner\",\"Second Owner\",\"First Owner\",\"Second Owner\",\"Second Owner\",\"Second Owner\",\"First Owner\",\"Second Owner\",\"First Owner\",\"First Owner\",\"First Owner\",\"First Owner\",\"First Owner\",\"First Owner\",\"First Owner\",\"First Owner\",\"First Owner\",\"First Owner\",\"First Owner\",\"First Owner\",\"First Owner\",\"First Owner\",\"Third Owner\",\"First Owner\",\"First Owner\",\"First Owner\",\"First Owner\",\"First Owner\",\"Second Owner\",\"Third Owner\",\"First Owner\",\"First Owner\",\"First Owner\",\"Third Owner\",\"First Owner\",\"First Owner\",\"First Owner\",\"Fourth & Above Owner\",\"Third Owner\",\"First Owner\",\"First Owner\",\"Second Owner\",\"Fourth & Above Owner\",\"First Owner\",\"Second Owner\",\"First Owner\",\"First Owner\",\"Third Owner\",\"First Owner\",\"First Owner\",\"First Owner\",\"First Owner\",\"First Owner\",\"First Owner\",\"Second Owner\",\"First Owner\",\"Fourth & Above Owner\",\"First Owner\",\"First Owner\",\"First Owner\",\"First Owner\",\"First Owner\",\"Second Owner\",\"Second Owner\",\"First Owner\",\"First Owner\",\"First Owner\",\"First Owner\",\"First Owner\",\"First Owner\",\"First Owner\",\"First Owner\",\"First Owner\",\"First Owner\",\"First Owner\",\"First Owner\",\"First Owner\",\"First Owner\",\"First Owner\",\"First Owner\",\"First Owner\",\"First Owner\",\"First Owner\",\"First Owner\",\"First Owner\",\"First Owner\",\"First Owner\",\"First Owner\",\"First Owner\",\"First Owner\",\"First Owner\",\"First Owner\",\"Second Owner\",\"First Owner\",\"First Owner\",\"First Owner\",\"Second Owner\",\"First Owner\",\"Second Owner\",\"First Owner\",\"First Owner\",\"First Owner\",\"First Owner\",\"First Owner\",\"Second Owner\",\"Third Owner\",\"Second Owner\",\"First Owner\",\"First Owner\",\"Fourth & Above Owner\",\"First Owner\",\"First Owner\",\"First Owner\",\"First Owner\",\"Second Owner\",\"First Owner\",\"First Owner\",\"Second Owner\",\"First Owner\",\"Second Owner\",\"Second Owner\",\"First Owner\",\"First Owner\",\"Third Owner\",\"Second Owner\",\"Second Owner\",\"Second Owner\",\"First Owner\",\"First Owner\",\"First Owner\",\"Third Owner\",\"Second Owner\",\"First Owner\",\"First Owner\",\"First Owner\",\"First Owner\",\"Second Owner\",\"Second Owner\",\"Third Owner\",\"Second Owner\",\"First Owner\",\"First Owner\",\"First Owner\",\"First Owner\",\"First Owner\",\"First Owner\",\"First Owner\",\"First Owner\",\"First Owner\",\"First Owner\",\"First Owner\",\"First Owner\",\"Second Owner\",\"First Owner\",\"First Owner\",\"First Owner\",\"First Owner\",\"First Owner\",\"First Owner\",\"First Owner\",\"First Owner\",\"First Owner\",\"First Owner\",\"Second Owner\",\"Second Owner\",\"First Owner\",\"Second Owner\",\"Second Owner\",\"First Owner\",\"First Owner\",\"First Owner\",\"First Owner\",\"First Owner\",\"First Owner\",\"First Owner\",\"First Owner\",\"First Owner\",\"First Owner\",\"First Owner\",\"First Owner\",\"First Owner\",\"First Owner\",\"Second Owner\",\"First Owner\",\"Second Owner\",\"First Owner\",\"First Owner\",\"Second Owner\",\"Second Owner\",\"Fourth & Above Owner\",\"Third Owner\",\"Second Owner\",\"First Owner\",\"First Owner\",\"Second Owner\",\"First Owner\",\"Second Owner\",\"First Owner\",\"Third Owner\",\"Fourth & Above Owner\",\"Second Owner\",\"Third Owner\",\"Second Owner\",\"First Owner\",\"Third Owner\",\"Second Owner\",\"First Owner\",\"First Owner\",\"First Owner\",\"First Owner\",\"First Owner\",\"First Owner\",\"Second Owner\",\"Fourth & Above Owner\",\"First Owner\",\"First Owner\",\"First Owner\",\"First Owner\",\"Second Owner\",\"First Owner\",\"First Owner\",\"Second Owner\",\"First Owner\",\"Second Owner\",\"Second Owner\",\"First Owner\",\"First Owner\",\"Third Owner\",\"Second Owner\",\"Second Owner\",\"Second Owner\",\"First Owner\",\"First Owner\",\"Second Owner\",\"First Owner\",\"Fourth & Above Owner\",\"Fourth & Above Owner\",\"First Owner\",\"First Owner\",\"First Owner\",\"First Owner\",\"First Owner\",\"First Owner\",\"First Owner\",\"First Owner\",\"First Owner\",\"First Owner\",\"First Owner\",\"First Owner\",\"First Owner\",\"First Owner\",\"Second Owner\",\"Third Owner\",\"First Owner\",\"First Owner\",\"Third Owner\",\"Third Owner\",\"Third Owner\",\"Second Owner\",\"First Owner\",\"First Owner\",\"First Owner\",\"First Owner\",\"First Owner\",\"First Owner\",\"First Owner\",\"First Owner\",\"Second Owner\",\"First Owner\",\"First Owner\",\"First Owner\",\"First Owner\",\"First Owner\",\"First Owner\",\"First Owner\",\"First Owner\",\"First Owner\",\"First Owner\",\"First Owner\",\"First Owner\",\"Third Owner\",\"First Owner\",\"First Owner\",\"First Owner\",\"First Owner\",\"First Owner\",\"First Owner\",\"Second Owner\",\"First Owner\",\"Second Owner\",\"Third Owner\",\"First Owner\",\"Second Owner\",\"Second Owner\",\"Second Owner\",\"Second Owner\",\"First Owner\",\"First Owner\",\"First Owner\",\"First Owner\",\"First Owner\",\"First Owner\",\"First Owner\",\"First Owner\",\"First Owner\",\"First Owner\",\"First Owner\",\"First Owner\",\"First Owner\",\"First Owner\",\"First Owner\",\"First Owner\",\"First Owner\",\"First Owner\",\"First Owner\",\"Third Owner\",\"First Owner\",\"First Owner\",\"First Owner\",\"First Owner\",\"First Owner\",\"Second Owner\",\"First Owner\",\"Second Owner\",\"First Owner\",\"First Owner\",\"First Owner\",\"First Owner\",\"First Owner\",\"First Owner\",\"First Owner\",\"First Owner\",\"First Owner\",\"First Owner\",\"First Owner\",\"First Owner\",\"Second Owner\",\"First Owner\",\"First Owner\",\"Fourth & Above Owner\",\"First Owner\",\"First Owner\",\"Second Owner\",\"Second Owner\",\"First Owner\",\"First Owner\",\"First Owner\",\"First Owner\",\"First Owner\",\"Second Owner\",\"Third Owner\",\"First Owner\",\"Second Owner\",\"Second Owner\",\"Second Owner\",\"Second Owner\",\"First Owner\",\"First Owner\",\"First Owner\",\"First Owner\",\"Second Owner\",\"First Owner\",\"First Owner\",\"Second Owner\",\"First Owner\",\"Second Owner\",\"First Owner\",\"First Owner\",\"First Owner\",\"First Owner\",\"Second Owner\",\"First Owner\",\"First Owner\",\"First Owner\",\"Third Owner\",\"First Owner\",\"Third Owner\",\"First Owner\",\"Third Owner\",\"First Owner\",\"First Owner\",\"First Owner\",\"First Owner\",\"First Owner\",\"First Owner\",\"First Owner\",\"First Owner\",\"First Owner\",\"First Owner\",\"First Owner\",\"First Owner\",\"First Owner\",\"First Owner\",\"First Owner\",\"First Owner\",\"First Owner\",\"First Owner\",\"First Owner\",\"First Owner\",\"First Owner\",\"First Owner\",\"First Owner\",\"Third Owner\",\"Second Owner\",\"Third Owner\",\"First Owner\",\"Second Owner\",\"First Owner\",\"First Owner\",\"First Owner\",\"First Owner\",\"First Owner\",\"Second Owner\",\"First Owner\",\"Third Owner\",\"First Owner\",\"First Owner\",\"First Owner\",\"First Owner\",\"First Owner\",\"Second Owner\",\"First Owner\",\"First Owner\",\"First Owner\",\"First Owner\",\"First Owner\",\"First Owner\",\"First Owner\",\"First Owner\",\"Second Owner\",\"First Owner\",\"Second Owner\",\"First Owner\",\"Second Owner\",\"Second Owner\",\"First Owner\",\"Second Owner\",\"Third Owner\",\"First Owner\",\"Second Owner\",\"Third Owner\",\"First Owner\",\"Third Owner\",\"First Owner\",\"First Owner\",\"First Owner\",\"First Owner\",\"First Owner\",\"Second Owner\",\"First Owner\",\"First Owner\",\"First Owner\",\"First Owner\",\"First Owner\",\"Second Owner\",\"First Owner\",\"Second Owner\",\"First Owner\",\"First Owner\",\"First Owner\",\"Second Owner\",\"Second Owner\",\"Second Owner\",\"First Owner\",\"First Owner\",\"First Owner\",\"First Owner\",\"First Owner\",\"Second Owner\",\"First Owner\",\"First Owner\",\"First Owner\",\"First Owner\",\"First Owner\",\"Second Owner\",\"First Owner\",\"Second Owner\",\"First Owner\",\"First Owner\",\"First Owner\",\"Second Owner\",\"Second Owner\",\"Second Owner\",\"Third Owner\",\"Second Owner\",\"First Owner\",\"Second Owner\",\"Second Owner\",\"First Owner\",\"First Owner\",\"Second Owner\",\"Second Owner\",\"Second Owner\",\"Second Owner\",\"Second Owner\",\"Third Owner\",\"First Owner\",\"Second Owner\",\"Second Owner\",\"First Owner\",\"First Owner\",\"First Owner\",\"First Owner\",\"First Owner\",\"First Owner\",\"First Owner\",\"First Owner\",\"First Owner\",\"Second Owner\",\"First Owner\",\"First Owner\",\"First Owner\",\"Second Owner\",\"First Owner\",\"Third Owner\",\"First Owner\",\"First Owner\",\"First Owner\",\"First Owner\",\"First Owner\",\"First Owner\",\"First Owner\",\"First Owner\",\"First Owner\",\"Second Owner\",\"Second Owner\",\"First Owner\",\"Second Owner\",\"First Owner\",\"First Owner\",\"Second Owner\",\"First Owner\",\"Second Owner\",\"Third Owner\",\"Second Owner\",\"Second Owner\",\"Second Owner\",\"Second Owner\",\"Third Owner\",\"First Owner\",\"Second Owner\",\"First Owner\",\"Second Owner\",\"Second Owner\",\"Second Owner\",\"First Owner\",\"First Owner\"],\"xaxis\":\"x\",\"yaxis\":\"y\",\"type\":\"histogram\"}],                        {\"template\":{\"data\":{\"bar\":[{\"error_x\":{\"color\":\"#2a3f5f\"},\"error_y\":{\"color\":\"#2a3f5f\"},\"marker\":{\"line\":{\"color\":\"#E5ECF6\",\"width\":0.5},\"pattern\":{\"fillmode\":\"overlay\",\"size\":10,\"solidity\":0.2}},\"type\":\"bar\"}],\"barpolar\":[{\"marker\":{\"line\":{\"color\":\"#E5ECF6\",\"width\":0.5},\"pattern\":{\"fillmode\":\"overlay\",\"size\":10,\"solidity\":0.2}},\"type\":\"barpolar\"}],\"carpet\":[{\"aaxis\":{\"endlinecolor\":\"#2a3f5f\",\"gridcolor\":\"white\",\"linecolor\":\"white\",\"minorgridcolor\":\"white\",\"startlinecolor\":\"#2a3f5f\"},\"baxis\":{\"endlinecolor\":\"#2a3f5f\",\"gridcolor\":\"white\",\"linecolor\":\"white\",\"minorgridcolor\":\"white\",\"startlinecolor\":\"#2a3f5f\"},\"type\":\"carpet\"}],\"choropleth\":[{\"colorbar\":{\"outlinewidth\":0,\"ticks\":\"\"},\"type\":\"choropleth\"}],\"contour\":[{\"colorbar\":{\"outlinewidth\":0,\"ticks\":\"\"},\"colorscale\":[[0.0,\"#0d0887\"],[0.1111111111111111,\"#46039f\"],[0.2222222222222222,\"#7201a8\"],[0.3333333333333333,\"#9c179e\"],[0.4444444444444444,\"#bd3786\"],[0.5555555555555556,\"#d8576b\"],[0.6666666666666666,\"#ed7953\"],[0.7777777777777778,\"#fb9f3a\"],[0.8888888888888888,\"#fdca26\"],[1.0,\"#f0f921\"]],\"type\":\"contour\"}],\"contourcarpet\":[{\"colorbar\":{\"outlinewidth\":0,\"ticks\":\"\"},\"type\":\"contourcarpet\"}],\"heatmap\":[{\"colorbar\":{\"outlinewidth\":0,\"ticks\":\"\"},\"colorscale\":[[0.0,\"#0d0887\"],[0.1111111111111111,\"#46039f\"],[0.2222222222222222,\"#7201a8\"],[0.3333333333333333,\"#9c179e\"],[0.4444444444444444,\"#bd3786\"],[0.5555555555555556,\"#d8576b\"],[0.6666666666666666,\"#ed7953\"],[0.7777777777777778,\"#fb9f3a\"],[0.8888888888888888,\"#fdca26\"],[1.0,\"#f0f921\"]],\"type\":\"heatmap\"}],\"heatmapgl\":[{\"colorbar\":{\"outlinewidth\":0,\"ticks\":\"\"},\"colorscale\":[[0.0,\"#0d0887\"],[0.1111111111111111,\"#46039f\"],[0.2222222222222222,\"#7201a8\"],[0.3333333333333333,\"#9c179e\"],[0.4444444444444444,\"#bd3786\"],[0.5555555555555556,\"#d8576b\"],[0.6666666666666666,\"#ed7953\"],[0.7777777777777778,\"#fb9f3a\"],[0.8888888888888888,\"#fdca26\"],[1.0,\"#f0f921\"]],\"type\":\"heatmapgl\"}],\"histogram\":[{\"marker\":{\"pattern\":{\"fillmode\":\"overlay\",\"size\":10,\"solidity\":0.2}},\"type\":\"histogram\"}],\"histogram2d\":[{\"colorbar\":{\"outlinewidth\":0,\"ticks\":\"\"},\"colorscale\":[[0.0,\"#0d0887\"],[0.1111111111111111,\"#46039f\"],[0.2222222222222222,\"#7201a8\"],[0.3333333333333333,\"#9c179e\"],[0.4444444444444444,\"#bd3786\"],[0.5555555555555556,\"#d8576b\"],[0.6666666666666666,\"#ed7953\"],[0.7777777777777778,\"#fb9f3a\"],[0.8888888888888888,\"#fdca26\"],[1.0,\"#f0f921\"]],\"type\":\"histogram2d\"}],\"histogram2dcontour\":[{\"colorbar\":{\"outlinewidth\":0,\"ticks\":\"\"},\"colorscale\":[[0.0,\"#0d0887\"],[0.1111111111111111,\"#46039f\"],[0.2222222222222222,\"#7201a8\"],[0.3333333333333333,\"#9c179e\"],[0.4444444444444444,\"#bd3786\"],[0.5555555555555556,\"#d8576b\"],[0.6666666666666666,\"#ed7953\"],[0.7777777777777778,\"#fb9f3a\"],[0.8888888888888888,\"#fdca26\"],[1.0,\"#f0f921\"]],\"type\":\"histogram2dcontour\"}],\"mesh3d\":[{\"colorbar\":{\"outlinewidth\":0,\"ticks\":\"\"},\"type\":\"mesh3d\"}],\"parcoords\":[{\"line\":{\"colorbar\":{\"outlinewidth\":0,\"ticks\":\"\"}},\"type\":\"parcoords\"}],\"pie\":[{\"automargin\":true,\"type\":\"pie\"}],\"scatter\":[{\"marker\":{\"colorbar\":{\"outlinewidth\":0,\"ticks\":\"\"}},\"type\":\"scatter\"}],\"scatter3d\":[{\"line\":{\"colorbar\":{\"outlinewidth\":0,\"ticks\":\"\"}},\"marker\":{\"colorbar\":{\"outlinewidth\":0,\"ticks\":\"\"}},\"type\":\"scatter3d\"}],\"scattercarpet\":[{\"marker\":{\"colorbar\":{\"outlinewidth\":0,\"ticks\":\"\"}},\"type\":\"scattercarpet\"}],\"scattergeo\":[{\"marker\":{\"colorbar\":{\"outlinewidth\":0,\"ticks\":\"\"}},\"type\":\"scattergeo\"}],\"scattergl\":[{\"marker\":{\"colorbar\":{\"outlinewidth\":0,\"ticks\":\"\"}},\"type\":\"scattergl\"}],\"scattermapbox\":[{\"marker\":{\"colorbar\":{\"outlinewidth\":0,\"ticks\":\"\"}},\"type\":\"scattermapbox\"}],\"scatterpolar\":[{\"marker\":{\"colorbar\":{\"outlinewidth\":0,\"ticks\":\"\"}},\"type\":\"scatterpolar\"}],\"scatterpolargl\":[{\"marker\":{\"colorbar\":{\"outlinewidth\":0,\"ticks\":\"\"}},\"type\":\"scatterpolargl\"}],\"scatterternary\":[{\"marker\":{\"colorbar\":{\"outlinewidth\":0,\"ticks\":\"\"}},\"type\":\"scatterternary\"}],\"surface\":[{\"colorbar\":{\"outlinewidth\":0,\"ticks\":\"\"},\"colorscale\":[[0.0,\"#0d0887\"],[0.1111111111111111,\"#46039f\"],[0.2222222222222222,\"#7201a8\"],[0.3333333333333333,\"#9c179e\"],[0.4444444444444444,\"#bd3786\"],[0.5555555555555556,\"#d8576b\"],[0.6666666666666666,\"#ed7953\"],[0.7777777777777778,\"#fb9f3a\"],[0.8888888888888888,\"#fdca26\"],[1.0,\"#f0f921\"]],\"type\":\"surface\"}],\"table\":[{\"cells\":{\"fill\":{\"color\":\"#EBF0F8\"},\"line\":{\"color\":\"white\"}},\"header\":{\"fill\":{\"color\":\"#C8D4E3\"},\"line\":{\"color\":\"white\"}},\"type\":\"table\"}]},\"layout\":{\"annotationdefaults\":{\"arrowcolor\":\"#2a3f5f\",\"arrowhead\":0,\"arrowwidth\":1},\"autotypenumbers\":\"strict\",\"coloraxis\":{\"colorbar\":{\"outlinewidth\":0,\"ticks\":\"\"}},\"colorscale\":{\"diverging\":[[0,\"#8e0152\"],[0.1,\"#c51b7d\"],[0.2,\"#de77ae\"],[0.3,\"#f1b6da\"],[0.4,\"#fde0ef\"],[0.5,\"#f7f7f7\"],[0.6,\"#e6f5d0\"],[0.7,\"#b8e186\"],[0.8,\"#7fbc41\"],[0.9,\"#4d9221\"],[1,\"#276419\"]],\"sequential\":[[0.0,\"#0d0887\"],[0.1111111111111111,\"#46039f\"],[0.2222222222222222,\"#7201a8\"],[0.3333333333333333,\"#9c179e\"],[0.4444444444444444,\"#bd3786\"],[0.5555555555555556,\"#d8576b\"],[0.6666666666666666,\"#ed7953\"],[0.7777777777777778,\"#fb9f3a\"],[0.8888888888888888,\"#fdca26\"],[1.0,\"#f0f921\"]],\"sequentialminus\":[[0.0,\"#0d0887\"],[0.1111111111111111,\"#46039f\"],[0.2222222222222222,\"#7201a8\"],[0.3333333333333333,\"#9c179e\"],[0.4444444444444444,\"#bd3786\"],[0.5555555555555556,\"#d8576b\"],[0.6666666666666666,\"#ed7953\"],[0.7777777777777778,\"#fb9f3a\"],[0.8888888888888888,\"#fdca26\"],[1.0,\"#f0f921\"]]},\"colorway\":[\"#636efa\",\"#EF553B\",\"#00cc96\",\"#ab63fa\",\"#FFA15A\",\"#19d3f3\",\"#FF6692\",\"#B6E880\",\"#FF97FF\",\"#FECB52\"],\"font\":{\"color\":\"#2a3f5f\"},\"geo\":{\"bgcolor\":\"white\",\"lakecolor\":\"white\",\"landcolor\":\"#E5ECF6\",\"showlakes\":true,\"showland\":true,\"subunitcolor\":\"white\"},\"hoverlabel\":{\"align\":\"left\"},\"hovermode\":\"closest\",\"mapbox\":{\"style\":\"light\"},\"paper_bgcolor\":\"white\",\"plot_bgcolor\":\"#E5ECF6\",\"polar\":{\"angularaxis\":{\"gridcolor\":\"white\",\"linecolor\":\"white\",\"ticks\":\"\"},\"bgcolor\":\"#E5ECF6\",\"radialaxis\":{\"gridcolor\":\"white\",\"linecolor\":\"white\",\"ticks\":\"\"}},\"scene\":{\"xaxis\":{\"backgroundcolor\":\"#E5ECF6\",\"gridcolor\":\"white\",\"gridwidth\":2,\"linecolor\":\"white\",\"showbackground\":true,\"ticks\":\"\",\"zerolinecolor\":\"white\"},\"yaxis\":{\"backgroundcolor\":\"#E5ECF6\",\"gridcolor\":\"white\",\"gridwidth\":2,\"linecolor\":\"white\",\"showbackground\":true,\"ticks\":\"\",\"zerolinecolor\":\"white\"},\"zaxis\":{\"backgroundcolor\":\"#E5ECF6\",\"gridcolor\":\"white\",\"gridwidth\":2,\"linecolor\":\"white\",\"showbackground\":true,\"ticks\":\"\",\"zerolinecolor\":\"white\"}},\"shapedefaults\":{\"line\":{\"color\":\"#2a3f5f\"}},\"ternary\":{\"aaxis\":{\"gridcolor\":\"white\",\"linecolor\":\"white\",\"ticks\":\"\"},\"baxis\":{\"gridcolor\":\"white\",\"linecolor\":\"white\",\"ticks\":\"\"},\"bgcolor\":\"#E5ECF6\",\"caxis\":{\"gridcolor\":\"white\",\"linecolor\":\"white\",\"ticks\":\"\"}},\"title\":{\"x\":0.05},\"xaxis\":{\"automargin\":true,\"gridcolor\":\"white\",\"linecolor\":\"white\",\"ticks\":\"\",\"title\":{\"standoff\":15},\"zerolinecolor\":\"white\",\"zerolinewidth\":2},\"yaxis\":{\"automargin\":true,\"gridcolor\":\"white\",\"linecolor\":\"white\",\"ticks\":\"\",\"title\":{\"standoff\":15},\"zerolinecolor\":\"white\",\"zerolinewidth\":2}}},\"xaxis\":{\"anchor\":\"y\",\"domain\":[0.0,1.0],\"title\":{\"text\":\"owner\"}},\"yaxis\":{\"anchor\":\"x\",\"domain\":[0.0,1.0],\"title\":{\"text\":\"count\"}},\"legend\":{\"tracegroupgap\":0},\"margin\":{\"t\":60},\"barmode\":\"relative\"},                        {\"responsive\": true}                    ).then(function(){\n",
              "                            \n",
              "var gd = document.getElementById('808ebf16-9926-4607-82fb-cd6b64f267db');\n",
              "var x = new MutationObserver(function (mutations, observer) {{\n",
              "        var display = window.getComputedStyle(gd).display;\n",
              "        if (!display || display === 'none') {{\n",
              "            console.log([gd, 'removed!']);\n",
              "            Plotly.purge(gd);\n",
              "            observer.disconnect();\n",
              "        }}\n",
              "}});\n",
              "\n",
              "// Listen for the removal of the full notebook cells\n",
              "var notebookContainer = gd.closest('#notebook-container');\n",
              "if (notebookContainer) {{\n",
              "    x.observe(notebookContainer, {childList: true});\n",
              "}}\n",
              "\n",
              "// Listen for the clearing of the current output cell\n",
              "var outputEl = gd.closest('.output');\n",
              "if (outputEl) {{\n",
              "    x.observe(outputEl, {childList: true});\n",
              "}}\n",
              "\n",
              "                        })                };                            </script>        </div>\n",
              "</body>\n",
              "</html>"
            ]
          },
          "metadata": {}
        }
      ]
    },
    {
      "cell_type": "code",
      "source": [
        "fig = px.scatter(df, x='km_driven', y='selling_price')\n",
        "fig.show()"
      ],
      "metadata": {
        "colab": {
          "base_uri": "https://localhost:8080/",
          "height": 542
        },
        "id": "Yb63qASOT2Hv",
        "outputId": "4ef94f23-111a-4bae-bd2f-0e92a217d5ae"
      },
      "execution_count": null,
      "outputs": [
        {
          "output_type": "display_data",
          "data": {
            "text/html": [
              "<html>\n",
              "<head><meta charset=\"utf-8\" /></head>\n",
              "<body>\n",
              "    <div>            <script src=\"https://cdnjs.cloudflare.com/ajax/libs/mathjax/2.7.5/MathJax.js?config=TeX-AMS-MML_SVG\"></script><script type=\"text/javascript\">if (window.MathJax) {MathJax.Hub.Config({SVG: {font: \"STIX-Web\"}});}</script>                <script type=\"text/javascript\">window.PlotlyConfig = {MathJaxConfig: 'local'};</script>\n",
              "        <script src=\"https://cdn.plot.ly/plotly-2.8.3.min.js\"></script>                <div id=\"ec4b6e08-26a9-4e5a-80f3-b52cd790ae45\" class=\"plotly-graph-div\" style=\"height:525px; width:100%;\"></div>            <script type=\"text/javascript\">                                    window.PLOTLYENV=window.PLOTLYENV || {};                                    if (document.getElementById(\"ec4b6e08-26a9-4e5a-80f3-b52cd790ae45\")) {                    Plotly.newPlot(                        \"ec4b6e08-26a9-4e5a-80f3-b52cd790ae45\",                        [{\"hovertemplate\":\"km_driven=%{x}<br>selling_price=%{y}<extra></extra>\",\"legendgroup\":\"\",\"marker\":{\"color\":\"#636efa\",\"symbol\":\"circle\"},\"mode\":\"markers\",\"name\":\"\",\"showlegend\":false,\"x\":[70000,50000,100000,46000,141000,125000,25000,60000,25000,78000,35000,100000,25000,70000,50000,100000,46000,141000,125000,25000,60000,25000,78000,35000,100000,25000,24000,5000,33000,28000,59000,4500,175900,14500,15000,50000,33800,130400,50000,80000,10000,119000,60000,75800,78000,40000,50000,74000,64000,60000,120000,79000,15000,80000,18500,10200,29000,28000,46000,70000,60000,35000,90000,80000,80000,73300,92000,66764,100000,350000,230000,60000,31000,39000,120000,166000,110000,35000,60000,54000,63000,120000,120000,76000,80000,25000,11958,20000,9000,6500,70000,120000,58000,62200,34000,53000,49000,15000,50000,53000,63500,9800,13000,21000,29173,48000,120000,100000,30000,87000,15000,16000,60000,60000,110000,25000,60000,79350,80000,90000,90000,120000,60000,50000,20000,110000,50000,100000,70000,70000,50000,81000,120000,3600,14272,49213,40000,40000,80000,70000,70000,57000,120000,30000,3240,5000,10000,100000,80000,70000,35000,114000,53772,140000,120000,60000,25000,90000,120000,175000,100000,36000,30000,40000,70000,60000,155500,50000,40000,100000,80000,90000,90000,110000,15000,100000,40000,60000,25000,25000,23000,22155,70000,60000,110000,30000,15000,100000,70000,24000,120000,35000,78380,110000,90000,90000,150000,230000,70000,80362,110000,60000,50000,40000,40000,20000,55000,1136,55000,43000,60000,2650,40000,15000,115962,65000,40000,58000,15000,54000,56000,120000,90000,70000,90000,213000,120000,20000,10000,80000,90000,80000,60000,139000,160000,150000,163000,120000,120000,100000,140000,87000,70000,50000,70000,150000,25000,80000,10000,32000,10000,52000,120000,11240,66000,64000,49000,100000,26500,100000,72000,50000,44000,60000,120000,130000,70000,20000,60000,195000,90000,80000,155000,35000,20000,80000,20000,50000,110000,29000,120000,70000,40000,20000,50000,50000,49000,70000,90000,25000,4000,10000,15000,30000,41000,28000,16000,70000,10832,14681,50000,51000,25000,30000,80000,50000,200000,44000,10000,19600,40000,50000,46730,40000,80000,80000,24000,21170,167223,40000,60000,141440,120000,140000,212814,30000,88635,25000,20000,110000,120000,149674,100000,120000,120000,25000,35000,40000,60000,50000,25000,25000,8000,60000,200000,20000,100000,70000,68000,38000,80000,72000,75000,43000,120000,100000,163000,25000,25000,90000,70000,98000,81925,80000,40000,90000,46000,80000,35000,82080,200000,70000,40000,120000,60000,110000,97000,30000,40000,10000,52047,200000,15000,50000,70000,10000,90000,40000,62009,33100,40000,120000,80000,70000,220000,50000,45000,110000,49000,35000,160000,180000,60000,110000,60000,30000,40000,70000,120000,80000,120000,20000,22000,35000,120000,8000,40000,10000,30000,54000,80577,25000,127500,40903,60000,46000,22288,180000,30000,61690,64484,90000,75976,70000,85962,120000,120000,75000,57035,70000,45000,72104,15000,30000,80000,164000,124439,77000,90000,30000,50000,80000,5000,24000,10000,78000,50000,100000,20000,1250,17152,5000,77000,90000,80000,65000,80000,24005,20000,120000,120000,80000,80000,100000,120000,149000,65000,100000,65000,19000,80000,30000,109000,90000,90000,65000,110000,120000,44000,80000,5000,61000,100000,27633,100000,100000,12586,38083,55328,81632,155201,93283,217871,90165,101504,86017,85036,91086,160254,125531,60000,100000,90000,120000,82000,60000,24000,120000,65000,65000,84000,75000,50000,50000,49000,560000,14365,41000,65000,65000,61083,75000,72000,65000,55000,21000,66363,11700,10000,100000,7104,45974,55340,20000,61585,39415,29654,64672,54634,66521,23974,43000,1000,10000,86000,30000,52600,110000,19890,7104,11918,10510,41000,47162,45974,49824,58500,56580,52000,55340,46507,1000,10000,86000,30000,52600,110000,19890,7104,11918,10510,41000,47162,45974,49824,58500,56580,52000,55340,46507,1000,10000,86000,30000,52600,110000,19890,7104,11918,10510,41000,47162,45974,49824,58500,56580,52000,55340,46507,1000,10000,86000,30000,52600,110000,19890,7104,11918,10510,41000,47162,45974,49824,58500,56580,52000,55340,46507,50000,30000,50000,100000,35000,90000,11451,60000,172000,60000,150000,66000,5000,66508,55000,29900,3000,85000,50000,120000,90000,8000,7900,50000,25000,20000,17500,25000,206500,88600,80000,100000,186000,60000,11000,30000,80000,60000,100000,15000,90000,120000,100000,138000,110000,120000,70000,70000,140000,15000,20000,100000,70000,5000,27974,40000,80000,38000,38000,35000,60000,120000,18000,10000,90000,80000,1400,60000,60000,53000,100000,86000,100000,30000,120000,60000,50000,124000,100000,42000,100000,28205,32670,30093,56228,59319,39503,35299,51687,76259,44049,45087,41125,42215,54206,52547,59110,54565,47564,45143,61624,195000,50000,68000,120000,20000,30000,60000,90000,90000,25000,40000,110000,132000,10980,20629,50000,30000,69782,54000,63654,60000,52000,59385,70378,55425,78413,40890,34823,75000,55545,56541,43700,120000,20000,27483,8000,30000,56207,70000,1440,50000,20000,91195,63657,60000,75000,97248,46000,10000,80000,100000,35000,50000,90000,150000,89000,60000,100000,100000,90000,75000,36000,12000,12997,40000,60000,25000,26430,24600,28481,100000,41988,30375,7658,34400,18500,48000,28942,50000,53600,53652,25000,80000,50000,15000,5000,106000,100000,60000,120000,82000,35000,205000,125000,130000,97000,90000,60000,60000,35000,25000,15000,20000,20000,70000,90000,80000,79500,70000,5000,15000,35000,120000,15000,60000,120000,90000,90000,10000,72000,197000,70000,50000,50000,60000,40000,60000,40000,9161,45000,110000,80000,100000,90000,70000,80000,110000,50000,5000,90000,120000,80000,38000,120000,90000,50000,60000,100000,19000,200000,70000,50000,19077,30000,80000,128000,80000,100000,50000,56000,21302,10500,107000,60000,120000,70000,50000,70000,1000,10000,86000,30000,52600,110000,19890,7104,11918,10510,41000,47162,45974,49824,58500,56580,52000,55340,46507,1000,10000,86000,30000,52600,110000,19890,7104,11918,10510,41000,47162,45974,49824,58500,56580,52000,55340,46507,55300,74300,48781,87620,40219,11473,8352,9745,9748,49000,20694,31080,37605,55850,58850,23839,54000,38000,45454,46957,60000,25000,110000,190000,25000,90000,5000,60000,1500,50000,120000,120000,5000,47000,20000,120000,58000,35000,30000,10000,25000,20000,50000,42000,50000,116000,100000,66000,110000,70000,60000,110000,25000,68000,20000,110000,26350,90000,25000,50000,60000,70000,90000,70000,26500,60000,35000,10000,15000,25000,50000,25000,52000,15000,20000,90000,60000,23000,22155,20000,70000,60000,35000,71042,167870,133564,10000,40000,30000,23038,70000,30000,19890,11918,10510,41000,47162,49824,58500,43608,11212,52000,49217,90000,70000,90000,190000,106000,80000,80000,20000,110000,60000,130000,28838,200000,100000,50000,190000,100000,135000,50000,135000,50000,19571,29600,70000,15000,50000,13500,22000,25000,80000,39000,60000,49000,48600,20000,25000,120000,30000,35000,86000,127643,54000,102354,62237,90000,21394,32686,1001,22000,53261,53000,10000,14000,44000,39895,73000,17000,18591,26766,30000,42000,110000,100000,300000,110000,27620,70000,50000,50000,46000,82000,120000,80000,70000,20000,200000,120000,30000,223000,60000,40000,161327,60000,50000,6000,68000,85000,70000,35000,100000,110000,195000,46000,60000,46000,42000,90000,85000,120000,72000,71000,110000,71000,144000,30000,65000,38000,90000,37000,30000,26000,30000,23000,40000,27000,65000,32000,56000,30000,80000,52000,13250,36000,73000,60000,60000,110000,70000,60000,90000,80000,101000,44000,45000,120000,90000,120000,13500,10000,25000,8500,120000,120000,90246,90000,40000,60000,32000,60400,70950,90000,72000,90000,10000,25000,80000,10000,1100,40000,10000,31491,107143,15000,50000,100000,60000,85000,40000,80000,82000,70000,70000,20000,35000,80000,40000,46412,150000,50000,15000,60000,25000,90000,60000,65000,40000,50000,80000,107500,135000,43826,55838,112880,90000,40000,66000,30300,85000,80659,81324,127884,50000,25000,66755,123084,806599,95851,50000,50000,60000,15000,40000,20000,120000,110000,234000,70000,110000,84000,170000,40000,96000,20000,15000,50000,80000,124000,70000,130000,19014,23262,29600,35925,12000,40771,30500,42000,55800,66569,81358,82695,68293,32000,190621,60000,64700,100000,88470,75000,120000,35000,70000,57000,1000,120000,98000,90000,70000,25000,60000,90000,200000,110000,126000,70000,5000,74183,70000,90000,46000,110000,80000,90000,70000,1,192000,70000,120000,60000,120000,120000,50000,120000,80000,80000,100000,1500,50000,100000,83411,120000,83411,80000,50000,40000,13270,100000,50000,26500,90000,100000,35000,57000,70000,100000,88000,60000,76000,100000,110000,80000,80000,30000,20000,40000,40000,7000,80000,90000,13770,34000,102000,110000,90000,70000,90000,70000,80000,100000,100000,143000,115000,100000,120000,42000,38000,35000,120000,136906,97000,10000,50000,60000,120000,120000,90000,120000,3000,133000,25000,35000,70000,52000,52000,39000,28689,90000,80322,8000,50000,90000,61658,50000,80000,185000,57000,60000,120000,26000,20000,30600,5000,35000,35000,23000,120000,235000,87000,72000,64000,100000,12000,67000,70000,60000,74500,118700,40000,223660,140000,5000,100000,100000,2000,4000,120000,35000,29000,30000,120000,110000,15000,73756,40000,60000,60000,90000,70000,70000,80000,27000,70000,50000,185000,90000,16400,80000,80000,4000,40000,120000,41395,35000,52000,47000,50000,48000,53000,213000,15000,7000,88000,55000,48000,71014,60000,71000,45000,45000,20000,14000,17000,60000,80000,181000,89550,90000,149500,190000,83000,20000,20000,160000,100000,45000,44800,40000,120000,10000,80000,10000,156000,120000,100000,100000,100000,60000,30000,170000,100000,110000,170000,100000,35000,40000,90000,120000,120000,25000,15000,41000,16000,51000,30000,80000,50000,44000,10000,33000,25000,66000,48000,146000,100000,50000,50000,50000,99000,50000,80000,45000,50000,70000,37516,20000,5000,8000,25880,10000,50000,40000,100000,80000,110000,136000,80000,50000,30000,10000,90000,110000,120000,90000,20000,90000,50000,9000,70000,25000,10000,90000,60000,70000,25000,80000,70000,60000,20000,60000,80000,70000,2020,100000,80000,120000,100000,60000,110000,90000,40000,60000,94000,100000,25000,90000,40000,90000,1100,70000,120000,88500,70000,128000,120000,52536,70000,60000,110000,85000,135000,86000,50000,1950,118400,70000,60000,68000,46507,6480,32077,19107,18469,28217,72787,31063,79641,58692,54784,64156,54000,97000,120000,16000,60000,52000,110000,60000,100000,35000,48000,20000,30000,40000,60000,70000,120000,30000,80000,9500,80000,80000,29000,120000,60000,20000,22000,50000,50000,81366,110000,100000,300000,20000,90000,70000,120000,53000,30000,90000,90000,244000,120000,60000,15000,150000,30000,312000,54000,67000,40000,100000,100000,80000,145000,53000,73000,90000,80000,100000,90000,200000,7300,30000,120000,90000,25000,70000,6000,36000,49000,22000,35000,24000,20000,50000,70000,60000,35000,60000,60000,60000,70000,135000,72539,25000,50000,101,101,101,52328,30000,91505,35000,60000,20500,200000,154000,120000,50000,135000,100000,40000,70000,133000,110000,180000,120000,80000,15000,70000,41723,70000,20000,1000,26350,68745,47000,27289,24662,37000,28245,27005,39227,31367,35008,27005,100005,45264,39093,45241,12000,2769,43128,110000,50000,60000,70000,22255,59213,55000,80000,80000,40000,170000,170000,70000,1010,1010,1111,1010,1010,1010,1010,1010,120000,70000,60000,70000,110000,80000,80000,110000,50000,115000,80000,25000,48965,5166,76290,70000,35000,25000,25000,47000,45766,78771,79357,28000,72000,76736,70000,80000,60000,77000,92645,101849,120000,80000,70000,120000,42000,120000,155836,59000,60000,70000,20000,120000,40000,90000,89000,80000,200000,50000,35000,1000,10000,86000,30000,52600,110000,19890,7104,11918,10510,41000,47162,45974,49824,58500,56580,52000,55340,46507,200000,120000,90000,65000,50000,33000,38000,40000,55000,26000,80000,40000,120000,63230,120000,100000,77000,30000,40000,35000,5000,35000,90000,65000,80000,50000,33000,38000,40000,55000,15000,26000,80000,80000,40000,120000,70000,63230,120000,45000,40000,100000,110000,90000,25000,47000,60000,120000,120000,140000,1001,1758,1452,35122,92621,92198,5000,50000,74000,40000,22000,100000,40000,30000,23000,30000,50000,100000,70000,60000,90000,230000,40000,15000,40000,50000,50000,8000,35000,80000,50000,80000,90000,30000,70000,80000,60000,35000,70000,100000,152000,70000,90000,40000,50000,15000,120000,78322,110000,80000,120000,125000,8000,13000,80000,54309,70000,34600,25000,80000,55000,5000,30000,31000,50000,38217,50000,120000,110000,40000,50000,10000,10000,100000,60000,30000,23000,30000,50000,25000,15000,30000,45000,44800,50000,52000,50000,35000,100000,100000,40000,60000,77000,60000,77073,70000,90000,186000,90000,100000,80000,150000,80000,35000,70000,50000,25000,120000,70000,106000,120000,120000,160000,120000,10000,50000,90000,70000,100000,100000,80000,16584,38000,51000,38000,35000,120000,38000,144000,64000,60000,65000,24000,58000,58000,68000,81257,44000,45000,75000,90000,80000,35000,25000,90000,25000,110000,35000,10000,10000,70000,110000,5000,120000,90000,70000,90000,120000,110000,50000,58000,15000,60000,57000,87000,70000,30000,80000,100000,40000,3917,160000,35000,70000,69069,13500,59059,70000,39039,33033,55168,41041,67067,66066,82082,48000,30000,70070,10000,25000,30000,50000,63063,70000,90000,90000,90000,30000,80000,120000,22000,140000,80000,40000,33000,40000,10500,107000,60000,120000,70000,50000,70000,6000,78000,72000,9528,135200,58000,78000,45000,35000,76000,100000,99000,80000,120000,1100,34000,68000,15000,58000,50300,70000,60000,90000,40000,80000,15000,45000,130000,80000,40000,80000,100000,151624,160000,110000,74820,82000,50000,70000,1000,170000,150000,17000,150000,80000,170000,120000,90000,90000,100000,90000,129000,186000,66778,50000,110000,60000,40000,55000,21000,66363,11700,10000,100000,7104,45974,55340,20000,61585,39415,29654,64672,54634,66521,3000,23974,10000,50000,70000,73000,76000,120000,170000,110000,63400,25000,80000,90000,157000,80000,40000,100000,50000,40000,38500,103921,10000,14825,43377,102307,79000,135000,10500,90000,110000,50000,80000,19571,100000,29600,20000,30000,154000,70000,15000,40000,51000,120000,50000,13500,35000,1000,10000,86000,30000,52600,110000,19890,7104,11918,10510,41000,47162,45974,49824,58500,56580,52000,55340,46507,1000,10000,86000,30000,52600,110000,19890,7104,11918,10510,41000,47162,45974,49824,58500,56580,52000,55340,46507,70000,60000,70000,10000,245244,60000,30000,8000,10000,100000,110000,56580,45000,68500,5007,30000,70000,49600,23000,30000,38000,22000,43100,10171,41123,20118,40000,52517,20000,99117,90000,3700,80000,100000,54000,19000,120000,30000,43500,60000,70000,135000,50000,19571,29600,70000,15000,50000,13500,22000,25000,80000,39000,60000,49000,48600,20000,25000,120000,30000,35000,90000,80000,35000,25000,90000,25000,20000,60000,58000,40000,70000,70000,60000,135000,70000,40000,75000,150000,140000,70000,137250,110000,27000,9000,5400,1000,16000,13000,47000,22000,30000,20000,60000,75000,64000,80000,90000,30000,120000,20000,100000,31000,47000,11200,35000,50000,55000,20000,75000,93000,57000,30000,73000,65000,62000,85000,73000,55000,5800,350000,30000,20000,20000,100000,65000,90000,267000,250000,140000,22000,60000,28635,32114,82000,95149,68458,42000,90000,30000,80000,128000,80000,100000,50000,56000,21302,100000,80000,105546,10000,80000,35000,11240,120000,120000,70000,130000,40000,60000,110000,130000,80000,120000,104000,100000,132343,90000,60000,76000,60000,30000,96000,10000,36000,12997,40000,26430,24600,28481,100000,41988,30375,7658,34400,18500,26134,28942,53600,53652,52895,42324,65000,60236,70000,70000,100000,110000,10300,120000,142000,25000,5000,52600,28643,50000,30000,5000,30000,7600,47253,4432,110000,25000,70000,68523,5000,40000,43000,80251,34500,42743,93900,80000,110000,100000,25000,25000,25000,20000,10000,30000,110000,80000,21000,20000,32000,180000,70000,50000,50000,120000,55766,40000,60000,50000,110000,1000,26350,110000,68745,132000,35000,47000,100000,80000,40000,27289,10980,24662,37000,28245,27005,39227,31367,35008,27005,86000,50000,20000,50000,80000,135000,120000,113600,70000,20000,14000,26000,138925,121764,105429,35000,60000,5000,70000,80000,20000,8000,54000,55300,11958,9000,70000,120000,23122,58000,62200,34000,53000,49000,15000,44500,50000,53000,63500,9800,13599,13000,110000,100000,110000,90000,17000,140000,50000,53000,70000,70000,154000,80000,110000,90000,15000,86000,120000,5200,60000,46000,40000,90000,25000,90000,70000,70000,35000,12700,80000,20000,20000,19000,95000,9500,50000,90000,45839,74510,87293,156040,93415,101159,80000,12000,90000,68519,55130,65239,58182,91245,102989,50000,120000,90000,25000,80000,100000,70000,50000,100000,90000,60000,120000,90000,60000,30000,108000,160000,90000,120000,102000,178000,200000,60000,3000,75118,140000,60000,79000,25000,70000,41723,70000,70000,4637,70000,100000,120000,40000,220000,20000,19000,95000,30000,42655,43000,70000,55000,80000,55000,70000,80000,110000,60000,30000,80000,90000,50000,50000,70000,110000,80000,156000,180000,25000,120000,11000,40000,50000,26000,30000,50000,20000,30000,78000,40000,100000,70000,30000,77000,150000,69000,120000,120000,110000,70000,110000,50000,44000,90000,50000,50000,146000,15000,60000,35000,80000,90000,70000,62000,10000,80000,35000,1000,10000,86000,30000,52600,110000,19890,7104,11918,10510,41000,47162,45974,49824,58500,56580,52000,55340,46507,40000,40000,120000,60000,90000,250000,15000,30000,15000,55766,80000,117000,70000,110000,100000,105000,182000,95000,70000,76000,70000,46000,70000,120000,25000,90000,50000,24585,70000,110000,10000,100000,110000,100000,65000,40000,13900,17563,15000,82000,40000,173000,151000,50000,15000,80000,11000,50000,120000,70000,90000,185000,40000,25000,117780,120000,120000,120000,110000,30000,30000,60000,25000,55000,20000,100000,40000,80000,80000,35000,110000,160000,125000,62000,120000,33000,80000,35000,50000,5000,12000,81595,22000,40000,40000,70000,4000,24000,13500,40000,9700,62000,24000,13000,50000,36000,40000,27000,40000,80000,221000,80000,119000,190000,25000,28740,48500,110000,30000,120000,130000,140000,90000,50000,50000,60000,15000,45000,80000,15000,20000,37000,80000,120000,20000,25000,96000,54000,53000,65000,43000,42000,73000,29000,95000,25000,53000,20000,57000,52000,40000,47000,47000,73000,42000,60000,50000,120000,50000,70000,25000,11000,80000,80000,75000,45000,100000,60000,160000,50000,80000,60000,60000,148620,70000,42000,40000,150000,30000,90000,120000,80000,80000,50000,70000,120000,70000,55300,74300,48781,87620,40219,11473,8352,9745,9748,49000,20694,31080,37605,55850,58850,23839,54000,38000,45454,46957,8000,30000,110000,223000,110000,120000,100000,100000,60000,270000,60000,41090,296823,40000,40000,70000,80000,90000,19000,110000,60000,19000,68000,120000,30000,90000,140000,44500,52000,26000,26000,80000,35000,60000,120000,58000,100000,43700,120000,80000,20000,25000,27483,8000,30000,30000,100000,56207,40000,70000,1440,12000,50000,35000,50000,60000,67000,100000,60000,70000,50000,120000,100000,90000,80000,90000,157000,20000,80000,60000,49000,89255,5000,110000,200000,90000,63000,23000,100000,168000,90000,70000,5550,100000,80000,40000,100000,35000,75000,150000,16000,70000,115000,25000,10000,15000,10000,80000,1700,45217,97000,20000,50000,120000,50000,40000,110000,155000,70000,70000,100000,41000,60000,56000,60000,97000,60000,60000,48000,190000,80000,70000,80000,30000,44440,30000,120000,80000,110000,170000,46000,120000,91365,90010,80000,35000,80000,31800,59100,31200,51000,22700,58000,50900,10000,60000,80000,72000,96000,66000,80000,90000,70000,75000,2417,100000,30000,50000,60000,120000,7000,35000,110000,130000,25000,35000,80000,70000,23000,40000,110000,10000,80000,25000,74000,60000,70000,100000,146000,120000,70000,120000,65500,70000,50000,90000,120000,56000,70000,140300,70000,36000,12997,40000,25000,26430,24600,28481,100000,41988,7658,30375,34400,18500,48000,28942,50000,53600,53652,23000,10211,120000,120000,35000,130000,90000,80000,55000,15000,260000,145000,35000,56000,98000,135000,60000,120000,102000,35000,80000,13599,32933,54551,57112,41025,5000,5000,53122,64111,78892,74113,80000,39000,84775,20778,64441,43192,44416,79991,62601,50000,100000,97000,100000,100000,20000,46000,40000,70000,89600,60800,104000,80000,69111,70000,120000,40000,100000,20000,50000,50000,70000,90000,150000,120000,100000,70000,70000,50000,81000,120000,3600,14272,49213,40000,40000,80000,70000,70000,57000,120000,30000,3240,5000,10000,90000,100000,90000,140000,13770,4637,100000,60000,80000,50000,40000,93900,70000,120000,40000,120000,80000,110000,34000,20000,117000,1500,48965,55000,60000,40000,80000,11000,110000,19890,20969,20194,34982,44588,57904,59258,60826,50000,35000,110000,40000,10000,50000,25000,25000,1300,40000,50000,20000,76000,100000,120000,70000,70000,60000,38000,19000,75000,70000,30000,31707,180000,90000,30000,60000,90000,120000,70000,70000,26500,50000,52000,160000,115992,110000,97000,100000,41000,90000,90000,25000,70000,60000,30000,30000,60000,73000,100000,32000,26500,50000,110000,84000,50000,110000,150000,109052,90658,110000,25000,20000,80000,60000,81000,15000,75000,25552,20000,80000,25000,40700,65500,42000,8000,80000,77000,6000,28838,11174,120000,80000,85000,10000,105000,120000,30000,41000,54000,40000,71000,72500,76600,40000,110000,63000,60000,58000,80000,80000,70000,97700,36000,90000,130000,120000,15000,120000,170000,37500,50000,145000,60000,30000,35000,60000,35000,40000,50000,23800,70000,90000,102000,80000,5000,10000,50000,15000,35000,20000,99000,90000,47000,90000,20000,1100,40000,15000,40000,60000,20000,5000,27000,38000,25000,1100,100000,100000,110000,60000,70000,110000,44077,24000,30000,30000,40000,90000,50000,100000,50000,210000,20000,70000,100000,160000,70000,9422,110000,20000,20000,70000,60000,150000,83000,250000,30000,21000,80000,50000,50000,48500,60000,90000,240000,70000,50000,110000,50000,175000,60000,60000,100000,40000,100000,63000,80000,55000,55000,60000,5000,48000,80000,50000,15000,70000,105000,50000,80000,50000,5000,58000,12000,10000,45000,10000,50000,40000,100000,80000,110000,120000,10000,60000,72000,60000,110000,50000,25000,120000,55000,35000,110000,80000,80000,120000,100000,60000,25000,19000,54000,17100,19000,146000,98000,224642,120000,175000,15000,50000,15000,25000,25000,69000,60000,222435,66000,110000,78000,10000,35000,10000,40000,120000,70000,40000,20000,93000,159000,75000,101100,66000,30000,10000,126000,70000,50000,100000,60000,70000,1200,40000,80000,134444,120000,120000,238000,100000,110000,35000,165000,42000,70000,60000,115000,70000,80000,65000,150000,75000,63700,74800,105000,40000,90000,75000,15000,30000,100000,155000,149000,60000,90000,100000,100000,90000,75000,120000,90000,55000,70000,95000,50000,50000,60516,235000,76731,64000,65000,13000,77000,24000,63840,25000,76400,70000,70000,80000,100000,40000,15000,70000,15000,40000,54000,90000,52000,200000,35000,60000,31489,40000,110000,50000,44000,90000,50000,50000,81366,110000,300000,70000,100000,70000,50000,180000,50000,90000,110000,26000,65000,130000,75000,110000,50000,80000,80000,60000,90000,36000,87000,80000,50000,60000,50000,40000,60000,55000,80000,295000,80000,50000,158000,400000,25000,35000,12000,70000,4000,10832,50000,19495,62668,85710,55130,63356,129627,15000,50000,70000,20000,60000,5000,15000,4400,15000,45000,1000,38500,25000,35000,110000,40000,110000,20000,14987,25061,42494,44875,89741,65000,35000,347089,34500,30000,39000,16000,80000,60000,110000,61000,29000,50000,90000,35000,43000,50000,25000,222252,50000,80000,35000,85000,110000,70000,100000,120000,89000,120000,40000,17000,125000,110000,120000,90000,90000,110000,87000,15000,70000,38000,64000,55250,110000,70000,60000,17000,13000,60000,120000,97000,130000,50000,120000,68000,100000,80000,67000,60000,5000,20000,12500,4000,25000,70000,162000,205000,70000,70000,100000,70000,220000,80000,120000,22038,80000,90000,140000,120000,60000,80000,60000,90000,80000,175000,10000,65000,90000,70000,2500,35000,40000,63000,88000,55000,71014,60000,70000,60000,92000,89126,134000,15000,42500,42000,70000,110000,131365,48980,46000,60000,58000,22000,37000,70000,98900,125000,60000,80000,80000,40000,80000,30000,35000,180000,60000,86000,127643,34000,145000,25000,54000,102354,70000,70000,36000,58000,100000,62237,90000,100000,14000,21394,13800,23000,32686,99700,5000,49654,45457,39221,48220,11114,60208,80000,98600,13000,30000,18000,100000,58000,85441,64541,35000,30000,16267,71500,12999,80000,90000,28000,200000,14700,90000,50000,100000,24000,100000,90000,30000,80000,92686,300000,90000,60000,40000,90000,80000,100000,20000,51000,120000,55000,6000,40000,15000,50000,90000,38500,35000,49359,70000,90000,50000,108731,120000,60000,90000,140000,80000,90000,40000,14000,70000,55000,60000,74000,45000,38000,24000,29976,41000,15000,36000,30646,23600,71318,78098,30000,45000,67000,14681,25000,18054,40000,30000,80000,20000,40000,120000,120000,97000,70000,120000,88000,38406,54350,32260,58231,59858,73350,88473,96987,77350,61187,68350,81150,30000,30000,120000,180000,50000,80000,280000,90000,250000,90000,110000,80000,35000,15000,52000,140000,60000,17000,70000,97000,125000,300000,120000,87000,75000,60000,25000,26000,78000,26000,35000,100000,80000,90000,80000,100000,20000,51000,120000,55000,6000,40000,15000,50000,90000,38500,35000,49359,70000,90000,50000,108731,120000,40000,120000,100000,110000,80000,90000,60000,75000,20000,80000,105700,14000,70000,28000,51000,56000,35000,24000,64000,120000,37091,80000,38900,60000,110000,100000,85000,140000,20000,15000,40000,50000,20000,50000,100000,9400,12000,14100,21000,28000,35000,31000,58000,25000,72000,89000,160000,30000,37555,14000,56600,110000,50000,5000,100000,120000,67580,100000,60000,125000,120000,130000,250000,52600,82000,19890,40000,78000,48238,38365,23670,49834,57353,68308,63240,60000,100000,60000,90000,1000,6000,50000,90000,30000,140000,65000,38000,80000,50000,110000,90000,37000,30000,26000,128000,30000,23000,120000,40000,27000,65000,32000,52536,100000,80000,90000,60000,55000,90000,50000,90000,25000,61000,30000,45000,60000,75000,140000,56000,62000,58000,49000,56000,73000,69000,10000,110000,116000,40000,30000,109000,90000,7000,120000,64916,37161,15000,118000,50852,30000,77000,70000,120000,40000,33000,53500,40000,82000,60000,24000,120000,65000,65000,84000,75000,50000,50000,49000,560000,14365,41000,65000,65000,61083,75000,72000,65000,60000,5000,80000,51500,120000,79800,97000,6590,49957,43235,50699,126000,140730,46000,80000,256000,120000,40000,40000,40000,135000,50000,98000,70000,50000,30000,120000,70000,35000,70000,35000,70000,50000,90000,90000,70000,50000,120000,230000,70000,100000,15000,80000,25000,52000,66000,64000,49000,100000,72000,50000,44000,101000,55000,115000,100000,52000,105000,170000,105000,60000,25000,218000,25000,52000,66000,64000,49000,100000,72000,50000,44000,101000,55000,115000,100000,52000,105000,170000,105000,60000,25000,218000,58000,110000,1000,100000,110000,40000,52000,80000,52000,124000,210000,66000,120000,40000,90000,120000,110000,56580,45000,50000,68500,5007,30000,70000,49600,23000,30000,38000,22000,40000,43100,15000,35000,10171,41123,20118,15000,10000,170000,20000,82000,60000,50000,70000,66782,130000,120000,75000,40000,90000,150000,60000,112198,60000,130000,175000,120000,90000,170000,80000,80000,83000,90000,40000],\"xaxis\":\"x\",\"y\":[60000,135000,600000,250000,450000,140000,550000,240000,850000,365000,260000,250000,1650000,60000,135000,600000,250000,450000,140000,550000,240000,850000,365000,260000,250000,1650000,585000,1195000,390000,1964999,1425000,975000,1190000,930000,525000,1735000,1375000,450000,900000,1300000,1400000,850000,229999,1550000,1250000,625000,1050000,560000,290000,275000,411000,150000,500000,100000,725000,401000,750000,310000,665000,465000,160000,250000,675000,300000,70000,240000,525000,151000,140000,280000,350000,570000,300000,100000,500000,125000,130000,925000,750000,200000,248000,450000,80000,650000,450000,650000,495000,371000,1025000,8150000,750000,600000,80000,325000,1470000,350000,2800000,210000,450000,1150000,210000,4500000,2750000,1975000,175000,2500000,628000,600000,399000,750000,750000,315000,600000,100000,250000,350000,780000,434000,690000,555000,120000,500000,165000,95000,550000,100000,100000,500000,800000,840000,490000,125000,400000,1000000,530000,840000,229999,40000,130000,200000,120000,75000,250000,100000,280000,540000,700000,525000,430000,65000,800000,75000,210000,195000,400000,170000,225000,210000,240000,300000,99000,620000,500000,2550000,260000,550000,150000,350000,320000,400000,175000,120000,320000,70000,810000,95000,282000,80000,72000,600000,640000,380000,650000,150000,280000,430000,800000,75000,650000,390000,100000,1500000,175000,434999,170000,190000,250000,229999,140000,600000,280000,150000,650000,210000,2900000,425000,265000,890000,365000,350000,685000,940000,1000000,1150000,450000,590000,800000,385000,2000000,235000,640000,52000,80000,140000,120000,89999,180000,1500000,700000,285000,390000,125000,225000,175000,1075000,300000,700000,90000,120000,220000,300000,180000,170000,300000,1050000,300000,465000,130000,434999,500000,200000,625000,110000,800000,490000,880000,290000,115999,360000,65000,685000,300000,680000,1000000,100000,160000,450000,600000,180000,100000,120000,130000,160000,860000,650000,100000,282000,300000,270000,550000,450000,430000,350000,350000,229999,110000,395000,650000,350000,1400000,360000,1300000,800000,229999,315000,125000,700000,160000,530000,624000,250000,585000,500000,350000,495000,500000,430000,345000,500000,425000,80000,106000,180000,250000,350000,60000,900000,700000,2000000,1000000,1375000,1800000,160000,525000,850000,800000,700000,800000,575000,350000,250000,600000,370000,80000,50000,900000,300000,125000,490000,300000,55000,350000,755000,720000,229999,1100000,400000,350000,159000,550000,335000,185000,229999,225000,250000,400000,470000,300000,145000,100000,500000,130000,240000,150000,270000,400000,200000,550000,325000,860000,600000,125000,60000,300000,190000,400000,260000,400000,250000,600000,175000,450000,350000,800000,250000,600000,600000,130000,90000,595000,190000,50000,95000,1000000,220000,400000,315000,1000000,500000,1600000,500000,70000,105000,400000,80000,300000,409999,250000,250000,215000,1400000,475000,475000,75000,200000,575000,150000,850000,350000,550000,330000,1044999,300000,235000,120000,130000,275000,270000,500000,400000,600000,1350000,400000,220000,300000,250000,600000,285000,350000,170000,229999,500000,75000,600000,220000,150000,65000,120000,240000,390000,180000,320000,310000,420000,550000,550000,760000,43000,250000,500000,380000,1850000,350000,195000,225000,1125000,133000,200000,940000,400000,120000,625000,110000,490000,140000,175000,90000,275000,300000,270000,130000,275000,352000,180000,150000,300000,300000,225000,600000,500000,900000,600000,450000,270000,310000,250000,700000,650000,400000,425000,600000,600000,300000,450000,750000,325000,900000,180000,350000,600000,900000,350000,280000,225000,520000,509999,556000,225000,325000,365000,850000,350000,225000,135000,140000,665000,275000,2750000,484999,565000,425000,925000,565000,525000,1650000,295000,2050000,1475000,1100000,4400000,670000,750000,760000,850000,390000,450000,425000,770000,1150000,775000,1725000,2150000,450000,3800000,1580000,4950000,535000,225000,550000,670000,625000,520000,239000,2600000,750000,229999,1300000,80000,385000,760000,600000,450000,3800000,1580000,4950000,535000,225000,550000,670000,625000,520000,239000,2600000,750000,229999,1300000,80000,385000,760000,600000,450000,3800000,1580000,4950000,535000,225000,550000,670000,625000,520000,239000,2600000,750000,229999,1300000,80000,385000,760000,600000,450000,3800000,1580000,4950000,535000,225000,550000,670000,625000,520000,239000,2600000,750000,229999,1300000,80000,385000,760000,600000,350000,114999,380000,95000,900000,200999,229999,800000,150000,600000,150000,150000,380000,80000,225000,75000,1600000,185000,425000,100000,140000,710000,450000,210000,270000,110000,540000,145000,360000,250000,110000,250000,150000,140000,925000,969999,90000,55000,155000,900000,135000,180000,495000,400000,250000,138000,311000,190000,311000,300000,600000,550000,600000,195000,58000,183000,95000,250000,250000,400000,409999,120000,600000,600000,825000,625000,700000,160000,114999,150000,250000,390000,650000,600000,250000,229999,299000,330000,180000,475000,325000,639000,415000,1199000,525000,425000,699000,325000,275000,269000,399000,475000,249000,1549000,254999,269000,665000,299000,265000,211000,599000,55000,550000,4000000,220000,500000,140000,325000,210000,110000,1200000,229999,225000,165000,525000,325000,1500000,400000,550000,98000,900000,700000,890000,490000,525000,330000,550000,790000,350000,1700000,750000,409999,220000,68000,290000,600000,470000,150000,180000,80000,875000,300000,2800000,1330000,220000,250000,919999,380000,450000,770000,550000,320000,400000,450000,220000,400000,530000,390000,185000,300000,575000,300000,425000,350000,550000,500000,600000,300000,1150000,475000,260000,350000,750000,180000,350000,611000,325000,225000,300000,400000,711000,851000,500000,250000,150000,610000,450000,744000,120000,220000,480000,370000,55000,125000,260000,350000,170000,350000,250000,170000,1300000,550000,400000,120000,120000,275000,285000,900000,2500000,620000,1700000,650000,500000,250000,950000,320000,450000,350000,400000,200000,250000,550000,85000,52000,1200000,450000,615000,400000,60000,500000,600000,110000,175000,325000,425000,160000,100000,390000,400000,509999,150000,110000,450000,400000,140000,130000,160000,150000,500000,40000,140000,227000,285000,155000,210000,140000,940000,750000,610000,450000,409999,100000,300000,400000,210000,90000,222000,240000,450000,450000,3800000,1580000,4950000,535000,225000,550000,670000,625000,520000,239000,2600000,750000,229999,1300000,80000,385000,760000,600000,450000,3800000,1580000,4950000,535000,225000,550000,670000,625000,520000,239000,2600000,750000,229999,1300000,80000,385000,760000,600000,735000,285000,350000,290000,890000,385000,425000,525000,550000,271000,1490000,490000,260000,455000,75000,421000,550000,330000,390000,599000,110000,250000,600000,280000,2700000,80000,350000,475000,4700000,500000,250000,100000,350000,4000000,1900000,95000,409999,1050000,320000,1000000,1770000,950000,750000,220000,1000000,660000,716000,675000,385000,325000,950000,400000,250000,4000000,210000,147000,725000,550000,475000,250000,70000,160000,1000000,68000,500000,170000,1300000,1050000,300000,600000,900000,550000,100000,400000,120000,300000,140000,640000,380000,120000,650000,150000,550000,650000,1025000,195000,3800000,1490000,4950000,1140000,95000,3050000,550000,625000,520000,239000,2600000,229999,1300000,585000,825000,280000,725000,300000,375000,310000,375000,1950000,400000,550000,270000,555000,500000,400000,280000,80000,55000,250000,250000,95000,725000,320000,1200000,160000,790000,1200000,175000,950000,340000,825000,3100000,780000,350000,690000,245000,790000,680000,540000,425000,140000,1100000,715000,1580000,1750000,400000,1750000,1850000,114999,950000,310000,575000,490000,480000,3500000,370000,835000,650000,670000,950000,690000,670000,925000,250000,509999,520000,100000,85000,130000,950000,450000,320000,480000,2490000,790000,120000,75000,99000,1015000,250000,520000,1100000,200000,525000,500000,675000,150000,250000,450000,150000,200000,525000,60000,180000,475000,380000,285000,91200,250000,400000,160000,650000,409999,425000,250000,200000,250000,130000,260000,155000,450000,220000,650000,285000,725000,625000,550000,240000,600000,350000,245000,600000,2400000,620000,395000,635000,180000,484999,110000,150000,400000,200000,302000,215000,155000,1000000,550000,200000,750000,90000,80000,229999,350000,325000,450000,250000,225000,150000,110000,150000,165000,610000,170000,150000,300000,375000,390000,600000,204999,270000,375000,700000,455000,375000,341000,200000,450000,170000,1900000,500000,819999,351000,195000,250000,120000,180000,430000,75000,750000,60000,1500000,390000,630000,1085000,190000,550000,200000,165000,260000,151000,780000,175000,170000,210000,90000,535000,195000,140000,350000,425000,300000,340000,250000,170000,315000,200000,300000,300000,380000,250000,310000,260000,150000,85000,280000,850000,375000,125000,250000,715000,220000,110000,150000,300000,220000,75000,100000,380000,100000,480000,300000,190000,190000,650000,300000,700000,310000,500000,415000,395000,430000,215000,550000,415000,450000,285000,580000,300000,1200000,78000,65000,400000,850000,450000,2500000,780000,3200000,350000,285000,525000,550000,580000,75000,185000,110000,180000,350000,60000,695000,2700000,135000,640000,160000,80000,340000,110000,250000,1300000,250000,450000,240000,225000,275000,320000,75000,85000,90000,85000,350000,355000,619000,1700000,55000,95000,300000,81000,1000000,925000,450000,600000,85000,700000,486000,400000,120000,275000,580000,375000,229999,110000,600000,120000,200000,450000,550000,220000,40000,300000,630000,610000,660000,220000,138000,210000,125000,125000,725000,170000,1200000,70000,100000,300000,450000,530000,100000,350000,165000,475000,350000,229999,800000,475000,425000,660000,610000,240000,70000,550000,100000,350000,200000,720000,350000,400000,570000,130000,210000,800000,700000,200000,495000,325000,650000,155000,75000,350000,90000,600000,400000,370000,50000,125000,1800000,650000,800000,802000,2300000,430000,650000,170000,450000,250000,550000,2000000,140000,155000,120000,287000,675000,235000,300000,434999,225000,160000,600000,470000,300000,600000,640000,50000,600000,290000,600000,190000,160000,325000,200000,2800000,125000,155000,550000,130000,80000,500000,250000,580000,60000,300000,200000,1200000,350000,600000,650000,120000,180000,950000,250999,385000,1250000,165000,700000,750000,89999,290000,45000,675000,530000,1485000,325000,400000,380000,750000,390000,110000,1825000,3256000,370000,210000,175000,575000,320000,280000,500000,380000,120000,395000,360000,451000,175000,170000,100000,150000,149000,160000,434999,800000,819999,163000,350000,75000,180000,675000,400000,434999,100000,419000,200000,400000,790000,500000,275000,450000,1400000,800000,315000,700000,585000,350000,495000,500000,345000,500000,360000,210000,220000,250000,990000,220000,1800000,530000,575000,400000,680000,1000000,260000,150000,180000,346000,450000,500000,700000,280000,475000,300000,200999,200000,210000,160000,175000,320000,110000,300000,700000,135000,500000,550000,1050000,500000,180000,170000,484999,150000,380000,480000,135000,290000,350000,110000,70000,300000,180000,300000,509000,650000,450000,170000,210000,360000,495000,105000,270000,130000,700000,400000,250000,325000,69000,1380000,90000,1000000,145000,250000,256000,70000,50000,240000,97000,130000,199000,125000,420000,525000,125000,325000,330000,110000,450000,85000,229999,250000,650000,600000,650000,750000,850000,315000,415000,640000,780000,2595000,850000,900000,1150000,75000,215000,130000,400000,550000,245000,320000,730000,120000,950000,350000,100000,350000,80000,370000,160000,130000,250000,270000,2600000,160000,229999,750000,195000,320000,1100000,270000,300000,200000,120000,95000,400000,229999,430000,300000,350000,450000,200000,250000,368000,368000,650000,150000,180000,525000,350000,850000,350000,75000,160000,500000,130000,350000,70000,750000,450000,430000,260000,370000,229999,140000,700000,545000,200000,500000,70000,580000,160000,450000,160000,760000,300000,50000,800000,680000,85000,1300000,500000,3500000,145000,300000,600000,400000,130000,45000,641000,650000,784000,635000,1000000,495000,324000,2100000,200000,320000,300000,180000,500000,305000,125000,800000,420000,875000,580000,350000,120000,150000,650000,225000,400000,250000,120000,250000,175000,450000,590000,225000,900000,375000,320000,525000,650000,575000,355000,470000,221000,195000,90000,580000,325000,495000,290000,375000,211000,270000,70000,225000,420000,280000,400000,850000,550000,550000,1000000,350000,350000,170000,828999,1119000,746000,1030000,1334000,811999,1331000,852000,45000,430000,140000,830000,409999,190000,200000,120000,850000,95000,213000,660000,415000,1100000,650000,969999,1250000,715000,715000,565000,615000,199000,325000,409999,500000,225000,135000,750000,155000,335000,114999,699000,110000,300000,700000,700000,210000,600000,180000,220000,70000,950000,800000,700000,265000,175000,260000,950000,250000,630000,35000,450000,3800000,1580000,4950000,535000,225000,550000,670000,625000,520000,239000,2600000,750000,229999,1300000,80000,385000,760000,600000,330000,150000,105000,185000,260000,450000,500000,260000,265000,800000,869999,690000,825000,160000,300000,100000,530000,360000,220000,178000,515000,300000,105000,185000,150000,260000,450000,500000,260000,265000,750000,800000,869999,950000,690000,825000,170000,160000,300000,315000,90000,100000,65000,312000,700000,150000,450000,229999,111000,250000,750000,774000,711000,600000,455000,225000,650000,200000,875000,750000,725000,100000,1100000,2700000,280000,150000,200000,148000,254999,360000,95000,185000,185000,300000,800000,60000,80000,500000,250000,250000,125000,100000,480000,320000,130000,57000,75000,60000,125000,105000,125000,69000,130000,630000,330000,340000,60000,550000,480000,315000,165000,170000,550000,465000,120000,220000,180000,150000,520000,430000,300000,1000000,725000,500000,250000,700000,185000,200000,315000,1100000,52000,600000,1700000,451000,370000,2700000,280000,350000,250000,204999,500000,150000,175000,170000,200000,800000,1200000,400000,148000,200000,284000,80000,170000,150000,110000,400000,275000,800000,550000,125000,135000,349000,458000,300000,95000,850000,750000,190000,150000,114999,320000,300000,275000,140000,830000,380000,150000,50000,155000,155000,300000,300000,385000,221000,381000,250999,60000,380000,180000,751000,1250000,229999,1250000,782000,780000,245000,321000,509999,110000,400000,370000,175000,1000000,92800,291000,92800,335000,170000,295000,375000,215000,150000,60000,52000,80000,140000,120000,110000,280000,450000,1150000,650000,300000,73000,400000,300000,300000,450000,200000,580000,550000,190000,450000,220000,310000,650000,300000,200000,285000,335000,370000,375000,235000,345000,365000,400000,250000,465000,300000,655000,350000,500000,465000,263000,250000,60000,70000,250000,229999,195000,270000,650000,370000,509999,280000,180000,300000,400000,210000,90000,222000,240000,450000,650000,200000,210000,75000,450000,220000,325000,450000,825000,125000,434999,484999,175000,220000,1250000,215000,625000,615000,130000,175000,150000,195000,550000,1500000,400000,1350000,217000,290000,700000,175000,575000,380000,350000,450000,130000,320000,550000,370000,114999,1100000,170000,80000,950000,425000,500000,70000,349000,330000,120000,430000,390000,225000,350000,100000,190000,315000,300000,280000,1650000,295000,2050000,1475000,1100000,4400000,670000,750000,760000,850000,390000,450000,425000,770000,1150000,775000,720000,1725000,539000,420000,85000,142000,180000,400000,360000,85000,350000,380000,140000,200000,150000,150000,90000,300000,280000,200000,110000,140000,1050000,1150000,910000,160000,105000,1200000,300000,70000,160000,160000,225000,790000,145000,1200000,930000,210000,110000,175000,950000,650000,550000,85000,340000,825000,509999,450000,3800000,1580000,4950000,535000,225000,550000,670000,625000,520000,239000,2600000,750000,229999,1300000,80000,385000,760000,600000,450000,3800000,1580000,4950000,535000,225000,550000,670000,625000,520000,239000,2600000,750000,229999,1300000,80000,385000,760000,600000,650000,140000,150000,450000,170000,400000,300000,250000,500000,85000,300000,80000,740000,70000,484999,164000,140000,999000,56000,1050000,190000,3899000,235000,350000,465000,1900000,450000,790000,900000,450000,135000,425000,100000,650000,90000,250000,300000,275000,600000,270000,240000,1200000,160000,790000,1200000,175000,950000,340000,825000,3100000,780000,350000,690000,245000,790000,680000,540000,425000,140000,1100000,715000,370000,175000,1000000,92800,291000,92800,350000,65000,650000,350000,75000,440000,270000,1150000,238000,1100000,1200000,260000,350000,480000,345000,500000,595000,1295000,1350000,541000,515000,894999,325000,925000,844999,925000,300000,650000,175000,325000,600000,700000,95000,490000,380000,550000,225000,570000,305000,240000,700000,288000,800000,430000,195000,325000,450000,630000,250000,135000,110000,350000,240000,350000,600000,750000,270000,90000,350000,285000,665000,175000,350000,1225000,285000,1000000,780000,300000,160000,625000,265000,515000,210000,140000,940000,750000,610000,450000,409999,100000,650000,650000,150000,500000,1000000,340000,800000,1010000,350000,595000,700000,265000,320000,310000,700000,130000,150000,300000,150000,120000,950000,100000,450000,30000,200000,250000,1300000,425000,550000,500000,1150000,475000,260000,350000,750000,180000,350000,611000,325000,280000,300000,711000,851000,260000,550000,1044999,550000,210000,210000,290000,250999,600000,270000,550000,800000,500000,535000,396000,600000,575000,520000,1400000,600000,195000,281000,75000,400000,93000,560000,400000,459999,450000,88000,250000,22000,130000,79000,120000,1700000,300000,300000,145000,3200000,240000,700000,145000,535000,420000,350000,550000,750000,198000,420000,420000,195000,150000,275000,65000,200000,250000,450000,590000,225000,225000,165000,860000,900000,182000,100000,100000,375000,525000,320000,525000,650000,575000,355000,470000,221000,195000,85000,400000,650000,400000,295000,60000,110000,550000,190000,861999,782000,836000,696000,596000,612000,114999,340000,550000,114999,105000,890000,715000,525000,735000,495000,1025000,750000,600000,475000,80000,325000,1470000,350000,2800000,210000,349000,450000,1150000,210000,4500000,825000,2750000,160000,550000,95000,725000,670000,65000,500000,600000,350000,200000,110000,150000,75000,350000,1700000,890000,500000,600000,99000,235000,75000,600000,1000000,390000,600000,600000,730000,450000,250000,1400000,300000,800000,125000,2600000,300000,295000,650000,200000,130000,250000,400000,430000,170000,450000,350000,130000,180000,475000,470000,200000,650000,400000,100000,409999,640000,160000,182000,750000,150000,80000,240000,60000,70000,285000,350000,699000,275000,350000,135000,325000,650000,300000,1200000,450000,425000,150000,290000,335000,120000,20000,250000,120000,250000,220000,61000,620000,425000,85000,270000,180000,300000,800000,125000,450000,450000,250000,725000,250000,99000,350000,511000,300000,1100000,125000,500000,385000,350000,60000,300000,400000,550000,300000,250000,800000,300000,80000,1200000,355000,520000,500000,114999,1800000,800000,105000,135000,170000,550000,250000,650000,210000,260000,750000,1350000,220000,110000,1230000,220000,130000,330000,254999,600000,210000,300000,426000,265000,450000,480000,40000,395000,229999,875000,170000,500000,450000,3800000,1580000,4950000,535000,225000,550000,670000,625000,520000,239000,2600000,750000,229999,1300000,80000,385000,760000,600000,450000,450000,550000,200000,80000,300000,675000,260000,500000,150000,100000,70000,100000,730000,525000,525000,550000,420000,500000,165000,650000,195000,75000,100000,1770000,90000,515000,700000,62000,220000,520000,170000,190000,150000,125000,290000,490000,434999,380000,200000,495000,894999,600000,300000,430000,370000,750000,300000,700000,100000,300000,130000,650000,509999,1000000,280000,600000,210000,1150000,229999,245000,600000,375000,150000,1450000,500000,75000,225000,275000,620000,600000,275000,125000,80000,199000,440000,250000,700000,450000,240000,350000,650000,71000,400000,130000,300000,1100000,2200000,800000,490000,836000,375000,1249000,1240000,35000,1068000,1189000,700000,350000,254999,229999,750000,325000,760000,509999,363000,229999,290000,550000,125000,2000000,350000,390000,260000,150000,85000,280000,220000,140000,370000,650000,280000,540000,50000,800000,515000,220000,525000,165000,221000,245000,260000,550000,434999,450000,290000,305000,265000,325000,550000,105000,275000,434999,690000,249000,204999,200000,190000,150000,70000,900000,950000,475000,55000,450000,1200000,300000,350000,229999,821000,200000,1000000,220000,459999,310000,815000,1200000,170000,1000000,155000,400000,400000,250000,150000,80000,130000,325000,735000,285000,350000,290000,890000,385000,425000,525000,550000,271000,1490000,490000,260000,455000,75000,421000,550000,330000,390000,599000,738000,300000,150000,440000,280000,100000,150000,380000,90000,300000,275000,180000,225000,200000,500000,300000,765000,650000,380000,480000,200000,380000,145000,280000,254999,300000,480000,850000,350000,650000,650000,550000,300000,150000,300000,80000,200000,220000,68000,180000,290000,300000,600000,470000,150000,400000,110000,180000,250000,80000,875000,425000,300000,700000,130000,1000000,650000,400000,800000,675000,210000,150000,45000,516000,450000,134000,509999,500000,130000,575000,550000,145000,347000,275000,630000,160000,150000,550000,349000,229999,110000,110000,245000,180000,290000,250000,150000,55000,500000,290000,400000,72000,250000,575000,1300000,425000,470000,220000,310000,400000,215000,310000,750000,204999,260000,180000,125000,420000,220000,200000,130000,335000,2650000,2675000,2675000,434999,500000,290000,475000,270000,600000,300000,415000,800000,420000,1250000,270000,390000,400000,100000,850000,359000,470000,360000,250999,45000,75000,495000,310000,540000,665000,425000,1295000,675000,980000,320000,250000,600000,300000,305000,270000,300000,106000,90000,539000,110000,250000,300000,707000,95000,495000,200000,110000,100000,150000,509999,50000,85000,475000,425000,480000,950000,535000,325000,270000,300000,325000,350000,229999,325000,70000,190000,345000,1025000,120000,114999,300000,340000,90000,150000,115999,425000,550000,500000,300000,1150000,475000,260000,350000,750000,350000,180000,611000,325000,225000,300000,400000,711000,851000,375000,275000,120000,350000,409999,500000,220000,120000,70000,800000,450000,525000,300000,195000,130000,300000,120000,450000,160000,800000,100000,825000,265000,175000,250999,471000,650000,650000,225000,245000,221000,271000,290000,525000,377000,95000,763000,450000,140000,701000,277000,520000,550000,260000,420000,35000,1150000,680000,425000,450000,590000,936999,420000,450000,40000,520000,80000,55000,80000,210000,300000,260000,250000,80000,450000,310000,500000,800000,840000,490000,125000,400000,1000000,530000,840000,229999,40000,130000,200000,120000,75000,250000,100000,280000,540000,700000,350000,320000,475000,220000,210000,61000,355000,150000,133000,650000,210000,130000,60000,120000,2900000,100000,79000,120000,125000,425000,70000,619000,415000,265000,70000,281000,211000,550000,350000,420000,270000,399000,440000,250000,650000,270000,390000,1500000,225000,900000,1600000,800000,320000,300000,740000,350000,280000,675000,300000,400000,420000,300000,170000,210000,600000,260000,82000,690000,300000,1250000,799000,1000000,190000,250000,200000,300000,250000,90000,68000,500000,900000,100000,700000,1750000,290000,1050000,70000,520000,150000,120000,600000,150000,400000,310000,550000,550000,320000,50000,500000,360000,700000,700000,655000,700000,200000,375000,470000,550000,500000,210000,270000,300000,80000,1451000,1085000,245000,700000,300000,350000,635000,325000,1150000,110000,890000,73000,170000,750000,280000,690000,130000,73000,85000,1575000,325000,85000,860000,690000,650000,375000,525000,330000,280000,470000,350000,480000,620000,250000,78692,350000,250000,260000,640000,220000,465000,229999,425000,95000,170000,229999,45000,479000,370000,340000,620000,270000,400000,260000,48000,100000,490000,120000,125000,160000,190000,1700000,250000,500000,400000,500000,1800000,320000,250000,105000,550000,600000,210000,210000,150000,125000,380000,600000,490000,545000,250000,1050000,100000,250000,100000,350000,370000,121000,570000,785000,850000,375000,619000,335000,500000,60000,130000,210000,1900000,270000,225000,150000,173000,4800000,710000,1500000,550000,58000,1200000,500000,120000,300000,300000,295000,587000,430000,123000,450000,130000,110000,200000,320000,300000,350000,800000,270000,540000,160000,340000,350000,300000,330000,325000,250000,250000,240000,545000,300000,130000,240000,360000,250000,475000,600000,150000,700000,1290000,80000,425000,500000,193000,800000,150000,80000,130000,280000,229999,80000,70000,240000,380000,240000,80000,265000,320000,500000,1300000,1500000,1800000,600000,420000,140000,300000,100000,350000,850000,140000,550000,525000,470000,900000,500000,80000,175000,1350000,800000,250000,700000,800000,660000,465000,180000,600000,150000,450000,721000,300000,1000000,300000,450000,79000,545000,844999,700000,650000,525000,110000,180000,280000,400000,625000,535000,459999,300000,280000,500000,1200000,300000,180000,180000,78000,160000,600000,110000,450000,1350000,120000,1040000,390000,65000,320000,720000,220000,225000,200000,434999,300000,700000,500000,500000,400000,825000,720000,110000,600000,275000,2349000,740000,800000,1100000,750000,200000,210000,270000,630000,375000,300000,580000,550000,750000,250000,434999,900000,685000,540000,1165000,610000,254999,280000,370000,459999,42000,42000,190000,165000,710000,1200000,229999,310000,320000,100000,160000,60000,100000,350000,700000,300000,830000,220000,130000,330000,254999,600000,210000,120000,95000,229999,229999,400000,300000,300000,80000,80000,100000,300000,700000,975000,500000,550000,550000,240000,50000,120000,900000,250000,280000,85000,90000,500000,200000,250000,185000,100000,610000,290000,300000,225000,320000,135000,400000,400000,570000,500000,130000,360000,530000,250000,600000,570000,850000,250000,580000,1680000,180000,300000,269000,231999,150000,495000,700000,400000,599000,421000,841000,295000,220000,250000,1100000,300000,80000,215000,245000,650000,760000,395000,280000,495000,525000,420000,210000,650000,2300000,525000,195000,650000,540000,180000,750000,980000,250000,550000,509999,320000,275000,550000,145000,250000,520000,95000,725000,55000,600000,330000,470000,365000,250000,430000,400000,615000,150000,240000,800000,240000,600000,800000,160000,350000,300000,399000,300000,150000,320000,1280000,300000,1000000,1090000,450000,60000,500000,200000,650000,60000,250999,185000,155000,600000,300000,850000,470000,600000,700000,70000,1250000,650000,450000,750000,775000,800000,360000,250000,1490000,600000,120000,320000,400000,302000,130000,150000,200000,950000,120000,1400000,620000,449000,100000,600000,700000,250000,550000,675000,530000,325000,370000,360000,650000,199000,285000,260000,869999,425000,490000,750000,125000,221000,724000,440000,70000,511000,790000,640000,120000,126000,120000,650000,450000,110000,600000,620000,600000,795000,300000,495000,1580000,1750000,1350000,350000,300000,400000,1750000,70000,500000,2575000,345000,220000,1850000,114999,50000,585000,950000,625000,1035000,310000,600000,3100000,650000,550000,1260000,660000,700000,235000,475000,795000,8900000,3200000,1860000,4200000,850000,585000,380000,650000,600000,434999,525000,4800000,160000,160000,125000,430000,900000,61000,400000,150000,950000,220000,110000,375000,350000,310000,90000,350000,100000,1300000,70000,225000,145000,930000,550000,85000,280000,360000,150000,900000,120000,215000,550000,775000,409999,65000,200000,240000,800000,400000,500000,150000,500000,320000,300000,650000,285000,360000,450000,175000,350000,530000,1025000,950000,725000,919999,700000,725000,840000,365000,665000,50000,225000,229999,145000,624000,500000,750000,785000,225000,300000,680000,700000,180000,270000,370000,1100000,120000,430000,550000,320000,390000,550000,370000,190000,509999,450000,5500000,550000,400000,585000,500000,800000,265000,175000,125000,165000,150000,1025000,1030000,380000,250000,85000,500000,350000,190000,940000,475000,300000,250000,93000,290000,75000,1000000,550000,285000,240000,850000,650000,365000,650000,260000,250000,550000,70000,225000,145000,930000,550000,85000,280000,360000,150000,900000,120000,215000,550000,775000,409999,65000,200000,240000,800000,400000,229999,580000,175000,250000,320000,300000,800000,245000,300000,350000,70000,430999,80000,335000,350000,315000,1100000,80000,285000,100000,225000,4500000,320000,1249000,120000,200000,1151000,120000,220000,750000,784000,500000,350000,1400000,600000,525000,930000,440000,434999,250000,940000,1050000,825000,229999,375000,640000,800000,130000,300000,440000,595000,450000,690000,300000,170000,280000,220000,140000,45000,200000,325000,300000,120000,535000,520000,550000,280000,225000,750000,535000,1250000,650000,295000,480000,575000,509999,69000,200000,449000,426000,650000,260000,295000,260000,120000,155000,450000,320000,123000,80000,220000,650000,285000,725000,97000,625000,550000,130000,240000,600000,350000,245000,199000,330000,150000,927999,70000,399000,350000,125000,150000,250000,675000,950000,409999,225000,350000,51111,290000,310000,212000,900000,221000,675000,421000,350000,140000,90000,830000,180000,210000,700000,45000,125000,530000,800000,580000,1400000,300000,300000,700000,250000,500000,428000,1400000,219000,500000,520000,509999,556000,225000,325000,365000,850000,350000,225000,135000,140000,665000,275000,2750000,484999,565000,425000,925000,565000,525000,409999,570000,160000,749000,300000,550000,550000,1250000,700000,600000,925000,1800000,459999,565000,170000,150000,295000,819999,819999,320000,550000,550000,590000,1050000,950000,1000000,500000,450000,720000,390000,500000,2500000,780000,484999,420000,1225000,350000,350000,800000,125000,75000,509999,215000,465000,625000,490000,880000,290000,115999,685000,300000,680000,480000,630000,190000,500000,850000,350000,425000,495000,890000,1100000,650000,465000,625000,490000,880000,290000,115999,685000,300000,680000,480000,630000,190000,500000,850000,350000,425000,495000,890000,1100000,650000,233000,300000,614000,250000,250000,200000,290000,320000,145000,100000,130000,145000,110000,680000,37500,200000,300000,80000,740000,630000,70000,484999,164000,140000,999000,56000,1050000,190000,3899000,150000,235000,599000,200000,350000,465000,1900000,1000000,2800000,470000,415000,500000,150000,95000,400000,114999,75000,500000,195000,155000,65000,65000,190000,200000,160000,150000,530000,750000,225000,600000,409999,409999,110000,865000,225000],\"yaxis\":\"y\",\"type\":\"scattergl\"}],                        {\"template\":{\"data\":{\"bar\":[{\"error_x\":{\"color\":\"#2a3f5f\"},\"error_y\":{\"color\":\"#2a3f5f\"},\"marker\":{\"line\":{\"color\":\"#E5ECF6\",\"width\":0.5},\"pattern\":{\"fillmode\":\"overlay\",\"size\":10,\"solidity\":0.2}},\"type\":\"bar\"}],\"barpolar\":[{\"marker\":{\"line\":{\"color\":\"#E5ECF6\",\"width\":0.5},\"pattern\":{\"fillmode\":\"overlay\",\"size\":10,\"solidity\":0.2}},\"type\":\"barpolar\"}],\"carpet\":[{\"aaxis\":{\"endlinecolor\":\"#2a3f5f\",\"gridcolor\":\"white\",\"linecolor\":\"white\",\"minorgridcolor\":\"white\",\"startlinecolor\":\"#2a3f5f\"},\"baxis\":{\"endlinecolor\":\"#2a3f5f\",\"gridcolor\":\"white\",\"linecolor\":\"white\",\"minorgridcolor\":\"white\",\"startlinecolor\":\"#2a3f5f\"},\"type\":\"carpet\"}],\"choropleth\":[{\"colorbar\":{\"outlinewidth\":0,\"ticks\":\"\"},\"type\":\"choropleth\"}],\"contour\":[{\"colorbar\":{\"outlinewidth\":0,\"ticks\":\"\"},\"colorscale\":[[0.0,\"#0d0887\"],[0.1111111111111111,\"#46039f\"],[0.2222222222222222,\"#7201a8\"],[0.3333333333333333,\"#9c179e\"],[0.4444444444444444,\"#bd3786\"],[0.5555555555555556,\"#d8576b\"],[0.6666666666666666,\"#ed7953\"],[0.7777777777777778,\"#fb9f3a\"],[0.8888888888888888,\"#fdca26\"],[1.0,\"#f0f921\"]],\"type\":\"contour\"}],\"contourcarpet\":[{\"colorbar\":{\"outlinewidth\":0,\"ticks\":\"\"},\"type\":\"contourcarpet\"}],\"heatmap\":[{\"colorbar\":{\"outlinewidth\":0,\"ticks\":\"\"},\"colorscale\":[[0.0,\"#0d0887\"],[0.1111111111111111,\"#46039f\"],[0.2222222222222222,\"#7201a8\"],[0.3333333333333333,\"#9c179e\"],[0.4444444444444444,\"#bd3786\"],[0.5555555555555556,\"#d8576b\"],[0.6666666666666666,\"#ed7953\"],[0.7777777777777778,\"#fb9f3a\"],[0.8888888888888888,\"#fdca26\"],[1.0,\"#f0f921\"]],\"type\":\"heatmap\"}],\"heatmapgl\":[{\"colorbar\":{\"outlinewidth\":0,\"ticks\":\"\"},\"colorscale\":[[0.0,\"#0d0887\"],[0.1111111111111111,\"#46039f\"],[0.2222222222222222,\"#7201a8\"],[0.3333333333333333,\"#9c179e\"],[0.4444444444444444,\"#bd3786\"],[0.5555555555555556,\"#d8576b\"],[0.6666666666666666,\"#ed7953\"],[0.7777777777777778,\"#fb9f3a\"],[0.8888888888888888,\"#fdca26\"],[1.0,\"#f0f921\"]],\"type\":\"heatmapgl\"}],\"histogram\":[{\"marker\":{\"pattern\":{\"fillmode\":\"overlay\",\"size\":10,\"solidity\":0.2}},\"type\":\"histogram\"}],\"histogram2d\":[{\"colorbar\":{\"outlinewidth\":0,\"ticks\":\"\"},\"colorscale\":[[0.0,\"#0d0887\"],[0.1111111111111111,\"#46039f\"],[0.2222222222222222,\"#7201a8\"],[0.3333333333333333,\"#9c179e\"],[0.4444444444444444,\"#bd3786\"],[0.5555555555555556,\"#d8576b\"],[0.6666666666666666,\"#ed7953\"],[0.7777777777777778,\"#fb9f3a\"],[0.8888888888888888,\"#fdca26\"],[1.0,\"#f0f921\"]],\"type\":\"histogram2d\"}],\"histogram2dcontour\":[{\"colorbar\":{\"outlinewidth\":0,\"ticks\":\"\"},\"colorscale\":[[0.0,\"#0d0887\"],[0.1111111111111111,\"#46039f\"],[0.2222222222222222,\"#7201a8\"],[0.3333333333333333,\"#9c179e\"],[0.4444444444444444,\"#bd3786\"],[0.5555555555555556,\"#d8576b\"],[0.6666666666666666,\"#ed7953\"],[0.7777777777777778,\"#fb9f3a\"],[0.8888888888888888,\"#fdca26\"],[1.0,\"#f0f921\"]],\"type\":\"histogram2dcontour\"}],\"mesh3d\":[{\"colorbar\":{\"outlinewidth\":0,\"ticks\":\"\"},\"type\":\"mesh3d\"}],\"parcoords\":[{\"line\":{\"colorbar\":{\"outlinewidth\":0,\"ticks\":\"\"}},\"type\":\"parcoords\"}],\"pie\":[{\"automargin\":true,\"type\":\"pie\"}],\"scatter\":[{\"marker\":{\"colorbar\":{\"outlinewidth\":0,\"ticks\":\"\"}},\"type\":\"scatter\"}],\"scatter3d\":[{\"line\":{\"colorbar\":{\"outlinewidth\":0,\"ticks\":\"\"}},\"marker\":{\"colorbar\":{\"outlinewidth\":0,\"ticks\":\"\"}},\"type\":\"scatter3d\"}],\"scattercarpet\":[{\"marker\":{\"colorbar\":{\"outlinewidth\":0,\"ticks\":\"\"}},\"type\":\"scattercarpet\"}],\"scattergeo\":[{\"marker\":{\"colorbar\":{\"outlinewidth\":0,\"ticks\":\"\"}},\"type\":\"scattergeo\"}],\"scattergl\":[{\"marker\":{\"colorbar\":{\"outlinewidth\":0,\"ticks\":\"\"}},\"type\":\"scattergl\"}],\"scattermapbox\":[{\"marker\":{\"colorbar\":{\"outlinewidth\":0,\"ticks\":\"\"}},\"type\":\"scattermapbox\"}],\"scatterpolar\":[{\"marker\":{\"colorbar\":{\"outlinewidth\":0,\"ticks\":\"\"}},\"type\":\"scatterpolar\"}],\"scatterpolargl\":[{\"marker\":{\"colorbar\":{\"outlinewidth\":0,\"ticks\":\"\"}},\"type\":\"scatterpolargl\"}],\"scatterternary\":[{\"marker\":{\"colorbar\":{\"outlinewidth\":0,\"ticks\":\"\"}},\"type\":\"scatterternary\"}],\"surface\":[{\"colorbar\":{\"outlinewidth\":0,\"ticks\":\"\"},\"colorscale\":[[0.0,\"#0d0887\"],[0.1111111111111111,\"#46039f\"],[0.2222222222222222,\"#7201a8\"],[0.3333333333333333,\"#9c179e\"],[0.4444444444444444,\"#bd3786\"],[0.5555555555555556,\"#d8576b\"],[0.6666666666666666,\"#ed7953\"],[0.7777777777777778,\"#fb9f3a\"],[0.8888888888888888,\"#fdca26\"],[1.0,\"#f0f921\"]],\"type\":\"surface\"}],\"table\":[{\"cells\":{\"fill\":{\"color\":\"#EBF0F8\"},\"line\":{\"color\":\"white\"}},\"header\":{\"fill\":{\"color\":\"#C8D4E3\"},\"line\":{\"color\":\"white\"}},\"type\":\"table\"}]},\"layout\":{\"annotationdefaults\":{\"arrowcolor\":\"#2a3f5f\",\"arrowhead\":0,\"arrowwidth\":1},\"autotypenumbers\":\"strict\",\"coloraxis\":{\"colorbar\":{\"outlinewidth\":0,\"ticks\":\"\"}},\"colorscale\":{\"diverging\":[[0,\"#8e0152\"],[0.1,\"#c51b7d\"],[0.2,\"#de77ae\"],[0.3,\"#f1b6da\"],[0.4,\"#fde0ef\"],[0.5,\"#f7f7f7\"],[0.6,\"#e6f5d0\"],[0.7,\"#b8e186\"],[0.8,\"#7fbc41\"],[0.9,\"#4d9221\"],[1,\"#276419\"]],\"sequential\":[[0.0,\"#0d0887\"],[0.1111111111111111,\"#46039f\"],[0.2222222222222222,\"#7201a8\"],[0.3333333333333333,\"#9c179e\"],[0.4444444444444444,\"#bd3786\"],[0.5555555555555556,\"#d8576b\"],[0.6666666666666666,\"#ed7953\"],[0.7777777777777778,\"#fb9f3a\"],[0.8888888888888888,\"#fdca26\"],[1.0,\"#f0f921\"]],\"sequentialminus\":[[0.0,\"#0d0887\"],[0.1111111111111111,\"#46039f\"],[0.2222222222222222,\"#7201a8\"],[0.3333333333333333,\"#9c179e\"],[0.4444444444444444,\"#bd3786\"],[0.5555555555555556,\"#d8576b\"],[0.6666666666666666,\"#ed7953\"],[0.7777777777777778,\"#fb9f3a\"],[0.8888888888888888,\"#fdca26\"],[1.0,\"#f0f921\"]]},\"colorway\":[\"#636efa\",\"#EF553B\",\"#00cc96\",\"#ab63fa\",\"#FFA15A\",\"#19d3f3\",\"#FF6692\",\"#B6E880\",\"#FF97FF\",\"#FECB52\"],\"font\":{\"color\":\"#2a3f5f\"},\"geo\":{\"bgcolor\":\"white\",\"lakecolor\":\"white\",\"landcolor\":\"#E5ECF6\",\"showlakes\":true,\"showland\":true,\"subunitcolor\":\"white\"},\"hoverlabel\":{\"align\":\"left\"},\"hovermode\":\"closest\",\"mapbox\":{\"style\":\"light\"},\"paper_bgcolor\":\"white\",\"plot_bgcolor\":\"#E5ECF6\",\"polar\":{\"angularaxis\":{\"gridcolor\":\"white\",\"linecolor\":\"white\",\"ticks\":\"\"},\"bgcolor\":\"#E5ECF6\",\"radialaxis\":{\"gridcolor\":\"white\",\"linecolor\":\"white\",\"ticks\":\"\"}},\"scene\":{\"xaxis\":{\"backgroundcolor\":\"#E5ECF6\",\"gridcolor\":\"white\",\"gridwidth\":2,\"linecolor\":\"white\",\"showbackground\":true,\"ticks\":\"\",\"zerolinecolor\":\"white\"},\"yaxis\":{\"backgroundcolor\":\"#E5ECF6\",\"gridcolor\":\"white\",\"gridwidth\":2,\"linecolor\":\"white\",\"showbackground\":true,\"ticks\":\"\",\"zerolinecolor\":\"white\"},\"zaxis\":{\"backgroundcolor\":\"#E5ECF6\",\"gridcolor\":\"white\",\"gridwidth\":2,\"linecolor\":\"white\",\"showbackground\":true,\"ticks\":\"\",\"zerolinecolor\":\"white\"}},\"shapedefaults\":{\"line\":{\"color\":\"#2a3f5f\"}},\"ternary\":{\"aaxis\":{\"gridcolor\":\"white\",\"linecolor\":\"white\",\"ticks\":\"\"},\"baxis\":{\"gridcolor\":\"white\",\"linecolor\":\"white\",\"ticks\":\"\"},\"bgcolor\":\"#E5ECF6\",\"caxis\":{\"gridcolor\":\"white\",\"linecolor\":\"white\",\"ticks\":\"\"}},\"title\":{\"x\":0.05},\"xaxis\":{\"automargin\":true,\"gridcolor\":\"white\",\"linecolor\":\"white\",\"ticks\":\"\",\"title\":{\"standoff\":15},\"zerolinecolor\":\"white\",\"zerolinewidth\":2},\"yaxis\":{\"automargin\":true,\"gridcolor\":\"white\",\"linecolor\":\"white\",\"ticks\":\"\",\"title\":{\"standoff\":15},\"zerolinecolor\":\"white\",\"zerolinewidth\":2}}},\"xaxis\":{\"anchor\":\"y\",\"domain\":[0.0,1.0],\"title\":{\"text\":\"km_driven\"}},\"yaxis\":{\"anchor\":\"x\",\"domain\":[0.0,1.0],\"title\":{\"text\":\"selling_price\"}},\"legend\":{\"tracegroupgap\":0},\"margin\":{\"t\":60}},                        {\"responsive\": true}                    ).then(function(){\n",
              "                            \n",
              "var gd = document.getElementById('ec4b6e08-26a9-4e5a-80f3-b52cd790ae45');\n",
              "var x = new MutationObserver(function (mutations, observer) {{\n",
              "        var display = window.getComputedStyle(gd).display;\n",
              "        if (!display || display === 'none') {{\n",
              "            console.log([gd, 'removed!']);\n",
              "            Plotly.purge(gd);\n",
              "            observer.disconnect();\n",
              "        }}\n",
              "}});\n",
              "\n",
              "// Listen for the removal of the full notebook cells\n",
              "var notebookContainer = gd.closest('#notebook-container');\n",
              "if (notebookContainer) {{\n",
              "    x.observe(notebookContainer, {childList: true});\n",
              "}}\n",
              "\n",
              "// Listen for the clearing of the current output cell\n",
              "var outputEl = gd.closest('.output');\n",
              "if (outputEl) {{\n",
              "    x.observe(outputEl, {childList: true});\n",
              "}}\n",
              "\n",
              "                        })                };                            </script>        </div>\n",
              "</body>\n",
              "</html>"
            ]
          },
          "metadata": {}
        }
      ]
    },
    {
      "cell_type": "code",
      "source": [
        "fig = px.box(df, 'selling_price')\n",
        "fig.show()"
      ],
      "metadata": {
        "colab": {
          "base_uri": "https://localhost:8080/",
          "height": 542
        },
        "id": "h8HXwN_vWIw2",
        "outputId": "9855226f-499d-49be-f173-bca2c1ff7e92"
      },
      "execution_count": null,
      "outputs": [
        {
          "output_type": "display_data",
          "data": {
            "text/html": [
              "<html>\n",
              "<head><meta charset=\"utf-8\" /></head>\n",
              "<body>\n",
              "    <div>            <script src=\"https://cdnjs.cloudflare.com/ajax/libs/mathjax/2.7.5/MathJax.js?config=TeX-AMS-MML_SVG\"></script><script type=\"text/javascript\">if (window.MathJax) {MathJax.Hub.Config({SVG: {font: \"STIX-Web\"}});}</script>                <script type=\"text/javascript\">window.PlotlyConfig = {MathJaxConfig: 'local'};</script>\n",
              "        <script src=\"https://cdn.plot.ly/plotly-2.8.3.min.js\"></script>                <div id=\"62b91792-a036-4843-a945-b10494423742\" class=\"plotly-graph-div\" style=\"height:525px; width:100%;\"></div>            <script type=\"text/javascript\">                                    window.PLOTLYENV=window.PLOTLYENV || {};                                    if (document.getElementById(\"62b91792-a036-4843-a945-b10494423742\")) {                    Plotly.newPlot(                        \"62b91792-a036-4843-a945-b10494423742\",                        [{\"alignmentgroup\":\"True\",\"hovertemplate\":\"selling_price=%{x}<extra></extra>\",\"legendgroup\":\"\",\"marker\":{\"color\":\"#636efa\"},\"name\":\"\",\"notched\":false,\"offsetgroup\":\"\",\"orientation\":\"h\",\"showlegend\":false,\"x\":[60000,135000,600000,250000,450000,140000,550000,240000,850000,365000,260000,250000,1650000,60000,135000,600000,250000,450000,140000,550000,240000,850000,365000,260000,250000,1650000,585000,1195000,390000,1964999,1425000,975000,1190000,930000,525000,1735000,1375000,450000,900000,1300000,1400000,850000,229999,1550000,1250000,625000,1050000,560000,290000,275000,411000,150000,500000,100000,725000,401000,750000,310000,665000,465000,160000,250000,675000,300000,70000,240000,525000,151000,140000,280000,350000,570000,300000,100000,500000,125000,130000,925000,750000,200000,248000,450000,80000,650000,450000,650000,495000,371000,1025000,8150000,750000,600000,80000,325000,1470000,350000,2800000,210000,450000,1150000,210000,4500000,2750000,1975000,175000,2500000,628000,600000,399000,750000,750000,315000,600000,100000,250000,350000,780000,434000,690000,555000,120000,500000,165000,95000,550000,100000,100000,500000,800000,840000,490000,125000,400000,1000000,530000,840000,229999,40000,130000,200000,120000,75000,250000,100000,280000,540000,700000,525000,430000,65000,800000,75000,210000,195000,400000,170000,225000,210000,240000,300000,99000,620000,500000,2550000,260000,550000,150000,350000,320000,400000,175000,120000,320000,70000,810000,95000,282000,80000,72000,600000,640000,380000,650000,150000,280000,430000,800000,75000,650000,390000,100000,1500000,175000,434999,170000,190000,250000,229999,140000,600000,280000,150000,650000,210000,2900000,425000,265000,890000,365000,350000,685000,940000,1000000,1150000,450000,590000,800000,385000,2000000,235000,640000,52000,80000,140000,120000,89999,180000,1500000,700000,285000,390000,125000,225000,175000,1075000,300000,700000,90000,120000,220000,300000,180000,170000,300000,1050000,300000,465000,130000,434999,500000,200000,625000,110000,800000,490000,880000,290000,115999,360000,65000,685000,300000,680000,1000000,100000,160000,450000,600000,180000,100000,120000,130000,160000,860000,650000,100000,282000,300000,270000,550000,450000,430000,350000,350000,229999,110000,395000,650000,350000,1400000,360000,1300000,800000,229999,315000,125000,700000,160000,530000,624000,250000,585000,500000,350000,495000,500000,430000,345000,500000,425000,80000,106000,180000,250000,350000,60000,900000,700000,2000000,1000000,1375000,1800000,160000,525000,850000,800000,700000,800000,575000,350000,250000,600000,370000,80000,50000,900000,300000,125000,490000,300000,55000,350000,755000,720000,229999,1100000,400000,350000,159000,550000,335000,185000,229999,225000,250000,400000,470000,300000,145000,100000,500000,130000,240000,150000,270000,400000,200000,550000,325000,860000,600000,125000,60000,300000,190000,400000,260000,400000,250000,600000,175000,450000,350000,800000,250000,600000,600000,130000,90000,595000,190000,50000,95000,1000000,220000,400000,315000,1000000,500000,1600000,500000,70000,105000,400000,80000,300000,409999,250000,250000,215000,1400000,475000,475000,75000,200000,575000,150000,850000,350000,550000,330000,1044999,300000,235000,120000,130000,275000,270000,500000,400000,600000,1350000,400000,220000,300000,250000,600000,285000,350000,170000,229999,500000,75000,600000,220000,150000,65000,120000,240000,390000,180000,320000,310000,420000,550000,550000,760000,43000,250000,500000,380000,1850000,350000,195000,225000,1125000,133000,200000,940000,400000,120000,625000,110000,490000,140000,175000,90000,275000,300000,270000,130000,275000,352000,180000,150000,300000,300000,225000,600000,500000,900000,600000,450000,270000,310000,250000,700000,650000,400000,425000,600000,600000,300000,450000,750000,325000,900000,180000,350000,600000,900000,350000,280000,225000,520000,509999,556000,225000,325000,365000,850000,350000,225000,135000,140000,665000,275000,2750000,484999,565000,425000,925000,565000,525000,1650000,295000,2050000,1475000,1100000,4400000,670000,750000,760000,850000,390000,450000,425000,770000,1150000,775000,1725000,2150000,450000,3800000,1580000,4950000,535000,225000,550000,670000,625000,520000,239000,2600000,750000,229999,1300000,80000,385000,760000,600000,450000,3800000,1580000,4950000,535000,225000,550000,670000,625000,520000,239000,2600000,750000,229999,1300000,80000,385000,760000,600000,450000,3800000,1580000,4950000,535000,225000,550000,670000,625000,520000,239000,2600000,750000,229999,1300000,80000,385000,760000,600000,450000,3800000,1580000,4950000,535000,225000,550000,670000,625000,520000,239000,2600000,750000,229999,1300000,80000,385000,760000,600000,350000,114999,380000,95000,900000,200999,229999,800000,150000,600000,150000,150000,380000,80000,225000,75000,1600000,185000,425000,100000,140000,710000,450000,210000,270000,110000,540000,145000,360000,250000,110000,250000,150000,140000,925000,969999,90000,55000,155000,900000,135000,180000,495000,400000,250000,138000,311000,190000,311000,300000,600000,550000,600000,195000,58000,183000,95000,250000,250000,400000,409999,120000,600000,600000,825000,625000,700000,160000,114999,150000,250000,390000,650000,600000,250000,229999,299000,330000,180000,475000,325000,639000,415000,1199000,525000,425000,699000,325000,275000,269000,399000,475000,249000,1549000,254999,269000,665000,299000,265000,211000,599000,55000,550000,4000000,220000,500000,140000,325000,210000,110000,1200000,229999,225000,165000,525000,325000,1500000,400000,550000,98000,900000,700000,890000,490000,525000,330000,550000,790000,350000,1700000,750000,409999,220000,68000,290000,600000,470000,150000,180000,80000,875000,300000,2800000,1330000,220000,250000,919999,380000,450000,770000,550000,320000,400000,450000,220000,400000,530000,390000,185000,300000,575000,300000,425000,350000,550000,500000,600000,300000,1150000,475000,260000,350000,750000,180000,350000,611000,325000,225000,300000,400000,711000,851000,500000,250000,150000,610000,450000,744000,120000,220000,480000,370000,55000,125000,260000,350000,170000,350000,250000,170000,1300000,550000,400000,120000,120000,275000,285000,900000,2500000,620000,1700000,650000,500000,250000,950000,320000,450000,350000,400000,200000,250000,550000,85000,52000,1200000,450000,615000,400000,60000,500000,600000,110000,175000,325000,425000,160000,100000,390000,400000,509999,150000,110000,450000,400000,140000,130000,160000,150000,500000,40000,140000,227000,285000,155000,210000,140000,940000,750000,610000,450000,409999,100000,300000,400000,210000,90000,222000,240000,450000,450000,3800000,1580000,4950000,535000,225000,550000,670000,625000,520000,239000,2600000,750000,229999,1300000,80000,385000,760000,600000,450000,3800000,1580000,4950000,535000,225000,550000,670000,625000,520000,239000,2600000,750000,229999,1300000,80000,385000,760000,600000,735000,285000,350000,290000,890000,385000,425000,525000,550000,271000,1490000,490000,260000,455000,75000,421000,550000,330000,390000,599000,110000,250000,600000,280000,2700000,80000,350000,475000,4700000,500000,250000,100000,350000,4000000,1900000,95000,409999,1050000,320000,1000000,1770000,950000,750000,220000,1000000,660000,716000,675000,385000,325000,950000,400000,250000,4000000,210000,147000,725000,550000,475000,250000,70000,160000,1000000,68000,500000,170000,1300000,1050000,300000,600000,900000,550000,100000,400000,120000,300000,140000,640000,380000,120000,650000,150000,550000,650000,1025000,195000,3800000,1490000,4950000,1140000,95000,3050000,550000,625000,520000,239000,2600000,229999,1300000,585000,825000,280000,725000,300000,375000,310000,375000,1950000,400000,550000,270000,555000,500000,400000,280000,80000,55000,250000,250000,95000,725000,320000,1200000,160000,790000,1200000,175000,950000,340000,825000,3100000,780000,350000,690000,245000,790000,680000,540000,425000,140000,1100000,715000,1580000,1750000,400000,1750000,1850000,114999,950000,310000,575000,490000,480000,3500000,370000,835000,650000,670000,950000,690000,670000,925000,250000,509999,520000,100000,85000,130000,950000,450000,320000,480000,2490000,790000,120000,75000,99000,1015000,250000,520000,1100000,200000,525000,500000,675000,150000,250000,450000,150000,200000,525000,60000,180000,475000,380000,285000,91200,250000,400000,160000,650000,409999,425000,250000,200000,250000,130000,260000,155000,450000,220000,650000,285000,725000,625000,550000,240000,600000,350000,245000,600000,2400000,620000,395000,635000,180000,484999,110000,150000,400000,200000,302000,215000,155000,1000000,550000,200000,750000,90000,80000,229999,350000,325000,450000,250000,225000,150000,110000,150000,165000,610000,170000,150000,300000,375000,390000,600000,204999,270000,375000,700000,455000,375000,341000,200000,450000,170000,1900000,500000,819999,351000,195000,250000,120000,180000,430000,75000,750000,60000,1500000,390000,630000,1085000,190000,550000,200000,165000,260000,151000,780000,175000,170000,210000,90000,535000,195000,140000,350000,425000,300000,340000,250000,170000,315000,200000,300000,300000,380000,250000,310000,260000,150000,85000,280000,850000,375000,125000,250000,715000,220000,110000,150000,300000,220000,75000,100000,380000,100000,480000,300000,190000,190000,650000,300000,700000,310000,500000,415000,395000,430000,215000,550000,415000,450000,285000,580000,300000,1200000,78000,65000,400000,850000,450000,2500000,780000,3200000,350000,285000,525000,550000,580000,75000,185000,110000,180000,350000,60000,695000,2700000,135000,640000,160000,80000,340000,110000,250000,1300000,250000,450000,240000,225000,275000,320000,75000,85000,90000,85000,350000,355000,619000,1700000,55000,95000,300000,81000,1000000,925000,450000,600000,85000,700000,486000,400000,120000,275000,580000,375000,229999,110000,600000,120000,200000,450000,550000,220000,40000,300000,630000,610000,660000,220000,138000,210000,125000,125000,725000,170000,1200000,70000,100000,300000,450000,530000,100000,350000,165000,475000,350000,229999,800000,475000,425000,660000,610000,240000,70000,550000,100000,350000,200000,720000,350000,400000,570000,130000,210000,800000,700000,200000,495000,325000,650000,155000,75000,350000,90000,600000,400000,370000,50000,125000,1800000,650000,800000,802000,2300000,430000,650000,170000,450000,250000,550000,2000000,140000,155000,120000,287000,675000,235000,300000,434999,225000,160000,600000,470000,300000,600000,640000,50000,600000,290000,600000,190000,160000,325000,200000,2800000,125000,155000,550000,130000,80000,500000,250000,580000,60000,300000,200000,1200000,350000,600000,650000,120000,180000,950000,250999,385000,1250000,165000,700000,750000,89999,290000,45000,675000,530000,1485000,325000,400000,380000,750000,390000,110000,1825000,3256000,370000,210000,175000,575000,320000,280000,500000,380000,120000,395000,360000,451000,175000,170000,100000,150000,149000,160000,434999,800000,819999,163000,350000,75000,180000,675000,400000,434999,100000,419000,200000,400000,790000,500000,275000,450000,1400000,800000,315000,700000,585000,350000,495000,500000,345000,500000,360000,210000,220000,250000,990000,220000,1800000,530000,575000,400000,680000,1000000,260000,150000,180000,346000,450000,500000,700000,280000,475000,300000,200999,200000,210000,160000,175000,320000,110000,300000,700000,135000,500000,550000,1050000,500000,180000,170000,484999,150000,380000,480000,135000,290000,350000,110000,70000,300000,180000,300000,509000,650000,450000,170000,210000,360000,495000,105000,270000,130000,700000,400000,250000,325000,69000,1380000,90000,1000000,145000,250000,256000,70000,50000,240000,97000,130000,199000,125000,420000,525000,125000,325000,330000,110000,450000,85000,229999,250000,650000,600000,650000,750000,850000,315000,415000,640000,780000,2595000,850000,900000,1150000,75000,215000,130000,400000,550000,245000,320000,730000,120000,950000,350000,100000,350000,80000,370000,160000,130000,250000,270000,2600000,160000,229999,750000,195000,320000,1100000,270000,300000,200000,120000,95000,400000,229999,430000,300000,350000,450000,200000,250000,368000,368000,650000,150000,180000,525000,350000,850000,350000,75000,160000,500000,130000,350000,70000,750000,450000,430000,260000,370000,229999,140000,700000,545000,200000,500000,70000,580000,160000,450000,160000,760000,300000,50000,800000,680000,85000,1300000,500000,3500000,145000,300000,600000,400000,130000,45000,641000,650000,784000,635000,1000000,495000,324000,2100000,200000,320000,300000,180000,500000,305000,125000,800000,420000,875000,580000,350000,120000,150000,650000,225000,400000,250000,120000,250000,175000,450000,590000,225000,900000,375000,320000,525000,650000,575000,355000,470000,221000,195000,90000,580000,325000,495000,290000,375000,211000,270000,70000,225000,420000,280000,400000,850000,550000,550000,1000000,350000,350000,170000,828999,1119000,746000,1030000,1334000,811999,1331000,852000,45000,430000,140000,830000,409999,190000,200000,120000,850000,95000,213000,660000,415000,1100000,650000,969999,1250000,715000,715000,565000,615000,199000,325000,409999,500000,225000,135000,750000,155000,335000,114999,699000,110000,300000,700000,700000,210000,600000,180000,220000,70000,950000,800000,700000,265000,175000,260000,950000,250000,630000,35000,450000,3800000,1580000,4950000,535000,225000,550000,670000,625000,520000,239000,2600000,750000,229999,1300000,80000,385000,760000,600000,330000,150000,105000,185000,260000,450000,500000,260000,265000,800000,869999,690000,825000,160000,300000,100000,530000,360000,220000,178000,515000,300000,105000,185000,150000,260000,450000,500000,260000,265000,750000,800000,869999,950000,690000,825000,170000,160000,300000,315000,90000,100000,65000,312000,700000,150000,450000,229999,111000,250000,750000,774000,711000,600000,455000,225000,650000,200000,875000,750000,725000,100000,1100000,2700000,280000,150000,200000,148000,254999,360000,95000,185000,185000,300000,800000,60000,80000,500000,250000,250000,125000,100000,480000,320000,130000,57000,75000,60000,125000,105000,125000,69000,130000,630000,330000,340000,60000,550000,480000,315000,165000,170000,550000,465000,120000,220000,180000,150000,520000,430000,300000,1000000,725000,500000,250000,700000,185000,200000,315000,1100000,52000,600000,1700000,451000,370000,2700000,280000,350000,250000,204999,500000,150000,175000,170000,200000,800000,1200000,400000,148000,200000,284000,80000,170000,150000,110000,400000,275000,800000,550000,125000,135000,349000,458000,300000,95000,850000,750000,190000,150000,114999,320000,300000,275000,140000,830000,380000,150000,50000,155000,155000,300000,300000,385000,221000,381000,250999,60000,380000,180000,751000,1250000,229999,1250000,782000,780000,245000,321000,509999,110000,400000,370000,175000,1000000,92800,291000,92800,335000,170000,295000,375000,215000,150000,60000,52000,80000,140000,120000,110000,280000,450000,1150000,650000,300000,73000,400000,300000,300000,450000,200000,580000,550000,190000,450000,220000,310000,650000,300000,200000,285000,335000,370000,375000,235000,345000,365000,400000,250000,465000,300000,655000,350000,500000,465000,263000,250000,60000,70000,250000,229999,195000,270000,650000,370000,509999,280000,180000,300000,400000,210000,90000,222000,240000,450000,650000,200000,210000,75000,450000,220000,325000,450000,825000,125000,434999,484999,175000,220000,1250000,215000,625000,615000,130000,175000,150000,195000,550000,1500000,400000,1350000,217000,290000,700000,175000,575000,380000,350000,450000,130000,320000,550000,370000,114999,1100000,170000,80000,950000,425000,500000,70000,349000,330000,120000,430000,390000,225000,350000,100000,190000,315000,300000,280000,1650000,295000,2050000,1475000,1100000,4400000,670000,750000,760000,850000,390000,450000,425000,770000,1150000,775000,720000,1725000,539000,420000,85000,142000,180000,400000,360000,85000,350000,380000,140000,200000,150000,150000,90000,300000,280000,200000,110000,140000,1050000,1150000,910000,160000,105000,1200000,300000,70000,160000,160000,225000,790000,145000,1200000,930000,210000,110000,175000,950000,650000,550000,85000,340000,825000,509999,450000,3800000,1580000,4950000,535000,225000,550000,670000,625000,520000,239000,2600000,750000,229999,1300000,80000,385000,760000,600000,450000,3800000,1580000,4950000,535000,225000,550000,670000,625000,520000,239000,2600000,750000,229999,1300000,80000,385000,760000,600000,650000,140000,150000,450000,170000,400000,300000,250000,500000,85000,300000,80000,740000,70000,484999,164000,140000,999000,56000,1050000,190000,3899000,235000,350000,465000,1900000,450000,790000,900000,450000,135000,425000,100000,650000,90000,250000,300000,275000,600000,270000,240000,1200000,160000,790000,1200000,175000,950000,340000,825000,3100000,780000,350000,690000,245000,790000,680000,540000,425000,140000,1100000,715000,370000,175000,1000000,92800,291000,92800,350000,65000,650000,350000,75000,440000,270000,1150000,238000,1100000,1200000,260000,350000,480000,345000,500000,595000,1295000,1350000,541000,515000,894999,325000,925000,844999,925000,300000,650000,175000,325000,600000,700000,95000,490000,380000,550000,225000,570000,305000,240000,700000,288000,800000,430000,195000,325000,450000,630000,250000,135000,110000,350000,240000,350000,600000,750000,270000,90000,350000,285000,665000,175000,350000,1225000,285000,1000000,780000,300000,160000,625000,265000,515000,210000,140000,940000,750000,610000,450000,409999,100000,650000,650000,150000,500000,1000000,340000,800000,1010000,350000,595000,700000,265000,320000,310000,700000,130000,150000,300000,150000,120000,950000,100000,450000,30000,200000,250000,1300000,425000,550000,500000,1150000,475000,260000,350000,750000,180000,350000,611000,325000,280000,300000,711000,851000,260000,550000,1044999,550000,210000,210000,290000,250999,600000,270000,550000,800000,500000,535000,396000,600000,575000,520000,1400000,600000,195000,281000,75000,400000,93000,560000,400000,459999,450000,88000,250000,22000,130000,79000,120000,1700000,300000,300000,145000,3200000,240000,700000,145000,535000,420000,350000,550000,750000,198000,420000,420000,195000,150000,275000,65000,200000,250000,450000,590000,225000,225000,165000,860000,900000,182000,100000,100000,375000,525000,320000,525000,650000,575000,355000,470000,221000,195000,85000,400000,650000,400000,295000,60000,110000,550000,190000,861999,782000,836000,696000,596000,612000,114999,340000,550000,114999,105000,890000,715000,525000,735000,495000,1025000,750000,600000,475000,80000,325000,1470000,350000,2800000,210000,349000,450000,1150000,210000,4500000,825000,2750000,160000,550000,95000,725000,670000,65000,500000,600000,350000,200000,110000,150000,75000,350000,1700000,890000,500000,600000,99000,235000,75000,600000,1000000,390000,600000,600000,730000,450000,250000,1400000,300000,800000,125000,2600000,300000,295000,650000,200000,130000,250000,400000,430000,170000,450000,350000,130000,180000,475000,470000,200000,650000,400000,100000,409999,640000,160000,182000,750000,150000,80000,240000,60000,70000,285000,350000,699000,275000,350000,135000,325000,650000,300000,1200000,450000,425000,150000,290000,335000,120000,20000,250000,120000,250000,220000,61000,620000,425000,85000,270000,180000,300000,800000,125000,450000,450000,250000,725000,250000,99000,350000,511000,300000,1100000,125000,500000,385000,350000,60000,300000,400000,550000,300000,250000,800000,300000,80000,1200000,355000,520000,500000,114999,1800000,800000,105000,135000,170000,550000,250000,650000,210000,260000,750000,1350000,220000,110000,1230000,220000,130000,330000,254999,600000,210000,300000,426000,265000,450000,480000,40000,395000,229999,875000,170000,500000,450000,3800000,1580000,4950000,535000,225000,550000,670000,625000,520000,239000,2600000,750000,229999,1300000,80000,385000,760000,600000,450000,450000,550000,200000,80000,300000,675000,260000,500000,150000,100000,70000,100000,730000,525000,525000,550000,420000,500000,165000,650000,195000,75000,100000,1770000,90000,515000,700000,62000,220000,520000,170000,190000,150000,125000,290000,490000,434999,380000,200000,495000,894999,600000,300000,430000,370000,750000,300000,700000,100000,300000,130000,650000,509999,1000000,280000,600000,210000,1150000,229999,245000,600000,375000,150000,1450000,500000,75000,225000,275000,620000,600000,275000,125000,80000,199000,440000,250000,700000,450000,240000,350000,650000,71000,400000,130000,300000,1100000,2200000,800000,490000,836000,375000,1249000,1240000,35000,1068000,1189000,700000,350000,254999,229999,750000,325000,760000,509999,363000,229999,290000,550000,125000,2000000,350000,390000,260000,150000,85000,280000,220000,140000,370000,650000,280000,540000,50000,800000,515000,220000,525000,165000,221000,245000,260000,550000,434999,450000,290000,305000,265000,325000,550000,105000,275000,434999,690000,249000,204999,200000,190000,150000,70000,900000,950000,475000,55000,450000,1200000,300000,350000,229999,821000,200000,1000000,220000,459999,310000,815000,1200000,170000,1000000,155000,400000,400000,250000,150000,80000,130000,325000,735000,285000,350000,290000,890000,385000,425000,525000,550000,271000,1490000,490000,260000,455000,75000,421000,550000,330000,390000,599000,738000,300000,150000,440000,280000,100000,150000,380000,90000,300000,275000,180000,225000,200000,500000,300000,765000,650000,380000,480000,200000,380000,145000,280000,254999,300000,480000,850000,350000,650000,650000,550000,300000,150000,300000,80000,200000,220000,68000,180000,290000,300000,600000,470000,150000,400000,110000,180000,250000,80000,875000,425000,300000,700000,130000,1000000,650000,400000,800000,675000,210000,150000,45000,516000,450000,134000,509999,500000,130000,575000,550000,145000,347000,275000,630000,160000,150000,550000,349000,229999,110000,110000,245000,180000,290000,250000,150000,55000,500000,290000,400000,72000,250000,575000,1300000,425000,470000,220000,310000,400000,215000,310000,750000,204999,260000,180000,125000,420000,220000,200000,130000,335000,2650000,2675000,2675000,434999,500000,290000,475000,270000,600000,300000,415000,800000,420000,1250000,270000,390000,400000,100000,850000,359000,470000,360000,250999,45000,75000,495000,310000,540000,665000,425000,1295000,675000,980000,320000,250000,600000,300000,305000,270000,300000,106000,90000,539000,110000,250000,300000,707000,95000,495000,200000,110000,100000,150000,509999,50000,85000,475000,425000,480000,950000,535000,325000,270000,300000,325000,350000,229999,325000,70000,190000,345000,1025000,120000,114999,300000,340000,90000,150000,115999,425000,550000,500000,300000,1150000,475000,260000,350000,750000,350000,180000,611000,325000,225000,300000,400000,711000,851000,375000,275000,120000,350000,409999,500000,220000,120000,70000,800000,450000,525000,300000,195000,130000,300000,120000,450000,160000,800000,100000,825000,265000,175000,250999,471000,650000,650000,225000,245000,221000,271000,290000,525000,377000,95000,763000,450000,140000,701000,277000,520000,550000,260000,420000,35000,1150000,680000,425000,450000,590000,936999,420000,450000,40000,520000,80000,55000,80000,210000,300000,260000,250000,80000,450000,310000,500000,800000,840000,490000,125000,400000,1000000,530000,840000,229999,40000,130000,200000,120000,75000,250000,100000,280000,540000,700000,350000,320000,475000,220000,210000,61000,355000,150000,133000,650000,210000,130000,60000,120000,2900000,100000,79000,120000,125000,425000,70000,619000,415000,265000,70000,281000,211000,550000,350000,420000,270000,399000,440000,250000,650000,270000,390000,1500000,225000,900000,1600000,800000,320000,300000,740000,350000,280000,675000,300000,400000,420000,300000,170000,210000,600000,260000,82000,690000,300000,1250000,799000,1000000,190000,250000,200000,300000,250000,90000,68000,500000,900000,100000,700000,1750000,290000,1050000,70000,520000,150000,120000,600000,150000,400000,310000,550000,550000,320000,50000,500000,360000,700000,700000,655000,700000,200000,375000,470000,550000,500000,210000,270000,300000,80000,1451000,1085000,245000,700000,300000,350000,635000,325000,1150000,110000,890000,73000,170000,750000,280000,690000,130000,73000,85000,1575000,325000,85000,860000,690000,650000,375000,525000,330000,280000,470000,350000,480000,620000,250000,78692,350000,250000,260000,640000,220000,465000,229999,425000,95000,170000,229999,45000,479000,370000,340000,620000,270000,400000,260000,48000,100000,490000,120000,125000,160000,190000,1700000,250000,500000,400000,500000,1800000,320000,250000,105000,550000,600000,210000,210000,150000,125000,380000,600000,490000,545000,250000,1050000,100000,250000,100000,350000,370000,121000,570000,785000,850000,375000,619000,335000,500000,60000,130000,210000,1900000,270000,225000,150000,173000,4800000,710000,1500000,550000,58000,1200000,500000,120000,300000,300000,295000,587000,430000,123000,450000,130000,110000,200000,320000,300000,350000,800000,270000,540000,160000,340000,350000,300000,330000,325000,250000,250000,240000,545000,300000,130000,240000,360000,250000,475000,600000,150000,700000,1290000,80000,425000,500000,193000,800000,150000,80000,130000,280000,229999,80000,70000,240000,380000,240000,80000,265000,320000,500000,1300000,1500000,1800000,600000,420000,140000,300000,100000,350000,850000,140000,550000,525000,470000,900000,500000,80000,175000,1350000,800000,250000,700000,800000,660000,465000,180000,600000,150000,450000,721000,300000,1000000,300000,450000,79000,545000,844999,700000,650000,525000,110000,180000,280000,400000,625000,535000,459999,300000,280000,500000,1200000,300000,180000,180000,78000,160000,600000,110000,450000,1350000,120000,1040000,390000,65000,320000,720000,220000,225000,200000,434999,300000,700000,500000,500000,400000,825000,720000,110000,600000,275000,2349000,740000,800000,1100000,750000,200000,210000,270000,630000,375000,300000,580000,550000,750000,250000,434999,900000,685000,540000,1165000,610000,254999,280000,370000,459999,42000,42000,190000,165000,710000,1200000,229999,310000,320000,100000,160000,60000,100000,350000,700000,300000,830000,220000,130000,330000,254999,600000,210000,120000,95000,229999,229999,400000,300000,300000,80000,80000,100000,300000,700000,975000,500000,550000,550000,240000,50000,120000,900000,250000,280000,85000,90000,500000,200000,250000,185000,100000,610000,290000,300000,225000,320000,135000,400000,400000,570000,500000,130000,360000,530000,250000,600000,570000,850000,250000,580000,1680000,180000,300000,269000,231999,150000,495000,700000,400000,599000,421000,841000,295000,220000,250000,1100000,300000,80000,215000,245000,650000,760000,395000,280000,495000,525000,420000,210000,650000,2300000,525000,195000,650000,540000,180000,750000,980000,250000,550000,509999,320000,275000,550000,145000,250000,520000,95000,725000,55000,600000,330000,470000,365000,250000,430000,400000,615000,150000,240000,800000,240000,600000,800000,160000,350000,300000,399000,300000,150000,320000,1280000,300000,1000000,1090000,450000,60000,500000,200000,650000,60000,250999,185000,155000,600000,300000,850000,470000,600000,700000,70000,1250000,650000,450000,750000,775000,800000,360000,250000,1490000,600000,120000,320000,400000,302000,130000,150000,200000,950000,120000,1400000,620000,449000,100000,600000,700000,250000,550000,675000,530000,325000,370000,360000,650000,199000,285000,260000,869999,425000,490000,750000,125000,221000,724000,440000,70000,511000,790000,640000,120000,126000,120000,650000,450000,110000,600000,620000,600000,795000,300000,495000,1580000,1750000,1350000,350000,300000,400000,1750000,70000,500000,2575000,345000,220000,1850000,114999,50000,585000,950000,625000,1035000,310000,600000,3100000,650000,550000,1260000,660000,700000,235000,475000,795000,8900000,3200000,1860000,4200000,850000,585000,380000,650000,600000,434999,525000,4800000,160000,160000,125000,430000,900000,61000,400000,150000,950000,220000,110000,375000,350000,310000,90000,350000,100000,1300000,70000,225000,145000,930000,550000,85000,280000,360000,150000,900000,120000,215000,550000,775000,409999,65000,200000,240000,800000,400000,500000,150000,500000,320000,300000,650000,285000,360000,450000,175000,350000,530000,1025000,950000,725000,919999,700000,725000,840000,365000,665000,50000,225000,229999,145000,624000,500000,750000,785000,225000,300000,680000,700000,180000,270000,370000,1100000,120000,430000,550000,320000,390000,550000,370000,190000,509999,450000,5500000,550000,400000,585000,500000,800000,265000,175000,125000,165000,150000,1025000,1030000,380000,250000,85000,500000,350000,190000,940000,475000,300000,250000,93000,290000,75000,1000000,550000,285000,240000,850000,650000,365000,650000,260000,250000,550000,70000,225000,145000,930000,550000,85000,280000,360000,150000,900000,120000,215000,550000,775000,409999,65000,200000,240000,800000,400000,229999,580000,175000,250000,320000,300000,800000,245000,300000,350000,70000,430999,80000,335000,350000,315000,1100000,80000,285000,100000,225000,4500000,320000,1249000,120000,200000,1151000,120000,220000,750000,784000,500000,350000,1400000,600000,525000,930000,440000,434999,250000,940000,1050000,825000,229999,375000,640000,800000,130000,300000,440000,595000,450000,690000,300000,170000,280000,220000,140000,45000,200000,325000,300000,120000,535000,520000,550000,280000,225000,750000,535000,1250000,650000,295000,480000,575000,509999,69000,200000,449000,426000,650000,260000,295000,260000,120000,155000,450000,320000,123000,80000,220000,650000,285000,725000,97000,625000,550000,130000,240000,600000,350000,245000,199000,330000,150000,927999,70000,399000,350000,125000,150000,250000,675000,950000,409999,225000,350000,51111,290000,310000,212000,900000,221000,675000,421000,350000,140000,90000,830000,180000,210000,700000,45000,125000,530000,800000,580000,1400000,300000,300000,700000,250000,500000,428000,1400000,219000,500000,520000,509999,556000,225000,325000,365000,850000,350000,225000,135000,140000,665000,275000,2750000,484999,565000,425000,925000,565000,525000,409999,570000,160000,749000,300000,550000,550000,1250000,700000,600000,925000,1800000,459999,565000,170000,150000,295000,819999,819999,320000,550000,550000,590000,1050000,950000,1000000,500000,450000,720000,390000,500000,2500000,780000,484999,420000,1225000,350000,350000,800000,125000,75000,509999,215000,465000,625000,490000,880000,290000,115999,685000,300000,680000,480000,630000,190000,500000,850000,350000,425000,495000,890000,1100000,650000,465000,625000,490000,880000,290000,115999,685000,300000,680000,480000,630000,190000,500000,850000,350000,425000,495000,890000,1100000,650000,233000,300000,614000,250000,250000,200000,290000,320000,145000,100000,130000,145000,110000,680000,37500,200000,300000,80000,740000,630000,70000,484999,164000,140000,999000,56000,1050000,190000,3899000,150000,235000,599000,200000,350000,465000,1900000,1000000,2800000,470000,415000,500000,150000,95000,400000,114999,75000,500000,195000,155000,65000,65000,190000,200000,160000,150000,530000,750000,225000,600000,409999,409999,110000,865000,225000],\"x0\":\" \",\"xaxis\":\"x\",\"y0\":\" \",\"yaxis\":\"y\",\"type\":\"box\"}],                        {\"template\":{\"data\":{\"bar\":[{\"error_x\":{\"color\":\"#2a3f5f\"},\"error_y\":{\"color\":\"#2a3f5f\"},\"marker\":{\"line\":{\"color\":\"#E5ECF6\",\"width\":0.5},\"pattern\":{\"fillmode\":\"overlay\",\"size\":10,\"solidity\":0.2}},\"type\":\"bar\"}],\"barpolar\":[{\"marker\":{\"line\":{\"color\":\"#E5ECF6\",\"width\":0.5},\"pattern\":{\"fillmode\":\"overlay\",\"size\":10,\"solidity\":0.2}},\"type\":\"barpolar\"}],\"carpet\":[{\"aaxis\":{\"endlinecolor\":\"#2a3f5f\",\"gridcolor\":\"white\",\"linecolor\":\"white\",\"minorgridcolor\":\"white\",\"startlinecolor\":\"#2a3f5f\"},\"baxis\":{\"endlinecolor\":\"#2a3f5f\",\"gridcolor\":\"white\",\"linecolor\":\"white\",\"minorgridcolor\":\"white\",\"startlinecolor\":\"#2a3f5f\"},\"type\":\"carpet\"}],\"choropleth\":[{\"colorbar\":{\"outlinewidth\":0,\"ticks\":\"\"},\"type\":\"choropleth\"}],\"contour\":[{\"colorbar\":{\"outlinewidth\":0,\"ticks\":\"\"},\"colorscale\":[[0.0,\"#0d0887\"],[0.1111111111111111,\"#46039f\"],[0.2222222222222222,\"#7201a8\"],[0.3333333333333333,\"#9c179e\"],[0.4444444444444444,\"#bd3786\"],[0.5555555555555556,\"#d8576b\"],[0.6666666666666666,\"#ed7953\"],[0.7777777777777778,\"#fb9f3a\"],[0.8888888888888888,\"#fdca26\"],[1.0,\"#f0f921\"]],\"type\":\"contour\"}],\"contourcarpet\":[{\"colorbar\":{\"outlinewidth\":0,\"ticks\":\"\"},\"type\":\"contourcarpet\"}],\"heatmap\":[{\"colorbar\":{\"outlinewidth\":0,\"ticks\":\"\"},\"colorscale\":[[0.0,\"#0d0887\"],[0.1111111111111111,\"#46039f\"],[0.2222222222222222,\"#7201a8\"],[0.3333333333333333,\"#9c179e\"],[0.4444444444444444,\"#bd3786\"],[0.5555555555555556,\"#d8576b\"],[0.6666666666666666,\"#ed7953\"],[0.7777777777777778,\"#fb9f3a\"],[0.8888888888888888,\"#fdca26\"],[1.0,\"#f0f921\"]],\"type\":\"heatmap\"}],\"heatmapgl\":[{\"colorbar\":{\"outlinewidth\":0,\"ticks\":\"\"},\"colorscale\":[[0.0,\"#0d0887\"],[0.1111111111111111,\"#46039f\"],[0.2222222222222222,\"#7201a8\"],[0.3333333333333333,\"#9c179e\"],[0.4444444444444444,\"#bd3786\"],[0.5555555555555556,\"#d8576b\"],[0.6666666666666666,\"#ed7953\"],[0.7777777777777778,\"#fb9f3a\"],[0.8888888888888888,\"#fdca26\"],[1.0,\"#f0f921\"]],\"type\":\"heatmapgl\"}],\"histogram\":[{\"marker\":{\"pattern\":{\"fillmode\":\"overlay\",\"size\":10,\"solidity\":0.2}},\"type\":\"histogram\"}],\"histogram2d\":[{\"colorbar\":{\"outlinewidth\":0,\"ticks\":\"\"},\"colorscale\":[[0.0,\"#0d0887\"],[0.1111111111111111,\"#46039f\"],[0.2222222222222222,\"#7201a8\"],[0.3333333333333333,\"#9c179e\"],[0.4444444444444444,\"#bd3786\"],[0.5555555555555556,\"#d8576b\"],[0.6666666666666666,\"#ed7953\"],[0.7777777777777778,\"#fb9f3a\"],[0.8888888888888888,\"#fdca26\"],[1.0,\"#f0f921\"]],\"type\":\"histogram2d\"}],\"histogram2dcontour\":[{\"colorbar\":{\"outlinewidth\":0,\"ticks\":\"\"},\"colorscale\":[[0.0,\"#0d0887\"],[0.1111111111111111,\"#46039f\"],[0.2222222222222222,\"#7201a8\"],[0.3333333333333333,\"#9c179e\"],[0.4444444444444444,\"#bd3786\"],[0.5555555555555556,\"#d8576b\"],[0.6666666666666666,\"#ed7953\"],[0.7777777777777778,\"#fb9f3a\"],[0.8888888888888888,\"#fdca26\"],[1.0,\"#f0f921\"]],\"type\":\"histogram2dcontour\"}],\"mesh3d\":[{\"colorbar\":{\"outlinewidth\":0,\"ticks\":\"\"},\"type\":\"mesh3d\"}],\"parcoords\":[{\"line\":{\"colorbar\":{\"outlinewidth\":0,\"ticks\":\"\"}},\"type\":\"parcoords\"}],\"pie\":[{\"automargin\":true,\"type\":\"pie\"}],\"scatter\":[{\"marker\":{\"colorbar\":{\"outlinewidth\":0,\"ticks\":\"\"}},\"type\":\"scatter\"}],\"scatter3d\":[{\"line\":{\"colorbar\":{\"outlinewidth\":0,\"ticks\":\"\"}},\"marker\":{\"colorbar\":{\"outlinewidth\":0,\"ticks\":\"\"}},\"type\":\"scatter3d\"}],\"scattercarpet\":[{\"marker\":{\"colorbar\":{\"outlinewidth\":0,\"ticks\":\"\"}},\"type\":\"scattercarpet\"}],\"scattergeo\":[{\"marker\":{\"colorbar\":{\"outlinewidth\":0,\"ticks\":\"\"}},\"type\":\"scattergeo\"}],\"scattergl\":[{\"marker\":{\"colorbar\":{\"outlinewidth\":0,\"ticks\":\"\"}},\"type\":\"scattergl\"}],\"scattermapbox\":[{\"marker\":{\"colorbar\":{\"outlinewidth\":0,\"ticks\":\"\"}},\"type\":\"scattermapbox\"}],\"scatterpolar\":[{\"marker\":{\"colorbar\":{\"outlinewidth\":0,\"ticks\":\"\"}},\"type\":\"scatterpolar\"}],\"scatterpolargl\":[{\"marker\":{\"colorbar\":{\"outlinewidth\":0,\"ticks\":\"\"}},\"type\":\"scatterpolargl\"}],\"scatterternary\":[{\"marker\":{\"colorbar\":{\"outlinewidth\":0,\"ticks\":\"\"}},\"type\":\"scatterternary\"}],\"surface\":[{\"colorbar\":{\"outlinewidth\":0,\"ticks\":\"\"},\"colorscale\":[[0.0,\"#0d0887\"],[0.1111111111111111,\"#46039f\"],[0.2222222222222222,\"#7201a8\"],[0.3333333333333333,\"#9c179e\"],[0.4444444444444444,\"#bd3786\"],[0.5555555555555556,\"#d8576b\"],[0.6666666666666666,\"#ed7953\"],[0.7777777777777778,\"#fb9f3a\"],[0.8888888888888888,\"#fdca26\"],[1.0,\"#f0f921\"]],\"type\":\"surface\"}],\"table\":[{\"cells\":{\"fill\":{\"color\":\"#EBF0F8\"},\"line\":{\"color\":\"white\"}},\"header\":{\"fill\":{\"color\":\"#C8D4E3\"},\"line\":{\"color\":\"white\"}},\"type\":\"table\"}]},\"layout\":{\"annotationdefaults\":{\"arrowcolor\":\"#2a3f5f\",\"arrowhead\":0,\"arrowwidth\":1},\"autotypenumbers\":\"strict\",\"coloraxis\":{\"colorbar\":{\"outlinewidth\":0,\"ticks\":\"\"}},\"colorscale\":{\"diverging\":[[0,\"#8e0152\"],[0.1,\"#c51b7d\"],[0.2,\"#de77ae\"],[0.3,\"#f1b6da\"],[0.4,\"#fde0ef\"],[0.5,\"#f7f7f7\"],[0.6,\"#e6f5d0\"],[0.7,\"#b8e186\"],[0.8,\"#7fbc41\"],[0.9,\"#4d9221\"],[1,\"#276419\"]],\"sequential\":[[0.0,\"#0d0887\"],[0.1111111111111111,\"#46039f\"],[0.2222222222222222,\"#7201a8\"],[0.3333333333333333,\"#9c179e\"],[0.4444444444444444,\"#bd3786\"],[0.5555555555555556,\"#d8576b\"],[0.6666666666666666,\"#ed7953\"],[0.7777777777777778,\"#fb9f3a\"],[0.8888888888888888,\"#fdca26\"],[1.0,\"#f0f921\"]],\"sequentialminus\":[[0.0,\"#0d0887\"],[0.1111111111111111,\"#46039f\"],[0.2222222222222222,\"#7201a8\"],[0.3333333333333333,\"#9c179e\"],[0.4444444444444444,\"#bd3786\"],[0.5555555555555556,\"#d8576b\"],[0.6666666666666666,\"#ed7953\"],[0.7777777777777778,\"#fb9f3a\"],[0.8888888888888888,\"#fdca26\"],[1.0,\"#f0f921\"]]},\"colorway\":[\"#636efa\",\"#EF553B\",\"#00cc96\",\"#ab63fa\",\"#FFA15A\",\"#19d3f3\",\"#FF6692\",\"#B6E880\",\"#FF97FF\",\"#FECB52\"],\"font\":{\"color\":\"#2a3f5f\"},\"geo\":{\"bgcolor\":\"white\",\"lakecolor\":\"white\",\"landcolor\":\"#E5ECF6\",\"showlakes\":true,\"showland\":true,\"subunitcolor\":\"white\"},\"hoverlabel\":{\"align\":\"left\"},\"hovermode\":\"closest\",\"mapbox\":{\"style\":\"light\"},\"paper_bgcolor\":\"white\",\"plot_bgcolor\":\"#E5ECF6\",\"polar\":{\"angularaxis\":{\"gridcolor\":\"white\",\"linecolor\":\"white\",\"ticks\":\"\"},\"bgcolor\":\"#E5ECF6\",\"radialaxis\":{\"gridcolor\":\"white\",\"linecolor\":\"white\",\"ticks\":\"\"}},\"scene\":{\"xaxis\":{\"backgroundcolor\":\"#E5ECF6\",\"gridcolor\":\"white\",\"gridwidth\":2,\"linecolor\":\"white\",\"showbackground\":true,\"ticks\":\"\",\"zerolinecolor\":\"white\"},\"yaxis\":{\"backgroundcolor\":\"#E5ECF6\",\"gridcolor\":\"white\",\"gridwidth\":2,\"linecolor\":\"white\",\"showbackground\":true,\"ticks\":\"\",\"zerolinecolor\":\"white\"},\"zaxis\":{\"backgroundcolor\":\"#E5ECF6\",\"gridcolor\":\"white\",\"gridwidth\":2,\"linecolor\":\"white\",\"showbackground\":true,\"ticks\":\"\",\"zerolinecolor\":\"white\"}},\"shapedefaults\":{\"line\":{\"color\":\"#2a3f5f\"}},\"ternary\":{\"aaxis\":{\"gridcolor\":\"white\",\"linecolor\":\"white\",\"ticks\":\"\"},\"baxis\":{\"gridcolor\":\"white\",\"linecolor\":\"white\",\"ticks\":\"\"},\"bgcolor\":\"#E5ECF6\",\"caxis\":{\"gridcolor\":\"white\",\"linecolor\":\"white\",\"ticks\":\"\"}},\"title\":{\"x\":0.05},\"xaxis\":{\"automargin\":true,\"gridcolor\":\"white\",\"linecolor\":\"white\",\"ticks\":\"\",\"title\":{\"standoff\":15},\"zerolinecolor\":\"white\",\"zerolinewidth\":2},\"yaxis\":{\"automargin\":true,\"gridcolor\":\"white\",\"linecolor\":\"white\",\"ticks\":\"\",\"title\":{\"standoff\":15},\"zerolinecolor\":\"white\",\"zerolinewidth\":2}}},\"xaxis\":{\"anchor\":\"y\",\"domain\":[0.0,1.0],\"title\":{\"text\":\"selling_price\"}},\"yaxis\":{\"anchor\":\"x\",\"domain\":[0.0,1.0]},\"legend\":{\"tracegroupgap\":0},\"margin\":{\"t\":60},\"boxmode\":\"group\"},                        {\"responsive\": true}                    ).then(function(){\n",
              "                            \n",
              "var gd = document.getElementById('62b91792-a036-4843-a945-b10494423742');\n",
              "var x = new MutationObserver(function (mutations, observer) {{\n",
              "        var display = window.getComputedStyle(gd).display;\n",
              "        if (!display || display === 'none') {{\n",
              "            console.log([gd, 'removed!']);\n",
              "            Plotly.purge(gd);\n",
              "            observer.disconnect();\n",
              "        }}\n",
              "}});\n",
              "\n",
              "// Listen for the removal of the full notebook cells\n",
              "var notebookContainer = gd.closest('#notebook-container');\n",
              "if (notebookContainer) {{\n",
              "    x.observe(notebookContainer, {childList: true});\n",
              "}}\n",
              "\n",
              "// Listen for the clearing of the current output cell\n",
              "var outputEl = gd.closest('.output');\n",
              "if (outputEl) {{\n",
              "    x.observe(outputEl, {childList: true});\n",
              "}}\n",
              "\n",
              "                        })                };                            </script>        </div>\n",
              "</body>\n",
              "</html>"
            ]
          },
          "metadata": {}
        }
      ]
    },
    {
      "cell_type": "code",
      "source": [
        "df['fuel'].value_counts()"
      ],
      "metadata": {
        "id": "sVWzusJLp8A3",
        "colab": {
          "base_uri": "https://localhost:8080/"
        },
        "outputId": "4e422ad0-ba45-44cb-b8f9-e545df867a49"
      },
      "execution_count": null,
      "outputs": [
        {
          "output_type": "execute_result",
          "data": {
            "text/plain": [
              "Diesel      2153\n",
              "Petrol      2123\n",
              "CNG           40\n",
              "LPG           23\n",
              "Electric       1\n",
              "Name: fuel, dtype: int64"
            ]
          },
          "metadata": {},
          "execution_count": 91
        }
      ]
    },
    {
      "cell_type": "markdown",
      "source": [
        "Zmiana danych kategorycznych na numeryczne\n"
      ],
      "metadata": {
        "id": "95gVk-vRx0kT"
      }
    },
    {
      "cell_type": "code",
      "source": [
        "# get the dummies and store it in a variable\n",
        "dummies = pd.get_dummies(df[['fuel', 'seller_type', 'transmission', 'owner']])\n",
        "\n",
        "# Concatenate the dummies to original dataframe\n",
        "merged = pd.concat([df, dummies], axis='columns')\n",
        "\n",
        "# drop the values\n",
        "merged.drop(['fuel', 'seller_type', 'transmission', 'owner'], axis='columns')\n",
        "\n",
        "# print the dataframe\n",
        "print(merged)"
      ],
      "metadata": {
        "colab": {
          "base_uri": "https://localhost:8080/"
        },
        "id": "mXZxEMumyz5E",
        "outputId": "6eaf0b55-c133-4985-de00-35a69a184436"
      },
      "execution_count": null,
      "outputs": [
        {
          "output_type": "stream",
          "name": "stdout",
          "text": [
            "         name  age  selling_price  km_driven    fuel seller_type transmission  \\\n",
            "0      Maruti   16          60000      70000  Petrol  Individual       Manual   \n",
            "1      Maruti   16         135000      50000  Petrol  Individual       Manual   \n",
            "2     Hyundai   11         600000     100000  Diesel  Individual       Manual   \n",
            "3      Datsun    6         250000      46000  Petrol  Individual       Manual   \n",
            "4       Honda    9         450000     141000  Diesel  Individual       Manual   \n",
            "...       ...  ...            ...        ...     ...         ...          ...   \n",
            "4335  Hyundai    9         409999      80000  Diesel  Individual       Manual   \n",
            "4336  Hyundai    9         409999      80000  Diesel  Individual       Manual   \n",
            "4337   Maruti   14         110000      83000  Petrol  Individual       Manual   \n",
            "4338  Hyundai    7         865000      90000  Diesel  Individual       Manual   \n",
            "4339  Renault    7         225000      40000  Petrol  Individual       Manual   \n",
            "\n",
            "             owner  fuel_CNG  fuel_Diesel  ...  seller_type_Dealer  \\\n",
            "0      First Owner         0            0  ...                   0   \n",
            "1      First Owner         0            0  ...                   0   \n",
            "2      First Owner         0            1  ...                   0   \n",
            "3      First Owner         0            0  ...                   0   \n",
            "4     Second Owner         0            1  ...                   0   \n",
            "...            ...       ...          ...  ...                 ...   \n",
            "4335  Second Owner         0            1  ...                   0   \n",
            "4336  Second Owner         0            1  ...                   0   \n",
            "4337  Second Owner         0            0  ...                   0   \n",
            "4338   First Owner         0            1  ...                   0   \n",
            "4339   First Owner         0            0  ...                   0   \n",
            "\n",
            "      seller_type_Individual  seller_type_Trustmark Dealer  \\\n",
            "0                          1                             0   \n",
            "1                          1                             0   \n",
            "2                          1                             0   \n",
            "3                          1                             0   \n",
            "4                          1                             0   \n",
            "...                      ...                           ...   \n",
            "4335                       1                             0   \n",
            "4336                       1                             0   \n",
            "4337                       1                             0   \n",
            "4338                       1                             0   \n",
            "4339                       1                             0   \n",
            "\n",
            "      transmission_Automatic  transmission_Manual  owner_First Owner  \\\n",
            "0                          0                    1                  1   \n",
            "1                          0                    1                  1   \n",
            "2                          0                    1                  1   \n",
            "3                          0                    1                  1   \n",
            "4                          0                    1                  0   \n",
            "...                      ...                  ...                ...   \n",
            "4335                       0                    1                  0   \n",
            "4336                       0                    1                  0   \n",
            "4337                       0                    1                  0   \n",
            "4338                       0                    1                  1   \n",
            "4339                       0                    1                  1   \n",
            "\n",
            "      owner_Fourth & Above Owner  owner_Second Owner  owner_Test Drive Car  \\\n",
            "0                              0                   0                     0   \n",
            "1                              0                   0                     0   \n",
            "2                              0                   0                     0   \n",
            "3                              0                   0                     0   \n",
            "4                              0                   1                     0   \n",
            "...                          ...                 ...                   ...   \n",
            "4335                           0                   1                     0   \n",
            "4336                           0                   1                     0   \n",
            "4337                           0                   1                     0   \n",
            "4338                           0                   0                     0   \n",
            "4339                           0                   0                     0   \n",
            "\n",
            "      owner_Third Owner  \n",
            "0                     0  \n",
            "1                     0  \n",
            "2                     0  \n",
            "3                     0  \n",
            "4                     0  \n",
            "...                 ...  \n",
            "4335                  0  \n",
            "4336                  0  \n",
            "4337                  0  \n",
            "4338                  0  \n",
            "4339                  0  \n",
            "\n",
            "[4340 rows x 23 columns]\n"
          ]
        }
      ]
    },
    {
      "cell_type": "code",
      "source": [
        "merged.head()"
      ],
      "metadata": {
        "colab": {
          "base_uri": "https://localhost:8080/",
          "height": 421
        },
        "id": "WTtUo55ozAtU",
        "outputId": "0cc1d8b7-a0a1-4829-b196-52a10449cae4"
      },
      "execution_count": null,
      "outputs": [
        {
          "output_type": "execute_result",
          "data": {
            "text/plain": [
              "      name  age  selling_price  km_driven    fuel seller_type transmission  \\\n",
              "0   Maruti   16          60000      70000  Petrol  Individual       Manual   \n",
              "1   Maruti   16         135000      50000  Petrol  Individual       Manual   \n",
              "2  Hyundai   11         600000     100000  Diesel  Individual       Manual   \n",
              "3   Datsun    6         250000      46000  Petrol  Individual       Manual   \n",
              "4    Honda    9         450000     141000  Diesel  Individual       Manual   \n",
              "\n",
              "          owner  fuel_CNG  fuel_Diesel  ...  seller_type_Dealer  \\\n",
              "0   First Owner         0            0  ...                   0   \n",
              "1   First Owner         0            0  ...                   0   \n",
              "2   First Owner         0            1  ...                   0   \n",
              "3   First Owner         0            0  ...                   0   \n",
              "4  Second Owner         0            1  ...                   0   \n",
              "\n",
              "   seller_type_Individual  seller_type_Trustmark Dealer  \\\n",
              "0                       1                             0   \n",
              "1                       1                             0   \n",
              "2                       1                             0   \n",
              "3                       1                             0   \n",
              "4                       1                             0   \n",
              "\n",
              "   transmission_Automatic  transmission_Manual  owner_First Owner  \\\n",
              "0                       0                    1                  1   \n",
              "1                       0                    1                  1   \n",
              "2                       0                    1                  1   \n",
              "3                       0                    1                  1   \n",
              "4                       0                    1                  0   \n",
              "\n",
              "   owner_Fourth & Above Owner  owner_Second Owner  owner_Test Drive Car  \\\n",
              "0                           0                   0                     0   \n",
              "1                           0                   0                     0   \n",
              "2                           0                   0                     0   \n",
              "3                           0                   0                     0   \n",
              "4                           0                   1                     0   \n",
              "\n",
              "   owner_Third Owner  \n",
              "0                  0  \n",
              "1                  0  \n",
              "2                  0  \n",
              "3                  0  \n",
              "4                  0  \n",
              "\n",
              "[5 rows x 23 columns]"
            ],
            "text/html": [
              "\n",
              "  <div id=\"df-373df2f0-abbb-4755-9cfb-7dcddb82e963\">\n",
              "    <div class=\"colab-df-container\">\n",
              "      <div>\n",
              "<style scoped>\n",
              "    .dataframe tbody tr th:only-of-type {\n",
              "        vertical-align: middle;\n",
              "    }\n",
              "\n",
              "    .dataframe tbody tr th {\n",
              "        vertical-align: top;\n",
              "    }\n",
              "\n",
              "    .dataframe thead th {\n",
              "        text-align: right;\n",
              "    }\n",
              "</style>\n",
              "<table border=\"1\" class=\"dataframe\">\n",
              "  <thead>\n",
              "    <tr style=\"text-align: right;\">\n",
              "      <th></th>\n",
              "      <th>name</th>\n",
              "      <th>age</th>\n",
              "      <th>selling_price</th>\n",
              "      <th>km_driven</th>\n",
              "      <th>fuel</th>\n",
              "      <th>seller_type</th>\n",
              "      <th>transmission</th>\n",
              "      <th>owner</th>\n",
              "      <th>fuel_CNG</th>\n",
              "      <th>fuel_Diesel</th>\n",
              "      <th>...</th>\n",
              "      <th>seller_type_Dealer</th>\n",
              "      <th>seller_type_Individual</th>\n",
              "      <th>seller_type_Trustmark Dealer</th>\n",
              "      <th>transmission_Automatic</th>\n",
              "      <th>transmission_Manual</th>\n",
              "      <th>owner_First Owner</th>\n",
              "      <th>owner_Fourth &amp; Above Owner</th>\n",
              "      <th>owner_Second Owner</th>\n",
              "      <th>owner_Test Drive Car</th>\n",
              "      <th>owner_Third Owner</th>\n",
              "    </tr>\n",
              "  </thead>\n",
              "  <tbody>\n",
              "    <tr>\n",
              "      <th>0</th>\n",
              "      <td>Maruti</td>\n",
              "      <td>16</td>\n",
              "      <td>60000</td>\n",
              "      <td>70000</td>\n",
              "      <td>Petrol</td>\n",
              "      <td>Individual</td>\n",
              "      <td>Manual</td>\n",
              "      <td>First Owner</td>\n",
              "      <td>0</td>\n",
              "      <td>0</td>\n",
              "      <td>...</td>\n",
              "      <td>0</td>\n",
              "      <td>1</td>\n",
              "      <td>0</td>\n",
              "      <td>0</td>\n",
              "      <td>1</td>\n",
              "      <td>1</td>\n",
              "      <td>0</td>\n",
              "      <td>0</td>\n",
              "      <td>0</td>\n",
              "      <td>0</td>\n",
              "    </tr>\n",
              "    <tr>\n",
              "      <th>1</th>\n",
              "      <td>Maruti</td>\n",
              "      <td>16</td>\n",
              "      <td>135000</td>\n",
              "      <td>50000</td>\n",
              "      <td>Petrol</td>\n",
              "      <td>Individual</td>\n",
              "      <td>Manual</td>\n",
              "      <td>First Owner</td>\n",
              "      <td>0</td>\n",
              "      <td>0</td>\n",
              "      <td>...</td>\n",
              "      <td>0</td>\n",
              "      <td>1</td>\n",
              "      <td>0</td>\n",
              "      <td>0</td>\n",
              "      <td>1</td>\n",
              "      <td>1</td>\n",
              "      <td>0</td>\n",
              "      <td>0</td>\n",
              "      <td>0</td>\n",
              "      <td>0</td>\n",
              "    </tr>\n",
              "    <tr>\n",
              "      <th>2</th>\n",
              "      <td>Hyundai</td>\n",
              "      <td>11</td>\n",
              "      <td>600000</td>\n",
              "      <td>100000</td>\n",
              "      <td>Diesel</td>\n",
              "      <td>Individual</td>\n",
              "      <td>Manual</td>\n",
              "      <td>First Owner</td>\n",
              "      <td>0</td>\n",
              "      <td>1</td>\n",
              "      <td>...</td>\n",
              "      <td>0</td>\n",
              "      <td>1</td>\n",
              "      <td>0</td>\n",
              "      <td>0</td>\n",
              "      <td>1</td>\n",
              "      <td>1</td>\n",
              "      <td>0</td>\n",
              "      <td>0</td>\n",
              "      <td>0</td>\n",
              "      <td>0</td>\n",
              "    </tr>\n",
              "    <tr>\n",
              "      <th>3</th>\n",
              "      <td>Datsun</td>\n",
              "      <td>6</td>\n",
              "      <td>250000</td>\n",
              "      <td>46000</td>\n",
              "      <td>Petrol</td>\n",
              "      <td>Individual</td>\n",
              "      <td>Manual</td>\n",
              "      <td>First Owner</td>\n",
              "      <td>0</td>\n",
              "      <td>0</td>\n",
              "      <td>...</td>\n",
              "      <td>0</td>\n",
              "      <td>1</td>\n",
              "      <td>0</td>\n",
              "      <td>0</td>\n",
              "      <td>1</td>\n",
              "      <td>1</td>\n",
              "      <td>0</td>\n",
              "      <td>0</td>\n",
              "      <td>0</td>\n",
              "      <td>0</td>\n",
              "    </tr>\n",
              "    <tr>\n",
              "      <th>4</th>\n",
              "      <td>Honda</td>\n",
              "      <td>9</td>\n",
              "      <td>450000</td>\n",
              "      <td>141000</td>\n",
              "      <td>Diesel</td>\n",
              "      <td>Individual</td>\n",
              "      <td>Manual</td>\n",
              "      <td>Second Owner</td>\n",
              "      <td>0</td>\n",
              "      <td>1</td>\n",
              "      <td>...</td>\n",
              "      <td>0</td>\n",
              "      <td>1</td>\n",
              "      <td>0</td>\n",
              "      <td>0</td>\n",
              "      <td>1</td>\n",
              "      <td>0</td>\n",
              "      <td>0</td>\n",
              "      <td>1</td>\n",
              "      <td>0</td>\n",
              "      <td>0</td>\n",
              "    </tr>\n",
              "  </tbody>\n",
              "</table>\n",
              "<p>5 rows × 23 columns</p>\n",
              "</div>\n",
              "      <button class=\"colab-df-convert\" onclick=\"convertToInteractive('df-373df2f0-abbb-4755-9cfb-7dcddb82e963')\"\n",
              "              title=\"Convert this dataframe to an interactive table.\"\n",
              "              style=\"display:none;\">\n",
              "        \n",
              "  <svg xmlns=\"http://www.w3.org/2000/svg\" height=\"24px\"viewBox=\"0 0 24 24\"\n",
              "       width=\"24px\">\n",
              "    <path d=\"M0 0h24v24H0V0z\" fill=\"none\"/>\n",
              "    <path d=\"M18.56 5.44l.94 2.06.94-2.06 2.06-.94-2.06-.94-.94-2.06-.94 2.06-2.06.94zm-11 1L8.5 8.5l.94-2.06 2.06-.94-2.06-.94L8.5 2.5l-.94 2.06-2.06.94zm10 10l.94 2.06.94-2.06 2.06-.94-2.06-.94-.94-2.06-.94 2.06-2.06.94z\"/><path d=\"M17.41 7.96l-1.37-1.37c-.4-.4-.92-.59-1.43-.59-.52 0-1.04.2-1.43.59L10.3 9.45l-7.72 7.72c-.78.78-.78 2.05 0 2.83L4 21.41c.39.39.9.59 1.41.59.51 0 1.02-.2 1.41-.59l7.78-7.78 2.81-2.81c.8-.78.8-2.07 0-2.86zM5.41 20L4 18.59l7.72-7.72 1.47 1.35L5.41 20z\"/>\n",
              "  </svg>\n",
              "      </button>\n",
              "      \n",
              "  <style>\n",
              "    .colab-df-container {\n",
              "      display:flex;\n",
              "      flex-wrap:wrap;\n",
              "      gap: 12px;\n",
              "    }\n",
              "\n",
              "    .colab-df-convert {\n",
              "      background-color: #E8F0FE;\n",
              "      border: none;\n",
              "      border-radius: 50%;\n",
              "      cursor: pointer;\n",
              "      display: none;\n",
              "      fill: #1967D2;\n",
              "      height: 32px;\n",
              "      padding: 0 0 0 0;\n",
              "      width: 32px;\n",
              "    }\n",
              "\n",
              "    .colab-df-convert:hover {\n",
              "      background-color: #E2EBFA;\n",
              "      box-shadow: 0px 1px 2px rgba(60, 64, 67, 0.3), 0px 1px 3px 1px rgba(60, 64, 67, 0.15);\n",
              "      fill: #174EA6;\n",
              "    }\n",
              "\n",
              "    [theme=dark] .colab-df-convert {\n",
              "      background-color: #3B4455;\n",
              "      fill: #D2E3FC;\n",
              "    }\n",
              "\n",
              "    [theme=dark] .colab-df-convert:hover {\n",
              "      background-color: #434B5C;\n",
              "      box-shadow: 0px 1px 3px 1px rgba(0, 0, 0, 0.15);\n",
              "      filter: drop-shadow(0px 1px 2px rgba(0, 0, 0, 0.3));\n",
              "      fill: #FFFFFF;\n",
              "    }\n",
              "  </style>\n",
              "\n",
              "      <script>\n",
              "        const buttonEl =\n",
              "          document.querySelector('#df-373df2f0-abbb-4755-9cfb-7dcddb82e963 button.colab-df-convert');\n",
              "        buttonEl.style.display =\n",
              "          google.colab.kernel.accessAllowed ? 'block' : 'none';\n",
              "\n",
              "        async function convertToInteractive(key) {\n",
              "          const element = document.querySelector('#df-373df2f0-abbb-4755-9cfb-7dcddb82e963');\n",
              "          const dataTable =\n",
              "            await google.colab.kernel.invokeFunction('convertToInteractive',\n",
              "                                                     [key], {});\n",
              "          if (!dataTable) return;\n",
              "\n",
              "          const docLinkHtml = 'Like what you see? Visit the ' +\n",
              "            '<a target=\"_blank\" href=https://colab.research.google.com/notebooks/data_table.ipynb>data table notebook</a>'\n",
              "            + ' to learn more about interactive tables.';\n",
              "          element.innerHTML = '';\n",
              "          dataTable['output_type'] = 'display_data';\n",
              "          await google.colab.output.renderOutput(dataTable, element);\n",
              "          const docLink = document.createElement('div');\n",
              "          docLink.innerHTML = docLinkHtml;\n",
              "          element.appendChild(docLink);\n",
              "        }\n",
              "      </script>\n",
              "    </div>\n",
              "  </div>\n",
              "  "
            ]
          },
          "metadata": {},
          "execution_count": 96
        }
      ]
    },
    {
      "cell_type": "code",
      "source": [
        "values_to_convert = {'fuel':{'Petrol':0, 'Diesel':1, 'CNG':2,'LPG':3},\n",
        "                     'seller_type':{'Individual':0, 'Dealer':1, 'Trustmark Dealer':2},\n",
        "                     'transmission':{'Manual':0, 'Automatic':1},\n",
        "                     'owner':{'First Owner': 0,'Second Owner': 1, 'Fourth & Above Owner':2,\n",
        "                              'Third Owner':3, 'Test Drive Car':4}}"
      ],
      "metadata": {
        "id": "pbRf41eyx3r7"
      },
      "execution_count": null,
      "outputs": []
    },
    {
      "cell_type": "code",
      "source": [
        "df = df.replace(values_to_convert)"
      ],
      "metadata": {
        "id": "V3_qnf8CyCIb"
      },
      "execution_count": null,
      "outputs": []
    },
    {
      "cell_type": "markdown",
      "source": [
        "Usuwam samochody z elektrycznym napędem"
      ],
      "metadata": {
        "id": "JCfcALSBDfW5"
      }
    },
    {
      "cell_type": "code",
      "source": [
        "df = df[df['fuel'] != 'Electric']"
      ],
      "metadata": {
        "id": "CSFAcT-yDbFF"
      },
      "execution_count": null,
      "outputs": []
    },
    {
      "cell_type": "markdown",
      "source": [],
      "metadata": {
        "id": "Fwz8Dw-pxo5r"
      }
    },
    {
      "cell_type": "markdown",
      "source": [
        "Regresja liniowa"
      ],
      "metadata": {
        "id": "OlXhDopBENzw"
      }
    },
    {
      "cell_type": "code",
      "source": [
        "df.columns"
      ],
      "metadata": {
        "colab": {
          "base_uri": "https://localhost:8080/"
        },
        "id": "uxCXcfZVEau4",
        "outputId": "92bd2a1e-2dc5-4a2a-f0e7-4987e8efecfb"
      },
      "execution_count": null,
      "outputs": [
        {
          "output_type": "execute_result",
          "data": {
            "text/plain": [
              "Index(['name', 'age', 'selling_price', 'km_driven', 'fuel', 'seller_type',\n",
              "       'transmission', 'owner'],\n",
              "      dtype='object')"
            ]
          },
          "metadata": {},
          "execution_count": 97
        }
      ]
    },
    {
      "cell_type": "code",
      "source": [
        "new_df = df[['age', 'km_driven', 'selling_price']]\n",
        "X = df.drop(columns=['name', 'selling_price'])\n",
        "y = df['selling_price']\n",
        "print(y)\n",
        "print(X)\n",
        "print(new_df)"
      ],
      "metadata": {
        "colab": {
          "base_uri": "https://localhost:8080/"
        },
        "id": "MnhsyrdYDqAK",
        "outputId": "0aa13b44-fae1-4501-dbbc-9b8366661cf9"
      },
      "execution_count": null,
      "outputs": [
        {
          "output_type": "stream",
          "name": "stdout",
          "text": [
            "0        60000\n",
            "1       135000\n",
            "2       600000\n",
            "3       250000\n",
            "4       450000\n",
            "         ...  \n",
            "4335    409999\n",
            "4336    409999\n",
            "4337    110000\n",
            "4338    865000\n",
            "4339    225000\n",
            "Name: selling_price, Length: 4339, dtype: int64\n",
            "      age  km_driven fuel  seller_type  transmission  owner\n",
            "0      16      70000    0            0             0      0\n",
            "1      16      50000    0            0             0      0\n",
            "2      11     100000    1            0             0      0\n",
            "3       6      46000    0            0             0      0\n",
            "4       9     141000    1            0             0      1\n",
            "...   ...        ...  ...          ...           ...    ...\n",
            "4335    9      80000    1            0             0      1\n",
            "4336    9      80000    1            0             0      1\n",
            "4337   14      83000    0            0             0      1\n",
            "4338    7      90000    1            0             0      0\n",
            "4339    7      40000    0            0             0      0\n",
            "\n",
            "[4339 rows x 6 columns]\n",
            "      age  km_driven  selling_price\n",
            "0      16      70000          60000\n",
            "1      16      50000         135000\n",
            "2      11     100000         600000\n",
            "3       6      46000         250000\n",
            "4       9     141000         450000\n",
            "...   ...        ...            ...\n",
            "4335    9      80000         409999\n",
            "4336    9      80000         409999\n",
            "4337   14      83000         110000\n",
            "4338    7      90000         865000\n",
            "4339    7      40000         225000\n",
            "\n",
            "[4339 rows x 3 columns]\n"
          ]
        }
      ]
    },
    {
      "cell_type": "code",
      "source": [
        "from sklearn.model_selection import train_test_split\n",
        "X_train, X_test, y_train, y_test = train_test_split(X, y, test_size=0.33, random_state=30)"
      ],
      "metadata": {
        "id": "H9ZrNdlYEjSY"
      },
      "execution_count": null,
      "outputs": []
    },
    {
      "cell_type": "code",
      "source": [
        "print(X_train)\n",
        "print(y_train)"
      ],
      "metadata": {
        "colab": {
          "base_uri": "https://localhost:8080/"
        },
        "id": "Pw6HKugFFmoK",
        "outputId": "92ce6e03-141d-4ae5-e0e4-c6bfe6920d97"
      },
      "execution_count": null,
      "outputs": [
        {
          "output_type": "stream",
          "name": "stdout",
          "text": [
            "      age  km_driven\n",
            "99     10      53000\n",
            "723    11      52547\n",
            "118     7      80000\n",
            "2658   17      75118\n",
            "327     5      25000\n",
            "...   ...        ...\n",
            "2473    9     120000\n",
            "1155    7      56000\n",
            "919     4      30000\n",
            "500     7     155201\n",
            "3885   16      90000\n",
            "\n",
            "[2907 rows x 2 columns]\n",
            "99      1150000\n",
            "723      269000\n",
            "118      690000\n",
            "2658     150000\n",
            "327      800000\n",
            "         ...   \n",
            "2473     270000\n",
            "1155     600000\n",
            "919     4950000\n",
            "500      600000\n",
            "3885     160000\n",
            "Name: selling_price, Length: 2907, dtype: int64\n"
          ]
        }
      ]
    },
    {
      "cell_type": "code",
      "source": [
        "from sklearn.preprocessing import StandardScaler, MinMaxScaler\n",
        "scaler = StandardScaler().fit(X_train)\n",
        "X_train_scaled = scaler.transform(X_train)\n",
        "X_test_scaled = scaler.transform(X_test)"
      ],
      "metadata": {
        "id": "wYozX5a_WkFF"
      },
      "execution_count": null,
      "outputs": []
    },
    {
      "cell_type": "code",
      "source": [
        "from sklearn.linear_model import LinearRegression\n",
        "model = LinearRegression()\n",
        "model.fit(X_train_scaled, y_train)\n",
        "pred = model.predict(X_test_scaled)"
      ],
      "metadata": {
        "id": "CHRoXu2ZFocE"
      },
      "execution_count": null,
      "outputs": []
    },
    {
      "cell_type": "code",
      "source": [
        "from sklearn.metrics import mean_absolute_error, mean_squared_error, r2_score"
      ],
      "metadata": {
        "id": "doROIxbOIM_e"
      },
      "execution_count": null,
      "outputs": []
    },
    {
      "cell_type": "code",
      "source": [
        "MAE = mean_absolute_error(y_test, pred)\n",
        "MSE = mean_squared_error(y_test, pred)\n",
        "r2 = r2_score(y_test, pred)"
      ],
      "metadata": {
        "id": "J0hOEUTQIbFm"
      },
      "execution_count": null,
      "outputs": []
    },
    {
      "cell_type": "code",
      "source": [
        "print(MAE)\n",
        "print(MSE)\n",
        "print(r2)"
      ],
      "metadata": {
        "colab": {
          "base_uri": "https://localhost:8080/"
        },
        "id": "U0sJ60psItlk",
        "outputId": "12798122-ee91-4f4c-be18-6f2145756030"
      },
      "execution_count": null,
      "outputs": [
        {
          "output_type": "stream",
          "name": "stdout",
          "text": [
            "281319.7373767429\n",
            "370588403608.4891\n",
            "0.15327215184608933\n"
          ]
        }
      ]
    },
    {
      "cell_type": "code",
      "source": [
        "corr = df.corr()\n",
        "corr"
      ],
      "metadata": {
        "colab": {
          "base_uri": "https://localhost:8080/",
          "height": 143
        },
        "id": "jX1ZHewWKCaQ",
        "outputId": "dc4cbd6f-69ef-44ec-f5ee-600289cbd711"
      },
      "execution_count": null,
      "outputs": [
        {
          "output_type": "execute_result",
          "data": {
            "text/plain": [
              "                    age  selling_price  km_driven\n",
              "age            1.000000      -0.413932   0.419861\n",
              "selling_price -0.413932       1.000000  -0.192298\n",
              "km_driven      0.419861      -0.192298   1.000000"
            ],
            "text/html": [
              "\n",
              "  <div id=\"df-ec1f6755-cb87-48bb-b23a-02e3a61e967b\">\n",
              "    <div class=\"colab-df-container\">\n",
              "      <div>\n",
              "<style scoped>\n",
              "    .dataframe tbody tr th:only-of-type {\n",
              "        vertical-align: middle;\n",
              "    }\n",
              "\n",
              "    .dataframe tbody tr th {\n",
              "        vertical-align: top;\n",
              "    }\n",
              "\n",
              "    .dataframe thead th {\n",
              "        text-align: right;\n",
              "    }\n",
              "</style>\n",
              "<table border=\"1\" class=\"dataframe\">\n",
              "  <thead>\n",
              "    <tr style=\"text-align: right;\">\n",
              "      <th></th>\n",
              "      <th>age</th>\n",
              "      <th>selling_price</th>\n",
              "      <th>km_driven</th>\n",
              "    </tr>\n",
              "  </thead>\n",
              "  <tbody>\n",
              "    <tr>\n",
              "      <th>age</th>\n",
              "      <td>1.000000</td>\n",
              "      <td>-0.413932</td>\n",
              "      <td>0.419861</td>\n",
              "    </tr>\n",
              "    <tr>\n",
              "      <th>selling_price</th>\n",
              "      <td>-0.413932</td>\n",
              "      <td>1.000000</td>\n",
              "      <td>-0.192298</td>\n",
              "    </tr>\n",
              "    <tr>\n",
              "      <th>km_driven</th>\n",
              "      <td>0.419861</td>\n",
              "      <td>-0.192298</td>\n",
              "      <td>1.000000</td>\n",
              "    </tr>\n",
              "  </tbody>\n",
              "</table>\n",
              "</div>\n",
              "      <button class=\"colab-df-convert\" onclick=\"convertToInteractive('df-ec1f6755-cb87-48bb-b23a-02e3a61e967b')\"\n",
              "              title=\"Convert this dataframe to an interactive table.\"\n",
              "              style=\"display:none;\">\n",
              "        \n",
              "  <svg xmlns=\"http://www.w3.org/2000/svg\" height=\"24px\"viewBox=\"0 0 24 24\"\n",
              "       width=\"24px\">\n",
              "    <path d=\"M0 0h24v24H0V0z\" fill=\"none\"/>\n",
              "    <path d=\"M18.56 5.44l.94 2.06.94-2.06 2.06-.94-2.06-.94-.94-2.06-.94 2.06-2.06.94zm-11 1L8.5 8.5l.94-2.06 2.06-.94-2.06-.94L8.5 2.5l-.94 2.06-2.06.94zm10 10l.94 2.06.94-2.06 2.06-.94-2.06-.94-.94-2.06-.94 2.06-2.06.94z\"/><path d=\"M17.41 7.96l-1.37-1.37c-.4-.4-.92-.59-1.43-.59-.52 0-1.04.2-1.43.59L10.3 9.45l-7.72 7.72c-.78.78-.78 2.05 0 2.83L4 21.41c.39.39.9.59 1.41.59.51 0 1.02-.2 1.41-.59l7.78-7.78 2.81-2.81c.8-.78.8-2.07 0-2.86zM5.41 20L4 18.59l7.72-7.72 1.47 1.35L5.41 20z\"/>\n",
              "  </svg>\n",
              "      </button>\n",
              "      \n",
              "  <style>\n",
              "    .colab-df-container {\n",
              "      display:flex;\n",
              "      flex-wrap:wrap;\n",
              "      gap: 12px;\n",
              "    }\n",
              "\n",
              "    .colab-df-convert {\n",
              "      background-color: #E8F0FE;\n",
              "      border: none;\n",
              "      border-radius: 50%;\n",
              "      cursor: pointer;\n",
              "      display: none;\n",
              "      fill: #1967D2;\n",
              "      height: 32px;\n",
              "      padding: 0 0 0 0;\n",
              "      width: 32px;\n",
              "    }\n",
              "\n",
              "    .colab-df-convert:hover {\n",
              "      background-color: #E2EBFA;\n",
              "      box-shadow: 0px 1px 2px rgba(60, 64, 67, 0.3), 0px 1px 3px 1px rgba(60, 64, 67, 0.15);\n",
              "      fill: #174EA6;\n",
              "    }\n",
              "\n",
              "    [theme=dark] .colab-df-convert {\n",
              "      background-color: #3B4455;\n",
              "      fill: #D2E3FC;\n",
              "    }\n",
              "\n",
              "    [theme=dark] .colab-df-convert:hover {\n",
              "      background-color: #434B5C;\n",
              "      box-shadow: 0px 1px 3px 1px rgba(0, 0, 0, 0.15);\n",
              "      filter: drop-shadow(0px 1px 2px rgba(0, 0, 0, 0.3));\n",
              "      fill: #FFFFFF;\n",
              "    }\n",
              "  </style>\n",
              "\n",
              "      <script>\n",
              "        const buttonEl =\n",
              "          document.querySelector('#df-ec1f6755-cb87-48bb-b23a-02e3a61e967b button.colab-df-convert');\n",
              "        buttonEl.style.display =\n",
              "          google.colab.kernel.accessAllowed ? 'block' : 'none';\n",
              "\n",
              "        async function convertToInteractive(key) {\n",
              "          const element = document.querySelector('#df-ec1f6755-cb87-48bb-b23a-02e3a61e967b');\n",
              "          const dataTable =\n",
              "            await google.colab.kernel.invokeFunction('convertToInteractive',\n",
              "                                                     [key], {});\n",
              "          if (!dataTable) return;\n",
              "\n",
              "          const docLinkHtml = 'Like what you see? Visit the ' +\n",
              "            '<a target=\"_blank\" href=https://colab.research.google.com/notebooks/data_table.ipynb>data table notebook</a>'\n",
              "            + ' to learn more about interactive tables.';\n",
              "          element.innerHTML = '';\n",
              "          dataTable['output_type'] = 'display_data';\n",
              "          await google.colab.output.renderOutput(dataTable, element);\n",
              "          const docLink = document.createElement('div');\n",
              "          docLink.innerHTML = docLinkHtml;\n",
              "          element.appendChild(docLink);\n",
              "        }\n",
              "      </script>\n",
              "    </div>\n",
              "  </div>\n",
              "  "
            ]
          },
          "metadata": {},
          "execution_count": 54
        }
      ]
    },
    {
      "cell_type": "markdown",
      "source": [
        "Drzewo decyzyjne"
      ],
      "metadata": {
        "id": "cPgCARQNLETX"
      }
    },
    {
      "cell_type": "code",
      "source": [
        "from sklearn import tree\n",
        "model2 = tree.DecisionTreeRegressor()\n",
        "model2.fit(X_train, y_train)\n",
        "pred = model2.predict(X_test)"
      ],
      "metadata": {
        "id": "rGJKh6j0KFMo"
      },
      "execution_count": null,
      "outputs": []
    },
    {
      "cell_type": "code",
      "source": [
        "MAE = mean_absolute_error(y_test, pred)\n",
        "MSE = mean_squared_error(y_test, pred)\n",
        "r2 = r2_score(y_test, pred)"
      ],
      "metadata": {
        "id": "GcXPkUnrLcHT"
      },
      "execution_count": null,
      "outputs": []
    },
    {
      "cell_type": "code",
      "source": [
        "print(MAE)\n",
        "print(MSE)\n",
        "print(r2)"
      ],
      "metadata": {
        "colab": {
          "base_uri": "https://localhost:8080/"
        },
        "id": "VQN1IGAgLufW",
        "outputId": "720b52a5-7e50-4111-bf39-59dedfbbe9fb"
      },
      "execution_count": null,
      "outputs": [
        {
          "output_type": "stream",
          "name": "stdout",
          "text": [
            "248490.20312525766\n",
            "322110017624.74164\n",
            "0.2640365444884416\n"
          ]
        }
      ]
    },
    {
      "cell_type": "code",
      "source": [
        "#Skalowanie"
      ],
      "metadata": {
        "id": "bDuI7mX4RQz2"
      },
      "execution_count": null,
      "outputs": []
    },
    {
      "cell_type": "code",
      "source": [
        "from sklearn.preprocessing import StandardScaler, MinMaxScaler\n",
        "scaler = StandardScaler().fit(X_train)\n",
        "X_train_scaled = scaler.transform(X_train)\n",
        "X_test_scaled = scaler.transform(X_test)"
      ],
      "metadata": {
        "id": "NS6BtuIaPdLm"
      },
      "execution_count": null,
      "outputs": []
    },
    {
      "cell_type": "code",
      "source": [
        "from sklearn import tree\n",
        "model2 = tree.DecisionTreeRegressor()\n",
        "model2.fit(X_train_scaled, y_train)\n",
        "pred = model2.predict(X_test_scaled)\n",
        "\n",
        "\n",
        "MAE = mean_absolute_error(y_test, pred)\n",
        "MSE = mean_squared_error(y_test, pred)\n",
        "r2 = r2_score(y_test, pred)\n",
        "\n",
        "print(MAE)\n",
        "print(MSE)\n",
        "print(r2)"
      ],
      "metadata": {
        "colab": {
          "base_uri": "https://localhost:8080/"
        },
        "id": "dB4MEiImP6f3",
        "outputId": "ac3add89-fa84-4d00-9880-7723128988c4"
      },
      "execution_count": null,
      "outputs": [
        {
          "output_type": "stream",
          "name": "stdout",
          "text": [
            "248082.29390738052\n",
            "320697157079.9609\n",
            "0.26726467671593457\n"
          ]
        }
      ]
    },
    {
      "cell_type": "markdown",
      "source": [
        "Zmiana danych kategorycznych na numeryczne"
      ],
      "metadata": {
        "id": "ApOFsIJIxuxa"
      }
    }
  ]
}